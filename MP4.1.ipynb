{
 "cells": [
  {
   "cell_type": "code",
   "execution_count": 2,
   "metadata": {},
   "outputs": [],
   "source": [
    "%matplotlib inline\n",
    "import numpy as np\n",
    "import pylab as plt\n",
    "from matplotlib.gridspec import GridSpec\n",
    "from astropy.table import Table, vstack, Column, MaskedColumn\n",
    "from astropy import units as u\n",
    "from scipy.stats import kde\n",
    "from scipy.stats import binned_statistic as b_s\n",
    "from scipy.stats import binned_statistic_2d as bs2d\n",
    "from astropy import units as un\n",
    "from astropy import constants as con\n",
    "from matplotlib.lines import Line2D\n",
    "\n",
    "from astropy.cosmology import Planck15\n",
    "from tqdm import trange\n",
    "from scipy.stats import ks_2samp\n",
    "from scipy import special\n",
    "\n",
    "import os\n",
    "os.environ['PATH'] = os.environ['PATH'] + ':/usr/texbin'\n",
    "\n",
    "plt.rc('path', simplify=True)\n",
    "plt.rc('text', usetex=True)\n",
    "plt.rc('font', family='serif')\n",
    "plt.rc('axes', labelsize='xx-large', facecolor='none', linewidth=0.7)\n",
    "plt.rc('xtick', labelsize='x-large')\n",
    "plt.rc('ytick', labelsize='x-large')\n",
    "plt.rc('lines', markersize=4, linewidth=1, markeredgewidth=0.2)\n",
    "plt.rc('legend', numpoints=1, frameon=False, handletextpad=0.3, scatterpoints=1, handlelength=2, handleheight=0.1)\n",
    "#plt.rc('savefig', facecolor='none', frameon='False')\n",
    "\n",
    "params =   {'font.size' : 16,\n",
    "            'xtick.major.size': 8,\n",
    "            'ytick.major.size': 8,\n",
    "            'xtick.minor.size': 3,\n",
    "            'ytick.minor.size': 3,\n",
    "            }\n",
    "plt.rcParams.update(params) \n",
    "\n",
    "np.warnings.filterwarnings('ignore')\n",
    "\n",
    "def legend_outside_plot(ax,location='top',ncol=3,pad=0, handles=None, labels=None):\n",
    "    if handles==None:\n",
    "        handles, labels = ax.get_legend_handles_labels()\n",
    "    if location=='top':\n",
    "        leg = ax.legend(handles=handles, labels=labels, bbox_to_anchor=(0,1.02+pad,1,0.2), loc=\"lower left\",\n",
    "                mode=\"expand\", borderaxespad=0, ncol=ncol)\n",
    "    else:\n",
    "        print(\"Location\",location,\"not implemented. Please code up\")\n",
    "    return leg\n",
    "\n",
    "\n",
    "\n"
   ]
  },
  {
   "cell_type": "code",
   "execution_count": 3,
   "metadata": {},
   "outputs": [],
   "source": [
    "T1LMatched1045 = Table.read('T1LMatched1045.fits', format = 'ascii' )\n",
    "T2LMatched1045 = Table.read('T2LMatched1045.fits', format = 'ascii' )\n",
    "\n",
    "T1LMatchedFIRST = Table.read('T1LMatchFIRST.fits', format = 'fits' )\n",
    "T1LMatchedLOFAR = Table.read('T1LMatchLOFAR.fits', format = 'fits' )\n",
    "T1LMatchedXRAYi = Table.read('T1LMatchXRAYi.fits', format = 'fits' )\n",
    "\n",
    "T2LMatchedFIRST = Table.read('T2LMatchFIRST.fits', format = 'fits' )\n",
    "T2LMatchedLOFAR = Table.read('T2LMatchLOFAR.fits', format = 'fits' )\n",
    "T2LMatchedXRAYi = Table.read('T2LMatchXRAYi.fits', format = 'fits' )"
   ]
  },
  {
   "cell_type": "code",
   "execution_count": 4,
   "metadata": {},
   "outputs": [],
   "source": [
    "T1LMatched1045.rename_column('col1', 'RA')  \n",
    "T1LMatched1045.rename_column('col2', 'Dec') \n",
    "T1LMatched1045.rename_column('col3', 'Imag') \n",
    "T1LMatched1045.rename_column('col4', 'S')  \n",
    "T1LMatched1045.rename_column('col5', 'zspec') \n",
    "T1LMatched1045.rename_column('col6', 'N')  \n",
    "T1LMatched1045.rename_column('col7', 'zG')  \n",
    "T1LMatched1045.rename_column('col8', 'chi2G')  \n",
    "T1LMatched1045.rename_column('col9', 'LEll')  \n",
    "T1LMatched1045.rename_column('col10', 'LSbc') \n",
    "T1LMatched1045.rename_column('col11', 'LIrr')\n",
    "T1LMatched1045.rename_column('col12', 'zGA') \n",
    "T1LMatched1045.rename_column('col13', 'chi2GA') \n",
    "T1LMatched1045.rename_column('col14', 'LAGNp') \n",
    "T1LMatched1045.rename_column('col15', 'LELLp') \n",
    "T1LMatched1045.rename_column('col16', 'LSbcp') \n",
    "T1LMatched1045.rename_column('col17', 'LIrrp') \n",
    "T1LMatched1045.rename_column('col18', 'F') \n",
    "T1LMatched1045.rename_column('col19', 'EBV') \n",
    "T1LMatched1045.rename_column('col20', 'Chi2S') \n",
    "T1LMatched1045.rename_column('col21', 'SType') \n",
    "T1LMatched1045.rename_column('col22', 'LAGNerg') \n",
    "T1LMatched1045.rename_column('col23', 'LSbcerg') \n",
    "T1LMatched1045.rename_column('col24', 'LEllerg') \n",
    "T1LMatched1045.rename_column('col25', 'LIrrerg') \n",
    "T1LMatched1045.rename_column('col26', 'AV') \n",
    "\n",
    "T2LMatched1045.rename_column('col1', 'RA')  \n",
    "T2LMatched1045.rename_column('col2', 'Dec') \n",
    "T2LMatched1045.rename_column('col3', 'Imag') \n",
    "T2LMatched1045.rename_column('col4', 'S')  \n",
    "T2LMatched1045.rename_column('col5', 'zspec') \n",
    "T2LMatched1045.rename_column('col6', 'N')  \n",
    "T2LMatched1045.rename_column('col7', 'zG')  \n",
    "T2LMatched1045.rename_column('col8', 'chi2G')  \n",
    "T2LMatched1045.rename_column('col9', 'LEll')  \n",
    "T2LMatched1045.rename_column('col10', 'LSbc') \n",
    "T2LMatched1045.rename_column('col11', 'LIrr')\n",
    "T2LMatched1045.rename_column('col12', 'zGA') \n",
    "T2LMatched1045.rename_column('col13', 'chi2GA') \n",
    "T2LMatched1045.rename_column('col14', 'LAGNp') \n",
    "T2LMatched1045.rename_column('col15', 'LELLp') \n",
    "T2LMatched1045.rename_column('col16', 'LSbcp') \n",
    "T2LMatched1045.rename_column('col17', 'LIrrp') \n",
    "T2LMatched1045.rename_column('col18', 'F') \n",
    "T2LMatched1045.rename_column('col19', 'EBV') \n",
    "T2LMatched1045.rename_column('col20', 'Chi2S') \n",
    "T2LMatched1045.rename_column('col21', 'SType')\n",
    "T2LMatched1045.rename_column('col22', 'LAGNerg') \n",
    "T2LMatched1045.rename_column('col23', 'LSbcerg') \n",
    "T2LMatched1045.rename_column('col24', 'LEllerg') \n",
    "T2LMatched1045.rename_column('col25', 'LIrrerg') \n",
    "T2LMatched1045.rename_column('col26', 'AV') \n",
    "\n",
    "T1LMatchedFIRST.rename_column('col1', 'RA1')  \n",
    "T1LMatchedFIRST.rename_column('col2', 'Dec1') \n",
    "T1LMatchedFIRST.rename_column('col3', 'Imag') \n",
    "T1LMatchedFIRST.rename_column('col4', 'S')  \n",
    "T1LMatchedFIRST.rename_column('col5', 'zspec') \n",
    "T1LMatchedFIRST.rename_column('col6', 'N')  \n",
    "T1LMatchedFIRST.rename_column('col7', 'zG')  \n",
    "T1LMatchedFIRST.rename_column('col8', 'chi2G')  \n",
    "T1LMatchedFIRST.rename_column('col9', 'LEll')  \n",
    "T1LMatchedFIRST.rename_column('col10', 'LSbc') \n",
    "T1LMatchedFIRST.rename_column('col11', 'LIrr')\n",
    "T1LMatchedFIRST.rename_column('col12', 'zGA') \n",
    "T1LMatchedFIRST.rename_column('col13', 'chi2GA') \n",
    "T1LMatchedFIRST.rename_column('col14', 'LAGNp') \n",
    "T1LMatchedFIRST.rename_column('col15', 'LELLp') \n",
    "T1LMatchedFIRST.rename_column('col16', 'LSbcp') \n",
    "T1LMatchedFIRST.rename_column('col17', 'LIrrp') \n",
    "T1LMatchedFIRST.rename_column('col18', 'F') \n",
    "T1LMatchedFIRST.rename_column('col19', 'EBV') \n",
    "T1LMatchedFIRST.rename_column('col20', 'Chi2S') \n",
    "T1LMatchedFIRST.rename_column('col21', 'SType') \n",
    "T1LMatchedFIRST.rename_column('col22', 'LAGNerg') \n",
    "T1LMatchedFIRST.rename_column('col23', 'LSbcerg') \n",
    "T1LMatchedFIRST.rename_column('col24', 'LEllerg') \n",
    "T1LMatchedFIRST.rename_column('col25', 'LIrrerg') \n",
    "T1LMatchedFIRST.rename_column('col26', 'AV') \n",
    "\n",
    "T2LMatchedFIRST.rename_column('col1', 'RA1')  \n",
    "T2LMatchedFIRST.rename_column('col2', 'Dec1') \n",
    "T2LMatchedFIRST.rename_column('col3', 'Imag') \n",
    "T2LMatchedFIRST.rename_column('col4', 'S')  \n",
    "T2LMatchedFIRST.rename_column('col5', 'zspec') \n",
    "T2LMatchedFIRST.rename_column('col6', 'N')  \n",
    "T2LMatchedFIRST.rename_column('col7', 'zG')  \n",
    "T2LMatchedFIRST.rename_column('col8', 'chi2G')  \n",
    "T2LMatchedFIRST.rename_column('col9', 'LEll')  \n",
    "T2LMatchedFIRST.rename_column('col10', 'LSbc') \n",
    "T2LMatchedFIRST.rename_column('col11', 'LIrr')\n",
    "T2LMatchedFIRST.rename_column('col12', 'zGA') \n",
    "T2LMatchedFIRST.rename_column('col13', 'chi2GA') \n",
    "T2LMatchedFIRST.rename_column('col14', 'LAGNp') \n",
    "T2LMatchedFIRST.rename_column('col15', 'LELLp') \n",
    "T2LMatchedFIRST.rename_column('col16', 'LSbcp') \n",
    "T2LMatchedFIRST.rename_column('col17', 'LIrrp') \n",
    "T2LMatchedFIRST.rename_column('col18', 'F') \n",
    "T2LMatchedFIRST.rename_column('col19', 'EBV') \n",
    "T2LMatchedFIRST.rename_column('col20', 'Chi2S') \n",
    "T2LMatchedFIRST.rename_column('col21', 'SType')\n",
    "T2LMatchedFIRST.rename_column('col22', 'LAGNerg') \n",
    "T2LMatchedFIRST.rename_column('col23', 'LSbcerg') \n",
    "T2LMatchedFIRST.rename_column('col24', 'LEllerg') \n",
    "T2LMatchedFIRST.rename_column('col25', 'LIrrerg') \n",
    "T2LMatchedFIRST.rename_column('col26', 'AV') \n",
    "\n",
    "T1LMatchedLOFAR.rename_column('col1', 'RA1')  \n",
    "T1LMatchedLOFAR.rename_column('col2', 'Dec1') \n",
    "T1LMatchedLOFAR.rename_column('col3', 'Imag') \n",
    "T1LMatchedLOFAR.rename_column('col4', 'S')  \n",
    "T1LMatchedLOFAR.rename_column('col5', 'zspec') \n",
    "T1LMatchedLOFAR.rename_column('col6', 'N')  \n",
    "T1LMatchedLOFAR.rename_column('col7', 'zG')  \n",
    "T1LMatchedLOFAR.rename_column('col8', 'chi2G')  \n",
    "T1LMatchedLOFAR.rename_column('col9', 'LEll')  \n",
    "T1LMatchedLOFAR.rename_column('col10', 'LSbc') \n",
    "T1LMatchedLOFAR.rename_column('col11', 'LIrr')\n",
    "T1LMatchedLOFAR.rename_column('col12', 'zGA') \n",
    "T1LMatchedLOFAR.rename_column('col13', 'chi2GA') \n",
    "T1LMatchedLOFAR.rename_column('col14', 'LAGNp') \n",
    "T1LMatchedLOFAR.rename_column('col15', 'LELLp') \n",
    "T1LMatchedLOFAR.rename_column('col16', 'LSbcp') \n",
    "T1LMatchedLOFAR.rename_column('col17', 'LIrrp') \n",
    "T1LMatchedLOFAR.rename_column('col18', 'F') \n",
    "T1LMatchedLOFAR.rename_column('col19', 'EBV') \n",
    "T1LMatchedLOFAR.rename_column('col20', 'Chi2S') \n",
    "T1LMatchedLOFAR.rename_column('col21', 'SType') \n",
    "T1LMatchedLOFAR.rename_column('col22', 'LAGNerg') \n",
    "T1LMatchedLOFAR.rename_column('col23', 'LSbcerg') \n",
    "T1LMatchedLOFAR.rename_column('col24', 'LEllerg') \n",
    "T1LMatchedLOFAR.rename_column('col25', 'LIrrerg') \n",
    "T1LMatchedLOFAR.rename_column('col26', 'AV') \n",
    "\n",
    "T2LMatchedLOFAR.rename_column('col1', 'RA1')  \n",
    "T2LMatchedLOFAR.rename_column('col2', 'Dec1') \n",
    "T2LMatchedLOFAR.rename_column('col3', 'Imag') \n",
    "T2LMatchedLOFAR.rename_column('col4', 'S')  \n",
    "T2LMatchedLOFAR.rename_column('col5', 'zspec') \n",
    "T2LMatchedLOFAR.rename_column('col6', 'N')  \n",
    "T2LMatchedLOFAR.rename_column('col7', 'zG')  \n",
    "T2LMatchedLOFAR.rename_column('col8', 'chi2G')  \n",
    "T2LMatchedLOFAR.rename_column('col9', 'LEll')  \n",
    "T2LMatchedLOFAR.rename_column('col10', 'LSbc') \n",
    "T2LMatchedLOFAR.rename_column('col11', 'LIrr')\n",
    "T2LMatchedLOFAR.rename_column('col12', 'zGA') \n",
    "T2LMatchedLOFAR.rename_column('col13', 'chi2GA') \n",
    "T2LMatchedLOFAR.rename_column('col14', 'LAGNp') \n",
    "T2LMatchedLOFAR.rename_column('col15', 'LELLp') \n",
    "T2LMatchedLOFAR.rename_column('col16', 'LSbcp') \n",
    "T2LMatchedLOFAR.rename_column('col17', 'LIrrp') \n",
    "T2LMatchedLOFAR.rename_column('col18', 'F') \n",
    "T2LMatchedLOFAR.rename_column('col19', 'EBV') \n",
    "T2LMatchedLOFAR.rename_column('col20', 'Chi2S') \n",
    "T2LMatchedLOFAR.rename_column('col21', 'SType')\n",
    "T2LMatchedLOFAR.rename_column('col22', 'LAGNerg') \n",
    "T2LMatchedLOFAR.rename_column('col23', 'LSbcerg') \n",
    "T2LMatchedLOFAR.rename_column('col24', 'LEllerg') \n",
    "T2LMatchedLOFAR.rename_column('col25', 'LIrrerg') \n",
    "T2LMatchedLOFAR.rename_column('col26', 'AV') \n",
    "\n",
    "T1LMatchedXRAYi.rename_column('col1', 'RA1')  \n",
    "T1LMatchedXRAYi.rename_column('col2', 'Dec1') \n",
    "T1LMatchedXRAYi.rename_column('col3', 'Imag') \n",
    "T1LMatchedXRAYi.rename_column('col4', 'S')  \n",
    "T1LMatchedXRAYi.rename_column('col5', 'zspec') \n",
    "T1LMatchedXRAYi.rename_column('col6', 'N')  \n",
    "T1LMatchedXRAYi.rename_column('col7', 'zG')  \n",
    "T1LMatchedXRAYi.rename_column('col8', 'chi2G')  \n",
    "T1LMatchedXRAYi.rename_column('col9', 'LEll')  \n",
    "T1LMatchedXRAYi.rename_column('col10', 'LSbc') \n",
    "T1LMatchedXRAYi.rename_column('col11', 'LIrr')\n",
    "T1LMatchedXRAYi.rename_column('col12', 'zGA') \n",
    "T1LMatchedXRAYi.rename_column('col13', 'chi2GA') \n",
    "T1LMatchedXRAYi.rename_column('col14', 'LAGNp') \n",
    "T1LMatchedXRAYi.rename_column('col15', 'LELLp') \n",
    "T1LMatchedXRAYi.rename_column('col16', 'LSbcp') \n",
    "T1LMatchedXRAYi.rename_column('col17', 'LIrrp') \n",
    "T1LMatchedXRAYi.rename_column('col18', 'F') \n",
    "T1LMatchedXRAYi.rename_column('col19', 'EBV') \n",
    "T1LMatchedXRAYi.rename_column('col20', 'Chi2S') \n",
    "T1LMatchedXRAYi.rename_column('col21', 'SType') \n",
    "T1LMatchedXRAYi.rename_column('col22', 'LAGNerg') \n",
    "T1LMatchedXRAYi.rename_column('col23', 'LSbcerg') \n",
    "T1LMatchedXRAYi.rename_column('col24', 'LEllerg') \n",
    "T1LMatchedXRAYi.rename_column('col25', 'LIrrerg') \n",
    "T1LMatchedXRAYi.rename_column('col26', 'AV') \n",
    "\n",
    "T2LMatchedXRAYi.rename_column('col1', 'RA1')  \n",
    "T2LMatchedXRAYi.rename_column('col2', 'Dec1') \n",
    "T2LMatchedXRAYi.rename_column('col3', 'Imag') \n",
    "T2LMatchedXRAYi.rename_column('col4', 'S')  \n",
    "T2LMatchedXRAYi.rename_column('col5', 'zspec') \n",
    "T2LMatchedXRAYi.rename_column('col6', 'N')  \n",
    "T2LMatchedXRAYi.rename_column('col7', 'zG')  \n",
    "T2LMatchedXRAYi.rename_column('col8', 'chi2G')  \n",
    "T2LMatchedXRAYi.rename_column('col9', 'LEll')  \n",
    "T2LMatchedXRAYi.rename_column('col10', 'LSbc') \n",
    "T2LMatchedXRAYi.rename_column('col11', 'LIrr')\n",
    "T2LMatchedXRAYi.rename_column('col12', 'zGA') \n",
    "T2LMatchedXRAYi.rename_column('col13', 'chi2GA') \n",
    "T2LMatchedXRAYi.rename_column('col14', 'LAGNp') \n",
    "T2LMatchedXRAYi.rename_column('col15', 'LELLp') \n",
    "T2LMatchedXRAYi.rename_column('col16', 'LSbcp') \n",
    "T2LMatchedXRAYi.rename_column('col17', 'LIrrp') \n",
    "T2LMatchedXRAYi.rename_column('col18', 'F') \n",
    "T2LMatchedXRAYi.rename_column('col19', 'EBV') \n",
    "T2LMatchedXRAYi.rename_column('col20', 'Chi2S') \n",
    "T2LMatchedXRAYi.rename_column('col21', 'SType')\n",
    "T2LMatchedXRAYi.rename_column('col22', 'LAGNerg') \n",
    "T2LMatchedXRAYi.rename_column('col23', 'LSbcerg') \n",
    "T2LMatchedXRAYi.rename_column('col24', 'LEllerg') \n",
    "T2LMatchedXRAYi.rename_column('col25', 'LIrrerg') \n",
    "T2LMatchedXRAYi.rename_column('col26', 'AV') "
   ]
  },
  {
   "cell_type": "code",
   "execution_count": 5,
   "metadata": {},
   "outputs": [
    {
     "data": {
      "text/html": [
       "<i>Table length=733</i>\n",
       "<table id=\"table140448575678392\" class=\"table-striped table-bordered table-condensed\">\n",
       "<thead><tr><th>RA</th><th>Dec</th><th>Imag</th><th>S</th><th>zspec</th><th>N</th><th>zG</th><th>chi2G</th><th>LEll</th><th>LSbc</th><th>LIrr</th><th>zGA</th><th>chi2GA</th><th>LAGNp</th><th>LELLp</th><th>LSbcp</th><th>LIrrp</th><th>F</th><th>EBV</th><th>Chi2S</th><th>SType</th><th>LAGNerg</th><th>LSbcerg</th><th>LEllerg</th><th>LIrrerg</th><th>AV</th></tr></thead>\n",
       "<thead><tr><th>float64</th><th>float64</th><th>float64</th><th>float64</th><th>float64</th><th>str4</th><th>float64</th><th>float64</th><th>float64</th><th>float64</th><th>float64</th><th>float64</th><th>float64</th><th>float64</th><th>float64</th><th>float64</th><th>float64</th><th>float64</th><th>float64</th><th>float64</th><th>str5</th><th>float64</th><th>float64</th><th>float64</th><th>float64</th><th>float64</th></tr></thead>\n",
       "<tr><td>217.78476</td><td>32.37835</td><td>18.979999542236328</td><td>0.9900000095367432</td><td>-99.98999786376953</td><td>12/0</td><td>0.009999999776482582</td><td>113.69999694824219</td><td>0.0</td><td>-2.7760000228881836</td><td>-2.700000047683716</td><td>1.649999976158142</td><td>26.690000534057617</td><td>2.621999979019165</td><td>1.5880000591278076</td><td>0.0</td><td>0.7960000038146973</td><td>14.039999961853027</td><td>0.05000000074505806</td><td>169.69000244140625</td><td>f/g</td><td>46.202</td><td>40.804</td><td>43.58</td><td>40.879999999999995</td><td>0.16000000000000003</td></tr>\n",
       "<tr><td>216.34027</td><td>32.37844</td><td>20.6200008392334</td><td>0.9800000190734863</td><td>-99.98999786376953</td><td>12/0</td><td>2.069999933242798</td><td>38.5</td><td>0.0</td><td>0.30000001192092896</td><td>2.0910000801086426</td><td>1.7999999523162842</td><td>3.640000104904175</td><td>2.063999891281128</td><td>1.3320000171661377</td><td>0.0</td><td>0.0</td><td>39.349998474121094</td><td>0.019999999552965164</td><td>74.26000213623047</td><td>a/f</td><td>45.644</td><td>43.879999999999995</td><td>43.58</td><td>45.671</td><td>0.064</td></tr>\n",
       "<tr><td>217.72965</td><td>32.42403</td><td>21.670000076293945</td><td>0.9700000286102295</td><td>-99.98999786376953</td><td>14/0</td><td>1.5299999713897705</td><td>21.34000015258789</td><td>0.0</td><td>0.0</td><td>1.4600000381469727</td><td>1.5299999713897705</td><td>1.6299999952316284</td><td>1.593999981880188</td><td>0.0</td><td>0.8629999756813049</td><td>0.0</td><td>55.38999938964844</td><td>0.03999999910593033</td><td>22.280000686645508</td><td>b/a</td><td>45.174</td><td>43.58</td><td>43.58</td><td>45.04</td><td>0.128</td></tr>\n",
       "<tr><td>217.10787</td><td>32.42816</td><td>21.34000015258789</td><td>0.7300000190734863</td><td>-99.98999786376953</td><td>14/0</td><td>0.03999999910593033</td><td>9.899999618530273</td><td>0.0</td><td>-2.760999917984009</td><td>-2.259999990463257</td><td>1.7100000381469727</td><td>0.46000000834465027</td><td>1.7269999980926514</td><td>0.7229999899864197</td><td>0.0</td><td>0.0</td><td>93.94999694824219</td><td>0.009999999776482582</td><td>10.779999732971191</td><td>A/F</td><td>45.306999999999995</td><td>40.818999999999996</td><td>43.58</td><td>41.32</td><td>0.032</td></tr>\n",
       "<tr><td>218.17979</td><td>32.4394</td><td>19.360000610351562</td><td>0.7300000190734863</td><td>-99.98999786376953</td><td>12/1</td><td>0.009999999776482582</td><td>86.88999938964844</td><td>0.0</td><td>-2.7139999866485596</td><td>-2.940999984741211</td><td>1.1299999952316284</td><td>6.460000038146973</td><td>2.009999990463257</td><td>0.671999990940094</td><td>0.0</td><td>1.5470000505447388</td><td>57.04999923706055</td><td>0.019999999552965164</td><td>165.6199951171875</td><td>a/f</td><td>45.589999999999996</td><td>40.866</td><td>43.58</td><td>40.638999999999996</td><td>0.064</td></tr>\n",
       "<tr><td>217.51987</td><td>32.44044</td><td>22.489999771118164</td><td>0.009999999776482582</td><td>-99.98999786376953</td><td>14/0</td><td>1.7599999904632568</td><td>2.559999942779541</td><td>0.0</td><td>1.5369999408721924</td><td>0.6650000214576721</td><td>1.4500000476837158</td><td>0.6100000143051147</td><td>1.6480000019073486</td><td>0.9480000138282776</td><td>0.0</td><td>0.0</td><td>16.799999237060547</td><td>0.25</td><td>8.3100004196167</td><td>1500K</td><td>45.228</td><td>45.117</td><td>43.58</td><td>44.245</td><td>0.8</td></tr>\n",
       "<tr><td>217.03198</td><td>32.44785</td><td>20.540000915527344</td><td>0.9200000166893005</td><td>-99.98999786376953</td><td>13/0</td><td>0.009999999776482582</td><td>31.149999618530273</td><td>0.0</td><td>-3.4230000972747803</td><td>-3.131999969482422</td><td>1.600000023841858</td><td>2.0199999809265137</td><td>1.9789999723434448</td><td>0.0</td><td>0.0</td><td>1.371000051498413</td><td>58.540000915527344</td><td>0.029999999329447746</td><td>57.66999816894531</td><td>a/f</td><td>45.559</td><td>40.157</td><td>43.58</td><td>40.448</td><td>0.096</td></tr>\n",
       "<tr><td>216.24576</td><td>32.4713</td><td>21.510000228881836</td><td>0.7799999713897705</td><td>-99.98999786376953</td><td>13/0</td><td>2.809999942779541</td><td>16.270000457763672</td><td>0.0</td><td>2.006999969482422</td><td>1.9600000381469727</td><td>1.4700000286102295</td><td>2.809999942779541</td><td>1.8949999809265137</td><td>1.1360000371932983</td><td>0.0</td><td>-0.26600000262260437</td><td>20.190000534057617</td><td>0.25</td><td>58.9900016784668</td><td>1500K</td><td>45.475</td><td>45.586999999999996</td><td>43.58</td><td>45.54</td><td>0.8</td></tr>\n",
       "<tr><td>218.12346</td><td>32.47383</td><td>19.389999389648438</td><td>0.9800000190734863</td><td>-99.98999786376953</td><td>14/0</td><td>0.009999999776482582</td><td>124.11000061035156</td><td>0.0</td><td>-3.0869998931884766</td><td>-2.9040000438690186</td><td>1.6200000047683716</td><td>15.329999923706055</td><td>2.4809999465942383</td><td>1.4670000076293945</td><td>0.0</td><td>0.0</td><td>36.4900016784668</td><td>0.03999999910593033</td><td>183.25</td><td>f/g</td><td>46.061</td><td>40.492999999999995</td><td>43.58</td><td>40.676</td><td>0.128</td></tr>\n",
       "<tr><td>216.49839</td><td>32.47729</td><td>21.110000610351562</td><td>0.7099999785423279</td><td>1.75</td><td>12/0</td><td>1.8899999856948853</td><td>13.279999732971191</td><td>0.0</td><td>1.5049999952316284</td><td>1.6410000324249268</td><td>1.7100000381469727</td><td>1.590000033378601</td><td>1.9809999465942383</td><td>0.0</td><td>1.5410000085830688</td><td>-1.8380000591278076</td><td>30.329999923706055</td><td>0.10000000149011612</td><td>82.73999786376953</td><td>f/g</td><td>45.561</td><td>45.085</td><td>43.58</td><td>45.221</td><td>0.32000000000000006</td></tr>\n",
       "<tr><td>...</td><td>...</td><td>...</td><td>...</td><td>...</td><td>...</td><td>...</td><td>...</td><td>...</td><td>...</td><td>...</td><td>...</td><td>...</td><td>...</td><td>...</td><td>...</td><td>...</td><td>...</td><td>...</td><td>...</td><td>...</td><td>...</td><td>...</td><td>...</td><td>...</td><td>...</td></tr>\n",
       "<tr><td>217.2852</td><td>35.77455</td><td>21.110000610351562</td><td>0.5</td><td>1.25</td><td>14/0</td><td>1.399999976158142</td><td>6.460000038146973</td><td>0.0</td><td>1.3480000495910645</td><td>1.1990000009536743</td><td>1.159999966621399</td><td>0.9300000071525574</td><td>1.6519999504089355</td><td>0.9829999804496765</td><td>0.0</td><td>0.5509999990463257</td><td>30.899999618530273</td><td>0.10000000149011612</td><td>38.5</td><td>1500K</td><td>45.232</td><td>44.928</td><td>43.58</td><td>44.778999999999996</td><td>0.32000000000000006</td></tr>\n",
       "<tr><td>219.31589</td><td>35.78185</td><td>20.239999771118164</td><td>0.8899999856948853</td><td>2.3399999141693115</td><td>11/0</td><td>0.4699999988079071</td><td>20.649999618530273</td><td>0.0</td><td>2.0940001010894775</td><td>1.0169999599456787</td><td>0.38999998569488525</td><td>2.6600000858306885</td><td>2.0</td><td>1.5549999475479126</td><td>0.0</td><td>1.3359999656677246</td><td>24.68000030517578</td><td>0.0</td><td>89.30999755859375</td><td>G/K</td><td>45.58</td><td>45.674</td><td>43.58</td><td>44.597</td><td>0.0</td></tr>\n",
       "<tr><td>218.24394</td><td>35.78201</td><td>19.729999542236328</td><td>0.1599999964237213</td><td>1.1100000143051147</td><td>12/0</td><td>1.840000033378601</td><td>45.310001373291016</td><td>0.0</td><td>1.7860000133514404</td><td>1.7979999780654907</td><td>1.0800000429153442</td><td>4.760000228881836</td><td>1.9270000457763672</td><td>1.0889999866485596</td><td>1.3940000534057617</td><td>1.1460000276565552</td><td>35.06999969482422</td><td>0.10000000149011612</td><td>215.91000366210938</td><td>1500K</td><td>45.507</td><td>45.366</td><td>43.58</td><td>45.378</td><td>0.32000000000000006</td></tr>\n",
       "<tr><td>219.41729</td><td>35.78503</td><td>19.979999542236328</td><td>0.8399999737739563</td><td>1.0299999713897705</td><td>11/0</td><td>1.8200000524520874</td><td>62.54999923706055</td><td>0.0</td><td>0.9369999766349792</td><td>1.809999942779541</td><td>0.8100000023841858</td><td>2.9100000858306885</td><td>1.725000023841858</td><td>0.7749999761581421</td><td>0.0</td><td>0.8119999766349792</td><td>72.80000305175781</td><td>0.009999999776482582</td><td>140.97999572753906</td><td>f/g</td><td>45.305</td><td>44.516999999999996</td><td>43.58</td><td>45.39</td><td>0.032</td></tr>\n",
       "<tr><td>219.13202</td><td>35.78847</td><td>20.6200008392334</td><td>0.9700000286102295</td><td>1.4500000476837158</td><td>11/0</td><td>0.46000000834465027</td><td>37.66999816894531</td><td>0.0</td><td>1.4639999866485596</td><td>0.7730000019073486</td><td>1.559999942779541</td><td>2.549999952316284</td><td>1.8350000381469727</td><td>0.7609999775886536</td><td>0.0</td><td>1.1410000324249268</td><td>49.2599983215332</td><td>0.009999999776482582</td><td>71.43000030517578</td><td>A/F</td><td>45.415</td><td>45.044</td><td>43.58</td><td>44.353</td><td>0.032</td></tr>\n",
       "<tr><td>218.30962</td><td>35.78912</td><td>19.350000381469727</td><td>0.9700000286102295</td><td>2.859999895095825</td><td>13/0</td><td>0.009999999776482582</td><td>49.91999816894531</td><td>0.0</td><td>2.3420000076293945</td><td>0.0</td><td>2.380000114440918</td><td>1.0499999523162842</td><td>3.0320000648498535</td><td>1.6970000267028809</td><td>0.0</td><td>0.0</td><td>210.38999938964844</td><td>0.019999999552965164</td><td>126.66999816894531</td><td>G/K</td><td>46.611999999999995</td><td>45.922</td><td>43.58</td><td>43.58</td><td>0.064</td></tr>\n",
       "<tr><td>217.05065</td><td>35.79499</td><td>21.40999984741211</td><td>0.9399999976158142</td><td>-99.98999786376953</td><td>13/0</td><td>2.319999933242798</td><td>14.670000076293945</td><td>0.0</td><td>2.0320000648498535</td><td>1.472000002861023</td><td>2.2300000190734863</td><td>2.319999933242798</td><td>2.750999927520752</td><td>1.3480000495910645</td><td>0.0</td><td>0.0</td><td>22.34000015258789</td><td>0.25</td><td>36.349998474121094</td><td>1500K</td><td>46.330999999999996</td><td>45.611999999999995</td><td>43.58</td><td>45.052</td><td>0.8</td></tr>\n",
       "<tr><td>217.57336</td><td>35.81175</td><td>21.309999465942383</td><td>0.18000000715255737</td><td>1.7100000381469727</td><td>9/1</td><td>1.190000057220459</td><td>9.0600004196167</td><td>0.0</td><td>1.684999942779541</td><td>1.3860000371932983</td><td>1.0800000429153442</td><td>0.9100000262260437</td><td>1.8639999628067017</td><td>0.3319999873638153</td><td>1.0119999647140503</td><td>0.9150000214576721</td><td>27.84000015258789</td><td>0.1599999964237213</td><td>51.61000061035156</td><td>1000K</td><td>45.443999999999996</td><td>45.265</td><td>43.58</td><td>44.966</td><td>0.512</td></tr>\n",
       "<tr><td>216.59987</td><td>35.8222</td><td>19.149999618530273</td><td>0.6299999952316284</td><td>-99.98999786376953</td><td>11/0</td><td>1.3899999856948853</td><td>67.41999816894531</td><td>0.0</td><td>1.9919999837875366</td><td>2.1570000648498535</td><td>0.8299999833106995</td><td>6.860000133514404</td><td>1.7239999771118164</td><td>1.2339999675750732</td><td>0.0</td><td>0.9049999713897705</td><td>27.489999771118164</td><td>0.0</td><td>254.3000030517578</td><td>1000K</td><td>45.303999999999995</td><td>45.571999999999996</td><td>43.58</td><td>45.736999999999995</td><td>0.0</td></tr>\n",
       "<tr><td>217.45021</td><td>35.82786</td><td>20.110000610351562</td><td>0.9800000190734863</td><td>-99.98999786376953</td><td>11/0</td><td>1.190000057220459</td><td>56.93000030517578</td><td>0.0</td><td>0.5270000100135803</td><td>1.7400000095367432</td><td>1.2699999809265137</td><td>2.4700000286102295</td><td>2.003999948501587</td><td>0.0</td><td>0.0</td><td>1.2059999704360962</td><td>78.16999816894531</td><td>0.05999999865889549</td><td>146.22000122070312</td><td>b/a</td><td>45.583999999999996</td><td>44.107</td><td>43.58</td><td>45.32</td><td>0.192</td></tr>\n",
       "</table>"
      ],
      "text/plain": [
       "<Table length=733>\n",
       "    RA      Dec           Imag        ...      LIrrerg                AV        \n",
       " float64  float64       float64       ...      float64             float64      \n",
       "--------- -------- ------------------ ... ------------------ -------------------\n",
       "217.78476 32.37835 18.979999542236328 ... 40.879999999999995 0.16000000000000003\n",
       "216.34027 32.37844   20.6200008392334 ...             45.671               0.064\n",
       "217.72965 32.42403 21.670000076293945 ...              45.04               0.128\n",
       "217.10787 32.42816  21.34000015258789 ...              41.32               0.032\n",
       "218.17979  32.4394 19.360000610351562 ... 40.638999999999996               0.064\n",
       "217.51987 32.44044 22.489999771118164 ...             44.245                 0.8\n",
       "217.03198 32.44785 20.540000915527344 ...             40.448               0.096\n",
       "216.24576  32.4713 21.510000228881836 ...              45.54                 0.8\n",
       "218.12346 32.47383 19.389999389648438 ...             40.676               0.128\n",
       "216.49839 32.47729 21.110000610351562 ...             45.221 0.32000000000000006\n",
       "      ...      ...                ... ...                ...                 ...\n",
       " 217.2852 35.77455 21.110000610351562 ... 44.778999999999996 0.32000000000000006\n",
       "219.31589 35.78185 20.239999771118164 ...             44.597                 0.0\n",
       "218.24394 35.78201 19.729999542236328 ...             45.378 0.32000000000000006\n",
       "219.41729 35.78503 19.979999542236328 ...              45.39               0.032\n",
       "219.13202 35.78847   20.6200008392334 ...             44.353               0.032\n",
       "218.30962 35.78912 19.350000381469727 ...              43.58               0.064\n",
       "217.05065 35.79499  21.40999984741211 ...             45.052                 0.8\n",
       "217.57336 35.81175 21.309999465942383 ...             44.966               0.512\n",
       "216.59987  35.8222 19.149999618530273 ... 45.736999999999995                 0.0\n",
       "217.45021 35.82786 20.110000610351562 ...              45.32               0.192"
      ]
     },
     "execution_count": 5,
     "metadata": {},
     "output_type": "execute_result"
    }
   ],
   "source": [
    "T1LMatched1045"
   ]
  },
  {
   "cell_type": "code",
   "execution_count": 6,
   "metadata": {},
   "outputs": [
    {
     "data": {
      "text/plain": [
       "array([1.64999998, 1.79999995, 1.52999997, 1.71000004, 1.13      ,\n",
       "       1.45000005, 1.60000002, 1.47000003, 1.62      , 1.71000004,\n",
       "       2.3499999 , 1.64999998, 0.92000002, 2.30999994, 1.52999997,\n",
       "       0.85000002, 0.97000003, 0.81      , 1.67999995, 0.92000002,\n",
       "       0.31      , 1.36000001, 2.06999993, 2.94000006, 1.62      ,\n",
       "       0.69999999, 1.22000003, 1.47000003, 1.90999997, 2.99000001,\n",
       "       1.79999995, 0.23      , 1.38999999, 0.20999999, 1.77999997,\n",
       "       1.71000004, 0.81      , 1.72000003, 0.88      , 0.69      ,\n",
       "       0.81999999, 1.64999998, 1.79999995, 1.30999994, 1.92999995,\n",
       "       1.54999995, 1.5       , 0.81      , 1.38      , 1.33000004,\n",
       "       1.38999999, 1.52999997, 1.38999999, 1.44000006, 0.95999998,\n",
       "       1.61000001, 1.37      , 0.85000002, 0.79000002, 2.33999991,\n",
       "       0.76999998, 1.47000003, 1.44000006, 0.76999998, 2.77999997,\n",
       "       1.15999997, 1.59000003, 1.63999999, 0.81      , 0.75      ,\n",
       "       1.14999998, 0.88      , 0.89999998, 1.72000003, 0.64999998,\n",
       "       1.08000004, 1.46000004, 1.71000004, 0.58999997, 1.33000004,\n",
       "       1.92999995, 0.83999997, 1.86000001, 3.        , 0.88      ,\n",
       "       2.42000008, 1.67999995, 1.13      , 1.92999995, 1.75999999,\n",
       "       0.06      , 0.54000002, 0.91000003, 1.64999998, 1.74000001,\n",
       "       1.88      , 1.75999999, 1.87      , 1.14999998, 1.77999997,\n",
       "       1.02999997, 1.40999997, 2.56999993, 1.32000005, 1.44000006,\n",
       "       1.79999995, 0.73000002, 0.14      , 1.10000002, 0.88999999,\n",
       "       0.86000001, 0.92000002, 2.22000003, 1.13      , 0.81      ,\n",
       "       0.67000002, 1.27999997, 1.30999994, 2.        , 1.5       ,\n",
       "       1.08000004, 1.20000005, 0.88      , 1.78999996, 1.01999998,\n",
       "       0.79000002, 1.64999998, 0.81      , 1.59000003, 1.65999997,\n",
       "       1.62      , 0.81      , 2.        , 0.86000001, 0.94      ,\n",
       "       0.14      , 0.92000002, 2.1500001 , 1.87      , 0.94      ,\n",
       "       2.38000011, 1.49000001, 0.88      , 0.47999999, 1.49000001,\n",
       "       1.85000002, 1.95000005, 1.19000006, 1.15999997, 0.85000002,\n",
       "       1.85000002, 1.5       , 0.88      , 1.62      , 0.44      ,\n",
       "       1.42999995, 1.65999997, 1.25999999, 1.30999994, 2.6099999 ,\n",
       "       1.97000003, 1.52999997, 1.53999996, 1.32000005, 1.38999999,\n",
       "       1.59000003, 0.75      , 0.67000002, 1.94000006, 1.52999997,\n",
       "       0.41      , 1.52999997, 1.40999997, 0.41      , 0.92000002,\n",
       "       1.08000004, 2.45000005, 1.71000004, 1.37      , 2.06999993,\n",
       "       0.95999998, 1.51999998, 2.54999995, 1.5       , 1.55999994,\n",
       "       2.0999999 , 1.62      , 2.53999996, 0.63999999, 2.13000011,\n",
       "       2.28999996, 0.77999997, 2.        , 2.06999993, 1.52999997,\n",
       "       1.79999995, 1.79999995, 1.11000001, 1.91999996, 0.81      ,\n",
       "       1.45000005, 1.85000002, 1.82000005, 1.61000001, 1.00999999,\n",
       "       1.96000004, 2.69000006, 1.38      , 0.88999999, 1.72000003,\n",
       "       0.16      , 0.34999999, 1.65999997, 1.47000003, 0.81      ,\n",
       "       1.79999995, 1.13      , 1.47000003, 0.88      , 1.5       ,\n",
       "       1.24000001, 0.23999999, 0.85000002, 1.76999998, 1.67999995,\n",
       "       0.08      , 1.88999999, 1.79999995, 2.1400001 , 0.88      ,\n",
       "       0.82999998, 1.66999996, 1.72000003, 0.85000002, 0.79000002,\n",
       "       1.84000003, 0.41      , 1.04999995, 0.34      , 1.13      ,\n",
       "       1.27999997, 1.66999996, 2.69000006, 0.88      , 0.81      ,\n",
       "       1.92999995, 1.48000002, 1.10000002, 2.38000011, 1.49000001,\n",
       "       0.89999998, 1.29999995, 0.02      , 0.91000003, 0.94      ,\n",
       "       1.84000003, 1.32000005, 2.31999993, 2.28999996, 2.95000005,\n",
       "       1.33000004, 1.49000001, 2.22000003, 0.92000002, 1.75999999,\n",
       "       1.94000006, 1.61000001, 1.67999995, 0.85000002, 0.81      ,\n",
       "       1.91999996, 0.55000001, 0.58999997, 1.45000005, 0.92000002,\n",
       "       1.30999994, 1.64999998, 1.74000001, 1.02999997, 1.27999997,\n",
       "       1.54999995, 1.62      , 1.11000001, 1.38999999, 1.49000001,\n",
       "       1.64999998, 0.88      , 1.44000006, 2.42000008, 1.53999996,\n",
       "       2.1400001 , 1.79999995, 1.44000006, 2.        , 1.88999999,\n",
       "       0.81      , 1.73000002, 1.79999995, 1.48000002, 1.38999999,\n",
       "       1.84000003, 1.42999995, 2.        , 3.        , 0.94      ,\n",
       "       1.38999999, 0.28      , 0.94      , 2.95000005, 1.48000002,\n",
       "       2.45000005, 1.11000001, 1.59000003, 1.38999999, 1.70000005,\n",
       "       1.38      , 1.50999999, 0.99000001, 1.79999995, 0.88      ,\n",
       "       1.32000005, 0.76999998, 1.67999995, 1.99000001, 1.5       ,\n",
       "       0.73000002, 2.13000011, 1.65999997, 1.87      , 0.94      ,\n",
       "       1.33000004, 1.76999998, 1.65999997, 2.        , 2.27999997,\n",
       "       1.90999997, 0.54000002, 0.62      , 1.67999995, 1.24000001,\n",
       "       1.00999999, 1.75999999, 1.70000005, 2.22000003, 0.99000001,\n",
       "       1.38      , 0.92000002, 2.33999991, 1.38      , 0.94      ,\n",
       "       2.41000009, 1.62      , 0.89999998, 0.88      , 3.        ,\n",
       "       1.66999996, 0.98000002, 0.85000002, 0.76999998, 1.80999994,\n",
       "       1.74000001, 1.77999997, 2.66000009, 1.52999997, 0.89999998,\n",
       "       1.82000005, 1.41999996, 1.73000002, 1.44000006, 3.        ,\n",
       "       0.89999998, 1.44000006, 1.16999996, 1.5       , 2.25999999,\n",
       "       1.27999997, 0.88999999, 1.60000002, 1.44000006, 2.28999996,\n",
       "       1.27999997, 1.64999998, 0.64999998, 0.09      , 1.88999999,\n",
       "       1.38999999, 1.58000004, 1.89999998, 1.73000002, 2.06999993,\n",
       "       1.87      , 1.34000003, 0.22      , 1.25999999, 2.91000009,\n",
       "       1.33000004, 1.64999998, 1.79999995, 1.74000001, 2.1400001 ,\n",
       "       1.49000001, 2.05999994, 1.88      , 1.98000002, 1.74000001,\n",
       "       1.24000001, 1.22000003, 0.36000001, 1.74000001, 0.37      ,\n",
       "       1.11000001, 0.97000003, 1.83000004, 1.94000006, 1.27999997,\n",
       "       1.26999998, 1.76999998, 0.73000002, 0.97000003, 0.25      ,\n",
       "       0.85000002, 1.10000002, 1.47000003, 1.37      , 1.49000001,\n",
       "       1.17999995, 1.35000002, 1.71000004, 1.44000006, 3.        ,\n",
       "       1.80999994, 0.88      , 1.62      , 1.53999996, 1.92999995,\n",
       "       3.        , 1.38999999, 0.70999998, 0.73000002, 1.74000001,\n",
       "       3.        , 1.61000001, 0.28999999, 2.01999998, 1.38999999,\n",
       "       1.89999998, 1.49000001, 0.88999999, 1.51999998, 1.5       ,\n",
       "       0.85000002, 0.92000002, 1.33000004, 1.36000001, 1.41999996,\n",
       "       0.18000001, 0.77999997, 1.30999994, 1.28999996, 1.83000004,\n",
       "       2.57999992, 1.23000002, 1.33000004, 0.79000002, 1.52999997,\n",
       "       1.76999998, 1.16999996, 0.25      , 0.17      , 1.67999995,\n",
       "       1.49000001, 1.87      , 1.23000002, 1.05999994, 1.53999996,\n",
       "       1.11000001, 1.36000001, 1.66999996, 1.27999997, 1.40999997,\n",
       "       2.20000005, 2.1099999 , 1.51999998, 0.94      , 1.84000003,\n",
       "       0.81      , 1.13      , 0.98000002, 0.70999998, 1.59000003,\n",
       "       0.69      , 2.28999996, 1.33000004, 1.57000005, 1.14999998,\n",
       "       1.79999995, 0.85000002, 1.57000005, 1.90999997, 3.        ,\n",
       "       1.57000005, 1.5       , 0.20999999, 0.94      , 1.67999995,\n",
       "       1.44000006, 0.94      , 2.03999996, 2.41000009, 2.66000009,\n",
       "       1.62      , 1.36000001, 1.44000006, 1.85000002, 1.76999998,\n",
       "       1.76999998, 1.59000003, 0.69      , 2.02999997, 2.16000009,\n",
       "       1.86000001, 0.99000001, 0.5       , 2.66000009, 1.17999995,\n",
       "       0.76999998, 1.29999995, 2.1400001 , 0.88      , 1.71000004,\n",
       "       2.28999996, 0.89999998, 2.22000003, 0.38999999, 1.59000003,\n",
       "       0.25      , 1.08000004, 1.83000004, 0.95999998, 2.33999991,\n",
       "       1.33000004, 2.1400001 , 1.51999998, 0.25      , 0.31      ,\n",
       "       1.83000004, 1.44000006, 0.18000001, 2.04999995, 2.73000002,\n",
       "       1.25      , 1.47000003, 1.38999999, 0.58999997, 2.20000005,\n",
       "       1.67999995, 1.33000004, 0.89999998, 1.95000005, 0.88      ,\n",
       "       2.8599999 , 3.        , 3.        , 1.80999994, 1.78999996,\n",
       "       2.22000003, 1.79999995, 0.98000002, 1.38999999, 1.77999997,\n",
       "       0.31      , 2.1400001 , 1.74000001, 0.54000002, 1.87      ,\n",
       "       1.58000004, 1.09000003, 0.88      , 1.5       , 0.92000002,\n",
       "       2.31999993, 1.44000006, 1.55999994, 1.15999997, 1.55999994,\n",
       "       1.15999997, 1.14999998, 2.72000003, 1.38999999, 1.45000005,\n",
       "       1.55999994, 1.64999998, 1.13      , 0.88999999, 0.34      ,\n",
       "       1.21000004, 1.55999994, 1.44000006, 1.62      , 1.97000003,\n",
       "       1.25999999, 0.80000001, 1.5       , 1.67999995, 1.33000004,\n",
       "       1.49000001, 1.69000006, 1.22000003, 1.80999994, 1.44000006,\n",
       "       1.25999999, 1.00999999, 1.75999999, 1.85000002, 1.67999995,\n",
       "       2.22000003, 0.03      , 1.97000003, 1.11000001, 1.64999998,\n",
       "       2.38000011, 2.30999994, 1.71000004, 1.52999997, 0.92000002,\n",
       "       0.88999999, 1.25999999, 0.87      , 0.91000003, 0.67000002,\n",
       "       2.49000001, 0.64999998, 1.47000003, 1.88      , 1.75999999,\n",
       "       2.99000001, 1.87      , 1.27999997, 1.46000004, 2.18000007,\n",
       "       1.65999997, 1.78999996, 0.18000001, 0.85000002, 0.93000001,\n",
       "       1.33000004, 1.26999998, 2.9000001 , 1.48000002, 1.33000004,\n",
       "       1.57000005, 1.74000001, 2.20000005, 1.11000001, 2.20000005,\n",
       "       1.33000004, 0.93000001, 1.38999999, 1.5       , 1.02999997,\n",
       "       1.79999995, 0.85000002, 1.5       , 1.82000005, 0.69      ,\n",
       "       1.62      , 1.71000004, 1.33000004, 1.        , 1.51999998,\n",
       "       1.28999996, 0.85000002, 1.27999997, 0.85000002, 1.26999998,\n",
       "       1.74000001, 0.81      , 0.87      , 1.82000005, 1.36000001,\n",
       "       1.36000001, 1.82000005, 1.54999995, 1.66999996, 0.61000001,\n",
       "       1.74000001, 0.99000001, 2.32999992, 1.44000006, 1.83000004,\n",
       "       1.76999998, 1.90999997, 0.43000001, 1.50999999, 1.07000005,\n",
       "       1.5       , 1.20000005, 2.03999996, 0.98000002, 1.39999998,\n",
       "       1.79999995, 0.75      , 1.5       , 1.46000004, 1.32000005,\n",
       "       1.13      , 1.76999998, 1.14999998, 0.93000001, 1.77999997,\n",
       "       1.17999995, 0.17      , 1.73000002, 0.66000003, 1.74000001,\n",
       "       1.08000004, 0.82999998, 0.82999998, 1.50999999, 2.98000002,\n",
       "       2.0999999 , 1.00999999, 2.4000001 , 1.15999997, 0.38999999,\n",
       "       1.08000004, 0.81      , 1.55999994, 2.38000011, 2.23000002,\n",
       "       1.08000004, 0.82999998, 1.26999998])"
      ]
     },
     "execution_count": 6,
     "metadata": {},
     "output_type": "execute_result"
    }
   ],
   "source": [
    "np.array(T1LMatched1045['zGA'])"
   ]
  },
  {
   "cell_type": "code",
   "execution_count": 7,
   "metadata": {},
   "outputs": [],
   "source": [
    "#T1LMatched1045\n",
    "\n",
    "\n",
    "#add 10\n",
    "LSbc10 = MaskedColumn(name = \"LSbc10\", data = (10+(T1LMatched1045['LSbcp'])) , dtype=np.float64) \n",
    "T1LMatched1045.add_column(LSbc10)\n",
    "#T1LMatched1045.replace_column('LSbc10',LSbc10)\n",
    "\n",
    "LEll10 = MaskedColumn(name = \"LEll10\", data = (10+(T1LMatched1045['LELLp'])) , dtype=np.float64) \n",
    "T1LMatched1045.add_column(LEll10)\n",
    "#T1LMatched1045.replace_column('LEll10',LEll10)\n",
    "\n",
    "LIrr10 = MaskedColumn(name = \"LIrr10\", data = (10+(T1LMatched1045['LIrrp'])) , dtype=np.float64) \n",
    "T1LMatched1045.add_column(LIrr10)\n",
    "#IRv.replace_column('LIrr10',LIrr10)\n",
    "\n",
    "LAGN10 = MaskedColumn(name = \"LAGN10\", data = (10+(T1LMatched1045['LAGNp'])) , dtype=np.float64) \n",
    "T1LMatched1045.add_column(LAGN10)\n",
    "#IRv.replace_column('LAGN10',LAGN10)\n",
    "\n",
    "#unlog the + 10\n",
    "\n",
    "LSbcUNLOG10 = MaskedColumn(name = \"LSbcUNLOG10\", data = (10**(T1LMatched1045['LSbc10'])) , dtype=np.float64) \n",
    "T1LMatched1045.add_column(LSbcUNLOG10)\n",
    "#T1LMatched1045.replace_column('LSbcUNLOG10',LSbcUNLOG10)\n",
    "LEllUNLOG10 = MaskedColumn(name = \"LEllUNLOG10\", data = (10**(T1LMatched1045['LEll10'])) , dtype=np.float64) \n",
    "T1LMatched1045.add_column(LEllUNLOG10)\n",
    "#T1LMatched1045.replace_column('LEllUNLOG10',LEllUNLOG10)\n",
    "LIrrUNLOG10 = MaskedColumn(name = \"LIrrUNLOG10\", data = (10**(T1LMatched1045['LIrr10'])) , dtype=np.float64) \n",
    "T1LMatched1045.add_column(LIrrUNLOG10)\n",
    "#T1LMatched1045.replace_column('LIrrUNLOG10',LIrrUNLOG10)\n",
    "LAGNUNLOG10 = MaskedColumn(name = \"LAGNUNLOG10\", data = (10**(T1LMatched1045['LAGN10'])) , dtype=np.float64) \n",
    "T1LMatched1045.add_column(LAGNUNLOG10)\n",
    "#T1LMatched1045.replace_column('LAGNUNLOG10',LAGNUNLOG10)\n",
    "\n",
    "#thennn replace 10^10 with 0 (c for corrrected)\n",
    "LSbcUNLOG10c = MaskedColumn(name = \"LSbcUNLOG10c\", data = (np.where(T1LMatched1045['LSbcUNLOG10']==10**10,0, T1LMatched1045['LSbcUNLOG10'])) , dtype=np.float64) \n",
    "T1LMatched1045.add_column(LSbcUNLOG10c)\n",
    "#T1LMatched1045.replace_column('LSbcUNLOG10c',LSbcUNLOG10c)\n",
    "LEllUNLOG10c = MaskedColumn(name = \"LEllUNLOG10c\", data = (np.where(T1LMatched1045['LEllUNLOG10']==10**10,0, T1LMatched1045['LEllUNLOG10'])) , dtype=np.float64) \n",
    "T1LMatched1045.add_column(LEllUNLOG10c)\n",
    "#T1LMatched1045.replace_column('LEllUNLOG10c',LEllUNLOG10c)\n",
    "LIrrUNLOG10c = MaskedColumn(name = \"LIrrUNLOG10c\", data = (np.where(T1LMatched1045['LIrrUNLOG10']==10**10,0, T1LMatched1045['LIrrUNLOG10'])) , dtype=np.float64) \n",
    "T1LMatched1045.add_column(LIrrUNLOG10c)\n",
    "#T1LMatched1045.replace_column('LIrrUNLOG10c',LIrrUNLOG10c)\n",
    "LAGNUNLOG10c = MaskedColumn(name = \"LAGNUNLOG10c\", data = (np.where(T1LMatched1045['LAGNUNLOG10']==10**10,0, T1LMatched1045['LAGNUNLOG10'])) , dtype=np.float64) \n",
    "T1LMatched1045.add_column(LAGNUNLOG10c)\n",
    "#T1LMatched1045.replace_column('LAGNUNLOG10c',LAGNUNLOG10c)\n",
    "\n",
    "\n",
    "\n",
    "#then additions \n",
    "LGalUNLOG10 = MaskedColumn(name = \"LGalUNLOG10\", data = list(map(sum, zip(T1LMatched1045['LSbcUNLOG10c'],T1LMatched1045['LEllUNLOG10c'],T1LMatched1045['LIrrUNLOG10c']))) , dtype=np.float64) \n",
    "T1LMatched1045.add_column(LGalUNLOG10)\n",
    "#T1LMatched1045.replace_column('LGalUNLOG10',LGalUNLOG10)\n",
    "\n",
    "LSFRUNLOG10 = MaskedColumn(name = \"LSFRUNLOG10\", data = list(map(sum, zip(T1LMatched1045['LSbcUNLOG10c'],T1LMatched1045['LIrrUNLOG10c']))) , dtype=np.float64) \n",
    "T1LMatched1045.add_column(LSFRUNLOG10)\n",
    "#T1LMatched1045.replace_column('LSFRUNLOG10',LSFRUNLOG10)\n",
    "\n",
    "LAGNmGalUNLOG10 = MaskedColumn(name = \"LAGNmGalUNLOG10\", data = T1LMatched1045['LAGNUNLOG10c']-T1LMatched1045['LGalUNLOG10'], dtype=np.float64) \n",
    "T1LMatched1045.add_column(LAGNmGalUNLOG10)\n",
    "#T1LMatched1045.replace_column('LAGNmGalUNLOG10',LAGNmGalUNLOG10)\n",
    "\n",
    "#log it\n",
    "LGalLOG10 =  MaskedColumn(name = \"LGalLOG10\", data = np.log10(T1LMatched1045['LGalUNLOG10']) , dtype=np.float64) \n",
    "T1LMatched1045.add_column(LGalLOG10)\n",
    "#T1LMatched1045.replace_column('LGalLOG10',LGalLOG10)\n",
    "\n",
    "LSFRLOG10 =  MaskedColumn(name = \"LSFRLOG10\", data = np.log10(T1LMatched1045['LSFRUNLOG10']) , dtype=np.float64) \n",
    "T1LMatched1045.add_column(LSFRLOG10)\n",
    "#T1LMatched1045.replace_column('LSFRLOG10',LGalLOG10)\n",
    "\n",
    "LAGNmGalLOG10 =  MaskedColumn(name = \"LAGNmGalLOG10\", data = np.log10(T1LMatched1045['LAGNmGalUNLOG10']) , dtype=np.float64) \n",
    "T1LMatched1045.add_column(LAGNmGalLOG10)\n",
    "#T1LMatched1045.replace_column('LAGNmGalLOG10',LAGNmGalLOG10)\n",
    "\n",
    "\n",
    "#putting the sums into ergs\n",
    "LGalerg10 = MaskedColumn(name = \"LGalerg10\", data = ((T1LMatched1045['LGalLOG10'])+33.58) , dtype=np.float64) \n",
    "T1LMatched1045.add_column(LGalerg10)\n",
    "#T1LMatched1045.replace_column('LGalerg10',LGalerg10)\n",
    "\n",
    "LSFRerg10 = MaskedColumn(name = \"LSFRerg10\", data = ((T1LMatched1045['LSFRLOG10'])+33.58) , dtype=np.float64) \n",
    "T1LMatched1045.add_column(LSFRerg10)\n",
    "#T1LMatched1045.replace_column('LSFRerg10',LSFRerg10)\n",
    "\n",
    "LAGNmGalerg10 = MaskedColumn(name = \"LAGNmGalerg10\", data = ((T1LMatched1045['LAGNmGalLOG10'])+33.58) , dtype=np.float64) \n",
    "T1LMatched1045.add_column(LAGNmGalerg10)\n",
    "#T1LMatched1045.replace_column('LAGNmGalerg10',LAGNmGalerg10)"
   ]
  },
  {
   "cell_type": "code",
   "execution_count": 8,
   "metadata": {},
   "outputs": [
    {
     "data": {
      "text/html": [
       "&lt;Column name=&apos;LAGNmGalerg10&apos; dtype=&apos;float64&apos; length=733&gt;\n",
       "<table>\n",
       "<tr><td>0.9989320363178178</td></tr>\n",
       "<tr><td>0.9980494531290444</td></tr>\n",
       "<tr><td>0.9980241181118116</td></tr>\n",
       "<tr><td>0.9989998165231729</td></tr>\n",
       "<tr><td>0.9952870741632438</td></tr>\n",
       "<tr><td>0.9978629853986408</td></tr>\n",
       "<tr><td>0.9973007154396725</td></tr>\n",
       "<tr><td>0.9980921343666276</td></tr>\n",
       "<tr><td>0.9990397626696776</td></tr>\n",
       "<tr><td>0.9956976947271389</td></tr>\n",
       "<tr><td>0.9997481172542223</td></tr>\n",
       "<tr><td>0.9946648087821226</td></tr>\n",
       "<tr><td>...</td></tr>\n",
       "<tr><td>0.9983861692968257</td></tr>\n",
       "<tr><td>0.9991387175447016</td></tr>\n",
       "<tr><td>0.9966636011855755</td></tr>\n",
       "<tr><td>0.9918315254232147</td></tr>\n",
       "<tr><td>0.9911624497268631</td></tr>\n",
       "<tr><td>0.9974398472719065</td></tr>\n",
       "<tr><td>0.9967700452473605</td></tr>\n",
       "<tr><td>0.9995589126270932</td></tr>\n",
       "<tr><td>0.9996218668814093</td></tr>\n",
       "<tr><td>0.9968281206866857</td></tr>\n",
       "<tr><td>0.9938175907224566</td></tr>\n",
       "<tr><td>0.9983477067820647</td></tr>\n",
       "</table>"
      ],
      "text/plain": [
       "<Column name='LAGNmGalerg10' dtype='float64' length=733>\n",
       "0.9989320363178178\n",
       "0.9980494531290444\n",
       "0.9980241181118116\n",
       "0.9989998165231729\n",
       "0.9952870741632438\n",
       "0.9978629853986408\n",
       "0.9973007154396725\n",
       "0.9980921343666276\n",
       "0.9990397626696776\n",
       "0.9956976947271389\n",
       "0.9997481172542223\n",
       "0.9946648087821226\n",
       "               ...\n",
       "0.9983861692968257\n",
       "0.9991387175447016\n",
       "0.9966636011855755\n",
       "0.9918315254232147\n",
       "0.9911624497268631\n",
       "0.9974398472719065\n",
       "0.9967700452473605\n",
       "0.9995589126270932\n",
       "0.9996218668814093\n",
       "0.9968281206866857\n",
       "0.9938175907224566\n",
       "0.9983477067820647"
      ]
     },
     "execution_count": 8,
     "metadata": {},
     "output_type": "execute_result"
    }
   ],
   "source": [
    "T1LMatched1045['LAGNmGalerg10']/T1LMatched1045['LAGNerg']\n",
    "#this is wrong because supposed to be doing this calculation for radio"
   ]
  },
  {
   "cell_type": "code",
   "execution_count": 9,
   "metadata": {},
   "outputs": [],
   "source": [
    "#T2LMatched1045\n",
    "\n",
    "\n",
    "#add 10\n",
    "LSbc10 = MaskedColumn(name = \"LSbc10\", data = (10+(T2LMatched1045['LSbcp'])) , dtype=np.float64) \n",
    "T2LMatched1045.add_column(LSbc10)\n",
    "#T2LMatched1045.replace_column('LSbc10',LSbc10)\n",
    "\n",
    "LEll10 = MaskedColumn(name = \"LEll10\", data = (10+(T2LMatched1045['LELLp'])) , dtype=np.float64) \n",
    "T2LMatched1045.add_column(LEll10)\n",
    "#T2LMatched1045.replace_column('LEll10',LEll10)\n",
    "\n",
    "LIrr10 = MaskedColumn(name = \"LIrr10\", data = (10+(T2LMatched1045['LIrrp'])) , dtype=np.float64) \n",
    "T2LMatched1045.add_column(LIrr10)\n",
    "#IRv.replace_column('LIrr10',LIrr10)\n",
    "\n",
    "#unlog the + 10\n",
    "\n",
    "LSbcUNLOG10 = MaskedColumn(name = \"LSbcUNLOG10\", data = (10**(T2LMatched1045['LSbc10'])) , dtype=np.float64) \n",
    "T2LMatched1045.add_column(LSbcUNLOG10)\n",
    "#T2LMatched1045.replace_column('LSbcUNLOG10',LSbcUNLOG10)\n",
    "LEllUNLOG10 = MaskedColumn(name = \"LEllUNLOG10\", data = (10**(T2LMatched1045['LEll10'])) , dtype=np.float64) \n",
    "T2LMatched1045.add_column(LEllUNLOG10)\n",
    "#T2LMatched1045.replace_column('LEllUNLOG10',LEllUNLOG10)\n",
    "LIrrUNLOG10 = MaskedColumn(name = \"LIrrUNLOG10\", data = (10**(T2LMatched1045['LIrr10'])) , dtype=np.float64) \n",
    "T2LMatched1045.add_column(LIrrUNLOG10)\n",
    "#T2LMatched1045.replace_column('LIrrUNLOG10',LIrrUNLOG10)\n",
    "\n",
    "#thennn replace 10^10 with 0 (c for corrrected)\n",
    "LSbcUNLOG10c = MaskedColumn(name = \"LSbcUNLOG10c\", data = (np.where(T2LMatched1045['LSbcUNLOG10']==10**10,0, T2LMatched1045['LSbcUNLOG10'])) , dtype=np.float64) \n",
    "T2LMatched1045.add_column(LSbcUNLOG10c)\n",
    "#T2LMatched1045.replace_column('LSbcUNLOG10c',LSbcUNLOG10c)\n",
    "LEllUNLOG10c = MaskedColumn(name = \"LEllUNLOG10c\", data = (np.where(T2LMatched1045['LEllUNLOG10']==10**10,0, T2LMatched1045['LEllUNLOG10'])) , dtype=np.float64) \n",
    "T2LMatched1045.add_column(LEllUNLOG10c)\n",
    "#T2LMatched1045.replace_column('LEllUNLOG10c',LEllUNLOG10c)\n",
    "LIrrUNLOG10c = MaskedColumn(name = \"LIrrUNLOG10c\", data = (np.where(T2LMatched1045['LIrrUNLOG10']==10**10,0, T2LMatched1045['LIrrUNLOG10'])) , dtype=np.float64) \n",
    "T2LMatched1045.add_column(LIrrUNLOG10c)\n",
    "#T2LMatched1045.replace_column('LIrrUNLOG10c',LIrrUNLOG10c)\n",
    "\n",
    "#thennn replace 10^10 with 0 (c for corrrected)\n",
    "LSbcUNLOG10c = MaskedColumn(name = \"LSbcUNLOG10c\", data = (np.where(T2LMatched1045['LSbcUNLOG10']==10**10,0, T2LMatched1045['LSbcUNLOG10'])) , dtype=np.float64) \n",
    "#T2LMatched1045.add_column(LSbcUNLOG10c)\n",
    "T2LMatched1045.replace_column('LSbcUNLOG10c',LSbcUNLOG10c)\n",
    "LEllUNLOG10c = MaskedColumn(name = \"LEllUNLOG10c\", data = (np.where(T2LMatched1045['LEllUNLOG10']==10**10,0, T2LMatched1045['LEllUNLOG10'])) , dtype=np.float64) \n",
    "#T2LMatched1045.add_column(LEllUNLOG10c)\n",
    "T2LMatched1045.replace_column('LEllUNLOG10c',LEllUNLOG10c)\n",
    "LIrrUNLOG10c = MaskedColumn(name = \"LIrrUNLOG10c\", data = (np.where(T2LMatched1045['LIrrUNLOG10']==10**10,0, T2LMatched1045['LIrrUNLOG10'])) , dtype=np.float64) \n",
    "#T2LMatched1045.add_column(LIrrUNLOG10c)\n",
    "T2LMatched1045.replace_column('LIrrUNLOG10c',LIrrUNLOG10c)\n",
    "\n",
    "#then additions \n",
    "LGalUNLOG10 = MaskedColumn(name = \"LGalUNLOG10\", data = list(map(sum, zip(T2LMatched1045['LSbcUNLOG10c'],T2LMatched1045['LEllUNLOG10c'],T2LMatched1045['LIrrUNLOG10c']))) , dtype=np.float64) \n",
    "T2LMatched1045.add_column(LGalUNLOG10)\n",
    "#T2LMatched1045.replace_column('LGalUNLOG10',LGalUNLOG10)\n",
    "\n",
    "LSFRUNLOG10 = MaskedColumn(name = \"LSFRUNLOG10\", data = list(map(sum, zip(T2LMatched1045['LSbcUNLOG10c'],T2LMatched1045['LIrrUNLOG10c']))) , dtype=np.float64) \n",
    "T2LMatched1045.add_column(LSFRUNLOG10)\n",
    "#T2LMatched1045.replace_column('LSFRUNLOG10',LSFRUNLOG10)\n",
    "\n",
    "#log it\n",
    "LGalLOG10 =  MaskedColumn(name = \"LGalLOG10\", data = np.log10(T2LMatched1045['LGalUNLOG10']) , dtype=np.float64) \n",
    "T2LMatched1045.add_column(LGalLOG10)\n",
    "#T2LMatched1045.replace_column('LGalLOG10',LGalLOG10)\n",
    "\n",
    "LSFRLOG10 =  MaskedColumn(name = \"LSFRLOG10\", data = np.log10(T2LMatched1045['LSFRUNLOG10']) , dtype=np.float64) \n",
    "T2LMatched1045.add_column(LSFRLOG10)\n",
    "#T2LMatched1045.replace_column('LSFRLOG10',LGalLOG10)\n",
    "\n",
    "\n",
    "#putting the sums into ergs\n",
    "LGalerg10 = MaskedColumn(name = \"LGalerg10\", data = ((T2LMatched1045['LGalLOG10'])+33.58) , dtype=np.float64) \n",
    "T2LMatched1045.add_column(LGalerg10)\n",
    "#T2LMatched1045.replace_column('LGalerg10',LGalerg10)\n",
    "\n",
    "LSFRerg10 = MaskedColumn(name = \"LSFRerg10\", data = ((T2LMatched1045['LSFRLOG10'])+33.58) , dtype=np.float64) \n",
    "T2LMatched1045.add_column(LSFRerg10)\n",
    "#T2LMatched1045.replace_column('LSFRerg10',LSFRerg10)"
   ]
  },
  {
   "cell_type": "code",
   "execution_count": null,
   "metadata": {},
   "outputs": [],
   "source": []
  },
  {
   "cell_type": "markdown",
   "metadata": {},
   "source": [
    "# Detection Fractions"
   ]
  },
  {
   "cell_type": "code",
   "execution_count": 10,
   "metadata": {},
   "outputs": [
    {
     "name": "stdout",
     "output_type": "stream",
     "text": [
      "733\n",
      "733\n"
     ]
    }
   ],
   "source": [
    "print(len(T1LMatched1045))\n",
    "print(len(T2LMatched1045))"
   ]
  },
  {
   "cell_type": "code",
   "execution_count": 11,
   "metadata": {},
   "outputs": [
    {
     "name": "stdout",
     "output_type": "stream",
     "text": [
      "1466\n"
     ]
    }
   ],
   "source": [
    "Total_LMatch = len(T1LMatched1045)+len(T2LMatched1045)\n",
    "print (Total_LMatch )"
   ]
  },
  {
   "cell_type": "code",
   "execution_count": 12,
   "metadata": {},
   "outputs": [
    {
     "name": "stdout",
     "output_type": "stream",
     "text": [
      "406\n",
      "34\n",
      "708\n"
     ]
    }
   ],
   "source": [
    "Total_LOFAR = len(T1LMatchedLOFAR)+len(T2LMatchedLOFAR)\n",
    "print (Total_LOFAR)\n",
    "Total_FIRST = len(T1LMatchedFIRST)+len(T2LMatchedFIRST)\n",
    "print (Total_FIRST)\n",
    "Total_XRAY = len(T1LMatchedXRAYi)+len(T2LMatchedXRAYi)\n",
    "print (Total_XRAY)"
   ]
  },
  {
   "cell_type": "code",
   "execution_count": 13,
   "metadata": {},
   "outputs": [
    {
     "data": {
      "text/plain": [
       "1466"
      ]
     },
     "execution_count": 13,
     "metadata": {},
     "output_type": "execute_result"
    }
   ],
   "source": [
    "Total_LMatch"
   ]
  },
  {
   "cell_type": "code",
   "execution_count": 14,
   "metadata": {},
   "outputs": [
    {
     "name": "stdout",
     "output_type": "stream",
     "text": [
      "LOFAR\n",
      "Overall Detecttion Fraction is 0.27694406548431105\n",
      "T1 Detecttion Fraction is 0.21145975443383355\n",
      "T2 Detecttion Fraction is 0.3424283765347885\n"
     ]
    }
   ],
   "source": [
    "print ('LOFAR')\n",
    "Overall_DFracL = Total_LOFAR/Total_LMatch\n",
    "print ('Overall Detecttion Fraction is',Overall_DFracL )\n",
    "T1_DFracL = len(T1LMatchedLOFAR)/len(T1LMatched1045)\n",
    "print ('T1 Detecttion Fraction is',T1_DFracL )\n",
    "T2_DFracL = len(T2LMatchedLOFAR)/len(T2LMatched1045)\n",
    "print ('T2 Detecttion Fraction is',T2_DFracL )"
   ]
  },
  {
   "cell_type": "code",
   "execution_count": 15,
   "metadata": {},
   "outputs": [
    {
     "name": "stdout",
     "output_type": "stream",
     "text": [
      "[0.26541178 0.28878045] [0.19677548 0.22693024] [0.32512679 0.36015931]\n"
     ]
    }
   ],
   "source": [
    "import astropy.stats as stats\n",
    "IntervalLOFAR = stats.binom_conf_interval(Total_LOFAR,Total_LMatch)\n",
    "T1intervalLOFAR = stats.binom_conf_interval(len(T1LMatchedLOFAR),len(T1LMatched1045))\n",
    "T2intervalLOFAR = stats.binom_conf_interval(len(T2LMatchedLOFAR),len(T2LMatched1045))\n",
    "print(IntervalLOFAR,T1intervalLOFAR,T2intervalLOFAR)"
   ]
  },
  {
   "cell_type": "code",
   "execution_count": 16,
   "metadata": {},
   "outputs": [
    {
     "name": "stdout",
     "output_type": "stream",
     "text": [
      "Overall LOFAR = + 0.011836388457028613 - 0.011532289748970692\n",
      "T1 LOFAR = + 0.015470487479348372 - 0.014684272628264994\n",
      "T2 LOFAR = + 0.01773093836363665 - 0.01730158699105916\n"
     ]
    }
   ],
   "source": [
    "PlusLOFAR = IntervalLOFAR[1]-Overall_DFracL\n",
    "MinusLOFAR = Overall_DFracL-IntervalLOFAR[0]\n",
    "print('Overall LOFAR = +',PlusLOFAR,'-', MinusLOFAR)\n",
    "\n",
    "T1PlusLOFAR = T1intervalLOFAR[1]-T1_DFracL\n",
    "T1MinusLOFAR = T1_DFracL-T1intervalLOFAR[0]\n",
    "print('T1 LOFAR = +',T1PlusLOFAR,'-', T1MinusLOFAR)\n",
    "\n",
    "T2PlusLOFAR = T2intervalLOFAR[1]-T2_DFracL\n",
    "T2MinusLOFAR = T2_DFracL-T2intervalLOFAR[0]\n",
    "print('T2 LOFAR = +',T2PlusLOFAR,'-', T2MinusLOFAR)"
   ]
  },
  {
   "cell_type": "code",
   "execution_count": 17,
   "metadata": {},
   "outputs": [
    {
     "data": {
      "text/plain": [
       "251"
      ]
     },
     "execution_count": 17,
     "metadata": {},
     "output_type": "execute_result"
    }
   ],
   "source": [
    "len(T2LMatchedLOFAR)"
   ]
  },
  {
   "cell_type": "code",
   "execution_count": 18,
   "metadata": {},
   "outputs": [
    {
     "data": {
      "image/png": "[encoded data removed]",
      "text/plain": [
       "<Figure size 576x432 with 1 Axes>"
      ]
     },
     "metadata": {
      "needs_background": "light"
     },
     "output_type": "display_data"
    }
   ],
   "source": [
    "import matplotlib.pyplot as plt\n",
    "import numpy as np\n",
    "\n",
    "\n",
    "labels = ['Overall', 'T1', 'T2']\n",
    "Dfracs = [Overall_DFracL,T1_DFracL,T2_DFracL]\n",
    "\n",
    "\n",
    "x = np.arange(len(labels))  # the label locations\n",
    "width = 0.35  # the width of the bars\n",
    "\n",
    "fig, ax = plt.subplots(figsize=(8,6))\n",
    "rects1 = ax.bar(x , Dfracs, width, color = 'pink')\n",
    "\n",
    "\n",
    "# Add some text for labels, title and custom x-axis tick labels, etc.\n",
    "ax.set_ylabel('Detection Fraction')\n",
    "ax.set_title('LOFAR')\n",
    "ax.set_xticks([0,1,2])\n",
    "ax.set_xticklabels(labels)\n",
    "ax.set_ylim(0.2,0.35)\n",
    "\n",
    "#ax.bar_label(rects1, padding=3)\n",
    "#ax.bar_label(rects2, padding=3)\n",
    "\n",
    "fig.tight_layout()\n",
    "\n",
    "plt.show()\n"
   ]
  },
  {
   "cell_type": "code",
   "execution_count": 19,
   "metadata": {},
   "outputs": [
    {
     "name": "stdout",
     "output_type": "stream",
     "text": [
      "FIRST\n",
      "Overall Detecttion Fraction is 0.023192360163710776\n",
      "T1 Detecttion Fraction is 0.023192360163710776\n",
      "T2 Detecttion Fraction is 0.023192360163710776\n"
     ]
    }
   ],
   "source": [
    "print ('FIRST')\n",
    "Overall_DFrac = Total_FIRST/Total_LMatch\n",
    "print ('Overall Detecttion Fraction is',Overall_DFrac )\n",
    "T1_DFrac = len(T1LMatchedFIRST)/len(T1LMatched1045)\n",
    "print ('T1 Detecttion Fraction is',T1_DFrac )\n",
    "T2_DFrac = len(T2LMatchedFIRST)/len(T2LMatched1045)\n",
    "print ('T2 Detecttion Fraction is',T2_DFrac )"
   ]
  },
  {
   "cell_type": "code",
   "execution_count": 20,
   "metadata": {},
   "outputs": [
    {
     "name": "stdout",
     "output_type": "stream",
     "text": [
      "[0.01957424 0.02746053] [0.01824853 0.02943539] [0.01824853 0.02943539]\n"
     ]
    }
   ],
   "source": [
    "import astropy.stats as stats\n",
    "IntervalFIRST = stats.binom_conf_interval(Total_FIRST,Total_LMatch)\n",
    "T1intervalFIRST = stats.binom_conf_interval(len(T1LMatchedFIRST),len(T1LMatched1045))\n",
    "T2intervalFIRST = stats.binom_conf_interval(len(T2LMatchedFIRST),len(T2LMatched1045))\n",
    "print(IntervalFIRST,T1intervalFIRST,T2intervalFIRST)"
   ]
  },
  {
   "cell_type": "code",
   "execution_count": 21,
   "metadata": {},
   "outputs": [
    {
     "name": "stdout",
     "output_type": "stream",
     "text": [
      "Overall FIRST = + 0.004268168282657362 - 0.003618122420478608\n",
      "T1 FIRST = + 0.006243032733737282 - 0.004943826632301675\n",
      "T2 FIRST = + 0.006243032733737282 - 0.004943826632301675\n"
     ]
    }
   ],
   "source": [
    "PlusFIRST = IntervalFIRST[1]-Overall_DFrac\n",
    "MinusFIRST = Overall_DFrac-IntervalFIRST[0]\n",
    "print('Overall FIRST = +',PlusFIRST,'-', MinusFIRST)\n",
    "\n",
    "T1PlusFIRST = T1intervalFIRST[1]-T1_DFrac\n",
    "T1MinusFIRST = T1_DFrac-T1intervalFIRST[0]\n",
    "print('T1 FIRST = +',T1PlusFIRST,'-', T1MinusFIRST)\n",
    "\n",
    "T2PlusFIRST = T2intervalFIRST[1]-T2_DFrac\n",
    "T2MinusFIRST = T2_DFrac-T2intervalFIRST[0]\n",
    "print('T2 FIRST = +',T2PlusFIRST,'-', T2MinusFIRST)"
   ]
  },
  {
   "cell_type": "code",
   "execution_count": 22,
   "metadata": {},
   "outputs": [
    {
     "data": {
      "image/png": "[encoded data removed]",
      "text/plain": [
       "<Figure size 576x432 with 1 Axes>"
      ]
     },
     "metadata": {
      "needs_background": "light"
     },
     "output_type": "display_data"
    }
   ],
   "source": [
    "import matplotlib.pyplot as plt\n",
    "import numpy as np\n",
    "\n",
    "\n",
    "labels = ['Overall', 'T1', 'T2']\n",
    "Dfracs = [Overall_DFrac,T1_DFrac ,T2_DFrac]\n",
    "\n",
    "\n",
    "x = np.arange(len(labels))  # the label locations\n",
    "width = 0.35  # the width of the bars\n",
    "\n",
    "fig, ax = plt.subplots(figsize=(8,6))\n",
    "rects1 = ax.bar(x , Dfracs, width, color = 'pink')\n",
    "\n",
    "\n",
    "# Add some text for labels, title and custom x-axis tick labels, etc.\n",
    "ax.set_ylabel('Detection Fraction')\n",
    "ax.set_title('FIRST')\n",
    "ax.set_xticks([0,1,2])\n",
    "ax.set_xticklabels(labels)\n",
    "\n",
    "\n",
    "#ax.bar_label(rects1, padding=3)\n",
    "#ax.bar_label(rects2, padding=3)\n",
    "\n",
    "fig.tight_layout()\n",
    "\n",
    "plt.show()"
   ]
  },
  {
   "cell_type": "code",
   "execution_count": 23,
   "metadata": {},
   "outputs": [
    {
     "name": "stdout",
     "output_type": "stream",
     "text": [
      "XRAY\n",
      "Overall Detecttion Fraction is 0.4829467939972715\n",
      "T1 Detecttion Fraction is 0.6562073669849932\n",
      "T2 Detecttion Fraction is 0.3096862210095498\n"
     ]
    }
   ],
   "source": [
    "print ('XRAY')\n",
    "Overall_DFracX = Total_XRAY/Total_LMatch\n",
    "print ('Overall Detecttion Fraction is',Overall_DFracX )\n",
    "T1_DFracX = len(T1LMatchedXRAYi)/len(T1LMatched1045)\n",
    "print ('T1 Detecttion Fraction is',T1_DFracX )\n",
    "T2_DFracX = len(T2LMatchedXRAYi)/len(T2LMatched1045)\n",
    "print ('T2 Detecttion Fraction is',T2_DFracX )"
   ]
  },
  {
   "cell_type": "code",
   "execution_count": 24,
   "metadata": {},
   "outputs": [
    {
     "name": "stdout",
     "output_type": "stream",
     "text": [
      "[0.46991165 0.49600518] [0.63846167 0.67352743] [0.29287734 0.32701367]\n"
     ]
    }
   ],
   "source": [
    "import astropy.stats as stats\n",
    "Intervalxray = stats.binom_conf_interval(Total_XRAY,Total_LMatch)\n",
    "T1intervalXray = stats.binom_conf_interval(len(T1LMatchedXRAYi),len(T1LMatched1045))\n",
    "T2intervalXray = stats.binom_conf_interval(len(T2LMatchedXRAYi),len(T2LMatched1045))\n",
    "print(Intervalxray,T1intervalXray,T2intervalXray)"
   ]
  },
  {
   "cell_type": "code",
   "execution_count": 25,
   "metadata": {},
   "outputs": [
    {
     "name": "stdout",
     "output_type": "stream",
     "text": [
      "Overall Xray = + 0.013058389339552445 - 0.013035140202850737\n",
      "T1 Xray = + 0.01732006275579745 - 0.017745696800473665\n",
      "T2 Xray = + 0.017327445536566677 - 0.016808878294362783\n"
     ]
    }
   ],
   "source": [
    "Plusxray = Intervalxray[1]-Overall_DFracX\n",
    "Minusxray = Overall_DFracX-Intervalxray[0]\n",
    "print('Overall Xray = +',Plusxray,'-', Minusxray)\n",
    "\n",
    "T1Plusxray = T1intervalXray[1]-T1_DFracX\n",
    "T1Minusxray = T1_DFracX-T1intervalXray[0]\n",
    "print('T1 Xray = +',T1Plusxray,'-', T1Minusxray)\n",
    "\n",
    "T2Plusxray = T2intervalXray[1]-T2_DFracX\n",
    "T2Minusxray = T2_DFracX-T2intervalXray[0]\n",
    "print('T2 Xray = +',T2Plusxray,'-', T2Minusxray)"
   ]
  },
  {
   "cell_type": "code",
   "execution_count": 26,
   "metadata": {},
   "outputs": [
    {
     "data": {
      "text/plain": [
       "708"
      ]
     },
     "execution_count": 26,
     "metadata": {},
     "output_type": "execute_result"
    }
   ],
   "source": [
    "Total_XRAY"
   ]
  },
  {
   "cell_type": "code",
   "execution_count": 27,
   "metadata": {},
   "outputs": [
    {
     "data": {
      "image/png": "[encoded data removed]",
      "text/plain": [
       "<Figure size 576x432 with 1 Axes>"
      ]
     },
     "metadata": {
      "needs_background": "light"
     },
     "output_type": "display_data"
    }
   ],
   "source": [
    "import matplotlib.pyplot as plt\n",
    "import numpy as np\n",
    "\n",
    "\n",
    "labels = ['Overall', 'T1', 'T2']\n",
    "Dfracs = [Overall_DFracX,T1_DFracX ,T2_DFracX]\n",
    "\n",
    "\n",
    "x = np.arange(len(labels))  # the label locations\n",
    "width = 0.35  # the width of the bars\n",
    "\n",
    "fig, ax = plt.subplots(figsize=(8,6))\n",
    "rects1 = ax.bar(x , Dfracs, width, color = 'pink')\n",
    "\n",
    "\n",
    "# Add some text for labels, title and custom x-axis tick labels, etc.\n",
    "ax.set_ylabel('Detection Fraction')\n",
    "ax.set_title('X-ray')\n",
    "ax.set_xticks([0,1,2])\n",
    "ax.set_xticklabels(labels)\n",
    "ax.set_ylim(0.3,0.7)\n",
    "\n",
    "\n",
    "#ax.bar_label(rects1, padding=3)\n",
    "#ax.bar_label(rects2, padding=3)\n",
    "\n",
    "fig.tight_layout()\n",
    "\n",
    "plt.show()"
   ]
  },
  {
   "cell_type": "code",
   "execution_count": 28,
   "metadata": {},
   "outputs": [
    {
     "data": {
      "text/html": [
       "<i>Table length=733</i>\n",
       "<table id=\"table140448575678392\" class=\"table-striped table-bordered table-condensed\">\n",
       "<thead><tr><th>RA</th><th>Dec</th><th>Imag</th><th>S</th><th>zspec</th><th>N</th><th>zG</th><th>chi2G</th><th>LEll</th><th>LSbc</th><th>LIrr</th><th>zGA</th><th>chi2GA</th><th>LAGNp</th><th>LELLp</th><th>LSbcp</th><th>LIrrp</th><th>F</th><th>EBV</th><th>Chi2S</th><th>SType</th><th>LAGNerg</th><th>LSbcerg</th><th>LEllerg</th><th>LIrrerg</th><th>AV</th><th>LSbc10</th><th>LEll10</th><th>LIrr10</th><th>LAGN10</th><th>LSbcUNLOG10</th><th>LEllUNLOG10</th><th>LIrrUNLOG10</th><th>LAGNUNLOG10</th><th>LSbcUNLOG10c</th><th>LEllUNLOG10c</th><th>LIrrUNLOG10c</th><th>LAGNUNLOG10c</th><th>LGalUNLOG10</th><th>LSFRUNLOG10</th><th>LAGNmGalUNLOG10</th><th>LGalLOG10</th><th>LSFRLOG10</th><th>LAGNmGalLOG10</th><th>LGalerg10</th><th>LSFRerg10</th><th>LAGNmGalerg10</th></tr></thead>\n",
       "<thead><tr><th>float64</th><th>float64</th><th>float64</th><th>float64</th><th>float64</th><th>str4</th><th>float64</th><th>float64</th><th>float64</th><th>float64</th><th>float64</th><th>float64</th><th>float64</th><th>float64</th><th>float64</th><th>float64</th><th>float64</th><th>float64</th><th>float64</th><th>float64</th><th>str5</th><th>float64</th><th>float64</th><th>float64</th><th>float64</th><th>float64</th><th>float64</th><th>float64</th><th>float64</th><th>float64</th><th>float64</th><th>float64</th><th>float64</th><th>float64</th><th>float64</th><th>float64</th><th>float64</th><th>float64</th><th>float64</th><th>float64</th><th>float64</th><th>float64</th><th>float64</th><th>float64</th><th>float64</th><th>float64</th><th>float64</th></tr></thead>\n",
       "<tr><td>217.78476</td><td>32.37835</td><td>18.979999542236328</td><td>0.9900000095367432</td><td>-99.98999786376953</td><td>12/0</td><td>0.009999999776482582</td><td>113.69999694824219</td><td>0.0</td><td>-2.7760000228881836</td><td>-2.700000047683716</td><td>1.649999976158142</td><td>26.690000534057617</td><td>2.621999979019165</td><td>1.5880000591278076</td><td>0.0</td><td>0.7960000038146973</td><td>14.039999961853027</td><td>0.05000000074505806</td><td>169.69000244140625</td><td>f/g</td><td>46.202</td><td>40.804</td><td>43.58</td><td>40.879999999999995</td><td>0.16000000000000003</td><td>10.0</td><td>11.588000059127808</td><td>10.796000003814697</td><td>12.621999979019165</td><td>10000000000.0</td><td>387257697645.5132</td><td>62517269826.69933</td><td>4187935448859.356</td><td>0.0</td><td>387257697645.5132</td><td>62517269826.69933</td><td>4187935448859.356</td><td>449774967472.2125</td><td>62517269826.69933</td><td>3738160481387.1436</td><td>11.652995280821244</td><td>10.796000003814697</td><td>12.57265794195582</td><td>45.23299528082124</td><td>44.376000003814696</td><td>46.152657941955816</td></tr>\n",
       "<tr><td>216.34027</td><td>32.37844</td><td>20.6200008392334</td><td>0.9800000190734863</td><td>-99.98999786376953</td><td>12/0</td><td>2.069999933242798</td><td>38.5</td><td>0.0</td><td>0.30000001192092896</td><td>2.0910000801086426</td><td>1.7999999523162842</td><td>3.640000104904175</td><td>2.063999891281128</td><td>1.3320000171661377</td><td>0.0</td><td>0.0</td><td>39.349998474121094</td><td>0.019999999552965164</td><td>74.26000213623047</td><td>a/f</td><td>45.644</td><td>43.879999999999995</td><td>43.58</td><td>45.671</td><td>0.064</td><td>10.0</td><td>11.332000017166138</td><td>10.0</td><td>12.063999891281128</td><td>10000000000.0</td><td>214783055902.67413</td><td>10000000000.0</td><td>1158777066073.2654</td><td>0.0</td><td>214783055902.67413</td><td>0.0</td><td>1158777066073.2654</td><td>214783055902.67413</td><td>0.0</td><td>943994010170.5913</td><td>11.332000017166138</td><td>-inf</td><td>11.974969238622101</td><td>44.912000017166136</td><td>-inf</td><td>45.5549692386221</td></tr>\n",
       "<tr><td>217.72965</td><td>32.42403</td><td>21.670000076293945</td><td>0.9700000286102295</td><td>-99.98999786376953</td><td>14/0</td><td>1.5299999713897705</td><td>21.34000015258789</td><td>0.0</td><td>0.0</td><td>1.4600000381469727</td><td>1.5299999713897705</td><td>1.6299999952316284</td><td>1.593999981880188</td><td>0.0</td><td>0.8629999756813049</td><td>0.0</td><td>55.38999938964844</td><td>0.03999999910593033</td><td>22.280000686645508</td><td>b/a</td><td>45.174</td><td>43.58</td><td>43.58</td><td>45.04</td><td>0.128</td><td>10.862999975681305</td><td>10.0</td><td>10.0</td><td>11.593999981880188</td><td>72945746940.79659</td><td>10000000000.0</td><td>10000000000.0</td><td>392644919017.50757</td><td>72945746940.79659</td><td>0.0</td><td>0.0</td><td>392644919017.50757</td><td>72945746940.79659</td><td>72945746940.79659</td><td>319699172076.711</td><td>10.862999975681305</td><td>10.862999975681305</td><td>11.504741511582976</td><td>44.4429999756813</td><td>44.4429999756813</td><td>45.084741511582976</td></tr>\n",
       "<tr><td>217.10787</td><td>32.42816</td><td>21.34000015258789</td><td>0.7300000190734863</td><td>-99.98999786376953</td><td>14/0</td><td>0.03999999910593033</td><td>9.899999618530273</td><td>0.0</td><td>-2.760999917984009</td><td>-2.259999990463257</td><td>1.7100000381469727</td><td>0.46000000834465027</td><td>1.7269999980926514</td><td>0.7229999899864197</td><td>0.0</td><td>0.0</td><td>93.94999694824219</td><td>0.009999999776482582</td><td>10.779999732971191</td><td>A/F</td><td>45.306999999999995</td><td>40.818999999999996</td><td>43.58</td><td>41.32</td><td>0.032</td><td>10.0</td><td>10.72299998998642</td><td>10.0</td><td>11.726999998092651</td><td>10000000000.0</td><td>52844523959.075455</td><td>10000000000.0</td><td>533334893145.3034</td><td>0.0</td><td>52844523959.075455</td><td>0.0</td><td>533334893145.3034</td><td>52844523959.075455</td><td>0.0</td><td>480490369186.22797</td><td>10.72299998998642</td><td>-inf</td><td>11.681684687215398</td><td>44.30299998998642</td><td>-inf</td><td>45.26168468721539</td></tr>\n",
       "<tr><td>218.17979</td><td>32.4394</td><td>19.360000610351562</td><td>0.7300000190734863</td><td>-99.98999786376953</td><td>12/1</td><td>0.009999999776482582</td><td>86.88999938964844</td><td>0.0</td><td>-2.7139999866485596</td><td>-2.940999984741211</td><td>1.1299999952316284</td><td>6.460000038146973</td><td>2.009999990463257</td><td>0.671999990940094</td><td>0.0</td><td>1.5470000505447388</td><td>57.04999923706055</td><td>0.019999999552965164</td><td>165.6199951171875</td><td>a/f</td><td>45.589999999999996</td><td>40.866</td><td>43.58</td><td>40.638999999999996</td><td>0.064</td><td>10.0</td><td>10.671999990940094</td><td>11.547000050544739</td><td>12.009999990463257</td><td>10000000000.0</td><td>46989409880.26585</td><td>352370912052.6667</td><td>1023292969810.0972</td><td>0.0</td><td>46989409880.26585</td><td>352370912052.6667</td><td>1023292969810.0972</td><td>399360321932.93256</td><td>352370912052.6667</td><td>623932647877.1646</td><td>11.60136491376056</td><td>11.547000050544739</td><td>11.795137711102285</td><td>45.18136491376056</td><td>45.12700005054474</td><td>45.37513771110228</td></tr>\n",
       "<tr><td>217.51987</td><td>32.44044</td><td>22.489999771118164</td><td>0.009999999776482582</td><td>-99.98999786376953</td><td>14/0</td><td>1.7599999904632568</td><td>2.559999942779541</td><td>0.0</td><td>1.5369999408721924</td><td>0.6650000214576721</td><td>1.4500000476837158</td><td>0.6100000143051147</td><td>1.6480000019073486</td><td>0.9480000138282776</td><td>0.0</td><td>0.0</td><td>16.799999237060547</td><td>0.25</td><td>8.3100004196167</td><td>1500K</td><td>45.228</td><td>45.117</td><td>43.58</td><td>44.245</td><td>0.8</td><td>10.0</td><td>10.948000013828278</td><td>10.0</td><td>11.648000001907349</td><td>10000000000.0</td><td>88715604028.57059</td><td>10000000000.0</td><td>444631269421.85474</td><td>0.0</td><td>88715604028.57059</td><td>0.0</td><td>444631269421.85474</td><td>88715604028.57059</td><td>0.0</td><td>355915665393.2842</td><td>10.948000013828278</td><td>-inf</td><td>11.55134710360973</td><td>44.528000013828276</td><td>-inf</td><td>45.13134710360973</td></tr>\n",
       "<tr><td>217.03198</td><td>32.44785</td><td>20.540000915527344</td><td>0.9200000166893005</td><td>-99.98999786376953</td><td>13/0</td><td>0.009999999776482582</td><td>31.149999618530273</td><td>0.0</td><td>-3.4230000972747803</td><td>-3.131999969482422</td><td>1.600000023841858</td><td>2.0199999809265137</td><td>1.9789999723434448</td><td>0.0</td><td>0.0</td><td>1.371000051498413</td><td>58.540000915527344</td><td>0.029999999329447746</td><td>57.66999816894531</td><td>a/f</td><td>45.559</td><td>40.157</td><td>43.58</td><td>40.448</td><td>0.096</td><td>10.0</td><td>10.0</td><td>11.371000051498413</td><td>11.978999972343445</td><td>10000000000.0</td><td>10000000000.0</td><td>234963309946.6558</td><td>952796103348.0966</td><td>0.0</td><td>0.0</td><td>234963309946.6558</td><td>952796103348.0966</td><td>234963309946.6558</td><td>234963309946.6558</td><td>717832793401.4408</td><td>11.371000051498413</td><td>11.371000051498413</td><td>11.85602329471604</td><td>44.95100005149841</td><td>44.95100005149841</td><td>45.43602329471604</td></tr>\n",
       "<tr><td>216.24576</td><td>32.4713</td><td>21.510000228881836</td><td>0.7799999713897705</td><td>-99.98999786376953</td><td>13/0</td><td>2.809999942779541</td><td>16.270000457763672</td><td>0.0</td><td>2.006999969482422</td><td>1.9600000381469727</td><td>1.4700000286102295</td><td>2.809999942779541</td><td>1.8949999809265137</td><td>1.1360000371932983</td><td>0.0</td><td>-0.26600000262260437</td><td>20.190000534057617</td><td>0.25</td><td>58.9900016784668</td><td>1500K</td><td>45.475</td><td>45.586999999999996</td><td>43.58</td><td>45.54</td><td>0.8</td><td>10.0</td><td>11.136000037193298</td><td>9.733999997377396</td><td>11.894999980926514</td><td>10000000000.0</td><td>136772894272.91551</td><td>5420008871.286053</td><td>785235600123.8385</td><td>0.0</td><td>136772894272.91551</td><td>5420008871.286053</td><td>785235600123.8385</td><td>142192903144.20157</td><td>5420008871.286053</td><td>643042696979.637</td><td>11.152877921272612</td><td>9.733999997377396</td><td>11.808239810322391</td><td>44.73287792127261</td><td>43.313999997377394</td><td>45.38823981032239</td></tr>\n",
       "<tr><td>218.12346</td><td>32.47383</td><td>19.389999389648438</td><td>0.9800000190734863</td><td>-99.98999786376953</td><td>14/0</td><td>0.009999999776482582</td><td>124.11000061035156</td><td>0.0</td><td>-3.0869998931884766</td><td>-2.9040000438690186</td><td>1.6200000047683716</td><td>15.329999923706055</td><td>2.4809999465942383</td><td>1.4670000076293945</td><td>0.0</td><td>0.0</td><td>36.4900016784668</td><td>0.03999999910593033</td><td>183.25</td><td>f/g</td><td>46.061</td><td>40.492999999999995</td><td>43.58</td><td>40.676</td><td>0.128</td><td>10.0</td><td>11.467000007629395</td><td>10.0</td><td>12.480999946594238</td><td>10000000000.0</td><td>293089329673.82904</td><td>10000000000.0</td><td>3026913055877.8164</td><td>0.0</td><td>293089329673.82904</td><td>0.0</td><td>3026913055877.8164</td><td>293089329673.82904</td><td>0.0</td><td>2733823726203.9873</td><td>11.467000007629395</td><td>-inf</td><td>12.43677050832802</td><td>45.04700000762939</td><td>-inf</td><td>46.01677050832802</td></tr>\n",
       "<tr><td>216.49839</td><td>32.47729</td><td>21.110000610351562</td><td>0.7099999785423279</td><td>1.75</td><td>12/0</td><td>1.8899999856948853</td><td>13.279999732971191</td><td>0.0</td><td>1.5049999952316284</td><td>1.6410000324249268</td><td>1.7100000381469727</td><td>1.590000033378601</td><td>1.9809999465942383</td><td>0.0</td><td>1.5410000085830688</td><td>-1.8380000591278076</td><td>30.329999923706055</td><td>0.10000000149011612</td><td>82.73999786376953</td><td>f/g</td><td>45.561</td><td>45.085</td><td>43.58</td><td>45.221</td><td>0.32000000000000006</td><td>11.541000008583069</td><td>10.0</td><td>8.161999940872192</td><td>11.980999946594238</td><td>347536168311.6487</td><td>10000000000.0</td><td>145211141.98873934</td><td>957193953587.442</td><td>347536168311.6487</td><td>0.0</td><td>145211141.98873934</td><td>957193953587.442</td><td>347681379453.63745</td><td>347681379453.63745</td><td>609512574133.8046</td><td>11.541181432077906</td><td>11.541181432077906</td><td>11.784982669463174</td><td>45.121181432077904</td><td>45.121181432077904</td><td>45.364982669463174</td></tr>\n",
       "<tr><td>...</td><td>...</td><td>...</td><td>...</td><td>...</td><td>...</td><td>...</td><td>...</td><td>...</td><td>...</td><td>...</td><td>...</td><td>...</td><td>...</td><td>...</td><td>...</td><td>...</td><td>...</td><td>...</td><td>...</td><td>...</td><td>...</td><td>...</td><td>...</td><td>...</td><td>...</td><td>...</td><td>...</td><td>...</td><td>...</td><td>...</td><td>...</td><td>...</td><td>...</td><td>...</td><td>...</td><td>...</td><td>...</td><td>...</td><td>...</td><td>...</td><td>...</td><td>...</td><td>...</td><td>...</td><td>...</td><td>...</td></tr>\n",
       "<tr><td>217.2852</td><td>35.77455</td><td>21.110000610351562</td><td>0.5</td><td>1.25</td><td>14/0</td><td>1.399999976158142</td><td>6.460000038146973</td><td>0.0</td><td>1.3480000495910645</td><td>1.1990000009536743</td><td>1.159999966621399</td><td>0.9300000071525574</td><td>1.6519999504089355</td><td>0.9829999804496765</td><td>0.0</td><td>0.5509999990463257</td><td>30.899999618530273</td><td>0.10000000149011612</td><td>38.5</td><td>1500K</td><td>45.232</td><td>44.928</td><td>43.58</td><td>44.778999999999996</td><td>0.32000000000000006</td><td>10.0</td><td>10.982999980449677</td><td>10.550999999046326</td><td>11.651999950408936</td><td>10000000000.0</td><td>96161223509.54547</td><td>35563131778.80487</td><td>448745338691.95544</td><td>0.0</td><td>96161223509.54547</td><td>35563131778.80487</td><td>448745338691.95544</td><td>131724355288.35034</td><td>35563131778.80487</td><td>317020983403.6051</td><td>11.119666081639231</td><td>10.550999999046326</td><td>11.501088008825953</td><td>44.69966608163923</td><td>44.130999999046324</td><td>45.08108800882595</td></tr>\n",
       "<tr><td>219.31589</td><td>35.78185</td><td>20.239999771118164</td><td>0.8899999856948853</td><td>2.3399999141693115</td><td>11/0</td><td>0.4699999988079071</td><td>20.649999618530273</td><td>0.0</td><td>2.0940001010894775</td><td>1.0169999599456787</td><td>0.38999998569488525</td><td>2.6600000858306885</td><td>2.0</td><td>1.5549999475479126</td><td>0.0</td><td>1.3359999656677246</td><td>24.68000030517578</td><td>0.0</td><td>89.30999755859375</td><td>G/K</td><td>45.58</td><td>45.674</td><td>43.58</td><td>44.597</td><td>0.0</td><td>10.0</td><td>11.554999947547913</td><td>11.335999965667725</td><td>12.0</td><td>10000000000.0</td><td>358921891296.0696</td><td>216770393345.62204</td><td>1000000000000.0</td><td>0.0</td><td>358921891296.0696</td><td>216770393345.62204</td><td>1000000000000.0</td><td>575692284641.6917</td><td>216770393345.62204</td><td>424307715358.30835</td><td>11.760190409132063</td><td>11.335999965667725</td><td>11.627680928790125</td><td>45.34019040913206</td><td>44.91599996566772</td><td>45.207680928790126</td></tr>\n",
       "<tr><td>218.24394</td><td>35.78201</td><td>19.729999542236328</td><td>0.1599999964237213</td><td>1.1100000143051147</td><td>12/0</td><td>1.840000033378601</td><td>45.310001373291016</td><td>0.0</td><td>1.7860000133514404</td><td>1.7979999780654907</td><td>1.0800000429153442</td><td>4.760000228881836</td><td>1.9270000457763672</td><td>1.0889999866485596</td><td>1.3940000534057617</td><td>1.1460000276565552</td><td>35.06999969482422</td><td>0.10000000149011612</td><td>215.91000366210938</td><td>1500K</td><td>45.507</td><td>45.366</td><td>43.58</td><td>45.378</td><td>0.32000000000000006</td><td>11.394000053405762</td><td>11.08899998664856</td><td>11.146000027656555</td><td>11.927000045776367</td><td>247742236228.5142</td><td>122743919342.3455</td><td>139958741170.05414</td><td>845278934256.0497</td><td>247742236228.5142</td><td>122743919342.3455</td><td>139958741170.05414</td><td>845278934256.0497</td><td>510444896740.9138</td><td>387700977398.56836</td><td>334834037515.13586</td><td>11.707948866240745</td><td>11.588496895869913</td><td>11.524829599720354</td><td>45.28794886624074</td><td>45.16849689586991</td><td>45.104829599720354</td></tr>\n",
       "<tr><td>219.41729</td><td>35.78503</td><td>19.979999542236328</td><td>0.8399999737739563</td><td>1.0299999713897705</td><td>11/0</td><td>1.8200000524520874</td><td>62.54999923706055</td><td>0.0</td><td>0.9369999766349792</td><td>1.809999942779541</td><td>0.8100000023841858</td><td>2.9100000858306885</td><td>1.725000023841858</td><td>0.7749999761581421</td><td>0.0</td><td>0.8119999766349792</td><td>72.80000305175781</td><td>0.009999999776482582</td><td>140.97999572753906</td><td>f/g</td><td>45.305</td><td>44.516999999999996</td><td>43.58</td><td>45.39</td><td>0.032</td><td>10.0</td><td>10.774999976158142</td><td>10.81199997663498</td><td>11.725000023841858</td><td>10000000000.0</td><td>59566211082.84066</td><td>64863439865.17402</td><td>530884473375.4338</td><td>0.0</td><td>59566211082.84066</td><td>64863439865.17402</td><td>530884473375.4338</td><td>124429650948.01468</td><td>64863439865.17402</td><td>406454822427.41907</td><td>11.094923882836259</td><td>10.81199997663498</td><td>11.609012280653722</td><td>44.674923882836254</td><td>44.39199997663498</td><td>45.18901228065372</td></tr>\n",
       "<tr><td>219.13202</td><td>35.78847</td><td>20.6200008392334</td><td>0.9700000286102295</td><td>1.4500000476837158</td><td>11/0</td><td>0.46000000834465027</td><td>37.66999816894531</td><td>0.0</td><td>1.4639999866485596</td><td>0.7730000019073486</td><td>1.559999942779541</td><td>2.549999952316284</td><td>1.8350000381469727</td><td>0.7609999775886536</td><td>0.0</td><td>1.1410000324249268</td><td>49.2599983215332</td><td>0.009999999776482582</td><td>71.43000030517578</td><td>A/F</td><td>45.415</td><td>45.044</td><td>43.58</td><td>44.353</td><td>0.032</td><td>10.0</td><td>10.760999977588654</td><td>11.141000032424927</td><td>11.835000038146973</td><td>10000000000.0</td><td>57676643362.87763</td><td>138356648227.0446</td><td>683911707353.9403</td><td>0.0</td><td>57676643362.87763</td><td>138356648227.0446</td><td>683911707353.9403</td><td>196033291589.9222</td><td>138356648227.0446</td><td>487878415764.01807</td><td>11.292329832203537</td><td>11.141000032424927</td><td>11.688311604908872</td><td>44.87232983220353</td><td>44.721000032424925</td><td>45.268311604908874</td></tr>\n",
       "<tr><td>218.30962</td><td>35.78912</td><td>19.350000381469727</td><td>0.9700000286102295</td><td>2.859999895095825</td><td>13/0</td><td>0.009999999776482582</td><td>49.91999816894531</td><td>0.0</td><td>2.3420000076293945</td><td>0.0</td><td>2.380000114440918</td><td>1.0499999523162842</td><td>3.0320000648498535</td><td>1.6970000267028809</td><td>0.0</td><td>0.0</td><td>210.38999938964844</td><td>0.019999999552965164</td><td>126.66999816894531</td><td>G/K</td><td>46.611999999999995</td><td>45.922</td><td>43.58</td><td>43.58</td><td>0.064</td><td>10.0</td><td>11.69700002670288</td><td>10.0</td><td>13.032000064849854</td><td>10000000000.0</td><td>497737115582.6278</td><td>10000000000.0</td><td>10764653743701.148</td><td>0.0</td><td>497737115582.6278</td><td>0.0</td><td>10764653743701.148</td><td>497737115582.6278</td><td>0.0</td><td>10266916628118.521</td><td>11.69700002670288</td><td>-inf</td><td>13.011440035374068</td><td>45.27700002670288</td><td>-inf</td><td>46.59144003537406</td></tr>\n",
       "<tr><td>217.05065</td><td>35.79499</td><td>21.40999984741211</td><td>0.9399999976158142</td><td>-99.98999786376953</td><td>13/0</td><td>2.319999933242798</td><td>14.670000076293945</td><td>0.0</td><td>2.0320000648498535</td><td>1.472000002861023</td><td>2.2300000190734863</td><td>2.319999933242798</td><td>2.750999927520752</td><td>1.3480000495910645</td><td>0.0</td><td>0.0</td><td>22.34000015258789</td><td>0.25</td><td>36.349998474121094</td><td>1500K</td><td>46.330999999999996</td><td>45.611999999999995</td><td>43.58</td><td>45.052</td><td>0.8</td><td>10.0</td><td>11.348000049591064</td><td>10.0</td><td>12.750999927520752</td><td>10000000000.0</td><td>222843540373.00818</td><td>10000000000.0</td><td>5636375617606.79</td><td>0.0</td><td>222843540373.00818</td><td>0.0</td><td>5636375617606.79</td><td>222843540373.00818</td><td>0.0</td><td>5413532077233.782</td><td>11.348000049591064</td><td>-inf</td><td>12.733480714482576</td><td>44.92800004959106</td><td>-inf</td><td>46.31348071448257</td></tr>\n",
       "<tr><td>217.57336</td><td>35.81175</td><td>21.309999465942383</td><td>0.18000000715255737</td><td>1.7100000381469727</td><td>9/1</td><td>1.190000057220459</td><td>9.0600004196167</td><td>0.0</td><td>1.684999942779541</td><td>1.3860000371932983</td><td>1.0800000429153442</td><td>0.9100000262260437</td><td>1.8639999628067017</td><td>0.3319999873638153</td><td>1.0119999647140503</td><td>0.9150000214576721</td><td>27.84000015258789</td><td>0.1599999964237213</td><td>51.61000061035156</td><td>1000K</td><td>45.443999999999996</td><td>45.265</td><td>43.58</td><td>44.966</td><td>0.512</td><td>11.01199996471405</td><td>10.331999987363815</td><td>10.915000021457672</td><td>11.863999962806702</td><td>102801621460.12816</td><td>21478304116.374947</td><td>82224269057.25323</td><td>731139020868.1321</td><td>102801621460.12816</td><td>21478304116.374947</td><td>82224269057.25323</td><td>731139020868.1321</td><td>206504194633.75635</td><td>185025890517.3814</td><td>524634826234.37573</td><td>11.31492887772507</td><td>11.267232503117102</td><td>11.719857116485741</td><td>44.894928877725064</td><td>44.8472325031171</td><td>45.29985711648574</td></tr>\n",
       "<tr><td>216.59987</td><td>35.8222</td><td>19.149999618530273</td><td>0.6299999952316284</td><td>-99.98999786376953</td><td>11/0</td><td>1.3899999856948853</td><td>67.41999816894531</td><td>0.0</td><td>1.9919999837875366</td><td>2.1570000648498535</td><td>0.8299999833106995</td><td>6.860000133514404</td><td>1.7239999771118164</td><td>1.2339999675750732</td><td>0.0</td><td>0.9049999713897705</td><td>27.489999771118164</td><td>0.0</td><td>254.3000030517578</td><td>1000K</td><td>45.303999999999995</td><td>45.571999999999996</td><td>43.58</td><td>45.736999999999995</td><td>0.0</td><td>10.0</td><td>11.233999967575073</td><td>10.90499997138977</td><td>11.723999977111816</td><td>10000000000.0</td><td>171395717954.24014</td><td>80352606925.13365</td><td>529663415977.3409</td><td>0.0</td><td>171395717954.24014</td><td>80352606925.13365</td><td>529663415977.3409</td><td>251748324879.37378</td><td>80352606925.13365</td><td>277915091097.9671</td><td>11.400966589461744</td><td>10.90499997138977</td><td>11.443912130090165</td><td>44.980966589461744</td><td>44.48499997138977</td><td>45.02391213009017</td></tr>\n",
       "<tr><td>217.45021</td><td>35.82786</td><td>20.110000610351562</td><td>0.9800000190734863</td><td>-99.98999786376953</td><td>11/0</td><td>1.190000057220459</td><td>56.93000030517578</td><td>0.0</td><td>0.5270000100135803</td><td>1.7400000095367432</td><td>1.2699999809265137</td><td>2.4700000286102295</td><td>2.003999948501587</td><td>0.0</td><td>0.0</td><td>1.2059999704360962</td><td>78.16999816894531</td><td>0.05999999865889549</td><td>146.22000122070312</td><td>b/a</td><td>45.583999999999996</td><td>44.107</td><td>43.58</td><td>45.32</td><td>0.192</td><td>10.0</td><td>10.0</td><td>11.205999970436096</td><td>12.003999948501587</td><td>10000000000.0</td><td>10000000000.0</td><td>160694114362.29196</td><td>1009252766400.0109</td><td>0.0</td><td>0.0</td><td>160694114362.29196</td><td>1009252766400.0109</td><td>160694114362.29196</td><td>160694114362.29196</td><td>848558652037.7189</td><td>11.205999970436096</td><td>11.205999970436096</td><td>11.928681865953633</td><td>44.785999970436094</td><td>44.785999970436094</td><td>45.50868186595363</td></tr>\n",
       "</table>"
      ],
      "text/plain": [
       "<Table length=733>\n",
       "    RA      Dec           Imag        ...     LSFRerg10        LAGNmGalerg10   \n",
       " float64  float64       float64       ...      float64            float64      \n",
       "--------- -------- ------------------ ... ------------------ ------------------\n",
       "217.78476 32.37835 18.979999542236328 ... 44.376000003814696 46.152657941955816\n",
       "216.34027 32.37844   20.6200008392334 ...               -inf   45.5549692386221\n",
       "217.72965 32.42403 21.670000076293945 ...   44.4429999756813 45.084741511582976\n",
       "217.10787 32.42816  21.34000015258789 ...               -inf  45.26168468721539\n",
       "218.17979  32.4394 19.360000610351562 ...  45.12700005054474  45.37513771110228\n",
       "217.51987 32.44044 22.489999771118164 ...               -inf  45.13134710360973\n",
       "217.03198 32.44785 20.540000915527344 ...  44.95100005149841  45.43602329471604\n",
       "216.24576  32.4713 21.510000228881836 ... 43.313999997377394  45.38823981032239\n",
       "218.12346 32.47383 19.389999389648438 ...               -inf  46.01677050832802\n",
       "216.49839 32.47729 21.110000610351562 ... 45.121181432077904 45.364982669463174\n",
       "      ...      ...                ... ...                ...                ...\n",
       " 217.2852 35.77455 21.110000610351562 ... 44.130999999046324  45.08108800882595\n",
       "219.31589 35.78185 20.239999771118164 ...  44.91599996566772 45.207680928790126\n",
       "218.24394 35.78201 19.729999542236328 ...  45.16849689586991 45.104829599720354\n",
       "219.41729 35.78503 19.979999542236328 ...  44.39199997663498  45.18901228065372\n",
       "219.13202 35.78847   20.6200008392334 ... 44.721000032424925 45.268311604908874\n",
       "218.30962 35.78912 19.350000381469727 ...               -inf  46.59144003537406\n",
       "217.05065 35.79499  21.40999984741211 ...               -inf  46.31348071448257\n",
       "217.57336 35.81175 21.309999465942383 ...   44.8472325031171  45.29985711648574\n",
       "216.59987  35.8222 19.149999618530273 ...  44.48499997138977  45.02391213009017\n",
       "217.45021 35.82786 20.110000610351562 ... 44.785999970436094  45.50868186595363"
      ]
     },
     "execution_count": 28,
     "metadata": {},
     "output_type": "execute_result"
    }
   ],
   "source": [
    "T1LMatched1045"
   ]
  },
  {
   "cell_type": "markdown",
   "metadata": {},
   "source": [
    "# Mean Contributions"
   ]
  },
  {
   "cell_type": "code",
   "execution_count": 29,
   "metadata": {},
   "outputs": [],
   "source": [
    "#EllFracT1 = MaskedColumn(name = \"EllFracT1\", data = T1LMatched1045['LELLp']/(T1LMatched1045['LELLp']+T1LMatched1045['LIrrp']+T1LMatched1045['LSbcp'])  , dtype=np.float64) \n",
    "#T1LMatched1045.add_column(EllFracT1)\n",
    "#T1LMatched1045.replace_column('EllFracT1',EllFracT1)\n",
    "\n",
    "#SbcFracT1 = MaskedColumn(name = \"SbcFracT1\", data = T1LMatched1045['LSbcp']/(T1LMatched1045['LELLp']+T1LMatched1045['LIrrp']+T1LMatched1045['LSbcp'])  , dtype=np.float64) \n",
    "#T1LMatched1045.add_column(SbcFracT1)\n",
    "#T1LMatched1045.replace_column('SbcFracT1',SbcFracT1)\n",
    "\n",
    "#IrrFracT1 = MaskedColumn(name = \"IrrFracT1\", data = T1LMatched1045['LIrrp']/(T1LMatched1045['LELLp']+T1LMatched1045['LIrrp']+T1LMatched1045['LSbcp'])  , dtype=np.float64) \n",
    "#T1LMatched1045.add_column(IrrFracT1)\n",
    "#T1LMatched1045.replace_column('IrrFracT1',IrrFracT1)"
   ]
  },
  {
   "cell_type": "code",
   "execution_count": 30,
   "metadata": {},
   "outputs": [],
   "source": [
    "EllFracT1 = MaskedColumn(name = \"EllFracT1\", data = T1LMatched1045['LEllUNLOG10c']/(T1LMatched1045['LEllUNLOG10c']+T1LMatched1045['LIrrUNLOG10c']+T1LMatched1045['LSbcUNLOG10c'])  , dtype=np.float64) \n",
    "T1LMatched1045.add_column(EllFracT1)\n",
    "#T1LMatched1045.replace_column('EllFracT1',EllFracT1)\n",
    "\n",
    "SbcFracT1 = MaskedColumn(name = \"SbcFracT1\", data = T1LMatched1045['LSbcUNLOG10c']/(T1LMatched1045['LEllUNLOG10c']+T1LMatched1045['LIrrUNLOG10c']+T1LMatched1045['LSbcUNLOG10c'])  , dtype=np.float64) \n",
    "T1LMatched1045.add_column(SbcFracT1)\n",
    "#T1LMatched1045.replace_column('SbcFracT1',SbcFracT1)\n",
    "\n",
    "IrrFracT1 = MaskedColumn(name = \"IrrFracT1\", data = T1LMatched1045['LIrrUNLOG10c']/(T1LMatched1045['LEllUNLOG10c']+T1LMatched1045['LIrrUNLOG10c']+T1LMatched1045['LSbcUNLOG10c'])  , dtype=np.float64) \n",
    "T1LMatched1045.add_column(IrrFracT1)\n",
    "#T1LMatched1045.replace_column('IrrFracT1',IrrFracT1)"
   ]
  },
  {
   "cell_type": "code",
   "execution_count": null,
   "metadata": {},
   "outputs": [],
   "source": []
  },
  {
   "cell_type": "code",
   "execution_count": 31,
   "metadata": {},
   "outputs": [],
   "source": [
    "EllFracT2 = MaskedColumn(name = \"EllFracT2\", data = T2LMatched1045['LEllUNLOG10c']/(T2LMatched1045['LEllUNLOG10c']+T2LMatched1045['LIrrUNLOG10c']+T2LMatched1045['LSbcUNLOG10c'])  , dtype=np.float64) \n",
    "T2LMatched1045.add_column(EllFracT2)\n",
    "#T2LMatched1045.replace_column('EllFracT2',EllFracT2)\n",
    "\n",
    "SbcFracT2 = MaskedColumn(name = \"SbcFracT2\", data = T2LMatched1045['LSbcUNLOG10c']/(T2LMatched1045['LEllUNLOG10c']+T2LMatched1045['LIrrUNLOG10c']+T2LMatched1045['LSbcUNLOG10c'])  , dtype=np.float64) \n",
    "T2LMatched1045.add_column(SbcFracT2)\n",
    "#T2LMatched1045.replace_column('SbcFracT2',SbcFracT2)\n",
    "\n",
    "IrrFracT2 = MaskedColumn(name = \"IrrFracT2\", data = T2LMatched1045['LIrrUNLOG10c']/(T2LMatched1045['LEllUNLOG10c']+T2LMatched1045['LIrrUNLOG10c']+T2LMatched1045['LSbcUNLOG10c'])  , dtype=np.float64) \n",
    "T2LMatched1045.add_column(IrrFracT2)\n",
    "#T2LMatched1045.replace_column('IrrFracT2',IrrFracT2)"
   ]
  },
  {
   "cell_type": "code",
   "execution_count": 32,
   "metadata": {},
   "outputs": [],
   "source": [
    "#EllFracT2 = MaskedColumn(name = \"EllFracT2\", data = T2LMatched1045['LELLp']/(T2LMatched1045['LELLp']+T2LMatched1045['LIrrp']+T2LMatched1045['LSbcp'])  , dtype=np.float64) \n",
    "#T2LMatched1045.add_column(EllFracT2)\n",
    "#T2LMatched1045.replace_column('EllFracT2',EllFracT2)\n",
    "\n",
    "#SbcFracT2 = MaskedColumn(name = \"SbcFracT2\", data = T2LMatched1045['LSbcp']/(T2LMatched1045['LELLp']+T2LMatched1045['LIrrp']+T2LMatched1045['LSbcp'])  , dtype=np.float64) \n",
    "#T2LMatched1045.add_column(SbcFracT2)\n",
    "#T2LMatched1045.replace_column('SbcFracT2',SbcFracT2)\n",
    "\n",
    "#IrrFracT2 = MaskedColumn(name = \"IrrFracT2\", data = T2LMatched1045['LIrrp']/(T2LMatched1045['LELLp']+T2LMatched1045['LIrrp']+T2LMatched1045['LSbcp'])  , dtype=np.float64) \n",
    "#T2LMatched1045.add_column(IrrFracT2)\n",
    "#T2LMatched1045.replace_column('IrrFracT2',IrrFracT2)"
   ]
  },
  {
   "cell_type": "code",
   "execution_count": 33,
   "metadata": {},
   "outputs": [],
   "source": [
    "EllFracT1 = T1LMatched1045[np.isfinite(T1LMatched1045['EllFracT1'])]\n",
    "SbcFracT1 = T1LMatched1045[np.isfinite(T1LMatched1045['SbcFracT1'])]\n",
    "IrrFracT1 = T1LMatched1045[np.isfinite(T1LMatched1045['IrrFracT1'])]\n",
    "\n",
    "EllFracT2 = T2LMatched1045[np.isfinite(T2LMatched1045['EllFracT2'])]\n",
    "SbcFracT2 = T2LMatched1045[np.isfinite(T2LMatched1045['SbcFracT2'])]\n",
    "IrrFracT2 = T2LMatched1045[np.isfinite(T2LMatched1045['IrrFracT2'])]"
   ]
  },
  {
   "cell_type": "code",
   "execution_count": 34,
   "metadata": {},
   "outputs": [
    {
     "data": {
      "text/html": [
       "<i>Table length=731</i>\n",
       "<table id=\"table140448509518456\" class=\"table-striped table-bordered table-condensed\">\n",
       "<thead><tr><th>RA</th><th>Dec</th><th>Imag</th><th>S</th><th>zspec</th><th>N</th><th>zG</th><th>chi2G</th><th>LEll</th><th>LSbc</th><th>LIrr</th><th>zGA</th><th>chi2GA</th><th>LAGNp</th><th>LELLp</th><th>LSbcp</th><th>LIrrp</th><th>F</th><th>EBV</th><th>Chi2S</th><th>SType</th><th>LAGNerg</th><th>LSbcerg</th><th>LEllerg</th><th>LIrrerg</th><th>AV</th><th>LSbc10</th><th>LEll10</th><th>LIrr10</th><th>LAGN10</th><th>LSbcUNLOG10</th><th>LEllUNLOG10</th><th>LIrrUNLOG10</th><th>LAGNUNLOG10</th><th>LSbcUNLOG10c</th><th>LEllUNLOG10c</th><th>LIrrUNLOG10c</th><th>LAGNUNLOG10c</th><th>LGalUNLOG10</th><th>LSFRUNLOG10</th><th>LAGNmGalUNLOG10</th><th>LGalLOG10</th><th>LSFRLOG10</th><th>LAGNmGalLOG10</th><th>LGalerg10</th><th>LSFRerg10</th><th>LAGNmGalerg10</th><th>EllFracT1</th><th>SbcFracT1</th><th>IrrFracT1</th></tr></thead>\n",
       "<thead><tr><th>float64</th><th>float64</th><th>float64</th><th>float64</th><th>float64</th><th>str4</th><th>float64</th><th>float64</th><th>float64</th><th>float64</th><th>float64</th><th>float64</th><th>float64</th><th>float64</th><th>float64</th><th>float64</th><th>float64</th><th>float64</th><th>float64</th><th>float64</th><th>str5</th><th>float64</th><th>float64</th><th>float64</th><th>float64</th><th>float64</th><th>float64</th><th>float64</th><th>float64</th><th>float64</th><th>float64</th><th>float64</th><th>float64</th><th>float64</th><th>float64</th><th>float64</th><th>float64</th><th>float64</th><th>float64</th><th>float64</th><th>float64</th><th>float64</th><th>float64</th><th>float64</th><th>float64</th><th>float64</th><th>float64</th><th>float64</th><th>float64</th><th>float64</th></tr></thead>\n",
       "<tr><td>217.78476</td><td>32.37835</td><td>18.979999542236328</td><td>0.9900000095367432</td><td>-99.98999786376953</td><td>12/0</td><td>0.009999999776482582</td><td>113.69999694824219</td><td>0.0</td><td>-2.7760000228881836</td><td>-2.700000047683716</td><td>1.649999976158142</td><td>26.690000534057617</td><td>2.621999979019165</td><td>1.5880000591278076</td><td>0.0</td><td>0.7960000038146973</td><td>14.039999961853027</td><td>0.05000000074505806</td><td>169.69000244140625</td><td>f/g</td><td>46.202</td><td>40.804</td><td>43.58</td><td>40.879999999999995</td><td>0.16000000000000003</td><td>10.0</td><td>11.588000059127808</td><td>10.796000003814697</td><td>12.621999979019165</td><td>10000000000.0</td><td>387257697645.5132</td><td>62517269826.69933</td><td>4187935448859.356</td><td>0.0</td><td>387257697645.5132</td><td>62517269826.69933</td><td>4187935448859.356</td><td>449774967472.2125</td><td>62517269826.69933</td><td>3738160481387.1436</td><td>11.652995280821244</td><td>10.796000003814697</td><td>12.57265794195582</td><td>45.23299528082124</td><td>44.376000003814696</td><td>46.152657941955816</td><td>0.8610032252838489</td><td>0.0</td><td>0.13899677471615116</td></tr>\n",
       "<tr><td>216.34027</td><td>32.37844</td><td>20.6200008392334</td><td>0.9800000190734863</td><td>-99.98999786376953</td><td>12/0</td><td>2.069999933242798</td><td>38.5</td><td>0.0</td><td>0.30000001192092896</td><td>2.0910000801086426</td><td>1.7999999523162842</td><td>3.640000104904175</td><td>2.063999891281128</td><td>1.3320000171661377</td><td>0.0</td><td>0.0</td><td>39.349998474121094</td><td>0.019999999552965164</td><td>74.26000213623047</td><td>a/f</td><td>45.644</td><td>43.879999999999995</td><td>43.58</td><td>45.671</td><td>0.064</td><td>10.0</td><td>11.332000017166138</td><td>10.0</td><td>12.063999891281128</td><td>10000000000.0</td><td>214783055902.67413</td><td>10000000000.0</td><td>1158777066073.2654</td><td>0.0</td><td>214783055902.67413</td><td>0.0</td><td>1158777066073.2654</td><td>214783055902.67413</td><td>0.0</td><td>943994010170.5913</td><td>11.332000017166138</td><td>-inf</td><td>11.974969238622101</td><td>44.912000017166136</td><td>-inf</td><td>45.5549692386221</td><td>1.0</td><td>0.0</td><td>0.0</td></tr>\n",
       "<tr><td>217.72965</td><td>32.42403</td><td>21.670000076293945</td><td>0.9700000286102295</td><td>-99.98999786376953</td><td>14/0</td><td>1.5299999713897705</td><td>21.34000015258789</td><td>0.0</td><td>0.0</td><td>1.4600000381469727</td><td>1.5299999713897705</td><td>1.6299999952316284</td><td>1.593999981880188</td><td>0.0</td><td>0.8629999756813049</td><td>0.0</td><td>55.38999938964844</td><td>0.03999999910593033</td><td>22.280000686645508</td><td>b/a</td><td>45.174</td><td>43.58</td><td>43.58</td><td>45.04</td><td>0.128</td><td>10.862999975681305</td><td>10.0</td><td>10.0</td><td>11.593999981880188</td><td>72945746940.79659</td><td>10000000000.0</td><td>10000000000.0</td><td>392644919017.50757</td><td>72945746940.79659</td><td>0.0</td><td>0.0</td><td>392644919017.50757</td><td>72945746940.79659</td><td>72945746940.79659</td><td>319699172076.711</td><td>10.862999975681305</td><td>10.862999975681305</td><td>11.504741511582976</td><td>44.4429999756813</td><td>44.4429999756813</td><td>45.084741511582976</td><td>0.0</td><td>1.0</td><td>0.0</td></tr>\n",
       "<tr><td>217.10787</td><td>32.42816</td><td>21.34000015258789</td><td>0.7300000190734863</td><td>-99.98999786376953</td><td>14/0</td><td>0.03999999910593033</td><td>9.899999618530273</td><td>0.0</td><td>-2.760999917984009</td><td>-2.259999990463257</td><td>1.7100000381469727</td><td>0.46000000834465027</td><td>1.7269999980926514</td><td>0.7229999899864197</td><td>0.0</td><td>0.0</td><td>93.94999694824219</td><td>0.009999999776482582</td><td>10.779999732971191</td><td>A/F</td><td>45.306999999999995</td><td>40.818999999999996</td><td>43.58</td><td>41.32</td><td>0.032</td><td>10.0</td><td>10.72299998998642</td><td>10.0</td><td>11.726999998092651</td><td>10000000000.0</td><td>52844523959.075455</td><td>10000000000.0</td><td>533334893145.3034</td><td>0.0</td><td>52844523959.075455</td><td>0.0</td><td>533334893145.3034</td><td>52844523959.075455</td><td>0.0</td><td>480490369186.22797</td><td>10.72299998998642</td><td>-inf</td><td>11.681684687215398</td><td>44.30299998998642</td><td>-inf</td><td>45.26168468721539</td><td>1.0</td><td>0.0</td><td>0.0</td></tr>\n",
       "<tr><td>218.17979</td><td>32.4394</td><td>19.360000610351562</td><td>0.7300000190734863</td><td>-99.98999786376953</td><td>12/1</td><td>0.009999999776482582</td><td>86.88999938964844</td><td>0.0</td><td>-2.7139999866485596</td><td>-2.940999984741211</td><td>1.1299999952316284</td><td>6.460000038146973</td><td>2.009999990463257</td><td>0.671999990940094</td><td>0.0</td><td>1.5470000505447388</td><td>57.04999923706055</td><td>0.019999999552965164</td><td>165.6199951171875</td><td>a/f</td><td>45.589999999999996</td><td>40.866</td><td>43.58</td><td>40.638999999999996</td><td>0.064</td><td>10.0</td><td>10.671999990940094</td><td>11.547000050544739</td><td>12.009999990463257</td><td>10000000000.0</td><td>46989409880.26585</td><td>352370912052.6667</td><td>1023292969810.0972</td><td>0.0</td><td>46989409880.26585</td><td>352370912052.6667</td><td>1023292969810.0972</td><td>399360321932.93256</td><td>352370912052.6667</td><td>623932647877.1646</td><td>11.60136491376056</td><td>11.547000050544739</td><td>11.795137711102285</td><td>45.18136491376056</td><td>45.12700005054474</td><td>45.37513771110228</td><td>0.11766168870466084</td><td>0.0</td><td>0.8823383112953391</td></tr>\n",
       "<tr><td>217.51987</td><td>32.44044</td><td>22.489999771118164</td><td>0.009999999776482582</td><td>-99.98999786376953</td><td>14/0</td><td>1.7599999904632568</td><td>2.559999942779541</td><td>0.0</td><td>1.5369999408721924</td><td>0.6650000214576721</td><td>1.4500000476837158</td><td>0.6100000143051147</td><td>1.6480000019073486</td><td>0.9480000138282776</td><td>0.0</td><td>0.0</td><td>16.799999237060547</td><td>0.25</td><td>8.3100004196167</td><td>1500K</td><td>45.228</td><td>45.117</td><td>43.58</td><td>44.245</td><td>0.8</td><td>10.0</td><td>10.948000013828278</td><td>10.0</td><td>11.648000001907349</td><td>10000000000.0</td><td>88715604028.57059</td><td>10000000000.0</td><td>444631269421.85474</td><td>0.0</td><td>88715604028.57059</td><td>0.0</td><td>444631269421.85474</td><td>88715604028.57059</td><td>0.0</td><td>355915665393.2842</td><td>10.948000013828278</td><td>-inf</td><td>11.55134710360973</td><td>44.528000013828276</td><td>-inf</td><td>45.13134710360973</td><td>1.0</td><td>0.0</td><td>0.0</td></tr>\n",
       "<tr><td>217.03198</td><td>32.44785</td><td>20.540000915527344</td><td>0.9200000166893005</td><td>-99.98999786376953</td><td>13/0</td><td>0.009999999776482582</td><td>31.149999618530273</td><td>0.0</td><td>-3.4230000972747803</td><td>-3.131999969482422</td><td>1.600000023841858</td><td>2.0199999809265137</td><td>1.9789999723434448</td><td>0.0</td><td>0.0</td><td>1.371000051498413</td><td>58.540000915527344</td><td>0.029999999329447746</td><td>57.66999816894531</td><td>a/f</td><td>45.559</td><td>40.157</td><td>43.58</td><td>40.448</td><td>0.096</td><td>10.0</td><td>10.0</td><td>11.371000051498413</td><td>11.978999972343445</td><td>10000000000.0</td><td>10000000000.0</td><td>234963309946.6558</td><td>952796103348.0966</td><td>0.0</td><td>0.0</td><td>234963309946.6558</td><td>952796103348.0966</td><td>234963309946.6558</td><td>234963309946.6558</td><td>717832793401.4408</td><td>11.371000051498413</td><td>11.371000051498413</td><td>11.85602329471604</td><td>44.95100005149841</td><td>44.95100005149841</td><td>45.43602329471604</td><td>0.0</td><td>0.0</td><td>1.0</td></tr>\n",
       "<tr><td>216.24576</td><td>32.4713</td><td>21.510000228881836</td><td>0.7799999713897705</td><td>-99.98999786376953</td><td>13/0</td><td>2.809999942779541</td><td>16.270000457763672</td><td>0.0</td><td>2.006999969482422</td><td>1.9600000381469727</td><td>1.4700000286102295</td><td>2.809999942779541</td><td>1.8949999809265137</td><td>1.1360000371932983</td><td>0.0</td><td>-0.26600000262260437</td><td>20.190000534057617</td><td>0.25</td><td>58.9900016784668</td><td>1500K</td><td>45.475</td><td>45.586999999999996</td><td>43.58</td><td>45.54</td><td>0.8</td><td>10.0</td><td>11.136000037193298</td><td>9.733999997377396</td><td>11.894999980926514</td><td>10000000000.0</td><td>136772894272.91551</td><td>5420008871.286053</td><td>785235600123.8385</td><td>0.0</td><td>136772894272.91551</td><td>5420008871.286053</td><td>785235600123.8385</td><td>142192903144.20157</td><td>5420008871.286053</td><td>643042696979.637</td><td>11.152877921272612</td><td>9.733999997377396</td><td>11.808239810322391</td><td>44.73287792127261</td><td>43.313999997377394</td><td>45.38823981032239</td><td>0.9618827047522233</td><td>0.0</td><td>0.03811729524777674</td></tr>\n",
       "<tr><td>218.12346</td><td>32.47383</td><td>19.389999389648438</td><td>0.9800000190734863</td><td>-99.98999786376953</td><td>14/0</td><td>0.009999999776482582</td><td>124.11000061035156</td><td>0.0</td><td>-3.0869998931884766</td><td>-2.9040000438690186</td><td>1.6200000047683716</td><td>15.329999923706055</td><td>2.4809999465942383</td><td>1.4670000076293945</td><td>0.0</td><td>0.0</td><td>36.4900016784668</td><td>0.03999999910593033</td><td>183.25</td><td>f/g</td><td>46.061</td><td>40.492999999999995</td><td>43.58</td><td>40.676</td><td>0.128</td><td>10.0</td><td>11.467000007629395</td><td>10.0</td><td>12.480999946594238</td><td>10000000000.0</td><td>293089329673.82904</td><td>10000000000.0</td><td>3026913055877.8164</td><td>0.0</td><td>293089329673.82904</td><td>0.0</td><td>3026913055877.8164</td><td>293089329673.82904</td><td>0.0</td><td>2733823726203.9873</td><td>11.467000007629395</td><td>-inf</td><td>12.43677050832802</td><td>45.04700000762939</td><td>-inf</td><td>46.01677050832802</td><td>1.0</td><td>0.0</td><td>0.0</td></tr>\n",
       "<tr><td>216.49839</td><td>32.47729</td><td>21.110000610351562</td><td>0.7099999785423279</td><td>1.75</td><td>12/0</td><td>1.8899999856948853</td><td>13.279999732971191</td><td>0.0</td><td>1.5049999952316284</td><td>1.6410000324249268</td><td>1.7100000381469727</td><td>1.590000033378601</td><td>1.9809999465942383</td><td>0.0</td><td>1.5410000085830688</td><td>-1.8380000591278076</td><td>30.329999923706055</td><td>0.10000000149011612</td><td>82.73999786376953</td><td>f/g</td><td>45.561</td><td>45.085</td><td>43.58</td><td>45.221</td><td>0.32000000000000006</td><td>11.541000008583069</td><td>10.0</td><td>8.161999940872192</td><td>11.980999946594238</td><td>347536168311.6487</td><td>10000000000.0</td><td>145211141.98873934</td><td>957193953587.442</td><td>347536168311.6487</td><td>0.0</td><td>145211141.98873934</td><td>957193953587.442</td><td>347681379453.63745</td><td>347681379453.63745</td><td>609512574133.8046</td><td>11.541181432077906</td><td>11.541181432077906</td><td>11.784982669463174</td><td>45.121181432077904</td><td>45.121181432077904</td><td>45.364982669463174</td><td>0.0</td><td>0.9995823442077428</td><td>0.0004176557922570683</td></tr>\n",
       "<tr><td>...</td><td>...</td><td>...</td><td>...</td><td>...</td><td>...</td><td>...</td><td>...</td><td>...</td><td>...</td><td>...</td><td>...</td><td>...</td><td>...</td><td>...</td><td>...</td><td>...</td><td>...</td><td>...</td><td>...</td><td>...</td><td>...</td><td>...</td><td>...</td><td>...</td><td>...</td><td>...</td><td>...</td><td>...</td><td>...</td><td>...</td><td>...</td><td>...</td><td>...</td><td>...</td><td>...</td><td>...</td><td>...</td><td>...</td><td>...</td><td>...</td><td>...</td><td>...</td><td>...</td><td>...</td><td>...</td><td>...</td><td>...</td><td>...</td><td>...</td></tr>\n",
       "<tr><td>217.2852</td><td>35.77455</td><td>21.110000610351562</td><td>0.5</td><td>1.25</td><td>14/0</td><td>1.399999976158142</td><td>6.460000038146973</td><td>0.0</td><td>1.3480000495910645</td><td>1.1990000009536743</td><td>1.159999966621399</td><td>0.9300000071525574</td><td>1.6519999504089355</td><td>0.9829999804496765</td><td>0.0</td><td>0.5509999990463257</td><td>30.899999618530273</td><td>0.10000000149011612</td><td>38.5</td><td>1500K</td><td>45.232</td><td>44.928</td><td>43.58</td><td>44.778999999999996</td><td>0.32000000000000006</td><td>10.0</td><td>10.982999980449677</td><td>10.550999999046326</td><td>11.651999950408936</td><td>10000000000.0</td><td>96161223509.54547</td><td>35563131778.80487</td><td>448745338691.95544</td><td>0.0</td><td>96161223509.54547</td><td>35563131778.80487</td><td>448745338691.95544</td><td>131724355288.35034</td><td>35563131778.80487</td><td>317020983403.6051</td><td>11.119666081639231</td><td>10.550999999046326</td><td>11.501088008825953</td><td>44.69966608163923</td><td>44.130999999046324</td><td>45.08108800882595</td><td>0.7300185550276134</td><td>0.0</td><td>0.2699814449723867</td></tr>\n",
       "<tr><td>219.31589</td><td>35.78185</td><td>20.239999771118164</td><td>0.8899999856948853</td><td>2.3399999141693115</td><td>11/0</td><td>0.4699999988079071</td><td>20.649999618530273</td><td>0.0</td><td>2.0940001010894775</td><td>1.0169999599456787</td><td>0.38999998569488525</td><td>2.6600000858306885</td><td>2.0</td><td>1.5549999475479126</td><td>0.0</td><td>1.3359999656677246</td><td>24.68000030517578</td><td>0.0</td><td>89.30999755859375</td><td>G/K</td><td>45.58</td><td>45.674</td><td>43.58</td><td>44.597</td><td>0.0</td><td>10.0</td><td>11.554999947547913</td><td>11.335999965667725</td><td>12.0</td><td>10000000000.0</td><td>358921891296.0696</td><td>216770393345.62204</td><td>1000000000000.0</td><td>0.0</td><td>358921891296.0696</td><td>216770393345.62204</td><td>1000000000000.0</td><td>575692284641.6917</td><td>216770393345.62204</td><td>424307715358.30835</td><td>11.760190409132063</td><td>11.335999965667725</td><td>11.627680928790125</td><td>45.34019040913206</td><td>44.91599996566772</td><td>45.207680928790126</td><td>0.6234613540451753</td><td>0.0</td><td>0.3765386459548246</td></tr>\n",
       "<tr><td>218.24394</td><td>35.78201</td><td>19.729999542236328</td><td>0.1599999964237213</td><td>1.1100000143051147</td><td>12/0</td><td>1.840000033378601</td><td>45.310001373291016</td><td>0.0</td><td>1.7860000133514404</td><td>1.7979999780654907</td><td>1.0800000429153442</td><td>4.760000228881836</td><td>1.9270000457763672</td><td>1.0889999866485596</td><td>1.3940000534057617</td><td>1.1460000276565552</td><td>35.06999969482422</td><td>0.10000000149011612</td><td>215.91000366210938</td><td>1500K</td><td>45.507</td><td>45.366</td><td>43.58</td><td>45.378</td><td>0.32000000000000006</td><td>11.394000053405762</td><td>11.08899998664856</td><td>11.146000027656555</td><td>11.927000045776367</td><td>247742236228.5142</td><td>122743919342.3455</td><td>139958741170.05414</td><td>845278934256.0497</td><td>247742236228.5142</td><td>122743919342.3455</td><td>139958741170.05414</td><td>845278934256.0497</td><td>510444896740.9138</td><td>387700977398.56836</td><td>334834037515.13586</td><td>11.707948866240745</td><td>11.588496895869913</td><td>11.524829599720354</td><td>45.28794886624074</td><td>45.16849689586991</td><td>45.104829599720354</td><td>0.24046458320190936</td><td>0.48534570099593055</td><td>0.2741897158021601</td></tr>\n",
       "<tr><td>219.41729</td><td>35.78503</td><td>19.979999542236328</td><td>0.8399999737739563</td><td>1.0299999713897705</td><td>11/0</td><td>1.8200000524520874</td><td>62.54999923706055</td><td>0.0</td><td>0.9369999766349792</td><td>1.809999942779541</td><td>0.8100000023841858</td><td>2.9100000858306885</td><td>1.725000023841858</td><td>0.7749999761581421</td><td>0.0</td><td>0.8119999766349792</td><td>72.80000305175781</td><td>0.009999999776482582</td><td>140.97999572753906</td><td>f/g</td><td>45.305</td><td>44.516999999999996</td><td>43.58</td><td>45.39</td><td>0.032</td><td>10.0</td><td>10.774999976158142</td><td>10.81199997663498</td><td>11.725000023841858</td><td>10000000000.0</td><td>59566211082.84066</td><td>64863439865.17402</td><td>530884473375.4338</td><td>0.0</td><td>59566211082.84066</td><td>64863439865.17402</td><td>530884473375.4338</td><td>124429650948.01468</td><td>64863439865.17402</td><td>406454822427.41907</td><td>11.094923882836259</td><td>10.81199997663498</td><td>11.609012280653722</td><td>44.674923882836254</td><td>44.39199997663498</td><td>45.18901228065372</td><td>0.4787139610937811</td><td>0.0</td><td>0.5212860389062189</td></tr>\n",
       "<tr><td>219.13202</td><td>35.78847</td><td>20.6200008392334</td><td>0.9700000286102295</td><td>1.4500000476837158</td><td>11/0</td><td>0.46000000834465027</td><td>37.66999816894531</td><td>0.0</td><td>1.4639999866485596</td><td>0.7730000019073486</td><td>1.559999942779541</td><td>2.549999952316284</td><td>1.8350000381469727</td><td>0.7609999775886536</td><td>0.0</td><td>1.1410000324249268</td><td>49.2599983215332</td><td>0.009999999776482582</td><td>71.43000030517578</td><td>A/F</td><td>45.415</td><td>45.044</td><td>43.58</td><td>44.353</td><td>0.032</td><td>10.0</td><td>10.760999977588654</td><td>11.141000032424927</td><td>11.835000038146973</td><td>10000000000.0</td><td>57676643362.87763</td><td>138356648227.0446</td><td>683911707353.9403</td><td>0.0</td><td>57676643362.87763</td><td>138356648227.0446</td><td>683911707353.9403</td><td>196033291589.9222</td><td>138356648227.0446</td><td>487878415764.01807</td><td>11.292329832203537</td><td>11.141000032424927</td><td>11.688311604908872</td><td>44.87232983220353</td><td>44.721000032424925</td><td>45.268311604908874</td><td>0.2942186140685234</td><td>0.0</td><td>0.7057813859314767</td></tr>\n",
       "<tr><td>218.30962</td><td>35.78912</td><td>19.350000381469727</td><td>0.9700000286102295</td><td>2.859999895095825</td><td>13/0</td><td>0.009999999776482582</td><td>49.91999816894531</td><td>0.0</td><td>2.3420000076293945</td><td>0.0</td><td>2.380000114440918</td><td>1.0499999523162842</td><td>3.0320000648498535</td><td>1.6970000267028809</td><td>0.0</td><td>0.0</td><td>210.38999938964844</td><td>0.019999999552965164</td><td>126.66999816894531</td><td>G/K</td><td>46.611999999999995</td><td>45.922</td><td>43.58</td><td>43.58</td><td>0.064</td><td>10.0</td><td>11.69700002670288</td><td>10.0</td><td>13.032000064849854</td><td>10000000000.0</td><td>497737115582.6278</td><td>10000000000.0</td><td>10764653743701.148</td><td>0.0</td><td>497737115582.6278</td><td>0.0</td><td>10764653743701.148</td><td>497737115582.6278</td><td>0.0</td><td>10266916628118.521</td><td>11.69700002670288</td><td>-inf</td><td>13.011440035374068</td><td>45.27700002670288</td><td>-inf</td><td>46.59144003537406</td><td>1.0</td><td>0.0</td><td>0.0</td></tr>\n",
       "<tr><td>217.05065</td><td>35.79499</td><td>21.40999984741211</td><td>0.9399999976158142</td><td>-99.98999786376953</td><td>13/0</td><td>2.319999933242798</td><td>14.670000076293945</td><td>0.0</td><td>2.0320000648498535</td><td>1.472000002861023</td><td>2.2300000190734863</td><td>2.319999933242798</td><td>2.750999927520752</td><td>1.3480000495910645</td><td>0.0</td><td>0.0</td><td>22.34000015258789</td><td>0.25</td><td>36.349998474121094</td><td>1500K</td><td>46.330999999999996</td><td>45.611999999999995</td><td>43.58</td><td>45.052</td><td>0.8</td><td>10.0</td><td>11.348000049591064</td><td>10.0</td><td>12.750999927520752</td><td>10000000000.0</td><td>222843540373.00818</td><td>10000000000.0</td><td>5636375617606.79</td><td>0.0</td><td>222843540373.00818</td><td>0.0</td><td>5636375617606.79</td><td>222843540373.00818</td><td>0.0</td><td>5413532077233.782</td><td>11.348000049591064</td><td>-inf</td><td>12.733480714482576</td><td>44.92800004959106</td><td>-inf</td><td>46.31348071448257</td><td>1.0</td><td>0.0</td><td>0.0</td></tr>\n",
       "<tr><td>217.57336</td><td>35.81175</td><td>21.309999465942383</td><td>0.18000000715255737</td><td>1.7100000381469727</td><td>9/1</td><td>1.190000057220459</td><td>9.0600004196167</td><td>0.0</td><td>1.684999942779541</td><td>1.3860000371932983</td><td>1.0800000429153442</td><td>0.9100000262260437</td><td>1.8639999628067017</td><td>0.3319999873638153</td><td>1.0119999647140503</td><td>0.9150000214576721</td><td>27.84000015258789</td><td>0.1599999964237213</td><td>51.61000061035156</td><td>1000K</td><td>45.443999999999996</td><td>45.265</td><td>43.58</td><td>44.966</td><td>0.512</td><td>11.01199996471405</td><td>10.331999987363815</td><td>10.915000021457672</td><td>11.863999962806702</td><td>102801621460.12816</td><td>21478304116.374947</td><td>82224269057.25323</td><td>731139020868.1321</td><td>102801621460.12816</td><td>21478304116.374947</td><td>82224269057.25323</td><td>731139020868.1321</td><td>206504194633.75635</td><td>185025890517.3814</td><td>524634826234.37573</td><td>11.31492887772507</td><td>11.267232503117102</td><td>11.719857116485741</td><td>44.894928877725064</td><td>44.8472325031171</td><td>45.29985711648574</td><td>0.1040090452131861</td><td>0.49781856316502937</td><td>0.39817239162178447</td></tr>\n",
       "<tr><td>216.59987</td><td>35.8222</td><td>19.149999618530273</td><td>0.6299999952316284</td><td>-99.98999786376953</td><td>11/0</td><td>1.3899999856948853</td><td>67.41999816894531</td><td>0.0</td><td>1.9919999837875366</td><td>2.1570000648498535</td><td>0.8299999833106995</td><td>6.860000133514404</td><td>1.7239999771118164</td><td>1.2339999675750732</td><td>0.0</td><td>0.9049999713897705</td><td>27.489999771118164</td><td>0.0</td><td>254.3000030517578</td><td>1000K</td><td>45.303999999999995</td><td>45.571999999999996</td><td>43.58</td><td>45.736999999999995</td><td>0.0</td><td>10.0</td><td>11.233999967575073</td><td>10.90499997138977</td><td>11.723999977111816</td><td>10000000000.0</td><td>171395717954.24014</td><td>80352606925.13365</td><td>529663415977.3409</td><td>0.0</td><td>171395717954.24014</td><td>80352606925.13365</td><td>529663415977.3409</td><td>251748324879.37378</td><td>80352606925.13365</td><td>277915091097.9671</td><td>11.400966589461744</td><td>10.90499997138977</td><td>11.443912130090165</td><td>44.980966589461744</td><td>44.48499997138977</td><td>45.02391213009017</td><td>0.6808216818775858</td><td>0.0</td><td>0.3191783181224142</td></tr>\n",
       "<tr><td>217.45021</td><td>35.82786</td><td>20.110000610351562</td><td>0.9800000190734863</td><td>-99.98999786376953</td><td>11/0</td><td>1.190000057220459</td><td>56.93000030517578</td><td>0.0</td><td>0.5270000100135803</td><td>1.7400000095367432</td><td>1.2699999809265137</td><td>2.4700000286102295</td><td>2.003999948501587</td><td>0.0</td><td>0.0</td><td>1.2059999704360962</td><td>78.16999816894531</td><td>0.05999999865889549</td><td>146.22000122070312</td><td>b/a</td><td>45.583999999999996</td><td>44.107</td><td>43.58</td><td>45.32</td><td>0.192</td><td>10.0</td><td>10.0</td><td>11.205999970436096</td><td>12.003999948501587</td><td>10000000000.0</td><td>10000000000.0</td><td>160694114362.29196</td><td>1009252766400.0109</td><td>0.0</td><td>0.0</td><td>160694114362.29196</td><td>1009252766400.0109</td><td>160694114362.29196</td><td>160694114362.29196</td><td>848558652037.7189</td><td>11.205999970436096</td><td>11.205999970436096</td><td>11.928681865953633</td><td>44.785999970436094</td><td>44.785999970436094</td><td>45.50868186595363</td><td>0.0</td><td>0.0</td><td>1.0</td></tr>\n",
       "</table>"
      ],
      "text/plain": [
       "<Table length=731>\n",
       "    RA      Dec    ...      SbcFracT1            IrrFracT1      \n",
       " float64  float64  ...       float64              float64       \n",
       "--------- -------- ... ------------------- ---------------------\n",
       "217.78476 32.37835 ...                 0.0   0.13899677471615116\n",
       "216.34027 32.37844 ...                 0.0                   0.0\n",
       "217.72965 32.42403 ...                 1.0                   0.0\n",
       "217.10787 32.42816 ...                 0.0                   0.0\n",
       "218.17979  32.4394 ...                 0.0    0.8823383112953391\n",
       "217.51987 32.44044 ...                 0.0                   0.0\n",
       "217.03198 32.44785 ...                 0.0                   1.0\n",
       "216.24576  32.4713 ...                 0.0   0.03811729524777674\n",
       "218.12346 32.47383 ...                 0.0                   0.0\n",
       "216.49839 32.47729 ...  0.9995823442077428 0.0004176557922570683\n",
       "      ...      ... ...                 ...                   ...\n",
       " 217.2852 35.77455 ...                 0.0    0.2699814449723867\n",
       "219.31589 35.78185 ...                 0.0    0.3765386459548246\n",
       "218.24394 35.78201 ... 0.48534570099593055    0.2741897158021601\n",
       "219.41729 35.78503 ...                 0.0    0.5212860389062189\n",
       "219.13202 35.78847 ...                 0.0    0.7057813859314767\n",
       "218.30962 35.78912 ...                 0.0                   0.0\n",
       "217.05065 35.79499 ...                 0.0                   0.0\n",
       "217.57336 35.81175 ... 0.49781856316502937   0.39817239162178447\n",
       "216.59987  35.8222 ...                 0.0    0.3191783181224142\n",
       "217.45021 35.82786 ...                 0.0                   1.0"
      ]
     },
     "execution_count": 34,
     "metadata": {},
     "output_type": "execute_result"
    }
   ],
   "source": [
    "SbcFracT1"
   ]
  },
  {
   "cell_type": "code",
   "execution_count": 35,
   "metadata": {},
   "outputs": [
    {
     "name": "stdout",
     "output_type": "stream",
     "text": [
      "The Elliptical mean T1 contribtuion is: 0.44346593682167407\n",
      "The Spiral mean T1 contribtuion is: 0.2121418890558662\n",
      "The Irregular mean T1 contribtuion is: 0.34439217412245976\n"
     ]
    }
   ],
   "source": [
    "print ( 'The Elliptical mean T1 contribtuion is:', np.mean(EllFracT1['EllFracT1']))\n",
    "print ( 'The Spiral mean T1 contribtuion is:', np.mean(SbcFracT1['SbcFracT1']))\n",
    "print ( 'The Irregular mean T1 contribtuion is:', np.mean(IrrFracT1['IrrFracT1']))\n"
   ]
  },
  {
   "cell_type": "code",
   "execution_count": null,
   "metadata": {},
   "outputs": [],
   "source": []
  },
  {
   "cell_type": "code",
   "execution_count": 36,
   "metadata": {},
   "outputs": [
    {
     "name": "stdout",
     "output_type": "stream",
     "text": [
      "The Elliptical mean T2 contribtuion is: 0.32883045987394144\n",
      "The Spiral mean T2 contribtuion is: 0.2737910855464736\n",
      "The Irregular mean T2 contribtuion is: 0.39737845457958487\n"
     ]
    }
   ],
   "source": [
    "print ( 'The Elliptical mean T2 contribtuion is:', np.mean(EllFracT2['EllFracT2']))\n",
    "print ( 'The Spiral mean T2 contribtuion is:', np.mean(SbcFracT2['SbcFracT2']))\n",
    "print ( 'The Irregular mean T2 contribtuion is:', np.mean(IrrFracT2['IrrFracT2']))"
   ]
  },
  {
   "cell_type": "code",
   "execution_count": 58,
   "metadata": {},
   "outputs": [
    {
     "data": {
      "text/html": [
       "&lt;Column name=&apos;EllFracT2&apos; dtype=&apos;float64&apos; length=733&gt;\n",
       "<table>\n",
       "<tr><td>0.0</td></tr>\n",
       "<tr><td>0.0</td></tr>\n",
       "<tr><td>0.638100699974099</td></tr>\n",
       "<tr><td>0.0</td></tr>\n",
       "<tr><td>0.0</td></tr>\n",
       "<tr><td>1.0</td></tr>\n",
       "<tr><td>1.0</td></tr>\n",
       "<tr><td>0.7033850034718286</td></tr>\n",
       "<tr><td>0.5247325782972024</td></tr>\n",
       "<tr><td>0.0</td></tr>\n",
       "<tr><td>0.0</td></tr>\n",
       "<tr><td>0.7236181734504553</td></tr>\n",
       "<tr><td>...</td></tr>\n",
       "<tr><td>0.7977580739736164</td></tr>\n",
       "<tr><td>0.0</td></tr>\n",
       "<tr><td>0.0</td></tr>\n",
       "<tr><td>0.7542407194622227</td></tr>\n",
       "<tr><td>0.8349357474599843</td></tr>\n",
       "<tr><td>0.7053029960599252</td></tr>\n",
       "<tr><td>0.8789501603530452</td></tr>\n",
       "<tr><td>0.0</td></tr>\n",
       "<tr><td>0.0</td></tr>\n",
       "<tr><td>0.4022630004666028</td></tr>\n",
       "<tr><td>0.9009816023196201</td></tr>\n",
       "<tr><td>0.0</td></tr>\n",
       "</table>"
      ],
      "text/plain": [
       "<Column name='EllFracT2' dtype='float64' length=733>\n",
       "               0.0\n",
       "               0.0\n",
       " 0.638100699974099\n",
       "               0.0\n",
       "               0.0\n",
       "               1.0\n",
       "               1.0\n",
       "0.7033850034718286\n",
       "0.5247325782972024\n",
       "               0.0\n",
       "               0.0\n",
       "0.7236181734504553\n",
       "               ...\n",
       "0.7977580739736164\n",
       "               0.0\n",
       "               0.0\n",
       "0.7542407194622227\n",
       "0.8349357474599843\n",
       "0.7053029960599252\n",
       "0.8789501603530452\n",
       "               0.0\n",
       "               0.0\n",
       "0.4022630004666028\n",
       "0.9009816023196201\n",
       "               0.0"
      ]
     },
     "execution_count": 58,
     "metadata": {},
     "output_type": "execute_result"
    }
   ],
   "source": [
    "EllFracT2['EllFracT2']"
   ]
  },
  {
   "cell_type": "code",
   "execution_count": 59,
   "metadata": {},
   "outputs": [
    {
     "data": {
      "image/png": "[encoded data removed]",
      "text/plain": [
       "<Figure size 576x432 with 1 Axes>"
      ]
     },
     "metadata": {
      "needs_background": "light"
     },
     "output_type": "display_data"
    }
   ],
   "source": [
    "import matplotlib.pyplot as plt\n",
    "import numpy as np\n",
    "\n",
    "\n",
    "labels = ['Elliptical', 'Spiral', 'Irregular']\n",
    "T1_means = [np.mean(EllFracT1['EllFracT1']), np.mean(SbcFracT1['SbcFracT1']), np.mean(IrrFracT1['IrrFracT1'])]\n",
    "T2_means = [np.mean(EllFracT2['EllFracT2']), np.mean(SbcFracT2['SbcFracT2']), np.mean(IrrFracT2['IrrFracT2'])]\n",
    "\n",
    "x = np.arange(len(labels))  # the label locations\n",
    "width = 0.35  # the width of the bars\n",
    "\n",
    "fig, ax = plt.subplots(figsize=(8,6))\n",
    "rects1 = ax.bar(x - width/2, T1_means, width, label='Type 1', color = 'black', alpha = 0.8)\n",
    "rects2 = ax.bar(x + width/2, T2_means, width, label='Type 2', color = 'blue', alpha = 0.8)\n",
    "\n",
    "# Add some text for labels, title and custom x-axis tick labels, etc.\n",
    "ax.set_ylabel('Mean Contribution')\n",
    "ax.set_xticks([0,1,2])\n",
    "ax.set_xticklabels(labels)\n",
    "ax.legend(fontsize = 13,frameon = True, framealpha=0.1, facecolor = 'gray', loc = 9)\n",
    "plt.savefig('Figure12.png')\n",
    "#ax.bar_label(rects1, padding=3)\n",
    "#ax.bar_label(rects2, padding=3)\n",
    "\n",
    "fig.tight_layout()\n",
    "\n",
    "plt.show()\n",
    "\n"
   ]
  },
  {
   "cell_type": "markdown",
   "metadata": {},
   "source": [
    "# Splitting by redshift and luminosity "
   ]
  },
  {
   "cell_type": "code",
   "execution_count": 39,
   "metadata": {},
   "outputs": [],
   "source": [
    "LZEllFracT1 = EllFracT1[EllFracT1['zGA']<=1]\n",
    "LZSbcFracT1 = SbcFracT1[SbcFracT1['zGA']<=1]\n",
    "LZIrrFracT1 = IrrFracT1[IrrFracT1['zGA']<=1]\n",
    "\n",
    "LZEllFracT2 = EllFracT2[EllFracT2['zGA']<=1]\n",
    "LZSbcFracT2 = SbcFracT2[SbcFracT2['zGA']<=1]\n",
    "LZIrrFracT2 = IrrFracT2[IrrFracT2['zGA']<=1]"
   ]
  },
  {
   "cell_type": "code",
   "execution_count": 40,
   "metadata": {},
   "outputs": [],
   "source": [
    "MZEllFracT1 = EllFracT1[np.logical_and((EllFracT1['zGA']>1),(EllFracT1['zGA']<2))]\n",
    "MZSbcFracT1 = SbcFracT1[np.logical_and((SbcFracT1['zGA']>1),(SbcFracT1['zGA']<2))]\n",
    "MZIrrFracT1 = IrrFracT1[np.logical_and((IrrFracT1['zGA']>1),(IrrFracT1['zGA']<2))]\n",
    "\n",
    "MZEllFracT2 = EllFracT2[np.logical_and((EllFracT2['zGA']>1),(EllFracT2['zGA']<2))]\n",
    "MZSbcFracT2 = SbcFracT2[np.logical_and((SbcFracT2['zGA']>1),(SbcFracT2['zGA']<2))]\n",
    "MZIrrFracT2 = IrrFracT2[np.logical_and((IrrFracT2['zGA']>1),(IrrFracT2['zGA']<2))]"
   ]
  },
  {
   "cell_type": "code",
   "execution_count": 41,
   "metadata": {},
   "outputs": [],
   "source": [
    "HZEllFracT1 = EllFracT1[EllFracT1['zGA']>=2]\n",
    "HZSbcFracT1 = SbcFracT1[SbcFracT1['zGA']>=2]\n",
    "HZIrrFracT1 = IrrFracT1[IrrFracT1['zGA']>=2]\n",
    "\n",
    "HZEllFracT2 = EllFracT2[EllFracT2['zGA']>=2]\n",
    "HZSbcFracT2 = SbcFracT2[SbcFracT2['zGA']>=2]\n",
    "HZIrrFracT2 = IrrFracT2[IrrFracT2['zGA']>=2]"
   ]
  },
  {
   "cell_type": "code",
   "execution_count": null,
   "metadata": {},
   "outputs": [],
   "source": [
    "\n"
   ]
  },
  {
   "cell_type": "code",
   "execution_count": null,
   "metadata": {},
   "outputs": [],
   "source": []
  },
  {
   "cell_type": "code",
   "execution_count": null,
   "metadata": {},
   "outputs": [],
   "source": []
  },
  {
   "cell_type": "code",
   "execution_count": null,
   "metadata": {},
   "outputs": [],
   "source": []
  },
  {
   "cell_type": "code",
   "execution_count": 42,
   "metadata": {},
   "outputs": [],
   "source": [
    "LLEllFracT1 = EllFracT1[EllFracT1['LAGNerg']<=np.percentile(EllFracT1['LAGNerg'],33.3)]\n",
    "LLSbcFracT1 = SbcFracT1[SbcFracT1['LAGNerg']<=np.percentile(SbcFracT1['LAGNerg'],33.3)]\n",
    "LLIrrFracT1 = IrrFracT1[IrrFracT1['LAGNerg']<=np.percentile(IrrFracT1['LAGNerg'],33.3)]\n",
    "\n",
    "LLEllFracT2 = EllFracT2[EllFracT2['LAGNerg']<=np.percentile(EllFracT2['LAGNerg'],33.3)]\n",
    "LLSbcFracT2 = SbcFracT2[SbcFracT2['LAGNerg']<=np.percentile(SbcFracT2['LAGNerg'],33.3)]\n",
    "LLIrrFracT2 = IrrFracT2[IrrFracT2['LAGNerg']<=np.percentile(IrrFracT2['LAGNerg'],33.3)]"
   ]
  },
  {
   "cell_type": "code",
   "execution_count": 43,
   "metadata": {},
   "outputs": [],
   "source": [
    "MLEllFracT1 = EllFracT1[np.logical_and((EllFracT1['LAGNerg']>np.percentile(EllFracT1['LAGNerg'],33.3)),(EllFracT1['LAGNerg']<np.percentile(EllFracT1['LAGNerg'],66.6)))]\n",
    "MLSbcFracT1 = SbcFracT1[np.logical_and((SbcFracT1['LAGNerg']>np.percentile(SbcFracT1['LAGNerg'],33.3)),(SbcFracT1['LAGNerg']<np.percentile(SbcFracT1['LAGNerg'],66.6)))]\n",
    "MLIrrFracT1 = IrrFracT1[np.logical_and((IrrFracT1['LAGNerg']>np.percentile(IrrFracT1['LAGNerg'],33.3)),(IrrFracT1['LAGNerg']<np.percentile(IrrFracT1['LAGNerg'],66.6)))]\n",
    "\n",
    "MLEllFracT2 = EllFracT2[np.logical_and((EllFracT2['LAGNerg']>np.percentile(EllFracT2['LAGNerg'],33.3)),(EllFracT2['LAGNerg']<np.percentile(EllFracT2['LAGNerg'],66.6)))]\n",
    "MLSbcFracT2 = SbcFracT2[np.logical_and((SbcFracT2['LAGNerg']>np.percentile(SbcFracT2['LAGNerg'],33.3)),(SbcFracT2['LAGNerg']<np.percentile(SbcFracT2['LAGNerg'],66.6)))]\n",
    "MLIrrFracT2 = IrrFracT2[np.logical_and((IrrFracT2['LAGNerg']>np.percentile(IrrFracT2['LAGNerg'],33.3)),(IrrFracT2['LAGNerg']<np.percentile(IrrFracT2['LAGNerg'],66.6)))]"
   ]
  },
  {
   "cell_type": "code",
   "execution_count": 44,
   "metadata": {},
   "outputs": [],
   "source": [
    "HLEllFracT1 = EllFracT1[EllFracT1['LAGNerg']>=np.percentile(EllFracT1['LAGNerg'],66.6)]\n",
    "HLSbcFracT1 = SbcFracT1[SbcFracT1['LAGNerg']>=np.percentile(SbcFracT1['LAGNerg'],66.6)]\n",
    "HLIrrFracT1 = IrrFracT1[IrrFracT1['LAGNerg']>=np.percentile(IrrFracT1['LAGNerg'],66.6)]\n",
    "\n",
    "HLEllFracT2 = EllFracT2[EllFracT2['LAGNerg']>=np.percentile(EllFracT2['LAGNerg'],66.6)]\n",
    "HLSbcFracT2 = SbcFracT2[SbcFracT2['LAGNerg']>=np.percentile(SbcFracT2['LAGNerg'],66.6)]\n",
    "HLIrrFracT2 = IrrFracT2[IrrFracT2['LAGNerg']>=np.percentile(IrrFracT2['LAGNerg'],66.6)]"
   ]
  },
  {
   "cell_type": "code",
   "execution_count": null,
   "metadata": {},
   "outputs": [],
   "source": []
  },
  {
   "cell_type": "code",
   "execution_count": null,
   "metadata": {},
   "outputs": [],
   "source": []
  },
  {
   "cell_type": "code",
   "execution_count": null,
   "metadata": {},
   "outputs": [],
   "source": []
  },
  {
   "cell_type": "code",
   "execution_count": 45,
   "metadata": {},
   "outputs": [],
   "source": [
    "LLGEllFracT1 = EllFracT1[EllFracT1['LGalerg10']<=np.percentile(EllFracT1['LGalerg10'],33.3)]\n",
    "LLGSbcFracT1 = SbcFracT1[SbcFracT1['LGalerg10']<=np.percentile(SbcFracT1['LGalerg10'],33.3)]\n",
    "LLGIrrFracT1 = IrrFracT1[IrrFracT1['LGalerg10']<=np.percentile(IrrFracT1['LGalerg10'],33.3)]\n",
    "\n",
    "LLGEllFracT2 = EllFracT2[EllFracT2['LGalerg10']<=np.percentile(EllFracT2['LGalerg10'],33.3)]\n",
    "LLGSbcFracT2 = SbcFracT2[SbcFracT2['LGalerg10']<=np.percentile(SbcFracT2['LGalerg10'],33.3)]\n",
    "LLGIrrFracT2 = IrrFracT2[IrrFracT2['LGalerg10']<=np.percentile(IrrFracT2['LGalerg10'],33.3)]"
   ]
  },
  {
   "cell_type": "code",
   "execution_count": 46,
   "metadata": {},
   "outputs": [],
   "source": [
    "MLGEllFracT1 = EllFracT1[np.logical_and((EllFracT1['LGalerg10']>np.percentile(EllFracT1['LGalerg10'],33.3)),(EllFracT1['LGalerg10']<np.percentile(EllFracT1['LGalerg10'],66.6)))]\n",
    "MLGSbcFracT1 = SbcFracT1[np.logical_and((SbcFracT1['LGalerg10']>np.percentile(SbcFracT1['LGalerg10'],33.3)),(SbcFracT1['LGalerg10']<np.percentile(SbcFracT1['LGalerg10'],66.6)))]\n",
    "MLGIrrFracT1 = IrrFracT1[np.logical_and((IrrFracT1['LGalerg10']>np.percentile(IrrFracT1['LGalerg10'],33.3)),(IrrFracT1['LGalerg10']<np.percentile(IrrFracT1['LGalerg10'],66.6)))]\n",
    "\n",
    "MLGEllFracT2 = EllFracT2[np.logical_and((EllFracT2['LGalerg10']>np.percentile(EllFracT2['LGalerg10'],33.3)),(EllFracT2['LGalerg10']<np.percentile(EllFracT2['LGalerg10'],66.6)))]\n",
    "MLGSbcFracT2 = SbcFracT2[np.logical_and((SbcFracT2['LGalerg10']>np.percentile(SbcFracT2['LGalerg10'],33.3)),(SbcFracT2['LGalerg10']<np.percentile(SbcFracT2['LGalerg10'],66.6)))]\n",
    "MLGIrrFracT2 = IrrFracT2[np.logical_and((IrrFracT2['LGalerg10']>np.percentile(IrrFracT2['LGalerg10'],33.3)),(IrrFracT2['LGalerg10']<np.percentile(IrrFracT2['LGalerg10'],66.6)))]"
   ]
  },
  {
   "cell_type": "code",
   "execution_count": 47,
   "metadata": {},
   "outputs": [],
   "source": [
    "HLGEllFracT1 = EllFracT1[EllFracT1['LGalerg10']>=np.percentile(EllFracT1['LGalerg10'],66.6)]\n",
    "HLGSbcFracT1 = SbcFracT1[SbcFracT1['LGalerg10']>=np.percentile(SbcFracT1['LGalerg10'],66.6)]\n",
    "HLGIrrFracT1 = IrrFracT1[IrrFracT1['LGalerg10']>=np.percentile(IrrFracT1['LGalerg10'],66.6)]\n",
    "\n",
    "HLGEllFracT2 = EllFracT2[EllFracT2['LGalerg10']>=np.percentile(EllFracT2['LGalerg10'],66.6)]\n",
    "HLGSbcFracT2 = SbcFracT2[SbcFracT2['LGalerg10']>=np.percentile(SbcFracT2['LGalerg10'],66.6)]\n",
    "HLGIrrFracT2 = IrrFracT2[IrrFracT2['LGalerg10']>=np.percentile(IrrFracT2['LGalerg10'],66.6)]"
   ]
  },
  {
   "cell_type": "code",
   "execution_count": null,
   "metadata": {},
   "outputs": [],
   "source": []
  },
  {
   "cell_type": "code",
   "execution_count": null,
   "metadata": {},
   "outputs": [],
   "source": []
  },
  {
   "cell_type": "code",
   "execution_count": null,
   "metadata": {},
   "outputs": [],
   "source": []
  },
  {
   "cell_type": "code",
   "execution_count": null,
   "metadata": {},
   "outputs": [],
   "source": []
  },
  {
   "cell_type": "code",
   "execution_count": null,
   "metadata": {},
   "outputs": [],
   "source": []
  },
  {
   "cell_type": "code",
   "execution_count": null,
   "metadata": {},
   "outputs": [],
   "source": []
  },
  {
   "cell_type": "code",
   "execution_count": 48,
   "metadata": {},
   "outputs": [
    {
     "data": {
      "image/png": "[encoded data removed]",
      "text/plain": [
       "<Figure size 576x432 with 1 Axes>"
      ]
     },
     "metadata": {
      "needs_background": "light"
     },
     "output_type": "display_data"
    }
   ],
   "source": [
    "\n",
    "import matplotlib.pyplot as plt\n",
    "import numpy as np\n",
    "\n",
    "\n",
    "labels = ['Elliptical', 'Spiral', 'Irregular']\n",
    "T1_means = [np.mean(EllFracT1['EllFracT1']), np.mean(SbcFracT1['SbcFracT1']), np.mean(IrrFracT1['IrrFracT1'])]\n",
    "T2_means = [np.mean(EllFracT2['EllFracT2']), np.mean(SbcFracT2['SbcFracT2']), np.mean(IrrFracT2['IrrFracT2'])]\n",
    "\n",
    "x = np.arange(len(labels))  # the label locations\n",
    "width = 0.35  # the width of the bars\n",
    "\n",
    "fig, ax = plt.subplots(figsize=(8,6))\n",
    "rects1 = ax.bar(x - width/2, T1_means, width, label='T1', color ='cyan')\n",
    "rects2 = ax.bar(x + width/2, T2_means, width, label='T2', color ='darkviolet')\n",
    "\n",
    "# Add some text for labels, title and custom x-axis tick labels, etc.\n",
    "ax.set_ylabel('Mean Contribution')\n",
    "ax.set_title('T1 vs T2 Morphology Contributions')\n",
    "ax.set_xticks([0,1,2])\n",
    "ax.set_xticklabels(labels)\n",
    "ax.legend()\n",
    "\n",
    "#ax.bar_label(rects1, padding=3)\n",
    "#ax.bar_label(rects2, padding=3)\n",
    "\n",
    "fig.tight_layout()\n",
    "\n",
    "plt.show()\n"
   ]
  },
  {
   "cell_type": "code",
   "execution_count": 49,
   "metadata": {},
   "outputs": [],
   "source": [
    "\n",
    "\n",
    "labels = ['Elliptical', 'Spiral', 'Irregular']\n",
    "T1_meansLZ = [np.mean(LZEllFracT1['EllFracT1']), np.mean(LZSbcFracT1['SbcFracT1']), np.mean(LZIrrFracT1['IrrFracT1'])]\n",
    "T2_meansLZ = [np.mean(LZEllFracT2['EllFracT2']), np.mean(LZSbcFracT2['SbcFracT2']), np.mean(LZIrrFracT2['IrrFracT2'])]\n",
    "\n",
    "T1_meansMZ = [np.mean(MZEllFracT1['EllFracT1']), np.mean(MZSbcFracT1['SbcFracT1']), np.mean(MZIrrFracT1['IrrFracT1'])]\n",
    "T2_meansMZ = [np.mean(MZEllFracT2['EllFracT2']), np.mean(MZSbcFracT2['SbcFracT2']), np.mean(MZIrrFracT2['IrrFracT2'])]\n",
    "\n",
    "T1_meansHZ = [np.mean(HZEllFracT1['EllFracT1']), np.mean(HZSbcFracT1['SbcFracT1']), np.mean(HZIrrFracT1['IrrFracT1'])]\n",
    "T2_meansHZ = [np.mean(HZEllFracT2['EllFracT2']), np.mean(HZSbcFracT2['SbcFracT2']), np.mean(HZIrrFracT2['IrrFracT2'])]\n",
    "\n",
    "\n",
    "x = np.arange(len(labels))  # the label locations\n",
    "width = 0.35  # the width of the bars\n",
    "\n"
   ]
  },
  {
   "cell_type": "code",
   "execution_count": 50,
   "metadata": {},
   "outputs": [
    {
     "data": {
      "text/plain": [
       "<matplotlib.legend.Legend at 0x7fbcbc1f3438>"
      ]
     },
     "execution_count": 50,
     "metadata": {},
     "output_type": "execute_result"
    },
    {
     "data": {
      "image/png": "[encoded data removed]",
      "text/plain": [
       "<Figure size 1728x576 with 3 Axes>"
      ]
     },
     "metadata": {
      "needs_background": "light"
     },
     "output_type": "display_data"
    }
   ],
   "source": [
    "fig = plt.figure(figsize=(24,8))\n",
    "gs = GridSpec(nrows=1,ncols=3, figure=fig)\n",
    "\n",
    "ax1 = fig.add_subplot(gs[0, 0])\n",
    "rects1 = ax1.bar(x - width/2, T1_meansLZ, width, label='T1',color ='cyan')\n",
    "rects2 = ax1.bar(x + width/2, T2_meansLZ, width, label='T2', color ='darkviolet')\n",
    "ax1.set_ylabel('Mean Contribution')\n",
    "ax1.set_title('LOW Z')\n",
    "ax1.set_xticks([0,1,2])\n",
    "ax1.set_xticklabels(labels)\n",
    "ax1.set_ylim(0,0.8)\n",
    "ax1.legend()\n",
    "\n",
    "ax2 = fig.add_subplot(gs[0,1])\n",
    "rects1 = ax2.bar(x - width/2, T1_meansMZ, width, label='T1',color ='cyan')\n",
    "rects2 = ax2.bar(x + width/2, T2_meansMZ, width, label='T2', color ='darkviolet')\n",
    "ax2.set_title('MIDDLE Z')\n",
    "ax2.set_xticks([0,1,2])\n",
    "ax2.set_xticklabels(labels)\n",
    "ax2.set_ylim(0,0.8)\n",
    "ax2.legend()\n",
    "\n",
    "ax3 = fig.add_subplot(gs[0,2])\n",
    "rects1 = ax3.bar(x - width/2, T1_meansHZ, width, label='T1',color ='cyan')\n",
    "rects2 = ax3.bar(x + width/2, T2_meansHZ, width, label='T2', color ='darkviolet')\n",
    "ax3.set_title('HIGH Z')\n",
    "ax3.set_xticks([0,1,2])\n",
    "ax3.set_xticklabels(labels)\n",
    "ax3.set_ylim(0,0.8)\n",
    "ax3.legend()"
   ]
  },
  {
   "cell_type": "code",
   "execution_count": 51,
   "metadata": {},
   "outputs": [],
   "source": [
    "labels = ['Elliptical', 'Spiral', 'Irregular']\n",
    "T1_meansLL = [np.mean(LLEllFracT1['EllFracT1']), np.mean(LLSbcFracT1['SbcFracT1']), np.mean(LLIrrFracT1['IrrFracT1'])]\n",
    "T2_meansLL = [np.mean(LLEllFracT2['EllFracT2']), np.mean(LLSbcFracT2['SbcFracT2']), np.mean(LLIrrFracT2['IrrFracT2'])]\n",
    "\n",
    "T1_meansML = [np.mean(MLEllFracT1['EllFracT1']), np.mean(MLSbcFracT1['SbcFracT1']), np.mean(MLIrrFracT1['IrrFracT1'])]\n",
    "T2_meansML = [np.mean(MLEllFracT2['EllFracT2']), np.mean(MLSbcFracT2['SbcFracT2']), np.mean(MLIrrFracT2['IrrFracT2'])]\n",
    "\n",
    "T1_meansHL = [np.mean(HLEllFracT1['EllFracT1']), np.mean(HLSbcFracT1['SbcFracT1']), np.mean(HLIrrFracT1['IrrFracT1'])]\n",
    "T2_meansHL = [np.mean(HLEllFracT2['EllFracT2']), np.mean(HLSbcFracT2['SbcFracT2']), np.mean(HLIrrFracT2['IrrFracT2'])]\n",
    "\n",
    "x = np.arange(len(labels))  # the label locations\n",
    "width = 0.35  # the width of the bars\n"
   ]
  },
  {
   "cell_type": "code",
   "execution_count": 52,
   "metadata": {},
   "outputs": [
    {
     "data": {
      "text/plain": [
       "<matplotlib.legend.Legend at 0x7fbcbc9b25f8>"
      ]
     },
     "execution_count": 52,
     "metadata": {},
     "output_type": "execute_result"
    },
    {
     "data": {
      "image/png": "[encoded data removed]",
      "text/plain": [
       "<Figure size 1728x576 with 3 Axes>"
      ]
     },
     "metadata": {
      "needs_background": "light"
     },
     "output_type": "display_data"
    }
   ],
   "source": [
    "fig = plt.figure(figsize=(24,8))\n",
    "gs = GridSpec(nrows=1,ncols=3, figure=fig)\n",
    "\n",
    "ax1 = fig.add_subplot(gs[0, 0])\n",
    "rects1 = ax1.bar(x - width/2, T1_meansLL, width, label='T1',color ='cyan')\n",
    "rects2 = ax1.bar(x + width/2, T2_meansLL, width, label='T2', color ='darkviolet')\n",
    "ax1.set_ylabel('Mean Contribution')\n",
    "ax1.set_title('LOW Luminosity')\n",
    "ax1.set_xticks([0,1,2])\n",
    "ax1.set_xticklabels(labels)\n",
    "ax1.set_ylim(0,0.7)\n",
    "ax1.legend()\n",
    "\n",
    "ax2 = fig.add_subplot(gs[0,1])\n",
    "rects1 = ax2.bar(x - width/2, T1_meansML, width, label='T1',color ='cyan')\n",
    "rects2 = ax2.bar(x + width/2, T2_meansML, width, label='T2', color ='darkviolet')\n",
    "ax2.set_title('MIDDLE Luminosity')\n",
    "ax2.set_xticks([0,1,2])\n",
    "ax2.set_xticklabels(labels)\n",
    "ax2.set_ylim(0,0.7)\n",
    "ax2.legend()\n",
    "\n",
    "ax3 = fig.add_subplot(gs[0,2])\n",
    "rects1 = ax3.bar(x - width/2, T1_meansHL, width, label='T1',color ='cyan')\n",
    "rects2 = ax3.bar(x + width/2, T2_meansHL, width, label='T2', color ='darkviolet')\n",
    "ax3.set_title('HIGH Luminosity')\n",
    "ax3.set_xticks([0,1,2])\n",
    "ax3.set_xticklabels(labels)\n",
    "ax3.set_ylim(0,0.7)\n",
    "ax3.legend()"
   ]
  },
  {
   "cell_type": "code",
   "execution_count": 53,
   "metadata": {},
   "outputs": [],
   "source": [
    "labels = ['Elliptical', 'Spiral', 'Irregular']\n",
    "T1_meansLLG = [np.mean(LLGEllFracT1['EllFracT1']), np.mean(LLGSbcFracT1['SbcFracT1']), np.mean(LLGIrrFracT1['IrrFracT1'])]\n",
    "T2_meansLLG = [np.mean(LLGEllFracT2['EllFracT2']), np.mean(LLGSbcFracT2['SbcFracT2']), np.mean(LLGIrrFracT2['IrrFracT2'])]\n",
    "\n",
    "T1_meansMLG = [np.mean(MLGEllFracT1['EllFracT1']), np.mean(MLGSbcFracT1['SbcFracT1']), np.mean(MLGIrrFracT1['IrrFracT1'])]\n",
    "T2_meansMLG = [np.mean(MLGEllFracT2['EllFracT2']), np.mean(MLGSbcFracT2['SbcFracT2']), np.mean(MLGIrrFracT2['IrrFracT2'])]\n",
    "\n",
    "T1_meansHLG = [np.mean(HLGEllFracT1['EllFracT1']), np.mean(HLGSbcFracT1['SbcFracT1']), np.mean(HLGIrrFracT1['IrrFracT1'])]\n",
    "T2_meansHLG = [np.mean(HLGEllFracT2['EllFracT2']), np.mean(HLGSbcFracT2['SbcFracT2']), np.mean(HLGIrrFracT2['IrrFracT2'])]\n",
    "\n",
    "x = np.arange(len(labels))  # the label locations\n",
    "width = 0.35  # the width of the bars\n"
   ]
  },
  {
   "cell_type": "code",
   "execution_count": 54,
   "metadata": {},
   "outputs": [
    {
     "data": {
      "text/plain": [
       "<matplotlib.legend.Legend at 0x7fbcbcfc7b38>"
      ]
     },
     "execution_count": 54,
     "metadata": {},
     "output_type": "execute_result"
    },
    {
     "data": {
      "image/png": "[encoded data removed]",
      "text/plain": [
       "<Figure size 1728x576 with 3 Axes>"
      ]
     },
     "metadata": {
      "needs_background": "light"
     },
     "output_type": "display_data"
    }
   ],
   "source": [
    "fig = plt.figure(figsize=(24,8))\n",
    "gs = GridSpec(nrows=1,ncols=3, figure=fig)\n",
    "\n",
    "ax1 = fig.add_subplot(gs[0, 0])\n",
    "rects1 = ax1.bar(x - width/2, T1_meansLLG, width, label='T1',color ='cyan')\n",
    "rects2 = ax1.bar(x + width/2, T2_meansLLG, width, label='T2', color ='darkviolet')\n",
    "ax1.set_ylabel('Mean Contribution')\n",
    "ax1.set_title('LOW Galaxy Luminosity')\n",
    "ax1.set_xticks([0,1,2])\n",
    "ax1.set_xticklabels(labels)\n",
    "ax1.set_ylim(0,0.6)\n",
    "ax1.legend()\n",
    "\n",
    "ax2 = fig.add_subplot(gs[0,1])\n",
    "rects1 = ax2.bar(x - width/2, T1_meansMLG, width, label='T1',color ='cyan')\n",
    "rects2 = ax2.bar(x + width/2, T2_meansMLG, width, label='T2', color ='darkviolet')\n",
    "ax2.set_title('MIDDLE Galaxy Luminosity')\n",
    "ax2.set_xticks([0,1,2])\n",
    "ax2.set_xticklabels(labels)\n",
    "ax2.set_ylim(0,0.6)\n",
    "ax2.legend()\n",
    "\n",
    "ax3 = fig.add_subplot(gs[0,2])\n",
    "rects1 = ax3.bar(x - width/2, T1_meansHLG, width, label='T1',color ='cyan')\n",
    "rects2 = ax3.bar(x + width/2, T2_meansHLG, width, label='T2', color ='darkviolet')\n",
    "ax3.set_title('HIGH Galaxy Luminosity')\n",
    "ax3.set_xticks([0,1,2])\n",
    "ax3.set_xticklabels(labels)\n",
    "ax3.set_ylim(0,0.6)\n",
    "ax3.legend()"
   ]
  },
  {
   "cell_type": "code",
   "execution_count": null,
   "metadata": {},
   "outputs": [],
   "source": []
  },
  {
   "cell_type": "code",
   "execution_count": null,
   "metadata": {},
   "outputs": [],
   "source": []
  },
  {
   "cell_type": "code",
   "execution_count": 55,
   "metadata": {},
   "outputs": [
    {
     "name": "stdout",
     "output_type": "stream",
     "text": [
      "      LAGNerg      \n",
      "-------------------\n",
      " 0.9690047191787556\n",
      " 0.7319999828338624\n",
      " 0.7310000243186963\n",
      "  1.004000010013577\n",
      "0.40863508623943545\n",
      " 0.6999999861717257\n",
      " 0.6079999485015861\n",
      "  0.742122078727391\n",
      " 1.0139999923706071\n",
      "0.43981856792209584\n",
      "                ...\n",
      " 1.0620000343322786\n",
      "   0.53233391836077\n",
      "0.23980959086793519\n",
      "0.21905113375925822\n",
      " 0.6300761171637461\n",
      " 0.5426701677964658\n",
      " 1.3349999732971156\n",
      " 1.4029999504089332\n",
      " 0.5490711222749312\n",
      " 0.3230334105382511\n",
      " 0.7980000295639016\n",
      "Length = 733 rows\n"
     ]
    }
   ],
   "source": [
    "print (T1LMatched1045['LAGNerg']-T1LMatched1045['LGalerg10'])"
   ]
  },
  {
   "cell_type": "code",
   "execution_count": 56,
   "metadata": {},
   "outputs": [
    {
     "data": {
      "text/html": [
       "<i>Table length=733</i>\n",
       "<table id=\"table140448575678392\" class=\"table-striped table-bordered table-condensed\">\n",
       "<thead><tr><th>RA</th><th>Dec</th><th>Imag</th><th>S</th><th>zspec</th><th>N</th><th>zG</th><th>chi2G</th><th>LEll</th><th>LSbc</th><th>LIrr</th><th>zGA</th><th>chi2GA</th><th>LAGNp</th><th>LELLp</th><th>LSbcp</th><th>LIrrp</th><th>F</th><th>EBV</th><th>Chi2S</th><th>SType</th><th>LAGNerg</th><th>LSbcerg</th><th>LEllerg</th><th>LIrrerg</th><th>AV</th><th>LSbc10</th><th>LEll10</th><th>LIrr10</th><th>LAGN10</th><th>LSbcUNLOG10</th><th>LEllUNLOG10</th><th>LIrrUNLOG10</th><th>LAGNUNLOG10</th><th>LSbcUNLOG10c</th><th>LEllUNLOG10c</th><th>LIrrUNLOG10c</th><th>LAGNUNLOG10c</th><th>LGalUNLOG10</th><th>LSFRUNLOG10</th><th>LAGNmGalUNLOG10</th><th>LGalLOG10</th><th>LSFRLOG10</th><th>LAGNmGalLOG10</th><th>LGalerg10</th><th>LSFRerg10</th><th>LAGNmGalerg10</th><th>EllFracT1</th><th>SbcFracT1</th><th>IrrFracT1</th></tr></thead>\n",
       "<thead><tr><th>float64</th><th>float64</th><th>float64</th><th>float64</th><th>float64</th><th>str4</th><th>float64</th><th>float64</th><th>float64</th><th>float64</th><th>float64</th><th>float64</th><th>float64</th><th>float64</th><th>float64</th><th>float64</th><th>float64</th><th>float64</th><th>float64</th><th>float64</th><th>str5</th><th>float64</th><th>float64</th><th>float64</th><th>float64</th><th>float64</th><th>float64</th><th>float64</th><th>float64</th><th>float64</th><th>float64</th><th>float64</th><th>float64</th><th>float64</th><th>float64</th><th>float64</th><th>float64</th><th>float64</th><th>float64</th><th>float64</th><th>float64</th><th>float64</th><th>float64</th><th>float64</th><th>float64</th><th>float64</th><th>float64</th><th>float64</th><th>float64</th><th>float64</th></tr></thead>\n",
       "<tr><td>217.78476</td><td>32.37835</td><td>18.979999542236328</td><td>0.9900000095367432</td><td>-99.98999786376953</td><td>12/0</td><td>0.009999999776482582</td><td>113.69999694824219</td><td>0.0</td><td>-2.7760000228881836</td><td>-2.700000047683716</td><td>1.649999976158142</td><td>26.690000534057617</td><td>2.621999979019165</td><td>1.5880000591278076</td><td>0.0</td><td>0.7960000038146973</td><td>14.039999961853027</td><td>0.05000000074505806</td><td>169.69000244140625</td><td>f/g</td><td>46.202</td><td>40.804</td><td>43.58</td><td>40.879999999999995</td><td>0.16000000000000003</td><td>10.0</td><td>11.588000059127808</td><td>10.796000003814697</td><td>12.621999979019165</td><td>10000000000.0</td><td>387257697645.5132</td><td>62517269826.69933</td><td>4187935448859.356</td><td>0.0</td><td>387257697645.5132</td><td>62517269826.69933</td><td>4187935448859.356</td><td>449774967472.2125</td><td>62517269826.69933</td><td>3738160481387.1436</td><td>11.652995280821244</td><td>10.796000003814697</td><td>12.57265794195582</td><td>45.23299528082124</td><td>44.376000003814696</td><td>46.152657941955816</td><td>0.8610032252838489</td><td>0.0</td><td>0.13899677471615116</td></tr>\n",
       "<tr><td>216.34027</td><td>32.37844</td><td>20.6200008392334</td><td>0.9800000190734863</td><td>-99.98999786376953</td><td>12/0</td><td>2.069999933242798</td><td>38.5</td><td>0.0</td><td>0.30000001192092896</td><td>2.0910000801086426</td><td>1.7999999523162842</td><td>3.640000104904175</td><td>2.063999891281128</td><td>1.3320000171661377</td><td>0.0</td><td>0.0</td><td>39.349998474121094</td><td>0.019999999552965164</td><td>74.26000213623047</td><td>a/f</td><td>45.644</td><td>43.879999999999995</td><td>43.58</td><td>45.671</td><td>0.064</td><td>10.0</td><td>11.332000017166138</td><td>10.0</td><td>12.063999891281128</td><td>10000000000.0</td><td>214783055902.67413</td><td>10000000000.0</td><td>1158777066073.2654</td><td>0.0</td><td>214783055902.67413</td><td>0.0</td><td>1158777066073.2654</td><td>214783055902.67413</td><td>0.0</td><td>943994010170.5913</td><td>11.332000017166138</td><td>-inf</td><td>11.974969238622101</td><td>44.912000017166136</td><td>-inf</td><td>45.5549692386221</td><td>1.0</td><td>0.0</td><td>0.0</td></tr>\n",
       "<tr><td>217.72965</td><td>32.42403</td><td>21.670000076293945</td><td>0.9700000286102295</td><td>-99.98999786376953</td><td>14/0</td><td>1.5299999713897705</td><td>21.34000015258789</td><td>0.0</td><td>0.0</td><td>1.4600000381469727</td><td>1.5299999713897705</td><td>1.6299999952316284</td><td>1.593999981880188</td><td>0.0</td><td>0.8629999756813049</td><td>0.0</td><td>55.38999938964844</td><td>0.03999999910593033</td><td>22.280000686645508</td><td>b/a</td><td>45.174</td><td>43.58</td><td>43.58</td><td>45.04</td><td>0.128</td><td>10.862999975681305</td><td>10.0</td><td>10.0</td><td>11.593999981880188</td><td>72945746940.79659</td><td>10000000000.0</td><td>10000000000.0</td><td>392644919017.50757</td><td>72945746940.79659</td><td>0.0</td><td>0.0</td><td>392644919017.50757</td><td>72945746940.79659</td><td>72945746940.79659</td><td>319699172076.711</td><td>10.862999975681305</td><td>10.862999975681305</td><td>11.504741511582976</td><td>44.4429999756813</td><td>44.4429999756813</td><td>45.084741511582976</td><td>0.0</td><td>1.0</td><td>0.0</td></tr>\n",
       "<tr><td>217.10787</td><td>32.42816</td><td>21.34000015258789</td><td>0.7300000190734863</td><td>-99.98999786376953</td><td>14/0</td><td>0.03999999910593033</td><td>9.899999618530273</td><td>0.0</td><td>-2.760999917984009</td><td>-2.259999990463257</td><td>1.7100000381469727</td><td>0.46000000834465027</td><td>1.7269999980926514</td><td>0.7229999899864197</td><td>0.0</td><td>0.0</td><td>93.94999694824219</td><td>0.009999999776482582</td><td>10.779999732971191</td><td>A/F</td><td>45.306999999999995</td><td>40.818999999999996</td><td>43.58</td><td>41.32</td><td>0.032</td><td>10.0</td><td>10.72299998998642</td><td>10.0</td><td>11.726999998092651</td><td>10000000000.0</td><td>52844523959.075455</td><td>10000000000.0</td><td>533334893145.3034</td><td>0.0</td><td>52844523959.075455</td><td>0.0</td><td>533334893145.3034</td><td>52844523959.075455</td><td>0.0</td><td>480490369186.22797</td><td>10.72299998998642</td><td>-inf</td><td>11.681684687215398</td><td>44.30299998998642</td><td>-inf</td><td>45.26168468721539</td><td>1.0</td><td>0.0</td><td>0.0</td></tr>\n",
       "<tr><td>218.17979</td><td>32.4394</td><td>19.360000610351562</td><td>0.7300000190734863</td><td>-99.98999786376953</td><td>12/1</td><td>0.009999999776482582</td><td>86.88999938964844</td><td>0.0</td><td>-2.7139999866485596</td><td>-2.940999984741211</td><td>1.1299999952316284</td><td>6.460000038146973</td><td>2.009999990463257</td><td>0.671999990940094</td><td>0.0</td><td>1.5470000505447388</td><td>57.04999923706055</td><td>0.019999999552965164</td><td>165.6199951171875</td><td>a/f</td><td>45.589999999999996</td><td>40.866</td><td>43.58</td><td>40.638999999999996</td><td>0.064</td><td>10.0</td><td>10.671999990940094</td><td>11.547000050544739</td><td>12.009999990463257</td><td>10000000000.0</td><td>46989409880.26585</td><td>352370912052.6667</td><td>1023292969810.0972</td><td>0.0</td><td>46989409880.26585</td><td>352370912052.6667</td><td>1023292969810.0972</td><td>399360321932.93256</td><td>352370912052.6667</td><td>623932647877.1646</td><td>11.60136491376056</td><td>11.547000050544739</td><td>11.795137711102285</td><td>45.18136491376056</td><td>45.12700005054474</td><td>45.37513771110228</td><td>0.11766168870466084</td><td>0.0</td><td>0.8823383112953391</td></tr>\n",
       "<tr><td>217.51987</td><td>32.44044</td><td>22.489999771118164</td><td>0.009999999776482582</td><td>-99.98999786376953</td><td>14/0</td><td>1.7599999904632568</td><td>2.559999942779541</td><td>0.0</td><td>1.5369999408721924</td><td>0.6650000214576721</td><td>1.4500000476837158</td><td>0.6100000143051147</td><td>1.6480000019073486</td><td>0.9480000138282776</td><td>0.0</td><td>0.0</td><td>16.799999237060547</td><td>0.25</td><td>8.3100004196167</td><td>1500K</td><td>45.228</td><td>45.117</td><td>43.58</td><td>44.245</td><td>0.8</td><td>10.0</td><td>10.948000013828278</td><td>10.0</td><td>11.648000001907349</td><td>10000000000.0</td><td>88715604028.57059</td><td>10000000000.0</td><td>444631269421.85474</td><td>0.0</td><td>88715604028.57059</td><td>0.0</td><td>444631269421.85474</td><td>88715604028.57059</td><td>0.0</td><td>355915665393.2842</td><td>10.948000013828278</td><td>-inf</td><td>11.55134710360973</td><td>44.528000013828276</td><td>-inf</td><td>45.13134710360973</td><td>1.0</td><td>0.0</td><td>0.0</td></tr>\n",
       "<tr><td>217.03198</td><td>32.44785</td><td>20.540000915527344</td><td>0.9200000166893005</td><td>-99.98999786376953</td><td>13/0</td><td>0.009999999776482582</td><td>31.149999618530273</td><td>0.0</td><td>-3.4230000972747803</td><td>-3.131999969482422</td><td>1.600000023841858</td><td>2.0199999809265137</td><td>1.9789999723434448</td><td>0.0</td><td>0.0</td><td>1.371000051498413</td><td>58.540000915527344</td><td>0.029999999329447746</td><td>57.66999816894531</td><td>a/f</td><td>45.559</td><td>40.157</td><td>43.58</td><td>40.448</td><td>0.096</td><td>10.0</td><td>10.0</td><td>11.371000051498413</td><td>11.978999972343445</td><td>10000000000.0</td><td>10000000000.0</td><td>234963309946.6558</td><td>952796103348.0966</td><td>0.0</td><td>0.0</td><td>234963309946.6558</td><td>952796103348.0966</td><td>234963309946.6558</td><td>234963309946.6558</td><td>717832793401.4408</td><td>11.371000051498413</td><td>11.371000051498413</td><td>11.85602329471604</td><td>44.95100005149841</td><td>44.95100005149841</td><td>45.43602329471604</td><td>0.0</td><td>0.0</td><td>1.0</td></tr>\n",
       "<tr><td>216.24576</td><td>32.4713</td><td>21.510000228881836</td><td>0.7799999713897705</td><td>-99.98999786376953</td><td>13/0</td><td>2.809999942779541</td><td>16.270000457763672</td><td>0.0</td><td>2.006999969482422</td><td>1.9600000381469727</td><td>1.4700000286102295</td><td>2.809999942779541</td><td>1.8949999809265137</td><td>1.1360000371932983</td><td>0.0</td><td>-0.26600000262260437</td><td>20.190000534057617</td><td>0.25</td><td>58.9900016784668</td><td>1500K</td><td>45.475</td><td>45.586999999999996</td><td>43.58</td><td>45.54</td><td>0.8</td><td>10.0</td><td>11.136000037193298</td><td>9.733999997377396</td><td>11.894999980926514</td><td>10000000000.0</td><td>136772894272.91551</td><td>5420008871.286053</td><td>785235600123.8385</td><td>0.0</td><td>136772894272.91551</td><td>5420008871.286053</td><td>785235600123.8385</td><td>142192903144.20157</td><td>5420008871.286053</td><td>643042696979.637</td><td>11.152877921272612</td><td>9.733999997377396</td><td>11.808239810322391</td><td>44.73287792127261</td><td>43.313999997377394</td><td>45.38823981032239</td><td>0.9618827047522233</td><td>0.0</td><td>0.03811729524777674</td></tr>\n",
       "<tr><td>218.12346</td><td>32.47383</td><td>19.389999389648438</td><td>0.9800000190734863</td><td>-99.98999786376953</td><td>14/0</td><td>0.009999999776482582</td><td>124.11000061035156</td><td>0.0</td><td>-3.0869998931884766</td><td>-2.9040000438690186</td><td>1.6200000047683716</td><td>15.329999923706055</td><td>2.4809999465942383</td><td>1.4670000076293945</td><td>0.0</td><td>0.0</td><td>36.4900016784668</td><td>0.03999999910593033</td><td>183.25</td><td>f/g</td><td>46.061</td><td>40.492999999999995</td><td>43.58</td><td>40.676</td><td>0.128</td><td>10.0</td><td>11.467000007629395</td><td>10.0</td><td>12.480999946594238</td><td>10000000000.0</td><td>293089329673.82904</td><td>10000000000.0</td><td>3026913055877.8164</td><td>0.0</td><td>293089329673.82904</td><td>0.0</td><td>3026913055877.8164</td><td>293089329673.82904</td><td>0.0</td><td>2733823726203.9873</td><td>11.467000007629395</td><td>-inf</td><td>12.43677050832802</td><td>45.04700000762939</td><td>-inf</td><td>46.01677050832802</td><td>1.0</td><td>0.0</td><td>0.0</td></tr>\n",
       "<tr><td>216.49839</td><td>32.47729</td><td>21.110000610351562</td><td>0.7099999785423279</td><td>1.75</td><td>12/0</td><td>1.8899999856948853</td><td>13.279999732971191</td><td>0.0</td><td>1.5049999952316284</td><td>1.6410000324249268</td><td>1.7100000381469727</td><td>1.590000033378601</td><td>1.9809999465942383</td><td>0.0</td><td>1.5410000085830688</td><td>-1.8380000591278076</td><td>30.329999923706055</td><td>0.10000000149011612</td><td>82.73999786376953</td><td>f/g</td><td>45.561</td><td>45.085</td><td>43.58</td><td>45.221</td><td>0.32000000000000006</td><td>11.541000008583069</td><td>10.0</td><td>8.161999940872192</td><td>11.980999946594238</td><td>347536168311.6487</td><td>10000000000.0</td><td>145211141.98873934</td><td>957193953587.442</td><td>347536168311.6487</td><td>0.0</td><td>145211141.98873934</td><td>957193953587.442</td><td>347681379453.63745</td><td>347681379453.63745</td><td>609512574133.8046</td><td>11.541181432077906</td><td>11.541181432077906</td><td>11.784982669463174</td><td>45.121181432077904</td><td>45.121181432077904</td><td>45.364982669463174</td><td>0.0</td><td>0.9995823442077428</td><td>0.0004176557922570683</td></tr>\n",
       "<tr><td>...</td><td>...</td><td>...</td><td>...</td><td>...</td><td>...</td><td>...</td><td>...</td><td>...</td><td>...</td><td>...</td><td>...</td><td>...</td><td>...</td><td>...</td><td>...</td><td>...</td><td>...</td><td>...</td><td>...</td><td>...</td><td>...</td><td>...</td><td>...</td><td>...</td><td>...</td><td>...</td><td>...</td><td>...</td><td>...</td><td>...</td><td>...</td><td>...</td><td>...</td><td>...</td><td>...</td><td>...</td><td>...</td><td>...</td><td>...</td><td>...</td><td>...</td><td>...</td><td>...</td><td>...</td><td>...</td><td>...</td><td>...</td><td>...</td><td>...</td></tr>\n",
       "<tr><td>217.2852</td><td>35.77455</td><td>21.110000610351562</td><td>0.5</td><td>1.25</td><td>14/0</td><td>1.399999976158142</td><td>6.460000038146973</td><td>0.0</td><td>1.3480000495910645</td><td>1.1990000009536743</td><td>1.159999966621399</td><td>0.9300000071525574</td><td>1.6519999504089355</td><td>0.9829999804496765</td><td>0.0</td><td>0.5509999990463257</td><td>30.899999618530273</td><td>0.10000000149011612</td><td>38.5</td><td>1500K</td><td>45.232</td><td>44.928</td><td>43.58</td><td>44.778999999999996</td><td>0.32000000000000006</td><td>10.0</td><td>10.982999980449677</td><td>10.550999999046326</td><td>11.651999950408936</td><td>10000000000.0</td><td>96161223509.54547</td><td>35563131778.80487</td><td>448745338691.95544</td><td>0.0</td><td>96161223509.54547</td><td>35563131778.80487</td><td>448745338691.95544</td><td>131724355288.35034</td><td>35563131778.80487</td><td>317020983403.6051</td><td>11.119666081639231</td><td>10.550999999046326</td><td>11.501088008825953</td><td>44.69966608163923</td><td>44.130999999046324</td><td>45.08108800882595</td><td>0.7300185550276134</td><td>0.0</td><td>0.2699814449723867</td></tr>\n",
       "<tr><td>219.31589</td><td>35.78185</td><td>20.239999771118164</td><td>0.8899999856948853</td><td>2.3399999141693115</td><td>11/0</td><td>0.4699999988079071</td><td>20.649999618530273</td><td>0.0</td><td>2.0940001010894775</td><td>1.0169999599456787</td><td>0.38999998569488525</td><td>2.6600000858306885</td><td>2.0</td><td>1.5549999475479126</td><td>0.0</td><td>1.3359999656677246</td><td>24.68000030517578</td><td>0.0</td><td>89.30999755859375</td><td>G/K</td><td>45.58</td><td>45.674</td><td>43.58</td><td>44.597</td><td>0.0</td><td>10.0</td><td>11.554999947547913</td><td>11.335999965667725</td><td>12.0</td><td>10000000000.0</td><td>358921891296.0696</td><td>216770393345.62204</td><td>1000000000000.0</td><td>0.0</td><td>358921891296.0696</td><td>216770393345.62204</td><td>1000000000000.0</td><td>575692284641.6917</td><td>216770393345.62204</td><td>424307715358.30835</td><td>11.760190409132063</td><td>11.335999965667725</td><td>11.627680928790125</td><td>45.34019040913206</td><td>44.91599996566772</td><td>45.207680928790126</td><td>0.6234613540451753</td><td>0.0</td><td>0.3765386459548246</td></tr>\n",
       "<tr><td>218.24394</td><td>35.78201</td><td>19.729999542236328</td><td>0.1599999964237213</td><td>1.1100000143051147</td><td>12/0</td><td>1.840000033378601</td><td>45.310001373291016</td><td>0.0</td><td>1.7860000133514404</td><td>1.7979999780654907</td><td>1.0800000429153442</td><td>4.760000228881836</td><td>1.9270000457763672</td><td>1.0889999866485596</td><td>1.3940000534057617</td><td>1.1460000276565552</td><td>35.06999969482422</td><td>0.10000000149011612</td><td>215.91000366210938</td><td>1500K</td><td>45.507</td><td>45.366</td><td>43.58</td><td>45.378</td><td>0.32000000000000006</td><td>11.394000053405762</td><td>11.08899998664856</td><td>11.146000027656555</td><td>11.927000045776367</td><td>247742236228.5142</td><td>122743919342.3455</td><td>139958741170.05414</td><td>845278934256.0497</td><td>247742236228.5142</td><td>122743919342.3455</td><td>139958741170.05414</td><td>845278934256.0497</td><td>510444896740.9138</td><td>387700977398.56836</td><td>334834037515.13586</td><td>11.707948866240745</td><td>11.588496895869913</td><td>11.524829599720354</td><td>45.28794886624074</td><td>45.16849689586991</td><td>45.104829599720354</td><td>0.24046458320190936</td><td>0.48534570099593055</td><td>0.2741897158021601</td></tr>\n",
       "<tr><td>219.41729</td><td>35.78503</td><td>19.979999542236328</td><td>0.8399999737739563</td><td>1.0299999713897705</td><td>11/0</td><td>1.8200000524520874</td><td>62.54999923706055</td><td>0.0</td><td>0.9369999766349792</td><td>1.809999942779541</td><td>0.8100000023841858</td><td>2.9100000858306885</td><td>1.725000023841858</td><td>0.7749999761581421</td><td>0.0</td><td>0.8119999766349792</td><td>72.80000305175781</td><td>0.009999999776482582</td><td>140.97999572753906</td><td>f/g</td><td>45.305</td><td>44.516999999999996</td><td>43.58</td><td>45.39</td><td>0.032</td><td>10.0</td><td>10.774999976158142</td><td>10.81199997663498</td><td>11.725000023841858</td><td>10000000000.0</td><td>59566211082.84066</td><td>64863439865.17402</td><td>530884473375.4338</td><td>0.0</td><td>59566211082.84066</td><td>64863439865.17402</td><td>530884473375.4338</td><td>124429650948.01468</td><td>64863439865.17402</td><td>406454822427.41907</td><td>11.094923882836259</td><td>10.81199997663498</td><td>11.609012280653722</td><td>44.674923882836254</td><td>44.39199997663498</td><td>45.18901228065372</td><td>0.4787139610937811</td><td>0.0</td><td>0.5212860389062189</td></tr>\n",
       "<tr><td>219.13202</td><td>35.78847</td><td>20.6200008392334</td><td>0.9700000286102295</td><td>1.4500000476837158</td><td>11/0</td><td>0.46000000834465027</td><td>37.66999816894531</td><td>0.0</td><td>1.4639999866485596</td><td>0.7730000019073486</td><td>1.559999942779541</td><td>2.549999952316284</td><td>1.8350000381469727</td><td>0.7609999775886536</td><td>0.0</td><td>1.1410000324249268</td><td>49.2599983215332</td><td>0.009999999776482582</td><td>71.43000030517578</td><td>A/F</td><td>45.415</td><td>45.044</td><td>43.58</td><td>44.353</td><td>0.032</td><td>10.0</td><td>10.760999977588654</td><td>11.141000032424927</td><td>11.835000038146973</td><td>10000000000.0</td><td>57676643362.87763</td><td>138356648227.0446</td><td>683911707353.9403</td><td>0.0</td><td>57676643362.87763</td><td>138356648227.0446</td><td>683911707353.9403</td><td>196033291589.9222</td><td>138356648227.0446</td><td>487878415764.01807</td><td>11.292329832203537</td><td>11.141000032424927</td><td>11.688311604908872</td><td>44.87232983220353</td><td>44.721000032424925</td><td>45.268311604908874</td><td>0.2942186140685234</td><td>0.0</td><td>0.7057813859314767</td></tr>\n",
       "<tr><td>218.30962</td><td>35.78912</td><td>19.350000381469727</td><td>0.9700000286102295</td><td>2.859999895095825</td><td>13/0</td><td>0.009999999776482582</td><td>49.91999816894531</td><td>0.0</td><td>2.3420000076293945</td><td>0.0</td><td>2.380000114440918</td><td>1.0499999523162842</td><td>3.0320000648498535</td><td>1.6970000267028809</td><td>0.0</td><td>0.0</td><td>210.38999938964844</td><td>0.019999999552965164</td><td>126.66999816894531</td><td>G/K</td><td>46.611999999999995</td><td>45.922</td><td>43.58</td><td>43.58</td><td>0.064</td><td>10.0</td><td>11.69700002670288</td><td>10.0</td><td>13.032000064849854</td><td>10000000000.0</td><td>497737115582.6278</td><td>10000000000.0</td><td>10764653743701.148</td><td>0.0</td><td>497737115582.6278</td><td>0.0</td><td>10764653743701.148</td><td>497737115582.6278</td><td>0.0</td><td>10266916628118.521</td><td>11.69700002670288</td><td>-inf</td><td>13.011440035374068</td><td>45.27700002670288</td><td>-inf</td><td>46.59144003537406</td><td>1.0</td><td>0.0</td><td>0.0</td></tr>\n",
       "<tr><td>217.05065</td><td>35.79499</td><td>21.40999984741211</td><td>0.9399999976158142</td><td>-99.98999786376953</td><td>13/0</td><td>2.319999933242798</td><td>14.670000076293945</td><td>0.0</td><td>2.0320000648498535</td><td>1.472000002861023</td><td>2.2300000190734863</td><td>2.319999933242798</td><td>2.750999927520752</td><td>1.3480000495910645</td><td>0.0</td><td>0.0</td><td>22.34000015258789</td><td>0.25</td><td>36.349998474121094</td><td>1500K</td><td>46.330999999999996</td><td>45.611999999999995</td><td>43.58</td><td>45.052</td><td>0.8</td><td>10.0</td><td>11.348000049591064</td><td>10.0</td><td>12.750999927520752</td><td>10000000000.0</td><td>222843540373.00818</td><td>10000000000.0</td><td>5636375617606.79</td><td>0.0</td><td>222843540373.00818</td><td>0.0</td><td>5636375617606.79</td><td>222843540373.00818</td><td>0.0</td><td>5413532077233.782</td><td>11.348000049591064</td><td>-inf</td><td>12.733480714482576</td><td>44.92800004959106</td><td>-inf</td><td>46.31348071448257</td><td>1.0</td><td>0.0</td><td>0.0</td></tr>\n",
       "<tr><td>217.57336</td><td>35.81175</td><td>21.309999465942383</td><td>0.18000000715255737</td><td>1.7100000381469727</td><td>9/1</td><td>1.190000057220459</td><td>9.0600004196167</td><td>0.0</td><td>1.684999942779541</td><td>1.3860000371932983</td><td>1.0800000429153442</td><td>0.9100000262260437</td><td>1.8639999628067017</td><td>0.3319999873638153</td><td>1.0119999647140503</td><td>0.9150000214576721</td><td>27.84000015258789</td><td>0.1599999964237213</td><td>51.61000061035156</td><td>1000K</td><td>45.443999999999996</td><td>45.265</td><td>43.58</td><td>44.966</td><td>0.512</td><td>11.01199996471405</td><td>10.331999987363815</td><td>10.915000021457672</td><td>11.863999962806702</td><td>102801621460.12816</td><td>21478304116.374947</td><td>82224269057.25323</td><td>731139020868.1321</td><td>102801621460.12816</td><td>21478304116.374947</td><td>82224269057.25323</td><td>731139020868.1321</td><td>206504194633.75635</td><td>185025890517.3814</td><td>524634826234.37573</td><td>11.31492887772507</td><td>11.267232503117102</td><td>11.719857116485741</td><td>44.894928877725064</td><td>44.8472325031171</td><td>45.29985711648574</td><td>0.1040090452131861</td><td>0.49781856316502937</td><td>0.39817239162178447</td></tr>\n",
       "<tr><td>216.59987</td><td>35.8222</td><td>19.149999618530273</td><td>0.6299999952316284</td><td>-99.98999786376953</td><td>11/0</td><td>1.3899999856948853</td><td>67.41999816894531</td><td>0.0</td><td>1.9919999837875366</td><td>2.1570000648498535</td><td>0.8299999833106995</td><td>6.860000133514404</td><td>1.7239999771118164</td><td>1.2339999675750732</td><td>0.0</td><td>0.9049999713897705</td><td>27.489999771118164</td><td>0.0</td><td>254.3000030517578</td><td>1000K</td><td>45.303999999999995</td><td>45.571999999999996</td><td>43.58</td><td>45.736999999999995</td><td>0.0</td><td>10.0</td><td>11.233999967575073</td><td>10.90499997138977</td><td>11.723999977111816</td><td>10000000000.0</td><td>171395717954.24014</td><td>80352606925.13365</td><td>529663415977.3409</td><td>0.0</td><td>171395717954.24014</td><td>80352606925.13365</td><td>529663415977.3409</td><td>251748324879.37378</td><td>80352606925.13365</td><td>277915091097.9671</td><td>11.400966589461744</td><td>10.90499997138977</td><td>11.443912130090165</td><td>44.980966589461744</td><td>44.48499997138977</td><td>45.02391213009017</td><td>0.6808216818775858</td><td>0.0</td><td>0.3191783181224142</td></tr>\n",
       "<tr><td>217.45021</td><td>35.82786</td><td>20.110000610351562</td><td>0.9800000190734863</td><td>-99.98999786376953</td><td>11/0</td><td>1.190000057220459</td><td>56.93000030517578</td><td>0.0</td><td>0.5270000100135803</td><td>1.7400000095367432</td><td>1.2699999809265137</td><td>2.4700000286102295</td><td>2.003999948501587</td><td>0.0</td><td>0.0</td><td>1.2059999704360962</td><td>78.16999816894531</td><td>0.05999999865889549</td><td>146.22000122070312</td><td>b/a</td><td>45.583999999999996</td><td>44.107</td><td>43.58</td><td>45.32</td><td>0.192</td><td>10.0</td><td>10.0</td><td>11.205999970436096</td><td>12.003999948501587</td><td>10000000000.0</td><td>10000000000.0</td><td>160694114362.29196</td><td>1009252766400.0109</td><td>0.0</td><td>0.0</td><td>160694114362.29196</td><td>1009252766400.0109</td><td>160694114362.29196</td><td>160694114362.29196</td><td>848558652037.7189</td><td>11.205999970436096</td><td>11.205999970436096</td><td>11.928681865953633</td><td>44.785999970436094</td><td>44.785999970436094</td><td>45.50868186595363</td><td>0.0</td><td>0.0</td><td>1.0</td></tr>\n",
       "</table>"
      ],
      "text/plain": [
       "<Table length=733>\n",
       "    RA      Dec    ...      SbcFracT1            IrrFracT1      \n",
       " float64  float64  ...       float64              float64       \n",
       "--------- -------- ... ------------------- ---------------------\n",
       "217.78476 32.37835 ...                 0.0   0.13899677471615116\n",
       "216.34027 32.37844 ...                 0.0                   0.0\n",
       "217.72965 32.42403 ...                 1.0                   0.0\n",
       "217.10787 32.42816 ...                 0.0                   0.0\n",
       "218.17979  32.4394 ...                 0.0    0.8823383112953391\n",
       "217.51987 32.44044 ...                 0.0                   0.0\n",
       "217.03198 32.44785 ...                 0.0                   1.0\n",
       "216.24576  32.4713 ...                 0.0   0.03811729524777674\n",
       "218.12346 32.47383 ...                 0.0                   0.0\n",
       "216.49839 32.47729 ...  0.9995823442077428 0.0004176557922570683\n",
       "      ...      ... ...                 ...                   ...\n",
       " 217.2852 35.77455 ...                 0.0    0.2699814449723867\n",
       "219.31589 35.78185 ...                 0.0    0.3765386459548246\n",
       "218.24394 35.78201 ... 0.48534570099593055    0.2741897158021601\n",
       "219.41729 35.78503 ...                 0.0    0.5212860389062189\n",
       "219.13202 35.78847 ...                 0.0    0.7057813859314767\n",
       "218.30962 35.78912 ...                 0.0                   0.0\n",
       "217.05065 35.79499 ...                 0.0                   0.0\n",
       "217.57336 35.81175 ... 0.49781856316502937   0.39817239162178447\n",
       "216.59987  35.8222 ...                 0.0    0.3191783181224142\n",
       "217.45021 35.82786 ...                 0.0                   1.0"
      ]
     },
     "execution_count": 56,
     "metadata": {},
     "output_type": "execute_result"
    }
   ],
   "source": [
    "T1LMatched1045"
   ]
  },
  {
   "cell_type": "code",
   "execution_count": 57,
   "metadata": {},
   "outputs": [
    {
     "data": {
      "text/plain": [
       "416.8693834703355"
      ]
     },
     "execution_count": 57,
     "metadata": {},
     "output_type": "execute_result"
    }
   ],
   "source": [
    "10**(2.62)"
   ]
  },
  {
   "cell_type": "code",
   "execution_count": null,
   "metadata": {},
   "outputs": [],
   "source": []
  },
  {
   "cell_type": "code",
   "execution_count": null,
   "metadata": {},
   "outputs": [],
   "source": []
  },
  {
   "cell_type": "code",
   "execution_count": null,
   "metadata": {},
   "outputs": [],
   "source": []
  },
  {
   "cell_type": "code",
   "execution_count": null,
   "metadata": {},
   "outputs": [],
   "source": []
  },
  {
   "cell_type": "code",
   "execution_count": null,
   "metadata": {},
   "outputs": [],
   "source": []
  },
  {
   "cell_type": "code",
   "execution_count": null,
   "metadata": {},
   "outputs": [],
   "source": [
    "\n"
   ]
  },
  {
   "cell_type": "code",
   "execution_count": null,
   "metadata": {},
   "outputs": [],
   "source": []
  },
  {
   "cell_type": "code",
   "execution_count": null,
   "metadata": {},
   "outputs": [],
   "source": []
  }
 ],
 "metadata": {
  "kernelspec": {
   "display_name": "Python 3",
   "language": "python",
   "name": "python3"
  },
  "language_info": {
   "codemirror_mode": {
    "name": "ipython",
    "version": 3
   },
   "file_extension": ".py",
   "mimetype": "text/x-python",
   "name": "python",
   "nbconvert_exporter": "python",
   "pygments_lexer": "ipython3",
   "version": "3.7.1"
  }
 },
 "nbformat": 4,
 "nbformat_minor": 2
}
