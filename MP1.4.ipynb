{
 "cells": [
  {
   "cell_type": "code",
   "execution_count": 1,
   "metadata": {},
   "outputs": [],
   "source": [
    "%matplotlib inline\n",
    "import numpy as np\n",
    "import pylab as plt\n",
    "from matplotlib.gridspec import GridSpec\n",
    "from astropy.table import Table, vstack, Column, MaskedColumn\n",
    "from astropy import units as u\n",
    "from scipy.stats import kde\n",
    "from scipy.stats import binned_statistic as b_s\n",
    "from scipy.stats import binned_statistic_2d as bs2d\n",
    "from astropy import units as un\n",
    "from astropy import constants as con\n",
    "from matplotlib.lines import Line2D\n",
    "\n",
    "from astropy.cosmology import Planck15\n",
    "from tqdm import trange\n",
    "from scipy.stats import ks_2samp\n",
    "from scipy import special\n",
    "\n",
    "import os\n",
    "os.environ['PATH'] = os.environ['PATH'] + ':/usr/texbin'\n",
    "\n",
    "plt.rc('path', simplify=True)\n",
    "plt.rc('text', usetex=True)\n",
    "plt.rc('font', family='serif')\n",
    "plt.rc('axes', labelsize='xx-large', facecolor='none', linewidth=0.7)\n",
    "plt.rc('xtick', labelsize='x-large')\n",
    "plt.rc('ytick', labelsize='x-large')\n",
    "plt.rc('lines', markersize=4, linewidth=1, markeredgewidth=0.2)\n",
    "plt.rc('legend', numpoints=1, frameon=False, handletextpad=0.3, scatterpoints=1, handlelength=2, handleheight=0.1)\n",
    "#plt.rc('savefig', facecolor='none', frameon='False')\n",
    "\n",
    "params =   {'font.size' : 16,\n",
    "            'xtick.major.size': 8,\n",
    "            'ytick.major.size': 8,\n",
    "            'xtick.minor.size': 3,\n",
    "            'ytick.minor.size': 3,\n",
    "            }\n",
    "plt.rcParams.update(params) \n",
    "\n",
    "np.warnings.filterwarnings('ignore')\n",
    "\n",
    "def legend_outside_plot(ax,location='top',ncol=3,pad=0, handles=None, labels=None):\n",
    "    if handles==None:\n",
    "        handles, labels = ax.get_legend_handles_labels()\n",
    "    if location=='top':\n",
    "        leg = ax.legend(handles=handles, labels=labels, bbox_to_anchor=(0,1.02+pad,1,0.2), loc=\"lower left\",\n",
    "                mode=\"expand\", borderaxespad=0, ncol=ncol)\n",
    "    else:\n",
    "        print(\"Location\",location,\"not implemented. Please code up\")\n",
    "    return leg"
   ]
  },
  {
   "cell_type": "code",
   "execution_count": 2,
   "metadata": {},
   "outputs": [],
   "source": [
    "data = Table.read('data.txt', format = 'ascii' )"
   ]
  },
  {
   "cell_type": "code",
   "execution_count": 3,
   "metadata": {},
   "outputs": [],
   "source": [
    "data.rename_column('col1', 'RA')  \n",
    "data.rename_column('col2', 'Dec') \n",
    "data.rename_column('col3', 'Imag') \n",
    "data.rename_column('col4', 'S')  \n",
    "data.rename_column('col5', 'zspec') \n",
    "data.rename_column('col6', 'N')  \n",
    "data.rename_column('col7', 'zG')  \n",
    "data.rename_column('col8', 'chi2G')  \n",
    "data.rename_column('col9', 'LEll')  \n",
    "data.rename_column('col10', 'LSbc') \n",
    "data.rename_column('col11', 'LIrr')\n",
    "data.rename_column('col12', 'zGA') \n",
    "data.rename_column('col13', 'chi2GA') \n",
    "data.rename_column('col14', 'LAGNp') \n",
    "data.rename_column('col15', 'LELLp') \n",
    "data.rename_column('col16', 'LSbcp') \n",
    "data.rename_column('col17', 'LIrrp') \n",
    "data.rename_column('col18', 'F') \n",
    "data.rename_column('col19', 'EBV') \n",
    "data.rename_column('col20', 'Chi2S') \n",
    "data.rename_column('col21', 'SType') "
   ]
  },
  {
   "cell_type": "code",
   "execution_count": 4,
   "metadata": {},
   "outputs": [],
   "source": [
    "l0 = data[data['LAGNp']!=0.0]"
   ]
  },
  {
   "cell_type": "code",
   "execution_count": 5,
   "metadata": {},
   "outputs": [
    {
     "data": {
      "text/html": [
       "<i>Table length=305293</i>\n",
       "<table id=\"table140284730667472\" class=\"table-striped table-bordered table-condensed\">\n",
       "<thead><tr><th>RA</th><th>Dec</th><th>Imag</th><th>S</th><th>zspec</th><th>N</th><th>zG</th><th>chi2G</th><th>LEll</th><th>LSbc</th><th>LIrr</th><th>zGA</th><th>chi2GA</th><th>LAGNp</th><th>LELLp</th><th>LSbcp</th><th>LIrrp</th><th>F</th><th>EBV</th><th>Chi2S</th><th>SType</th></tr></thead>\n",
       "<thead><tr><th>float64</th><th>float64</th><th>float64</th><th>float64</th><th>float64</th><th>str4</th><th>float64</th><th>float64</th><th>float64</th><th>float64</th><th>float64</th><th>float64</th><th>float64</th><th>float64</th><th>float64</th><th>float64</th><th>float64</th><th>float64</th><th>float64</th><th>float64</th><th>str5</th></tr></thead>\n",
       "<tr><td>217.18223</td><td>32.30523</td><td>22.77</td><td>0.95</td><td>-99.99</td><td>8/3</td><td>1.27</td><td>2.53</td><td>0.0</td><td>0.829</td><td>0.361</td><td>1.2</td><td>2.9</td><td>0.651</td><td>0.0</td><td>0.768</td><td>0.0</td><td>0.54</td><td>0.1</td><td>8.92</td><td>1500K</td></tr>\n",
       "<tr><td>217.86705</td><td>32.30527</td><td>20.02</td><td>0.03</td><td>-99.99</td><td>12/0</td><td>0.54</td><td>37.08</td><td>0.44</td><td>0.47</td><td>-0.461</td><td>0.51</td><td>45.75</td><td>0.268</td><td>0.546</td><td>0.0</td><td>-0.237</td><td>0.24</td><td>0.5</td><td>56.73</td><td>k/m</td></tr>\n",
       "<tr><td>217.88212</td><td>32.30531</td><td>22.67</td><td>0.03</td><td>-99.99</td><td>11/1</td><td>0.85</td><td>0.55</td><td>0.0</td><td>0.0</td><td>0.121</td><td>0.81</td><td>0.63</td><td>-0.31</td><td>0.0</td><td>0.0</td><td>-0.052</td><td>0.53</td><td>0.04</td><td>1.09</td><td>f/g</td></tr>\n",
       "<tr><td>217.84705</td><td>32.30564</td><td>20.44</td><td>0.03</td><td>-99.99</td><td>11/0</td><td>1.08</td><td>18.79</td><td>0.0</td><td>1.319</td><td>1.2</td><td>1.01</td><td>23.96</td><td>0.802</td><td>0.0</td><td>1.278</td><td>0.947</td><td>0.24</td><td>0.05</td><td>88.09</td><td>f/g</td></tr>\n",
       "<tr><td>217.70446</td><td>32.30566</td><td>19.34</td><td>0.92</td><td>-99.99</td><td>11/0</td><td>0.19</td><td>117.86</td><td>-0.28</td><td>-0.986</td><td>0.0</td><td>0.15</td><td>129.12</td><td>-0.636</td><td>-0.513</td><td>0.0</td><td>0.0</td><td>0.74</td><td>1.0</td><td>82.43</td><td>k/m</td></tr>\n",
       "<tr><td>217.48821</td><td>32.30604</td><td>19.71</td><td>0.03</td><td>-99.99</td><td>9/1</td><td>0.41</td><td>1.13</td><td>0.0</td><td>-1.56</td><td>0.629</td><td>0.37</td><td>0.63</td><td>-0.693</td><td>0.0</td><td>0.0</td><td>0.51</td><td>2.96</td><td>0.0</td><td>29.92</td><td>f/g</td></tr>\n",
       "<tr><td>217.36268</td><td>32.3061</td><td>18.71</td><td>0.03</td><td>-99.99</td><td>12/0</td><td>0.21</td><td>12.43</td><td>0.0</td><td>-0.735</td><td>0.325</td><td>0.21</td><td>13.6</td><td>-0.711</td><td>0.0</td><td>0.0</td><td>0.326</td><td>0.7</td><td>0.0</td><td>57.12</td><td>f/g</td></tr>\n",
       "<tr><td>217.24316</td><td>32.30626</td><td>22.34</td><td>0.95</td><td>-99.99</td><td>9/2</td><td>1.08</td><td>2.14</td><td>0.0</td><td>-1.455</td><td>0.627</td><td>0.83</td><td>1.56</td><td>0.239</td><td>0.0</td><td>-0.597</td><td>0.013</td><td>2.28</td><td>0.03</td><td>3.9</td><td>f/g</td></tr>\n",
       "<tr><td>217.16662</td><td>32.30637</td><td>21.26</td><td>0.13</td><td>-99.99</td><td>10/1</td><td>0.69</td><td>3.23</td><td>0.0</td><td>0.0</td><td>0.531</td><td>0.62</td><td>3.48</td><td>-0.314</td><td>-1.659</td><td>0.0</td><td>0.358</td><td>0.78</td><td>0.0</td><td>5.63</td><td>f/g</td></tr>\n",
       "<tr><td>217.27482</td><td>32.3064</td><td>19.08</td><td>0.03</td><td>-99.99</td><td>10/2</td><td>0.04</td><td>148.17</td><td>0.0</td><td>-1.412</td><td>0.0</td><td>2.83</td><td>130.97</td><td>3.271</td><td>1.532</td><td>0.0</td><td>0.0</td><td>1.46</td><td>0.1</td><td>191.74</td><td>g/k</td></tr>\n",
       "<tr><td>...</td><td>...</td><td>...</td><td>...</td><td>...</td><td>...</td><td>...</td><td>...</td><td>...</td><td>...</td><td>...</td><td>...</td><td>...</td><td>...</td><td>...</td><td>...</td><td>...</td><td>...</td><td>...</td><td>...</td><td>...</td></tr>\n",
       "<tr><td>217.46691</td><td>35.83682</td><td>22.42</td><td>0.03</td><td>-99.99</td><td>8/2</td><td>0.59</td><td>1.15</td><td>0.0</td><td>-0.466</td><td>-0.251</td><td>0.62</td><td>1.55</td><td>-0.927</td><td>0.0</td><td>-0.412</td><td>-0.285</td><td>0.23</td><td>0.0</td><td>2.71</td><td>G/K</td></tr>\n",
       "<tr><td>216.45736</td><td>35.83683</td><td>22.78</td><td>0.94</td><td>-99.99</td><td>10/0</td><td>1.53</td><td>0.4</td><td>0.0</td><td>1.51</td><td>0.335</td><td>1.52</td><td>0.49</td><td>0.76</td><td>0.488</td><td>1.431</td><td>0.0</td><td>0.46</td><td>0.1</td><td>8.97</td><td>1000K</td></tr>\n",
       "<tr><td>217.3773</td><td>35.83683</td><td>20.35</td><td>0.05</td><td>-99.99</td><td>8/2</td><td>0.74</td><td>1.09</td><td>0.96</td><td>0.748</td><td>0.0</td><td>0.73</td><td>1.65</td><td>0.12</td><td>1.028</td><td>0.343</td><td>0.0</td><td>0.02</td><td>0.16</td><td>13.07</td><td>3000K</td></tr>\n",
       "<tr><td>218.31186</td><td>35.83712</td><td>21.96</td><td>0.12</td><td>-99.99</td><td>8/2</td><td>0.55</td><td>0.78</td><td>-0.641</td><td>0.0</td><td>-0.197</td><td>0.56</td><td>1.04</td><td>-1.108</td><td>-0.599</td><td>0.0</td><td>-0.232</td><td>0.26</td><td>0.0</td><td>3.08</td><td>G/K</td></tr>\n",
       "<tr><td>216.59854</td><td>35.83722</td><td>20.38</td><td>0.08</td><td>-99.99</td><td>10/0</td><td>0.48</td><td>4.9</td><td>0.0</td><td>-0.275</td><td>0.442</td><td>0.48</td><td>4.18</td><td>-0.443</td><td>0.0</td><td>-0.276</td><td>0.398</td><td>1.52</td><td>0.0</td><td>68.16</td><td>g/k</td></tr>\n",
       "<tr><td>216.62134</td><td>35.8374</td><td>20.51</td><td>0.03</td><td>-99.99</td><td>9/0</td><td>1.05</td><td>66.59</td><td>0.0</td><td>1.678</td><td>0.889</td><td>0.72</td><td>2.26</td><td>1.502</td><td>0.0</td><td>-0.146</td><td>0.773</td><td>72.02</td><td>1.0</td><td>187.0</td><td>2500K</td></tr>\n",
       "<tr><td>218.37061</td><td>35.83753</td><td>22.02</td><td>0.03</td><td>-99.99</td><td>10/0</td><td>0.81</td><td>0.25</td><td>0.0</td><td>0.483</td><td>0.039</td><td>0.77</td><td>0.36</td><td>-0.268</td><td>0.0</td><td>0.419</td><td>-0.116</td><td>0.1</td><td>0.13</td><td>5.52</td><td>G/K</td></tr>\n",
       "<tr><td>216.61578</td><td>35.83764</td><td>21.39</td><td>0.49</td><td>-99.99</td><td>9/1</td><td>0.5</td><td>2.13</td><td>-0.207</td><td>-0.113</td><td>0.0</td><td>0.45</td><td>2.79</td><td>-0.354</td><td>-0.108</td><td>0.0</td><td>0.0</td><td>0.29</td><td>0.4</td><td>3.17</td><td>K/M</td></tr>\n",
       "<tr><td>216.26838</td><td>35.83767</td><td>21.15</td><td>0.17</td><td>-99.99</td><td>10/0</td><td>0.81</td><td>2.43</td><td>0.59</td><td>0.778</td><td>0.0</td><td>0.73</td><td>0.83</td><td>0.741</td><td>0.706</td><td>0.0</td><td>-0.607</td><td>6.75</td><td>0.5</td><td>11.46</td><td>3000K</td></tr>\n",
       "<tr><td>216.17744</td><td>35.83784</td><td>22.95</td><td>0.58</td><td>-99.99</td><td>10/0</td><td>1.23</td><td>2.77</td><td>0.0</td><td>0.814</td><td>0.007</td><td>1.18</td><td>3.65</td><td>0.95</td><td>0.0</td><td>0.612</td><td>0.018</td><td>0.4</td><td>0.63</td><td>5.1</td><td>1000K</td></tr>\n",
       "</table>"
      ],
      "text/plain": [
       "<Table length=305293>\n",
       "    RA      Dec      Imag     S     zspec  ...    F      EBV    Chi2S  SType\n",
       " float64  float64  float64 float64 float64 ... float64 float64 float64  str5\n",
       "--------- -------- ------- ------- ------- ... ------- ------- ------- -----\n",
       "217.18223 32.30523   22.77    0.95  -99.99 ...    0.54     0.1    8.92 1500K\n",
       "217.86705 32.30527   20.02    0.03  -99.99 ...    0.24     0.5   56.73   k/m\n",
       "217.88212 32.30531   22.67    0.03  -99.99 ...    0.53    0.04    1.09   f/g\n",
       "217.84705 32.30564   20.44    0.03  -99.99 ...    0.24    0.05   88.09   f/g\n",
       "217.70446 32.30566   19.34    0.92  -99.99 ...    0.74     1.0   82.43   k/m\n",
       "217.48821 32.30604   19.71    0.03  -99.99 ...    2.96     0.0   29.92   f/g\n",
       "217.36268  32.3061   18.71    0.03  -99.99 ...     0.7     0.0   57.12   f/g\n",
       "217.24316 32.30626   22.34    0.95  -99.99 ...    2.28    0.03     3.9   f/g\n",
       "217.16662 32.30637   21.26    0.13  -99.99 ...    0.78     0.0    5.63   f/g\n",
       "217.27482  32.3064   19.08    0.03  -99.99 ...    1.46     0.1  191.74   g/k\n",
       "      ...      ...     ...     ...     ... ...     ...     ...     ...   ...\n",
       "217.46691 35.83682   22.42    0.03  -99.99 ...    0.23     0.0    2.71   G/K\n",
       "216.45736 35.83683   22.78    0.94  -99.99 ...    0.46     0.1    8.97 1000K\n",
       " 217.3773 35.83683   20.35    0.05  -99.99 ...    0.02    0.16   13.07 3000K\n",
       "218.31186 35.83712   21.96    0.12  -99.99 ...    0.26     0.0    3.08   G/K\n",
       "216.59854 35.83722   20.38    0.08  -99.99 ...    1.52     0.0   68.16   g/k\n",
       "216.62134  35.8374   20.51    0.03  -99.99 ...   72.02     1.0   187.0 2500K\n",
       "218.37061 35.83753   22.02    0.03  -99.99 ...     0.1    0.13    5.52   G/K\n",
       "216.61578 35.83764   21.39    0.49  -99.99 ...    0.29     0.4    3.17   K/M\n",
       "216.26838 35.83767   21.15    0.17  -99.99 ...    6.75     0.5   11.46 3000K\n",
       "216.17744 35.83784   22.95    0.58  -99.99 ...     0.4    0.63     5.1 1000K"
      ]
     },
     "execution_count": 5,
     "metadata": {},
     "output_type": "execute_result"
    }
   ],
   "source": [
    "l0"
   ]
  },
  {
   "cell_type": "code",
   "execution_count": 6,
   "metadata": {},
   "outputs": [],
   "source": [
    "LAGNerg = MaskedColumn(name = \"LAGNerg\", data = ((l0['LAGNp'])+43.58) , dtype=np.float64) # 44 or 43?\n",
    "l0.add_column(LAGNerg)\n",
    "#l0.replace_column('LAGNerg',LAGNerg)\n",
    "\n",
    "\n",
    "\n",
    "logF = MaskedColumn(name = \"logF\", data = np.log10(l0['F']) , dtype=np.float64) \n",
    "l0.add_column(logF)\n",
    "#l0.replace_column('logF',logF)"
   ]
  },
  {
   "cell_type": "code",
   "execution_count": 7,
   "metadata": {},
   "outputs": [
    {
     "name": "stdout",
     "output_type": "stream",
     "text": [
      "305293\n",
      "16907\n",
      "41476\n",
      "5760\n"
     ]
    }
   ],
   "source": [
    "I1 = np.array(l0['Imag'])\n",
    "I = sorted(I1, reverse=False)\n",
    "I = MaskedColumn(name = \"I\", data = sorted(I1, reverse=False)  , dtype=np.float64)\n",
    "l0.add_column(I)\n",
    "#l0.replace_column('I',I )\n",
    "print(len(I))\n",
    "\n",
    "\n",
    "#adding indexing\n",
    "index = np.linspace(1,305293,305293)\n",
    "index = MaskedColumn(name = \"index\", data = np.linspace(1,305293,305293)  , dtype=np.float64)\n",
    "l0.add_column(index)\n",
    "#l0.replace_column('index',index )\n",
    "\n",
    "\n",
    "#for SA\n",
    "SA = MaskedColumn(name = \"SA\", data = [i/8.54 for i in l0['index']]  , dtype=np.float64)\n",
    "l0.add_column(SA)\n",
    "#l0.replace_column('SA',SA )\n",
    "\n",
    "#splitting by F-ratio as in Figure 17\n",
    "\n",
    "F10 = l0[l0['F']>=10]\n",
    "I1 = np.array(F10['Imag'])\n",
    "I10 = sorted(I1, reverse=False)\n",
    "L1 = np.array(F10['LAGNerg'])\n",
    "L10 = sorted(L1, reverse=False)\n",
    "SA10 = [i/8.54 for i in F10['index']]\n",
    "F5 = l0[l0['F']>=5]\n",
    "I1 = np.array(F5['Imag'])\n",
    "I5 = sorted(I1, reverse=False)\n",
    "L1 = np.array(F5['LAGNerg'])\n",
    "L5 = sorted(L1, reverse=False)\n",
    "SA5 = [i/8.54 for i in F5['index']]\n",
    "F20 = l0[l0['F']>=20]\n",
    "I1 = np.array(F20['Imag'])\n",
    "I20 = sorted(I1, reverse=False)\n",
    "L1 = np.array(F20['LAGNerg'])\n",
    "L20 = sorted(L1, reverse=False)\n",
    "SA20 = [i/8.54 for i in F20['index']]\n",
    "\n",
    "print (len(L10))\n",
    "print (len(L5))\n",
    "print (len(L20))\n",
    "\n"
   ]
  },
  {
   "cell_type": "code",
   "execution_count": 8,
   "metadata": {},
   "outputs": [
    {
     "name": "stdout",
     "output_type": "stream",
     "text": [
      "23225\n",
      "407850\n"
     ]
    }
   ],
   "source": [
    "F=8\n",
    "FM = data[data['F']>=F]\n",
    "FL = data[data['F']<=F]\n",
    "print (len(FM))\n",
    "print (len(FL))"
   ]
  },
  {
   "cell_type": "code",
   "execution_count": 9,
   "metadata": {},
   "outputs": [
    {
     "name": "stdout",
     "output_type": "stream",
     "text": [
      "0.8310120603677423\n",
      "0.0569449552531568\n"
     ]
    }
   ],
   "source": [
    "p = 0.01\n",
    "prob = 1-(p/(1-2*p))*((len(FL)/len(FM))-1)\n",
    "print (prob)\n",
    "print (len(FM)/len(FL))"
   ]
  },
  {
   "cell_type": "code",
   "execution_count": 10,
   "metadata": {},
   "outputs": [
    {
     "name": "stdout",
     "output_type": "stream",
     "text": [
      "305293\n",
      "16907\n",
      "41476\n",
      "5760\n"
     ]
    }
   ],
   "source": [
    "I1 = np.array(l0['Imag'])\n",
    "I = sorted(I1, reverse=False)\n",
    "I = MaskedColumn(name = \"I\", data = sorted(I1, reverse=False)  , dtype=np.float64)\n",
    "#l0.add_column(I)\n",
    "l0.replace_column('I',I )\n",
    "print(len(I))\n",
    "\n",
    "\n",
    "#adding indexing\n",
    "index = np.linspace(1,305293,305293)\n",
    "index = MaskedColumn(name = \"index\", data = np.linspace(1,305293,305293)  , dtype=np.float64)\n",
    "#l0.add_column(index)\n",
    "l0.replace_column('index',index )\n",
    "\n",
    "\n",
    "#for SA\n",
    "SA = MaskedColumn(name = \"SA\", data = [i/8.54 for i in l0['index']]  , dtype=np.float64)\n",
    "#l0.add_column(SA)\n",
    "l0.replace_column('SA',SA )\n",
    "\n",
    "#splitting by F-ratio as in Figure 17\n",
    "\n",
    "F10 = l0[l0['F']>=10]\n",
    "I1 = np.array(F10['Imag'])\n",
    "I10 = sorted(I1, reverse=False)\n",
    "L1 = np.array(F10['LAGNerg'])\n",
    "L10 = sorted(L1, reverse=False)\n",
    "SA10 = [i/8.54 for i in F10['index']]\n",
    "F5 = l0[l0['F']>=5]\n",
    "I1 = np.array(F5['Imag'])\n",
    "I5 = sorted(I1, reverse=False)\n",
    "L1 = np.array(F5['LAGNerg'])\n",
    "L5 = sorted(L1, reverse=False)\n",
    "SA5 = [i/8.54 for i in F5['index']]\n",
    "F20 = l0[l0['F']>=20]\n",
    "I1 = np.array(F20['Imag'])\n",
    "I20 = sorted(I1, reverse=False)\n",
    "L1 = np.array(F20['LAGNerg'])\n",
    "L20 = sorted(L1, reverse=False)\n",
    "SA20 = [i/8.54 for i in F20['index']]\n",
    "\n",
    "print (len(L10))\n",
    "print (len(L5))\n",
    "print (len(L20))\n",
    "\n"
   ]
  },
  {
   "cell_type": "code",
   "execution_count": 11,
   "metadata": {},
   "outputs": [
    {
     "name": "stdout",
     "output_type": "stream",
     "text": [
      "305293\n",
      "41476\n",
      "16907\n",
      "5760\n"
     ]
    }
   ],
   "source": [
    "#need to sum the galaxy luminosity so change to log ergs then unlog and add then re log\n",
    "#the change from l0 to lg0 is removing the sample that have l = 0 from lg as well \n",
    "#check the numbers in sample for lg0 with the numbers for l0 as this mught affect size of cut? though maybe ignore lg0?\n",
    "#note by limiting samplee not only by non zero Lagn but also by non zero Lg's we are reducing the number of data points, potentially significantly\n",
    "#lets check by how much..\n",
    "# cuts it down considerably I wonder if it would be better to keep if not all of them are 0 just not add the zero  though is that not what i did before?\n",
    "#careful with when i re-run this box because the orignal won't run without taking the 3's back out \n",
    "#find and replace all the 0's with a number far larger than real then after adding make a range cut to take them out ?\n",
    "\n",
    "\n",
    "LSbcerg = MaskedColumn(name = \"LSbcerg\", data = ((l0['LSbc'])+43.58) , dtype=np.float64) # 44 or 43?\n",
    "l0.add_column(LSbcerg)\n",
    "#l0.replace_column('LSbcerg',LSbcerg)\n",
    "\n",
    "LEllerg = MaskedColumn(name = \"LEllerg\", data = ((l0['LEll'])+43.58) , dtype=np.float64) # 44 or 43?\n",
    "l0.add_column(LEllerg)\n",
    "#l0.replace_column('LEllerg',LEllerg)\n",
    "\n",
    "LIrrerg = MaskedColumn(name = \"LIrrerg\", data = ((l0['LIrr'])+43.58) , dtype=np.float64) # 44 or 43?\n",
    "l0.add_column(LIrrerg)\n",
    "#l0.replace_column('LIrrerg',LIrrerg)\n",
    "\n",
    "\n",
    "Lg = MaskedColumn(name = \"Lg\", data = list(map(sum, zip(10**(l0['LEllerg']),10**(l0['LSbcerg']),10**(l0['LIrrerg']))))  , dtype=np.float64)\n",
    "l0.add_column(Lg)\n",
    "#l0.replace_column('Lg',Lg )\n",
    "\n",
    "LGlog =  MaskedColumn(name = \"LGlog\", data = np.log10(l0['Lg']) , dtype=np.float64) \n",
    "l0.add_column(LGlog)\n",
    "#l0.replace_column('LGlog',LGlog)\n",
    "\n",
    "\n",
    "F10 = l0[l0['F']>=10]\n",
    "I1 = np.array(F10['Imag'])\n",
    "I10 = sorted(I1, reverse=False)\n",
    "L1 = np.array(F10['LAGNerg'])\n",
    "L10 = sorted(L1, reverse=False)\n",
    "SA10 = [i/8.54 for i in F10['index']]\n",
    "F5 = l0[l0['F']>=5]\n",
    "I1 = np.array(F5['Imag'])\n",
    "I5 = sorted(I1, reverse=False)\n",
    "L1 = np.array(F5['LAGNerg'])\n",
    "L5 = sorted(L1, reverse=False)\n",
    "SA5 = [i/8.54 for i in F5['index']]\n",
    "F20 = l0[l0['F']>=20]\n",
    "I1 = np.array(F20['Imag'])\n",
    "I20 = sorted(I1, reverse=False)\n",
    "L1 = np.array(F20['LAGNerg'])\n",
    "L20 = sorted(L1, reverse=False)\n",
    "SA20 = [i/8.54 for i in F20['index']]\n",
    "\n",
    "print (len(l0['LAGNerg']))\n",
    "print (len(F5['LAGNerg']))\n",
    "print (len(F10['LAGNerg']))\n",
    "print (len(F20['LAGNerg']))"
   ]
  },
  {
   "cell_type": "code",
   "execution_count": 12,
   "metadata": {},
   "outputs": [
    {
     "data": {
      "text/html": [
       "<i>Table length=305293</i>\n",
       "<table id=\"table140284730667472\" class=\"table-striped table-bordered table-condensed\">\n",
       "<thead><tr><th>RA</th><th>Dec</th><th>Imag</th><th>S</th><th>zspec</th><th>N</th><th>zG</th><th>chi2G</th><th>LEll</th><th>LSbc</th><th>LIrr</th><th>zGA</th><th>chi2GA</th><th>LAGNp</th><th>LELLp</th><th>LSbcp</th><th>LIrrp</th><th>F</th><th>EBV</th><th>Chi2S</th><th>SType</th><th>LAGNerg</th><th>logF</th><th>I</th><th>index</th><th>SA</th><th>LSbcerg</th><th>LEllerg</th><th>LIrrerg</th><th>Lg</th><th>LGlog</th></tr></thead>\n",
       "<thead><tr><th>float64</th><th>float64</th><th>float64</th><th>float64</th><th>float64</th><th>str4</th><th>float64</th><th>float64</th><th>float64</th><th>float64</th><th>float64</th><th>float64</th><th>float64</th><th>float64</th><th>float64</th><th>float64</th><th>float64</th><th>float64</th><th>float64</th><th>float64</th><th>str5</th><th>float64</th><th>float64</th><th>float64</th><th>float64</th><th>float64</th><th>float64</th><th>float64</th><th>float64</th><th>float64</th><th>float64</th></tr></thead>\n",
       "<tr><td>217.18223</td><td>32.30523</td><td>22.77</td><td>0.95</td><td>-99.99</td><td>8/3</td><td>1.27</td><td>2.53</td><td>0.0</td><td>0.829</td><td>0.361</td><td>1.2</td><td>2.9</td><td>0.651</td><td>0.0</td><td>0.768</td><td>0.0</td><td>0.54</td><td>0.1</td><td>8.92</td><td>1500K</td><td>44.231</td><td>-0.26760624017703144</td><td>-30.18</td><td>1.0</td><td>0.117096018735363</td><td>44.409</td><td>43.58</td><td>43.940999999999995</td><td>3.817644801226373e+44</td><td>44.58179551859838</td></tr>\n",
       "<tr><td>217.86705</td><td>32.30527</td><td>20.02</td><td>0.03</td><td>-99.99</td><td>12/0</td><td>0.54</td><td>37.08</td><td>0.44</td><td>0.47</td><td>-0.461</td><td>0.51</td><td>45.75</td><td>0.268</td><td>0.546</td><td>0.0</td><td>-0.237</td><td>0.24</td><td>0.5</td><td>56.73</td><td>k/m</td><td>43.848</td><td>-0.619788758288394</td><td>-29.15</td><td>2.0</td><td>0.234192037470726</td><td>44.05</td><td>44.019999999999996</td><td>43.119</td><td>2.3006694855720697e+44</td><td>44.36185423235735</td></tr>\n",
       "<tr><td>217.88212</td><td>32.30531</td><td>22.67</td><td>0.03</td><td>-99.99</td><td>11/1</td><td>0.85</td><td>0.55</td><td>0.0</td><td>0.0</td><td>0.121</td><td>0.81</td><td>0.63</td><td>-0.31</td><td>0.0</td><td>0.0</td><td>-0.052</td><td>0.53</td><td>0.04</td><td>1.09</td><td>f/g</td><td>43.269999999999996</td><td>-0.27572413039921095</td><td>-28.79</td><td>3.0</td><td>0.35128805620608905</td><td>43.58</td><td>43.58</td><td>43.701</td><td>1.2627213821635071e+44</td><td>44.10130753461119</td></tr>\n",
       "<tr><td>217.84705</td><td>32.30564</td><td>20.44</td><td>0.03</td><td>-99.99</td><td>11/0</td><td>1.08</td><td>18.79</td><td>0.0</td><td>1.319</td><td>1.2</td><td>1.01</td><td>23.96</td><td>0.802</td><td>0.0</td><td>1.278</td><td>0.947</td><td>0.24</td><td>0.05</td><td>88.09</td><td>f/g</td><td>44.382</td><td>-0.619788758288394</td><td>-28.42</td><td>4.0</td><td>0.468384074941452</td><td>44.899</td><td>43.58</td><td>44.78</td><td>1.4330798561868888e+45</td><td>45.15627039146854</td></tr>\n",
       "<tr><td>217.70446</td><td>32.30566</td><td>19.34</td><td>0.92</td><td>-99.99</td><td>11/0</td><td>0.19</td><td>117.86</td><td>-0.28</td><td>-0.986</td><td>0.0</td><td>0.15</td><td>129.12</td><td>-0.636</td><td>-0.513</td><td>0.0</td><td>0.0</td><td>0.74</td><td>1.0</td><td>82.43</td><td>k/m</td><td>42.943999999999996</td><td>-0.13076828026902382</td><td>-28.27</td><td>5.0</td><td>0.5854800936768151</td><td>42.594</td><td>43.3</td><td>43.58</td><td>6.189801213574065e+43</td><td>43.791676701809436</td></tr>\n",
       "<tr><td>217.48821</td><td>32.30604</td><td>19.71</td><td>0.03</td><td>-99.99</td><td>9/1</td><td>0.41</td><td>1.13</td><td>0.0</td><td>-1.56</td><td>0.629</td><td>0.37</td><td>0.63</td><td>-0.693</td><td>0.0</td><td>0.0</td><td>0.51</td><td>2.96</td><td>0.0</td><td>29.92</td><td>f/g</td><td>42.887</td><td>0.4712917110589386</td><td>-28.0</td><td>6.0</td><td>0.7025761124121781</td><td>42.019999999999996</td><td>43.58</td><td>44.208999999999996</td><td>2.00874071944412e+44</td><td>44.302923883297964</td></tr>\n",
       "<tr><td>217.36268</td><td>32.3061</td><td>18.71</td><td>0.03</td><td>-99.99</td><td>12/0</td><td>0.21</td><td>12.43</td><td>0.0</td><td>-0.735</td><td>0.325</td><td>0.21</td><td>13.6</td><td>-0.711</td><td>0.0</td><td>0.0</td><td>0.326</td><td>0.7</td><td>0.0</td><td>57.12</td><td>f/g</td><td>42.869</td><td>-0.1549019599857432</td><td>-27.95</td><td>7.0</td><td>0.8196721311475411</td><td>42.845</td><td>43.58</td><td>43.905</td><td>1.2536997181064061e+44</td><td>44.098193528212455</td></tr>\n",
       "<tr><td>217.24316</td><td>32.30626</td><td>22.34</td><td>0.95</td><td>-99.99</td><td>9/2</td><td>1.08</td><td>2.14</td><td>0.0</td><td>-1.455</td><td>0.627</td><td>0.83</td><td>1.56</td><td>0.239</td><td>0.0</td><td>-0.597</td><td>0.013</td><td>2.28</td><td>0.03</td><td>3.9</td><td>f/g</td><td>43.818999999999996</td><td>0.35793484700045375</td><td>-27.94</td><td>8.0</td><td>0.936768149882904</td><td>42.125</td><td>43.58</td><td>44.207</td><td>2.004170245820466e+44</td><td>44.3019346102491</td></tr>\n",
       "<tr><td>217.16662</td><td>32.30637</td><td>21.26</td><td>0.13</td><td>-99.99</td><td>10/1</td><td>0.69</td><td>3.23</td><td>0.0</td><td>0.0</td><td>0.531</td><td>0.62</td><td>3.48</td><td>-0.314</td><td>-1.659</td><td>0.0</td><td>0.358</td><td>0.78</td><td>0.0</td><td>5.63</td><td>f/g</td><td>43.266</td><td>-0.10790539730951958</td><td>-27.79</td><td>9.0</td><td>1.053864168618267</td><td>43.58</td><td>43.58</td><td>44.111</td><td>2.051598066254645e+44</td><td>44.31209228104719</td></tr>\n",
       "<tr><td>217.27482</td><td>32.3064</td><td>19.08</td><td>0.03</td><td>-99.99</td><td>10/2</td><td>0.04</td><td>148.17</td><td>0.0</td><td>-1.412</td><td>0.0</td><td>2.83</td><td>130.97</td><td>3.271</td><td>1.532</td><td>0.0</td><td>0.0</td><td>1.46</td><td>0.1</td><td>191.74</td><td>g/k</td><td>46.851</td><td>0.1643528557844371</td><td>-27.73</td><td>10.0</td><td>1.1709601873536302</td><td>42.168</td><td>43.58</td><td>43.58</td><td>7.751019176654467e+43</td><td>43.88935881137028</td></tr>\n",
       "<tr><td>...</td><td>...</td><td>...</td><td>...</td><td>...</td><td>...</td><td>...</td><td>...</td><td>...</td><td>...</td><td>...</td><td>...</td><td>...</td><td>...</td><td>...</td><td>...</td><td>...</td><td>...</td><td>...</td><td>...</td><td>...</td><td>...</td><td>...</td><td>...</td><td>...</td><td>...</td><td>...</td><td>...</td><td>...</td><td>...</td><td>...</td></tr>\n",
       "<tr><td>217.46691</td><td>35.83682</td><td>22.42</td><td>0.03</td><td>-99.99</td><td>8/2</td><td>0.59</td><td>1.15</td><td>0.0</td><td>-0.466</td><td>-0.251</td><td>0.62</td><td>1.55</td><td>-0.927</td><td>0.0</td><td>-0.412</td><td>-0.285</td><td>0.23</td><td>0.0</td><td>2.71</td><td>G/K</td><td>42.653</td><td>-0.638272163982407</td><td>27.85</td><td>305284.0</td><td>35747.54098360656</td><td>43.114</td><td>43.58</td><td>43.329</td><td>7.235108454385459e+43</td><td>43.85944504558472</td></tr>\n",
       "<tr><td>216.45736</td><td>35.83683</td><td>22.78</td><td>0.94</td><td>-99.99</td><td>10/0</td><td>1.53</td><td>0.4</td><td>0.0</td><td>1.51</td><td>0.335</td><td>1.52</td><td>0.49</td><td>0.76</td><td>0.488</td><td>1.431</td><td>0.0</td><td>0.46</td><td>0.1</td><td>8.97</td><td>1000K</td><td>44.339999999999996</td><td>-0.3372421683184259</td><td>27.92</td><td>305285.0</td><td>35747.6580796253</td><td>45.089999999999996</td><td>43.58</td><td>43.915</td><td>1.3505119754391339e+45</td><td>45.13049843957425</td></tr>\n",
       "<tr><td>217.3773</td><td>35.83683</td><td>20.35</td><td>0.05</td><td>-99.99</td><td>8/2</td><td>0.74</td><td>1.09</td><td>0.96</td><td>0.748</td><td>0.0</td><td>0.73</td><td>1.65</td><td>0.12</td><td>1.028</td><td>0.343</td><td>0.0</td><td>0.02</td><td>0.16</td><td>13.07</td><td>3000K</td><td>43.699999999999996</td><td>-1.6989700043360187</td><td>27.93</td><td>305286.0</td><td>35747.775175644034</td><td>44.327999999999996</td><td>44.54</td><td>43.58</td><td>5.975696946828561e+44</td><td>44.77638856443362</td></tr>\n",
       "<tr><td>218.31186</td><td>35.83712</td><td>21.96</td><td>0.12</td><td>-99.99</td><td>8/2</td><td>0.55</td><td>0.78</td><td>-0.641</td><td>0.0</td><td>-0.197</td><td>0.56</td><td>1.04</td><td>-1.108</td><td>-0.599</td><td>0.0</td><td>-0.232</td><td>0.26</td><td>0.0</td><td>3.08</td><td>G/K</td><td>42.472</td><td>-0.585026652029182</td><td>28.06</td><td>305287.0</td><td>35747.892271662764</td><td>43.58</td><td>42.939</td><td>43.382999999999996</td><td>7.086315226936815e+43</td><td>43.8504204675391</td></tr>\n",
       "<tr><td>216.59854</td><td>35.83722</td><td>20.38</td><td>0.08</td><td>-99.99</td><td>10/0</td><td>0.48</td><td>4.9</td><td>0.0</td><td>-0.275</td><td>0.442</td><td>0.48</td><td>4.18</td><td>-0.443</td><td>0.0</td><td>-0.276</td><td>0.398</td><td>1.52</td><td>0.0</td><td>68.16</td><td>g/k</td><td>43.137</td><td>0.18184358794477254</td><td>28.18</td><td>305288.0</td><td>35748.0093676815</td><td>43.305</td><td>43.58</td><td>44.022</td><td>1.6339879065119349e+44</td><td>44.213248837903514</td></tr>\n",
       "<tr><td>216.62134</td><td>35.8374</td><td>20.51</td><td>0.03</td><td>-99.99</td><td>9/0</td><td>1.05</td><td>66.59</td><td>0.0</td><td>1.678</td><td>0.889</td><td>0.72</td><td>2.26</td><td>1.502</td><td>0.0</td><td>-0.146</td><td>0.773</td><td>72.02</td><td>1.0</td><td>187.0</td><td>2500K</td><td>45.082</td><td>1.8574531170352664</td><td>28.42</td><td>305289.0</td><td>35748.12646370024</td><td>45.257999999999996</td><td>43.58</td><td>44.469</td><td>2.143801195631517e+45</td><td>45.33118450879899</td></tr>\n",
       "<tr><td>218.37061</td><td>35.83753</td><td>22.02</td><td>0.03</td><td>-99.99</td><td>10/0</td><td>0.81</td><td>0.25</td><td>0.0</td><td>0.483</td><td>0.039</td><td>0.77</td><td>0.36</td><td>-0.268</td><td>0.0</td><td>0.419</td><td>-0.116</td><td>0.1</td><td>0.13</td><td>5.52</td><td>G/K</td><td>43.312</td><td>-1.0</td><td>28.49</td><td>305290.0</td><td>35748.243559718976</td><td>44.062999999999995</td><td>43.58</td><td>43.619</td><td>1.9522122490066677e+44</td><td>44.2905270333928</td></tr>\n",
       "<tr><td>216.61578</td><td>35.83764</td><td>21.39</td><td>0.49</td><td>-99.99</td><td>9/1</td><td>0.5</td><td>2.13</td><td>-0.207</td><td>-0.113</td><td>0.0</td><td>0.45</td><td>2.79</td><td>-0.354</td><td>-0.108</td><td>0.0</td><td>0.0</td><td>0.29</td><td>0.4</td><td>3.17</td><td>K/M</td><td>43.226</td><td>-0.5376020021010439</td><td>28.54</td><td>305291.0</td><td>35748.360655737706</td><td>43.467</td><td>43.373</td><td>43.58</td><td>9.093265441636474e+43</td><td>43.95871986876851</td></tr>\n",
       "<tr><td>216.26838</td><td>35.83767</td><td>21.15</td><td>0.17</td><td>-99.99</td><td>10/0</td><td>0.81</td><td>2.43</td><td>0.59</td><td>0.778</td><td>0.0</td><td>0.73</td><td>0.83</td><td>0.741</td><td>0.706</td><td>0.0</td><td>-0.607</td><td>6.75</td><td>0.5</td><td>11.46</td><td>3000K</td><td>44.321</td><td>0.829303772831025</td><td>28.57</td><td>305292.0</td><td>35748.47775175644</td><td>44.358</td><td>44.17</td><td>43.58</td><td>4.139639856489176e+44</td><td>44.61696255968541</td></tr>\n",
       "<tr><td>216.17744</td><td>35.83784</td><td>22.95</td><td>0.58</td><td>-99.99</td><td>10/0</td><td>1.23</td><td>2.77</td><td>0.0</td><td>0.814</td><td>0.007</td><td>1.18</td><td>3.65</td><td>0.95</td><td>0.0</td><td>0.612</td><td>0.018</td><td>0.4</td><td>0.63</td><td>5.1</td><td>1000K</td><td>44.53</td><td>-0.3979400086720376</td><td>28.91</td><td>305293.0</td><td>35748.59484777518</td><td>44.394</td><td>43.58</td><td>43.586999999999996</td><td>3.2439784310079017e+44</td><td>44.51107795795423</td></tr>\n",
       "</table>"
      ],
      "text/plain": [
       "<Table length=305293>\n",
       "    RA      Dec      Imag  ...           Lg                 LGlog       \n",
       " float64  float64  float64 ...        float64              float64      \n",
       "--------- -------- ------- ... ---------------------- ------------------\n",
       "217.18223 32.30523   22.77 ...  3.817644801226373e+44  44.58179551859838\n",
       "217.86705 32.30527   20.02 ... 2.3006694855720697e+44  44.36185423235735\n",
       "217.88212 32.30531   22.67 ... 1.2627213821635071e+44  44.10130753461119\n",
       "217.84705 32.30564   20.44 ... 1.4330798561868888e+45  45.15627039146854\n",
       "217.70446 32.30566   19.34 ...  6.189801213574065e+43 43.791676701809436\n",
       "217.48821 32.30604   19.71 ...   2.00874071944412e+44 44.302923883297964\n",
       "217.36268  32.3061   18.71 ... 1.2536997181064061e+44 44.098193528212455\n",
       "217.24316 32.30626   22.34 ...  2.004170245820466e+44   44.3019346102491\n",
       "217.16662 32.30637   21.26 ...  2.051598066254645e+44  44.31209228104719\n",
       "217.27482  32.3064   19.08 ...  7.751019176654467e+43  43.88935881137028\n",
       "      ...      ...     ... ...                    ...                ...\n",
       "217.46691 35.83682   22.42 ...  7.235108454385459e+43  43.85944504558472\n",
       "216.45736 35.83683   22.78 ... 1.3505119754391339e+45  45.13049843957425\n",
       " 217.3773 35.83683   20.35 ...  5.975696946828561e+44  44.77638856443362\n",
       "218.31186 35.83712   21.96 ...  7.086315226936815e+43   43.8504204675391\n",
       "216.59854 35.83722   20.38 ... 1.6339879065119349e+44 44.213248837903514\n",
       "216.62134  35.8374   20.51 ...  2.143801195631517e+45  45.33118450879899\n",
       "218.37061 35.83753   22.02 ... 1.9522122490066677e+44   44.2905270333928\n",
       "216.61578 35.83764   21.39 ...  9.093265441636474e+43  43.95871986876851\n",
       "216.26838 35.83767   21.15 ...  4.139639856489176e+44  44.61696255968541\n",
       "216.17744 35.83784   22.95 ... 3.2439784310079017e+44  44.51107795795423"
      ]
     },
     "execution_count": 12,
     "metadata": {},
     "output_type": "execute_result"
    }
   ],
   "source": [
    "l0"
   ]
  },
  {
   "cell_type": "code",
   "execution_count": 13,
   "metadata": {},
   "outputs": [
    {
     "name": "stdout",
     "output_type": "stream",
     "text": [
      "305254\n",
      "41470\n",
      "16907\n",
      "5760\n"
     ]
    }
   ],
   "source": [
    "#add columns unlogging \n",
    "LSbc1 = MaskedColumn(name = \"LSbc1\", data = (10**(l0['LSbcerg'])) , dtype=np.float64) \n",
    "l0.add_column(LSbc1)\n",
    "#l0.replace_column('LSbc1',LSbc1)\n",
    "\n",
    "LEll1 = MaskedColumn(name = \"LEll1\", data = (10**(l0['LEllerg'])) , dtype=np.float64) \n",
    "l0.add_column(LEll1)\n",
    "#l0.replace_column('LEll1',LEll1)\n",
    "\n",
    "LIrr1 = MaskedColumn(name = \"LIrr1\", data = (10**(l0['LIrrerg'])) , dtype=np.float64) \n",
    "l0.add_column(LIrr1)\n",
    "#l0.replace_column('LIrr1',LIrr1)\n",
    "\n",
    "\n",
    "\n",
    "#thennn add columns replacing 43.58 with 0\n",
    "LSbc2 = MaskedColumn(name = \"LSbc2\", data = (np.where(l0['LSbc1']==10**43.58,0, l0['LSbc1'])) , dtype=np.float64) \n",
    "l0.add_column(LSbc2)\n",
    "#l0.replace_column('LSbc2',LSbc2)\n",
    "\n",
    "LEll2 = MaskedColumn(name = \"LEll2\", data = (np.where(l0['LEll1']==10**43.58,0, l0['LEll1'])) , dtype=np.float64) \n",
    "l0.add_column(LEll2)\n",
    "#l0.replace_column('LEll2',LEll2)\n",
    "\n",
    "LIrr2 = MaskedColumn(name = \"LIrr2\", data = (np.where(l0['LIrr1']==10**43.58,0, l0['LIrr1'])) , dtype=np.float64) \n",
    "l0.add_column(LIrr2)\n",
    "#l0.replace_column('LIrr2',LIrr2)\n",
    "\n",
    "#then add lg column (sum them)\n",
    "Lg = MaskedColumn(name = \"Lg\", data = list(map(sum, zip(l0['LEll2'],l0['LSbc2'],l0['LIrr2'])))  , dtype=np.float64)\n",
    "#l0.add_column(Lg)\n",
    "l0.replace_column('Lg',Lg )\n",
    "\n",
    "\n",
    "\n",
    "#then add log column \n",
    "LGlog =  MaskedColumn(name = \"LGlog\", data = np.log10(l0['Lg']) , dtype=np.float64) \n",
    "#l0.add_column(LGlog)\n",
    "l0.replace_column('LGlog',LGlog)\n",
    "\n",
    "#remove the values where they are all 0\n",
    "lg0 = l0[[np.isfinite(l0['LGlog'])]]\n",
    "\n",
    "F10 = lg0[lg0['F']>=10]\n",
    "I1 = np.array(F10['Imag'])\n",
    "I10 = sorted(I1, reverse=False)\n",
    "L1 = np.array(F10['LAGNerg'])\n",
    "L10 = sorted(L1, reverse=False)\n",
    "SA10 = [i/8.54 for i in F10['index']]\n",
    "F5 = lg0[lg0['F']>=5]\n",
    "I1 = np.array(F5['Imag'])\n",
    "I5 = sorted(I1, reverse=False)\n",
    "L1 = np.array(F5['LAGNerg'])\n",
    "L5 = sorted(L1, reverse=False)\n",
    "SA5 = [i/8.54 for i in F5['index']]\n",
    "F20 = lg0[lg0['F']>=20]\n",
    "I1 = np.array(F20['Imag'])\n",
    "I203 = sorted(I1, reverse=False)\n",
    "L1 = np.array(F20['LAGNerg'])\n",
    "L20 = sorted(L1, reverse=False)\n",
    "SA20 = [i/8.54 for i in F20['index']]\n",
    "\n",
    "print (len(lg0['LAGNerg']))\n",
    "print (len(F5['LAGNerg']))\n",
    "print (len(F10['LAGNerg']))\n",
    "print (len(F20['LAGNerg']))"
   ]
  },
  {
   "cell_type": "code",
   "execution_count": 14,
   "metadata": {},
   "outputs": [
    {
     "data": {
      "text/html": [
       "<i>Table length=305254</i>\n",
       "<table id=\"table140283497476336\" class=\"table-striped table-bordered table-condensed\">\n",
       "<thead><tr><th>RA</th><th>Dec</th><th>Imag</th><th>S</th><th>zspec</th><th>N</th><th>zG</th><th>chi2G</th><th>LEll</th><th>LSbc</th><th>LIrr</th><th>zGA</th><th>chi2GA</th><th>LAGNp</th><th>LELLp</th><th>LSbcp</th><th>LIrrp</th><th>F</th><th>EBV</th><th>Chi2S</th><th>SType</th><th>LAGNerg</th><th>logF</th><th>I</th><th>index</th><th>SA</th><th>LSbcerg</th><th>LEllerg</th><th>LIrrerg</th><th>Lg</th><th>LGlog</th><th>LSbc1</th><th>LEll1</th><th>LIrr1</th><th>LSbc2</th><th>LEll2</th><th>LIrr2</th></tr></thead>\n",
       "<thead><tr><th>float64</th><th>float64</th><th>float64</th><th>float64</th><th>float64</th><th>str4</th><th>float64</th><th>float64</th><th>float64</th><th>float64</th><th>float64</th><th>float64</th><th>float64</th><th>float64</th><th>float64</th><th>float64</th><th>float64</th><th>float64</th><th>float64</th><th>float64</th><th>str5</th><th>float64</th><th>float64</th><th>float64</th><th>float64</th><th>float64</th><th>float64</th><th>float64</th><th>float64</th><th>float64</th><th>float64</th><th>float64</th><th>float64</th><th>float64</th><th>float64</th><th>float64</th><th>float64</th></tr></thead>\n",
       "<tr><td>217.18223</td><td>32.30523</td><td>22.77</td><td>0.95</td><td>-99.99</td><td>8/3</td><td>1.27</td><td>2.53</td><td>0.0</td><td>0.829</td><td>0.361</td><td>1.2</td><td>2.9</td><td>0.651</td><td>0.0</td><td>0.768</td><td>0.0</td><td>0.54</td><td>0.1</td><td>8.92</td><td>1500K</td><td>44.231</td><td>-0.26760624017703144</td><td>-30.18</td><td>1.0</td><td>0.117096018735363</td><td>44.409</td><td>43.58</td><td>43.940999999999995</td><td>3.437455404905813e+44</td><td>44.53623707264808</td><td>2.5644840365177108e+44</td><td>3.801893963205597e+43</td><td>8.729713683881023e+43</td><td>2.5644840365177108e+44</td><td>0.0</td><td>8.729713683881023e+43</td></tr>\n",
       "<tr><td>217.86705</td><td>32.30527</td><td>20.02</td><td>0.03</td><td>-99.99</td><td>12/0</td><td>0.54</td><td>37.08</td><td>0.44</td><td>0.47</td><td>-0.461</td><td>0.51</td><td>45.75</td><td>0.268</td><td>0.546</td><td>0.0</td><td>-0.237</td><td>0.24</td><td>0.5</td><td>56.73</td><td>k/m</td><td>43.848</td><td>-0.619788758288394</td><td>-29.15</td><td>2.0</td><td>0.234192037470726</td><td>44.05</td><td>44.019999999999996</td><td>43.119</td><td>2.3006694855720697e+44</td><td>44.36185423235735</td><td>1.1220184543019561e+44</td><td>1.0471285480508899e+44</td><td>1.3152248321922376e+43</td><td>1.1220184543019561e+44</td><td>1.0471285480508899e+44</td><td>1.3152248321922376e+43</td></tr>\n",
       "<tr><td>217.88212</td><td>32.30531</td><td>22.67</td><td>0.03</td><td>-99.99</td><td>11/1</td><td>0.85</td><td>0.55</td><td>0.0</td><td>0.0</td><td>0.121</td><td>0.81</td><td>0.63</td><td>-0.31</td><td>0.0</td><td>0.0</td><td>-0.052</td><td>0.53</td><td>0.04</td><td>1.09</td><td>f/g</td><td>43.269999999999996</td><td>-0.27572413039921095</td><td>-28.79</td><td>3.0</td><td>0.35128805620608905</td><td>43.58</td><td>43.58</td><td>43.701</td><td>5.023425895223877e+43</td><td>43.701</td><td>3.801893963205597e+43</td><td>3.801893963205597e+43</td><td>5.023425895223877e+43</td><td>0.0</td><td>0.0</td><td>5.023425895223877e+43</td></tr>\n",
       "<tr><td>217.84705</td><td>32.30564</td><td>20.44</td><td>0.03</td><td>-99.99</td><td>11/0</td><td>1.08</td><td>18.79</td><td>0.0</td><td>1.319</td><td>1.2</td><td>1.01</td><td>23.96</td><td>0.802</td><td>0.0</td><td>1.278</td><td>0.947</td><td>0.24</td><td>0.05</td><td>88.09</td><td>f/g</td><td>44.382</td><td>-0.619788758288394</td><td>-28.42</td><td>4.0</td><td>0.468384074941452</td><td>44.899</td><td>43.58</td><td>44.78</td><td>1.3950609165548327e+45</td><td>45.14459317187199</td><td>7.925013304804734e+44</td><td>3.801893963205597e+43</td><td>6.025595860743593e+44</td><td>7.925013304804734e+44</td><td>0.0</td><td>6.025595860743593e+44</td></tr>\n",
       "<tr><td>217.70446</td><td>32.30566</td><td>19.34</td><td>0.92</td><td>-99.99</td><td>11/0</td><td>0.19</td><td>117.86</td><td>-0.28</td><td>-0.986</td><td>0.0</td><td>0.15</td><td>129.12</td><td>-0.636</td><td>-0.513</td><td>0.0</td><td>0.0</td><td>0.74</td><td>1.0</td><td>82.43</td><td>k/m</td><td>42.943999999999996</td><td>-0.13076828026902382</td><td>-28.27</td><td>5.0</td><td>0.5854800936768151</td><td>42.594</td><td>43.3</td><td>43.58</td><td>2.3879072503684677e+43</td><td>43.37801745418454</td><td>3.9264493539960094e+42</td><td>1.9952623149688666e+43</td><td>3.801893963205597e+43</td><td>3.9264493539960094e+42</td><td>1.9952623149688666e+43</td><td>0.0</td></tr>\n",
       "<tr><td>217.48821</td><td>32.30604</td><td>19.71</td><td>0.03</td><td>-99.99</td><td>9/1</td><td>0.41</td><td>1.13</td><td>0.0</td><td>-1.56</td><td>0.629</td><td>0.37</td><td>0.63</td><td>-0.693</td><td>0.0</td><td>0.0</td><td>0.51</td><td>2.96</td><td>0.0</td><td>29.92</td><td>f/g</td><td>42.887</td><td>0.4712917110589386</td><td>-28.0</td><td>6.0</td><td>0.7025761124121781</td><td>42.019999999999996</td><td>43.58</td><td>44.208999999999996</td><td>1.6285513231235601e+44</td><td>44.211801449728114</td><td>1.04712854805089e+42</td><td>3.801893963205597e+43</td><td>1.6180800376430512e+44</td><td>1.04712854805089e+42</td><td>0.0</td><td>1.6180800376430512e+44</td></tr>\n",
       "<tr><td>217.36268</td><td>32.3061</td><td>18.71</td><td>0.03</td><td>-99.99</td><td>12/0</td><td>0.21</td><td>12.43</td><td>0.0</td><td>-0.735</td><td>0.325</td><td>0.21</td><td>13.6</td><td>-0.711</td><td>0.0</td><td>0.0</td><td>0.326</td><td>0.7</td><td>0.0</td><td>57.12</td><td>f/g</td><td>42.869</td><td>-0.1549019599857432</td><td>-27.95</td><td>7.0</td><td>0.8196721311475411</td><td>42.845</td><td>43.58</td><td>43.905</td><td>8.735103217858466e+43</td><td>43.94126804116572</td><td>6.998419960022716e+42</td><td>3.801893963205597e+43</td><td>8.035261221856194e+43</td><td>6.998419960022716e+42</td><td>0.0</td><td>8.035261221856194e+43</td></tr>\n",
       "<tr><td>217.24316</td><td>32.30626</td><td>22.34</td><td>0.95</td><td>-99.99</td><td>9/2</td><td>1.08</td><td>2.14</td><td>0.0</td><td>-1.455</td><td>0.627</td><td>0.83</td><td>1.56</td><td>0.239</td><td>0.0</td><td>-0.597</td><td>0.013</td><td>2.28</td><td>0.03</td><td>3.9</td><td>f/g</td><td>43.818999999999996</td><td>0.35793484700045375</td><td>-27.94</td><td>8.0</td><td>0.936768149882904</td><td>42.125</td><td>43.58</td><td>44.207</td><td>1.6239808494999064e+44</td><td>44.210580903596316</td><td>1.333521432163324e+42</td><td>3.801893963205597e+43</td><td>1.6106456351782731e+44</td><td>1.333521432163324e+42</td><td>0.0</td><td>1.6106456351782731e+44</td></tr>\n",
       "<tr><td>217.16662</td><td>32.30637</td><td>21.26</td><td>0.13</td><td>-99.99</td><td>10/1</td><td>0.69</td><td>3.23</td><td>0.0</td><td>0.0</td><td>0.531</td><td>0.62</td><td>3.48</td><td>-0.314</td><td>-1.659</td><td>0.0</td><td>0.358</td><td>0.78</td><td>0.0</td><td>5.63</td><td>f/g</td><td>43.266</td><td>-0.10790539730951958</td><td>-27.79</td><td>9.0</td><td>1.053864168618267</td><td>43.58</td><td>43.58</td><td>44.111</td><td>1.2912192736135256e+44</td><td>44.111</td><td>3.801893963205597e+43</td><td>3.801893963205597e+43</td><td>1.2912192736135256e+44</td><td>0.0</td><td>0.0</td><td>1.2912192736135256e+44</td></tr>\n",
       "<tr><td>217.27482</td><td>32.3064</td><td>19.08</td><td>0.03</td><td>-99.99</td><td>10/2</td><td>0.04</td><td>148.17</td><td>0.0</td><td>-1.412</td><td>0.0</td><td>2.83</td><td>130.97</td><td>3.271</td><td>1.532</td><td>0.0</td><td>0.0</td><td>1.46</td><td>0.1</td><td>191.74</td><td>g/k</td><td>46.851</td><td>0.1643528557844371</td><td>-27.73</td><td>10.0</td><td>1.1709601873536302</td><td>42.168</td><td>43.58</td><td>43.58</td><td>1.4723125024327162e+42</td><td>42.168</td><td>1.4723125024327162e+42</td><td>3.801893963205597e+43</td><td>3.801893963205597e+43</td><td>1.4723125024327162e+42</td><td>0.0</td><td>0.0</td></tr>\n",
       "<tr><td>...</td><td>...</td><td>...</td><td>...</td><td>...</td><td>...</td><td>...</td><td>...</td><td>...</td><td>...</td><td>...</td><td>...</td><td>...</td><td>...</td><td>...</td><td>...</td><td>...</td><td>...</td><td>...</td><td>...</td><td>...</td><td>...</td><td>...</td><td>...</td><td>...</td><td>...</td><td>...</td><td>...</td><td>...</td><td>...</td><td>...</td><td>...</td><td>...</td><td>...</td><td>...</td><td>...</td><td>...</td></tr>\n",
       "<tr><td>217.46691</td><td>35.83682</td><td>22.42</td><td>0.03</td><td>-99.99</td><td>8/2</td><td>0.59</td><td>1.15</td><td>0.0</td><td>-0.466</td><td>-0.251</td><td>0.62</td><td>1.55</td><td>-0.927</td><td>0.0</td><td>-0.412</td><td>-0.285</td><td>0.23</td><td>0.0</td><td>2.71</td><td>G/K</td><td>42.653</td><td>-0.638272163982407</td><td>27.85</td><td>305284.0</td><td>35747.54098360656</td><td>43.114</td><td>43.58</td><td>43.329</td><td>3.433214491179861e+43</td><td>43.53570093696082</td><td>1.3001695780332818e+43</td><td>3.801893963205597e+43</td><td>2.1330449131465794e+43</td><td>1.3001695780332818e+43</td><td>0.0</td><td>2.1330449131465794e+43</td></tr>\n",
       "<tr><td>216.45736</td><td>35.83683</td><td>22.78</td><td>0.94</td><td>-99.99</td><td>10/0</td><td>1.53</td><td>0.4</td><td>0.0</td><td>1.51</td><td>0.335</td><td>1.52</td><td>0.49</td><td>0.76</td><td>0.488</td><td>1.431</td><td>0.0</td><td>0.46</td><td>0.1</td><td>8.97</td><td>1000K</td><td>44.339999999999996</td><td>-0.3372421683184259</td><td>27.92</td><td>305285.0</td><td>35747.6580796253</td><td>45.089999999999996</td><td>43.58</td><td>43.915</td><td>1.312493035807078e+45</td><td>45.118097007682884</td><td>1.230268770812371e+45</td><td>3.801893963205597e+43</td><td>8.222426499470696e+43</td><td>1.230268770812371e+45</td><td>0.0</td><td>8.222426499470696e+43</td></tr>\n",
       "<tr><td>217.3773</td><td>35.83683</td><td>20.35</td><td>0.05</td><td>-99.99</td><td>8/2</td><td>0.74</td><td>1.09</td><td>0.96</td><td>0.748</td><td>0.0</td><td>0.73</td><td>1.65</td><td>0.12</td><td>1.028</td><td>0.343</td><td>0.0</td><td>0.02</td><td>0.16</td><td>13.07</td><td>3000K</td><td>43.699999999999996</td><td>-1.6989700043360187</td><td>27.93</td><td>305286.0</td><td>35747.775175644034</td><td>44.327999999999996</td><td>44.54</td><td>43.58</td><td>5.595507550508001e+44</td><td>44.74783948610789</td><td>2.1281390459826916e+44</td><td>3.4673685045253094e+44</td><td>3.801893963205597e+43</td><td>2.1281390459826916e+44</td><td>3.4673685045253094e+44</td><td>0.0</td></tr>\n",
       "<tr><td>218.31186</td><td>35.83712</td><td>21.96</td><td>0.12</td><td>-99.99</td><td>8/2</td><td>0.55</td><td>0.78</td><td>-0.641</td><td>0.0</td><td>-0.197</td><td>0.56</td><td>1.04</td><td>-1.108</td><td>-0.599</td><td>0.0</td><td>-0.232</td><td>0.26</td><td>0.0</td><td>3.08</td><td>G/K</td><td>42.472</td><td>-0.585026652029182</td><td>28.06</td><td>305287.0</td><td>35747.892271662764</td><td>43.58</td><td>42.939</td><td>43.382999999999996</td><td>3.284421263731218e+43</td><td>43.51645885514063</td><td>3.801893963205597e+43</td><td>8.689604292863019e+42</td><td>2.415460834444916e+43</td><td>0.0</td><td>8.689604292863019e+42</td><td>2.415460834444916e+43</td></tr>\n",
       "<tr><td>216.59854</td><td>35.83722</td><td>20.38</td><td>0.08</td><td>-99.99</td><td>10/0</td><td>0.48</td><td>4.9</td><td>0.0</td><td>-0.275</td><td>0.442</td><td>0.48</td><td>4.18</td><td>-0.443</td><td>0.0</td><td>-0.276</td><td>0.398</td><td>1.52</td><td>0.0</td><td>68.16</td><td>g/k</td><td>43.137</td><td>0.18184358794477254</td><td>28.18</td><td>305288.0</td><td>35748.0093676815</td><td>43.305</td><td>43.58</td><td>44.022</td><td>1.253798510191375e+44</td><td>44.09822774945887</td><td>2.0183663636815597e+43</td><td>3.801893963205597e+43</td><td>1.051961873823219e+44</td><td>2.0183663636815597e+43</td><td>0.0</td><td>1.051961873823219e+44</td></tr>\n",
       "<tr><td>216.62134</td><td>35.8374</td><td>20.51</td><td>0.03</td><td>-99.99</td><td>9/0</td><td>1.05</td><td>66.59</td><td>0.0</td><td>1.678</td><td>0.889</td><td>0.72</td><td>2.26</td><td>1.502</td><td>0.0</td><td>-0.146</td><td>0.773</td><td>72.02</td><td>1.0</td><td>187.0</td><td>2500K</td><td>45.082</td><td>1.8574531170352664</td><td>28.42</td><td>305289.0</td><td>35748.12646370024</td><td>45.257999999999996</td><td>43.58</td><td>44.469</td><td>2.105782255999461e+45</td><td>45.32341346186045</td><td>1.811340092619584e+45</td><td>3.801893963205597e+43</td><td>2.9444216337987695e+44</td><td>1.811340092619584e+45</td><td>0.0</td><td>2.9444216337987695e+44</td></tr>\n",
       "<tr><td>218.37061</td><td>35.83753</td><td>22.02</td><td>0.03</td><td>-99.99</td><td>10/0</td><td>0.81</td><td>0.25</td><td>0.0</td><td>0.483</td><td>0.039</td><td>0.77</td><td>0.36</td><td>-0.268</td><td>0.0</td><td>0.419</td><td>-0.116</td><td>0.1</td><td>0.13</td><td>5.52</td><td>G/K</td><td>43.312</td><td>-1.0</td><td>28.49</td><td>305290.0</td><td>35748.243559718976</td><td>44.062999999999995</td><td>43.58</td><td>43.619</td><td>1.5720228526861082e+44</td><td>44.19645885514063</td><td>1.1561122421920863e+44</td><td>3.801893963205597e+43</td><td>4.1591061049402186e+43</td><td>1.1561122421920863e+44</td><td>0.0</td><td>4.1591061049402186e+43</td></tr>\n",
       "<tr><td>216.61578</td><td>35.83764</td><td>21.39</td><td>0.49</td><td>-99.99</td><td>9/1</td><td>0.5</td><td>2.13</td><td>-0.207</td><td>-0.113</td><td>0.0</td><td>0.45</td><td>2.79</td><td>-0.354</td><td>-0.108</td><td>0.0</td><td>0.0</td><td>0.29</td><td>0.4</td><td>3.17</td><td>K/M</td><td>43.226</td><td>-0.5376020021010439</td><td>28.54</td><td>305291.0</td><td>35748.360655737706</td><td>43.467</td><td>43.373</td><td>43.58</td><td>5.291371478430877e+43</td><td>43.723568252057376</td><td>2.9308932452503126e+43</td><td>2.3604782331805637e+43</td><td>3.801893963205597e+43</td><td>2.9308932452503126e+43</td><td>2.3604782331805637e+43</td><td>0.0</td></tr>\n",
       "<tr><td>216.26838</td><td>35.83767</td><td>21.15</td><td>0.17</td><td>-99.99</td><td>10/0</td><td>0.81</td><td>2.43</td><td>0.59</td><td>0.778</td><td>0.0</td><td>0.73</td><td>0.83</td><td>0.741</td><td>0.706</td><td>0.0</td><td>-0.607</td><td>6.75</td><td>0.5</td><td>11.46</td><td>3000K</td><td>44.321</td><td>0.829303772831025</td><td>28.57</td><td>305292.0</td><td>35748.47775175644</td><td>44.358</td><td>44.17</td><td>43.58</td><td>3.759450460168616e+44</td><td>44.575124366321596</td><td>2.2803420720004023e+44</td><td>1.4791083881682133e+44</td><td>3.801893963205597e+43</td><td>2.2803420720004023e+44</td><td>1.4791083881682133e+44</td><td>0.0</td></tr>\n",
       "<tr><td>216.17744</td><td>35.83784</td><td>22.95</td><td>0.58</td><td>-99.99</td><td>10/0</td><td>1.23</td><td>2.77</td><td>0.0</td><td>0.814</td><td>0.007</td><td>1.18</td><td>3.65</td><td>0.95</td><td>0.0</td><td>0.612</td><td>0.018</td><td>0.4</td><td>0.63</td><td>5.1</td><td>1000K</td><td>44.53</td><td>-0.3979400086720376</td><td>28.91</td><td>305293.0</td><td>35748.59484777518</td><td>44.394</td><td>43.58</td><td>43.586999999999996</td><td>2.863789034687342e+44</td><td>44.456941021860054</td><td>2.477422057633276e+44</td><td>3.801893963205597e+43</td><td>3.863669770540658e+43</td><td>2.477422057633276e+44</td><td>0.0</td><td>3.863669770540658e+43</td></tr>\n",
       "</table>"
      ],
      "text/plain": [
       "<Table length=305254>\n",
       "    RA      Dec      Imag  ...         LEll2                  LIrr2         \n",
       " float64  float64  float64 ...        float64                float64        \n",
       "--------- -------- ------- ... ---------------------- ----------------------\n",
       "217.18223 32.30523   22.77 ...                    0.0  8.729713683881023e+43\n",
       "217.86705 32.30527   20.02 ... 1.0471285480508899e+44 1.3152248321922376e+43\n",
       "217.88212 32.30531   22.67 ...                    0.0  5.023425895223877e+43\n",
       "217.84705 32.30564   20.44 ...                    0.0  6.025595860743593e+44\n",
       "217.70446 32.30566   19.34 ... 1.9952623149688666e+43                    0.0\n",
       "217.48821 32.30604   19.71 ...                    0.0 1.6180800376430512e+44\n",
       "217.36268  32.3061   18.71 ...                    0.0  8.035261221856194e+43\n",
       "217.24316 32.30626   22.34 ...                    0.0 1.6106456351782731e+44\n",
       "217.16662 32.30637   21.26 ...                    0.0 1.2912192736135256e+44\n",
       "217.27482  32.3064   19.08 ...                    0.0                    0.0\n",
       "      ...      ...     ... ...                    ...                    ...\n",
       "217.46691 35.83682   22.42 ...                    0.0 2.1330449131465794e+43\n",
       "216.45736 35.83683   22.78 ...                    0.0  8.222426499470696e+43\n",
       " 217.3773 35.83683   20.35 ... 3.4673685045253094e+44                    0.0\n",
       "218.31186 35.83712   21.96 ...  8.689604292863019e+42  2.415460834444916e+43\n",
       "216.59854 35.83722   20.38 ...                    0.0  1.051961873823219e+44\n",
       "216.62134  35.8374   20.51 ...                    0.0 2.9444216337987695e+44\n",
       "218.37061 35.83753   22.02 ...                    0.0 4.1591061049402186e+43\n",
       "216.61578 35.83764   21.39 ... 2.3604782331805637e+43                    0.0\n",
       "216.26838 35.83767   21.15 ... 1.4791083881682133e+44                    0.0\n",
       "216.17744 35.83784   22.95 ...                    0.0  3.863669770540658e+43"
      ]
     },
     "execution_count": 14,
     "metadata": {},
     "output_type": "execute_result"
    }
   ],
   "source": [
    "lg0"
   ]
  },
  {
   "cell_type": "code",
   "execution_count": 15,
   "metadata": {},
   "outputs": [],
   "source": [
    "lg045 = lg0[lg0['LAGNerg']>=45]\n",
    "\n",
    "F1045 = lg045[lg045['F']>=10]\n",
    "F545 = lg045[lg045['F']>=5]\n",
    "F2045 = lg045[lg045['F']>=20]"
   ]
  },
  {
   "cell_type": "code",
   "execution_count": 16,
   "metadata": {},
   "outputs": [
    {
     "name": "stdout",
     "output_type": "stream",
     "text": [
      "F-value = [5, 10, 20]\n",
      "Probality = [0.03464975 0.00516774 0.00048776]\n",
      "Number in sample with no L = [41476, 16907, 5760]\n",
      "Number of spurious in sample = [1437.13297372   87.3709091     2.80951539]\n",
      "Fraction of spurious in sample = [0.03464975 0.00516774 0.00048776]\n"
     ]
    }
   ],
   "source": [
    "from scipy.stats import f\n",
    "\n",
    "#F = np.linspace(0,50,101)\n",
    "F = [5,10,20]  # use specfic values to print the value below \n",
    "\n",
    "N = []\n",
    "for i in F:\n",
    "    N.append(len(l0[l0['F']>= i]))\n",
    "\n",
    "\n",
    "N45 = []\n",
    "for i in F:\n",
    "    N45.append(len(lg045[lg045['F']>= i]))\n",
    "\n",
    "    \n",
    "#dfn, dfd = 2, 9\n",
    "#vals = f.ppf([0.001, 0.995, 0.999], dfn, dfd)\n",
    "#print (vals)    \n",
    "    \n",
    "#defining degrees of freedom in f-test\n",
    "dfn, dfd = 2, 9\n",
    "Prob = f.cdf(F, dfn, dfd)\n",
    "\n",
    "P = np.subtract(1,Prob)\n",
    "spurious = np.multiply(N,P)\n",
    "nospurious = np.subtract(N,spurious)\n",
    "spuriousfrac = np.divide(spurious, N)\n",
    "\n",
    "print (\"F-value =\", F)\n",
    "print (\"Probality =\", P)\n",
    "print (\"Number in sample with no L =\", N)\n",
    "print (\"Number of spurious in sample =\", spurious)\n",
    "print (\"Fraction of spurious in sample =\", spuriousfrac)\n",
    "#print (\"Number of none spurious in sample =\", nospurious)"
   ]
  },
  {
   "cell_type": "code",
   "execution_count": 17,
   "metadata": {},
   "outputs": [],
   "source": [
    "new_table = Table([F, P, N45, spurious, spuriousfrac, nospurious])\n",
    "from astropy.io import ascii\n",
    "ascii.write(new_table, 'new_table.fits', names=['F', 'P', 'N45', 'spurious', 'spuriousfrac', 'nospurious'], overwrite=True)\n",
    "\n",
    "new_table.rename_column('col0', 'F')  \n",
    "new_table.rename_column('col1', 'P') \n",
    "new_table.rename_column('col2', 'N45')  \n",
    "new_table.rename_column('col3', 'spurious') \n",
    "new_table.rename_column('col4', 'spuriousfrac')  \n",
    "new_table.rename_column('col5', 'nospurious')  \n",
    "\n",
    "#new_table.show_in_browser(jsviewer=True)  \n",
    "\n",
    "#note that perhaps spuriousfrac should actually be fraction of the AGN identified not fraction of the total in sample"
   ]
  },
  {
   "cell_type": "code",
   "execution_count": 18,
   "metadata": {},
   "outputs": [],
   "source": [
    "l0Sbc = l0[l0['LSbc']!=0.0]\n",
    "l0Ell = l0[l0['LEll']!=0.0]\n",
    "l0Irr = l0[l0['LIrr']!=0.0]\n",
    "\n",
    "LSbcerg = MaskedColumn(name = \"LSbcerg\", data = ((l0Sbc['LSbc'])+43.58) , dtype=np.float64) # 44 or 43?\n",
    "#l0Sbc.add_column(LSbcerg)\n",
    "l0Sbc.replace_column('LSbcerg',LSbcerg)\n",
    "\n",
    "LEllerg = MaskedColumn(name = \"LEllerg\", data = ((l0Ell['LEll'])+43.58) , dtype=np.float64) # 44 or 43?\n",
    "#l0Ell.add_column(LEllerg)\n",
    "l0Ell.replace_column('LEllerg',LEllerg)\n",
    "\n",
    "LIrrerg = MaskedColumn(name = \"LIrrerg\", data = ((l0Irr['LIrr'])+43.58) , dtype=np.float64) # 44 or 43?\n",
    "#l0Irr.add_column(LIrrerg)\n",
    "l0Irr.replace_column('LIrrerg',LIrrerg)\n",
    "\n"
   ]
  },
  {
   "cell_type": "code",
   "execution_count": 19,
   "metadata": {},
   "outputs": [],
   "source": [
    "F10Sbc = l0Sbc[l0Sbc['F']>=10]\n",
    "F5Sbc = l0Sbc[l0Sbc['F']>=5]\n",
    "F20Sbc = l0Sbc[l0Sbc['F']>=20]\n",
    "\n",
    "F10Ell = l0Ell[l0Ell['F']>=10]\n",
    "F5Ell = l0Ell[l0Ell['F']>=5]\n",
    "F20Ell = l0Ell[l0Ell['F']>=20]\n",
    "\n",
    "F10Irr = l0Irr[l0Irr['F']>=10]\n",
    "F5Irr = l0Irr[l0Irr['F']>=5]\n",
    "F20Irr = l0Irr[l0Irr['F']>=20]\n"
   ]
  },
  {
   "cell_type": "code",
   "execution_count": 20,
   "metadata": {},
   "outputs": [
    {
     "name": "stdout",
     "output_type": "stream",
     "text": [
      "16907\n",
      "41470\n",
      "5760\n"
     ]
    }
   ],
   "source": [
    "F10 = lg0[lg0['F']>=10]\n",
    "print (len(F10))\n",
    "F5 = lg0[lg0['F']>=5]\n",
    "print (len(F5))\n",
    "F20 = lg0[lg0['F']>=20]\n",
    "print (len(F20))"
   ]
  },
  {
   "cell_type": "code",
   "execution_count": 21,
   "metadata": {},
   "outputs": [],
   "source": [
    "l0Sbcp = l0[l0['LSbcp']!=0.0]\n",
    "l0Ellp = l0[l0['LELLp']!=0.0]\n",
    "l0Irrp = l0[l0['LIrrp']!=0.0]\n",
    "\n",
    "LSbcerg = MaskedColumn(name = \"LSbcerg\", data = ((l0Sbcp['LSbcp'])+43.58) , dtype=np.float64) # 44 or 43?\n",
    "#l0Sbcp.add_column(LSbcerg)\n",
    "l0Sbcp.replace_column('LSbcerg',LSbcerg)\n",
    "\n",
    "LEllerg = MaskedColumn(name = \"LEllerg\", data = ((l0Ellp['LELLp'])+43.58) , dtype=np.float64) # 44 or 43?\n",
    "#l0Ellp.add_column(LEllerg)\n",
    "l0Ellp.replace_column('LEllerg',LEllerg)\n",
    "\n",
    "LIrrerg = MaskedColumn(name = \"LIrrerg\", data = ((l0Irrp['LIrrp'])+43.58) , dtype=np.float64) # 44 or 43?\n",
    "#l0Irrp.add_column(LIrrerg)\n",
    "l0Irrp.replace_column('LIrrerg',LIrrerg)\n"
   ]
  },
  {
   "cell_type": "code",
   "execution_count": 22,
   "metadata": {},
   "outputs": [],
   "source": [
    "F10Sbcp = l0Sbcp[l0Sbcp['F']>=10]\n",
    "F5Sbcp = l0Sbcp[l0Sbcp['F']>=5]\n",
    "F20Sbcp = l0Sbcp[l0Sbcp['F']>=20]\n",
    "\n",
    "F10Ellp = l0Ellp[l0Ellp['F']>=10]\n",
    "F5Ellp = l0Ellp[l0Ellp['F']>=5]\n",
    "F20Ellp = l0Ellp[l0Ellp['F']>=20]\n",
    "\n",
    "F10Irrp = l0Irrp[l0Irrp['F']>=10]\n",
    "F5Irrp = l0Irrp[l0Irrp['F']>=5]\n",
    "F20Irrp = l0Irrp[l0Irrp['F']>=20]\n"
   ]
  },
  {
   "cell_type": "code",
   "execution_count": 23,
   "metadata": {},
   "outputs": [
    {
     "name": "stdout",
     "output_type": "stream",
     "text": [
      "305254\n",
      "41470\n",
      "16907\n",
      "5760\n"
     ]
    }
   ],
   "source": [
    "LSbcergp = MaskedColumn(name = \"LSbcergp\", data = ((l0['LSbcp'])+43.58) , dtype=np.float64) # 44 or 43?\n",
    "l0.add_column(LSbcergp)\n",
    "#l0.replace_column('LSbcergp',LSbcergp)\n",
    "\n",
    "LEllergp = MaskedColumn(name = \"LEllergp\", data = ((l0['LELLp'])+43.58) , dtype=np.float64) # 44 or 43?\n",
    "l0.add_column(LEllergp)\n",
    "#l0.replace_column('LEllergp',LEllergp)\n",
    "\n",
    "LIrrergp = MaskedColumn(name = \"LIrrergp\", data = ((l0['LIrrp'])+43.58) , dtype=np.float64) # 44 or 43?\n",
    "l0.add_column(LIrrergp)\n",
    "#l0.replace_column('LIrrergp',LIrrergp)\n",
    "\n",
    "\n",
    "\n",
    "#add columns unlogging \n",
    "LSbc1p = MaskedColumn(name = \"LSbc1p\", data = (10**(l0['LSbcergp'])) , dtype=np.float64) \n",
    "l0.add_column(LSbc1p)\n",
    "#l0.replace_column('LSbc1p',LSbc1p)\n",
    "\n",
    "LEll1p = MaskedColumn(name = \"LEll1p\", data = (10**(l0['LEllergp'])) , dtype=np.float64) \n",
    "l0.add_column(LEll1p)\n",
    "#l0.replace_column('LEll1p',LEll1p)\n",
    "\n",
    "LIrr1p = MaskedColumn(name = \"LIrr1p\", data = (10**(l0['LIrrergp'])) , dtype=np.float64) \n",
    "l0.add_column(LIrr1p)\n",
    "#l0.replace_column('LIrr1p',LIrr1p)\n",
    "\n",
    "\n",
    "\n",
    "#thennn add columns replacing 43.58 with 0\n",
    "LSbc2p = MaskedColumn(name = \"LSbc2p\", data = (np.where(l0['LSbc1p']==10**43.58,0, l0['LSbc1p'])) , dtype=np.float64) \n",
    "l0.add_column(LSbc2p)\n",
    "#l0.replace_column('LSbc2p',LSbc2p)\n",
    "\n",
    "LEll2p = MaskedColumn(name = \"LEll2p\", data = (np.where(l0['LEll1p']==10**43.58,0, l0['LEll1p'])) , dtype=np.float64) \n",
    "l0.add_column(LEll2p)\n",
    "#l0.replace_column('LEll2p',LEll2p)\n",
    "\n",
    "LIrr2p = MaskedColumn(name = \"LIrr2p\", data = (np.where(l0['LIrr1p']==10**43.58,0, l0['LIrr1p'])) , dtype=np.float64) \n",
    "l0.add_column(LIrr2p)\n",
    "#l0.replace_column('LIrr2p',LIrr2p)\n",
    "\n",
    "#then add lg column (sum them)\n",
    "Lgp = MaskedColumn(name = \"Lgp\", data = list(map(sum, zip(l0['LEll2p'],l0['LSbc2p'],l0['LIrr2p'])))  , dtype=np.float64)\n",
    "l0.add_column(Lgp)\n",
    "#l0.replace_column('Lgp',Lgp )\n",
    "\n",
    "\n",
    "\n",
    "#then add log column \n",
    "LGlogp =  MaskedColumn(name = \"LGlogp\", data = np.log10(l0['Lgp']) , dtype=np.float64) \n",
    "l0.add_column(LGlogp)\n",
    "#l0.replace_column('LGlogp',LGlogp)\n",
    "\n",
    "#remove the values where they are all 0\n",
    "lg0p = l0[[np.isfinite(l0['LGlogp'])]]\n",
    "\n",
    "F10p = lg0p[lg0p['F']>=10]\n",
    "F5p = lg0p[lg0p['F']>=5]\n",
    "F20p = lg0p[lg0p['F']>=20]\n",
    "\n",
    "\n",
    "print (len(lg0['LAGNerg']))\n",
    "print (len(F5['LAGNerg']))\n",
    "print (len(F10['LAGNerg']))\n",
    "print (len(F20['LAGNerg']))"
   ]
  },
  {
   "cell_type": "code",
   "execution_count": 24,
   "metadata": {},
   "outputs": [],
   "source": [
    "lg0p.remove_columns(['LIrr2p', 'LEll2p', 'LSbc2p','LIrr1p','LEll1p','LSbc1p','LIrr2','LEll2','LSbc2','LIrr1','LEll1','LSbc1','SA','SType','Chi2S'])"
   ]
  },
  {
   "cell_type": "code",
   "execution_count": 25,
   "metadata": {},
   "outputs": [
    {
     "data": {
      "text/html": [
       "<i>Table length=304560</i>\n",
       "<table id=\"table140283679543536\" class=\"table-striped table-bordered table-condensed\">\n",
       "<thead><tr><th>RA</th><th>Dec</th><th>Imag</th><th>S</th><th>zspec</th><th>N</th><th>zG</th><th>chi2G</th><th>LEll</th><th>LSbc</th><th>LIrr</th><th>zGA</th><th>chi2GA</th><th>LAGNp</th><th>LELLp</th><th>LSbcp</th><th>LIrrp</th><th>F</th><th>EBV</th><th>LAGNerg</th><th>logF</th><th>I</th><th>index</th><th>LSbcerg</th><th>LEllerg</th><th>LIrrerg</th><th>Lg</th><th>LGlog</th><th>LSbcergp</th><th>LEllergp</th><th>LIrrergp</th><th>Lgp</th><th>LGlogp</th></tr></thead>\n",
       "<thead><tr><th>float64</th><th>float64</th><th>float64</th><th>float64</th><th>float64</th><th>str4</th><th>float64</th><th>float64</th><th>float64</th><th>float64</th><th>float64</th><th>float64</th><th>float64</th><th>float64</th><th>float64</th><th>float64</th><th>float64</th><th>float64</th><th>float64</th><th>float64</th><th>float64</th><th>float64</th><th>float64</th><th>float64</th><th>float64</th><th>float64</th><th>float64</th><th>float64</th><th>float64</th><th>float64</th><th>float64</th><th>float64</th><th>float64</th></tr></thead>\n",
       "<tr><td>217.18223</td><td>32.30523</td><td>22.77</td><td>0.95</td><td>-99.99</td><td>8/3</td><td>1.27</td><td>2.53</td><td>0.0</td><td>0.829</td><td>0.361</td><td>1.2</td><td>2.9</td><td>0.651</td><td>0.0</td><td>0.768</td><td>0.0</td><td>0.54</td><td>0.1</td><td>44.231</td><td>-0.26760624017703144</td><td>-30.18</td><td>1.0</td><td>44.409</td><td>43.58</td><td>43.940999999999995</td><td>3.437455404905813e+44</td><td>44.53623707264808</td><td>44.348</td><td>43.58</td><td>43.58</td><td>2.2284351492702984e+44</td><td>44.348</td></tr>\n",
       "<tr><td>217.86705</td><td>32.30527</td><td>20.02</td><td>0.03</td><td>-99.99</td><td>12/0</td><td>0.54</td><td>37.08</td><td>0.44</td><td>0.47</td><td>-0.461</td><td>0.51</td><td>45.75</td><td>0.268</td><td>0.546</td><td>0.0</td><td>-0.237</td><td>0.24</td><td>0.5</td><td>43.848</td><td>-0.619788758288394</td><td>-29.15</td><td>2.0</td><td>44.05</td><td>44.019999999999996</td><td>43.119</td><td>2.3006694855720697e+44</td><td>44.36185423235735</td><td>43.58</td><td>44.126</td><td>43.342999999999996</td><td>1.5568881628517787e+44</td><td>44.19225741667808</td></tr>\n",
       "<tr><td>217.88212</td><td>32.30531</td><td>22.67</td><td>0.03</td><td>-99.99</td><td>11/1</td><td>0.85</td><td>0.55</td><td>0.0</td><td>0.0</td><td>0.121</td><td>0.81</td><td>0.63</td><td>-0.31</td><td>0.0</td><td>0.0</td><td>-0.052</td><td>0.53</td><td>0.04</td><td>43.269999999999996</td><td>-0.27572413039921095</td><td>-28.79</td><td>3.0</td><td>43.58</td><td>43.58</td><td>43.701</td><td>5.023425895223877e+43</td><td>43.701</td><td>43.58</td><td>43.58</td><td>43.528</td><td>3.3728730865886787e+43</td><td>43.528</td></tr>\n",
       "<tr><td>217.84705</td><td>32.30564</td><td>20.44</td><td>0.03</td><td>-99.99</td><td>11/0</td><td>1.08</td><td>18.79</td><td>0.0</td><td>1.319</td><td>1.2</td><td>1.01</td><td>23.96</td><td>0.802</td><td>0.0</td><td>1.278</td><td>0.947</td><td>0.24</td><td>0.05</td><td>44.382</td><td>-0.619788758288394</td><td>-28.42</td><td>4.0</td><td>44.899</td><td>43.58</td><td>44.78</td><td>1.3950609165548327e+45</td><td>45.14459317187199</td><td>44.858</td><td>43.58</td><td>44.527</td><td>1.0576190485583862e+45</td><td>45.024329264200276</td></tr>\n",
       "<tr><td>217.70446</td><td>32.30566</td><td>19.34</td><td>0.92</td><td>-99.99</td><td>11/0</td><td>0.19</td><td>117.86</td><td>-0.28</td><td>-0.986</td><td>0.0</td><td>0.15</td><td>129.12</td><td>-0.636</td><td>-0.513</td><td>0.0</td><td>0.0</td><td>0.74</td><td>1.0</td><td>42.943999999999996</td><td>-0.13076828026902382</td><td>-28.27</td><td>5.0</td><td>42.594</td><td>43.3</td><td>43.58</td><td>2.3879072503684677e+43</td><td>43.37801745418454</td><td>43.58</td><td>43.067</td><td>43.58</td><td>1.166809617060963e+43</td><td>43.067</td></tr>\n",
       "<tr><td>217.48821</td><td>32.30604</td><td>19.71</td><td>0.03</td><td>-99.99</td><td>9/1</td><td>0.41</td><td>1.13</td><td>0.0</td><td>-1.56</td><td>0.629</td><td>0.37</td><td>0.63</td><td>-0.693</td><td>0.0</td><td>0.0</td><td>0.51</td><td>2.96</td><td>0.0</td><td>42.887</td><td>0.4712917110589386</td><td>-28.0</td><td>6.0</td><td>42.019999999999996</td><td>43.58</td><td>44.208999999999996</td><td>1.6285513231235601e+44</td><td>44.211801449728114</td><td>43.58</td><td>43.58</td><td>44.089999999999996</td><td>1.2302687708123711e+44</td><td>44.089999999999996</td></tr>\n",
       "<tr><td>217.36268</td><td>32.3061</td><td>18.71</td><td>0.03</td><td>-99.99</td><td>12/0</td><td>0.21</td><td>12.43</td><td>0.0</td><td>-0.735</td><td>0.325</td><td>0.21</td><td>13.6</td><td>-0.711</td><td>0.0</td><td>0.0</td><td>0.326</td><td>0.7</td><td>0.0</td><td>42.869</td><td>-0.1549019599857432</td><td>-27.95</td><td>7.0</td><td>42.845</td><td>43.58</td><td>43.905</td><td>8.735103217858466e+43</td><td>43.94126804116572</td><td>43.58</td><td>43.58</td><td>43.906</td><td>8.053784411990643e+43</td><td>43.906</td></tr>\n",
       "<tr><td>217.24316</td><td>32.30626</td><td>22.34</td><td>0.95</td><td>-99.99</td><td>9/2</td><td>1.08</td><td>2.14</td><td>0.0</td><td>-1.455</td><td>0.627</td><td>0.83</td><td>1.56</td><td>0.239</td><td>0.0</td><td>-0.597</td><td>0.013</td><td>2.28</td><td>0.03</td><td>43.818999999999996</td><td>0.35793484700045375</td><td>-27.94</td><td>8.0</td><td>42.125</td><td>43.58</td><td>44.207</td><td>1.6239808494999064e+44</td><td>44.210580903596316</td><td>42.983</td><td>43.58</td><td>43.592999999999996</td><td>4.879031049461457e+43</td><td>43.68833358190953</td></tr>\n",
       "<tr><td>217.16662</td><td>32.30637</td><td>21.26</td><td>0.13</td><td>-99.99</td><td>10/1</td><td>0.69</td><td>3.23</td><td>0.0</td><td>0.0</td><td>0.531</td><td>0.62</td><td>3.48</td><td>-0.314</td><td>-1.659</td><td>0.0</td><td>0.358</td><td>0.78</td><td>0.0</td><td>43.266</td><td>-0.10790539730951958</td><td>-27.79</td><td>9.0</td><td>43.58</td><td>43.58</td><td>44.111</td><td>1.2912192736135256e+44</td><td>44.111</td><td>43.58</td><td>41.921</td><td>43.937999999999995</td><td>8.752986876044035e+43</td><td>43.942156277300356</td></tr>\n",
       "<tr><td>217.27482</td><td>32.3064</td><td>19.08</td><td>0.03</td><td>-99.99</td><td>10/2</td><td>0.04</td><td>148.17</td><td>0.0</td><td>-1.412</td><td>0.0</td><td>2.83</td><td>130.97</td><td>3.271</td><td>1.532</td><td>0.0</td><td>0.0</td><td>1.46</td><td>0.1</td><td>46.851</td><td>0.1643528557844371</td><td>-27.73</td><td>10.0</td><td>42.168</td><td>43.58</td><td>43.58</td><td>1.4723125024327162e+42</td><td>42.168</td><td>43.58</td><td>45.111999999999995</td><td>43.58</td><td>1.2941958414499704e+45</td><td>45.111999999999995</td></tr>\n",
       "<tr><td>...</td><td>...</td><td>...</td><td>...</td><td>...</td><td>...</td><td>...</td><td>...</td><td>...</td><td>...</td><td>...</td><td>...</td><td>...</td><td>...</td><td>...</td><td>...</td><td>...</td><td>...</td><td>...</td><td>...</td><td>...</td><td>...</td><td>...</td><td>...</td><td>...</td><td>...</td><td>...</td><td>...</td><td>...</td><td>...</td><td>...</td><td>...</td><td>...</td></tr>\n",
       "<tr><td>217.46691</td><td>35.83682</td><td>22.42</td><td>0.03</td><td>-99.99</td><td>8/2</td><td>0.59</td><td>1.15</td><td>0.0</td><td>-0.466</td><td>-0.251</td><td>0.62</td><td>1.55</td><td>-0.927</td><td>0.0</td><td>-0.412</td><td>-0.285</td><td>0.23</td><td>0.0</td><td>42.653</td><td>-0.638272163982407</td><td>27.85</td><td>305284.0</td><td>43.114</td><td>43.58</td><td>43.329</td><td>3.433214491179861e+43</td><td>43.53570093696082</td><td>43.168</td><td>43.58</td><td>43.295</td><td>3.4447352385475777e+43</td><td>43.537155847765696</td></tr>\n",
       "<tr><td>216.45736</td><td>35.83683</td><td>22.78</td><td>0.94</td><td>-99.99</td><td>10/0</td><td>1.53</td><td>0.4</td><td>0.0</td><td>1.51</td><td>0.335</td><td>1.52</td><td>0.49</td><td>0.76</td><td>0.488</td><td>1.431</td><td>0.0</td><td>0.46</td><td>0.1</td><td>44.339999999999996</td><td>-0.3372421683184259</td><td>27.92</td><td>305285.0</td><td>45.089999999999996</td><td>43.58</td><td>43.915</td><td>1.312493035807078e+45</td><td>45.118097007682884</td><td>45.010999999999996</td><td>44.068</td><td>43.58</td><td>1.1426018653533838e+45</td><td>45.057894928732075</td></tr>\n",
       "<tr><td>217.3773</td><td>35.83683</td><td>20.35</td><td>0.05</td><td>-99.99</td><td>8/2</td><td>0.74</td><td>1.09</td><td>0.96</td><td>0.748</td><td>0.0</td><td>0.73</td><td>1.65</td><td>0.12</td><td>1.028</td><td>0.343</td><td>0.0</td><td>0.02</td><td>0.16</td><td>43.699999999999996</td><td>-1.6989700043360187</td><td>27.93</td><td>305286.0</td><td>44.327999999999996</td><td>44.54</td><td>43.58</td><td>5.595507550508001e+44</td><td>44.74783948610789</td><td>43.923</td><td>44.608</td><td>43.58</td><td>4.892614636610696e+44</td><td>44.689541010204174</td></tr>\n",
       "<tr><td>218.31186</td><td>35.83712</td><td>21.96</td><td>0.12</td><td>-99.99</td><td>8/2</td><td>0.55</td><td>0.78</td><td>-0.641</td><td>0.0</td><td>-0.197</td><td>0.56</td><td>1.04</td><td>-1.108</td><td>-0.599</td><td>0.0</td><td>-0.232</td><td>0.26</td><td>0.0</td><td>42.472</td><td>-0.585026652029182</td><td>28.06</td><td>305287.0</td><td>43.58</td><td>42.939</td><td>43.382999999999996</td><td>3.284421263731218e+43</td><td>43.51645885514063</td><td>43.58</td><td>42.981</td><td>43.348</td><td>3.1856292205651465e+43</td><td>43.5031952263197</td></tr>\n",
       "<tr><td>216.59854</td><td>35.83722</td><td>20.38</td><td>0.08</td><td>-99.99</td><td>10/0</td><td>0.48</td><td>4.9</td><td>0.0</td><td>-0.275</td><td>0.442</td><td>0.48</td><td>4.18</td><td>-0.443</td><td>0.0</td><td>-0.276</td><td>0.398</td><td>1.52</td><td>0.0</td><td>43.137</td><td>0.18184358794477254</td><td>28.18</td><td>305288.0</td><td>43.305</td><td>43.58</td><td>44.022</td><td>1.253798510191375e+44</td><td>44.09822774945887</td><td>43.303999999999995</td><td>43.58</td><td>43.978</td><td>1.1519772186425213e+44</td><td>44.061443890618726</td></tr>\n",
       "<tr><td>216.62134</td><td>35.8374</td><td>20.51</td><td>0.03</td><td>-99.99</td><td>9/0</td><td>1.05</td><td>66.59</td><td>0.0</td><td>1.678</td><td>0.889</td><td>0.72</td><td>2.26</td><td>1.502</td><td>0.0</td><td>-0.146</td><td>0.773</td><td>72.02</td><td>1.0</td><td>45.082</td><td>1.8574531170352664</td><td>28.42</td><td>305289.0</td><td>45.257999999999996</td><td>43.58</td><td>44.469</td><td>2.105782255999461e+45</td><td>45.32341346186045</td><td>43.434</td><td>43.58</td><td>44.353</td><td>2.525883139036344e+44</td><td>44.402413253881356</td></tr>\n",
       "<tr><td>218.37061</td><td>35.83753</td><td>22.02</td><td>0.03</td><td>-99.99</td><td>10/0</td><td>0.81</td><td>0.25</td><td>0.0</td><td>0.483</td><td>0.039</td><td>0.77</td><td>0.36</td><td>-0.268</td><td>0.0</td><td>0.419</td><td>-0.116</td><td>0.1</td><td>0.13</td><td>43.312</td><td>-1.0</td><td>28.49</td><td>305290.0</td><td>44.062999999999995</td><td>43.58</td><td>43.619</td><td>1.5720228526861082e+44</td><td>44.19645885514063</td><td>43.998999999999995</td><td>43.58</td><td>43.464</td><td>1.288771775629202e+44</td><td>44.11017601637553</td></tr>\n",
       "<tr><td>216.61578</td><td>35.83764</td><td>21.39</td><td>0.49</td><td>-99.99</td><td>9/1</td><td>0.5</td><td>2.13</td><td>-0.207</td><td>-0.113</td><td>0.0</td><td>0.45</td><td>2.79</td><td>-0.354</td><td>-0.108</td><td>0.0</td><td>0.0</td><td>0.29</td><td>0.4</td><td>43.226</td><td>-0.5376020021010439</td><td>28.54</td><td>305291.0</td><td>43.467</td><td>43.373</td><td>43.58</td><td>5.291371478430877e+43</td><td>43.723568252057376</td><td>43.58</td><td>43.472</td><td>43.58</td><td>2.9648313895243513e+43</td><td>43.472</td></tr>\n",
       "<tr><td>216.26838</td><td>35.83767</td><td>21.15</td><td>0.17</td><td>-99.99</td><td>10/0</td><td>0.81</td><td>2.43</td><td>0.59</td><td>0.778</td><td>0.0</td><td>0.73</td><td>0.83</td><td>0.741</td><td>0.706</td><td>0.0</td><td>-0.607</td><td>6.75</td><td>0.5</td><td>44.321</td><td>0.829303772831025</td><td>28.57</td><td>305292.0</td><td>44.358</td><td>44.17</td><td>43.58</td><td>3.759450460168616e+44</td><td>44.575124366321596</td><td>43.58</td><td>44.286</td><td>42.973</td><td>2.0259406480733937e+44</td><td>44.30662671812605</td></tr>\n",
       "<tr><td>216.17744</td><td>35.83784</td><td>22.95</td><td>0.58</td><td>-99.99</td><td>10/0</td><td>1.23</td><td>2.77</td><td>0.0</td><td>0.814</td><td>0.007</td><td>1.18</td><td>3.65</td><td>0.95</td><td>0.0</td><td>0.612</td><td>0.018</td><td>0.4</td><td>0.63</td><td>44.53</td><td>-0.3979400086720376</td><td>28.91</td><td>305293.0</td><td>44.394</td><td>43.58</td><td>43.586999999999996</td><td>2.863789034687342e+44</td><td>44.456941021860054</td><td>44.192</td><td>43.58</td><td>43.598</td><td>1.9522436658605136e+44</td><td>44.29053402241588</td></tr>\n",
       "</table>"
      ],
      "text/plain": [
       "<Table length=304560>\n",
       "    RA      Dec      Imag  ...          Lgp                 LGlogp      \n",
       " float64  float64  float64 ...        float64              float64      \n",
       "--------- -------- ------- ... ---------------------- ------------------\n",
       "217.18223 32.30523   22.77 ... 2.2284351492702984e+44             44.348\n",
       "217.86705 32.30527   20.02 ... 1.5568881628517787e+44  44.19225741667808\n",
       "217.88212 32.30531   22.67 ... 3.3728730865886787e+43             43.528\n",
       "217.84705 32.30564   20.44 ... 1.0576190485583862e+45 45.024329264200276\n",
       "217.70446 32.30566   19.34 ...  1.166809617060963e+43             43.067\n",
       "217.48821 32.30604   19.71 ... 1.2302687708123711e+44 44.089999999999996\n",
       "217.36268  32.3061   18.71 ...  8.053784411990643e+43             43.906\n",
       "217.24316 32.30626   22.34 ...  4.879031049461457e+43  43.68833358190953\n",
       "217.16662 32.30637   21.26 ...  8.752986876044035e+43 43.942156277300356\n",
       "217.27482  32.3064   19.08 ... 1.2941958414499704e+45 45.111999999999995\n",
       "      ...      ...     ... ...                    ...                ...\n",
       "217.46691 35.83682   22.42 ... 3.4447352385475777e+43 43.537155847765696\n",
       "216.45736 35.83683   22.78 ... 1.1426018653533838e+45 45.057894928732075\n",
       " 217.3773 35.83683   20.35 ...  4.892614636610696e+44 44.689541010204174\n",
       "218.31186 35.83712   21.96 ... 3.1856292205651465e+43   43.5031952263197\n",
       "216.59854 35.83722   20.38 ... 1.1519772186425213e+44 44.061443890618726\n",
       "216.62134  35.8374   20.51 ...  2.525883139036344e+44 44.402413253881356\n",
       "218.37061 35.83753   22.02 ...  1.288771775629202e+44  44.11017601637553\n",
       "216.61578 35.83764   21.39 ... 2.9648313895243513e+43             43.472\n",
       "216.26838 35.83767   21.15 ... 2.0259406480733937e+44  44.30662671812605\n",
       "216.17744 35.83784   22.95 ... 1.9522436658605136e+44  44.29053402241588"
      ]
     },
     "execution_count": 25,
     "metadata": {},
     "output_type": "execute_result"
    }
   ],
   "source": [
    "lg0p"
   ]
  },
  {
   "cell_type": "code",
   "execution_count": 26,
   "metadata": {},
   "outputs": [],
   "source": [
    "LG045 = lg0p[lg0p['LAGNerg']>=45]\n",
    "L045 = l0[l0['LAGNerg']>=45]"
   ]
  },
  {
   "cell_type": "code",
   "execution_count": 27,
   "metadata": {},
   "outputs": [],
   "source": [
    "LG0cut1045 = LG045[LG045['F']>=10]\n",
    "L0cut1045 = L045[L045['F']>=10]"
   ]
  },
  {
   "cell_type": "code",
   "execution_count": 28,
   "metadata": {},
   "outputs": [],
   "source": [
    "L0cut45LESSTHAN10 = L045[L045['F']<=10]"
   ]
  },
  {
   "cell_type": "code",
   "execution_count": 29,
   "metadata": {},
   "outputs": [],
   "source": [
    "LG0cut10 = lg0p[lg0p['F']>=10]\n",
    "L0cut10 = l0[l0['F']>=10]"
   ]
  },
  {
   "cell_type": "code",
   "execution_count": 30,
   "metadata": {},
   "outputs": [
    {
     "data": {
      "text/html": [
       "<i>Table length=7818</i>\n",
       "<table id=\"table140284325155336\" class=\"table-striped table-bordered table-condensed\">\n",
       "<thead><tr><th>RA</th><th>Dec</th><th>Imag</th><th>S</th><th>zspec</th><th>N</th><th>zG</th><th>chi2G</th><th>LEll</th><th>LSbc</th><th>LIrr</th><th>zGA</th><th>chi2GA</th><th>LAGNp</th><th>LELLp</th><th>LSbcp</th><th>LIrrp</th><th>F</th><th>EBV</th><th>Chi2S</th><th>SType</th><th>LAGNerg</th><th>logF</th><th>I</th><th>index</th><th>SA</th><th>LSbcerg</th><th>LEllerg</th><th>LIrrerg</th><th>Lg</th><th>LGlog</th><th>LSbc1</th><th>LEll1</th><th>LIrr1</th><th>LSbc2</th><th>LEll2</th><th>LIrr2</th><th>LSbcergp</th><th>LEllergp</th><th>LIrrergp</th><th>LSbc1p</th><th>LEll1p</th><th>LIrr1p</th><th>LSbc2p</th><th>LEll2p</th><th>LIrr2p</th><th>Lgp</th><th>LGlogp</th></tr></thead>\n",
       "<thead><tr><th>float64</th><th>float64</th><th>float64</th><th>float64</th><th>float64</th><th>str4</th><th>float64</th><th>float64</th><th>float64</th><th>float64</th><th>float64</th><th>float64</th><th>float64</th><th>float64</th><th>float64</th><th>float64</th><th>float64</th><th>float64</th><th>float64</th><th>float64</th><th>str5</th><th>float64</th><th>float64</th><th>float64</th><th>float64</th><th>float64</th><th>float64</th><th>float64</th><th>float64</th><th>float64</th><th>float64</th><th>float64</th><th>float64</th><th>float64</th><th>float64</th><th>float64</th><th>float64</th><th>float64</th><th>float64</th><th>float64</th><th>float64</th><th>float64</th><th>float64</th><th>float64</th><th>float64</th><th>float64</th><th>float64</th><th>float64</th></tr></thead>\n",
       "<tr><td>217.27482</td><td>32.3064</td><td>19.08</td><td>0.03</td><td>-99.99</td><td>10/2</td><td>0.04</td><td>148.17</td><td>0.0</td><td>-1.412</td><td>0.0</td><td>2.83</td><td>130.97</td><td>3.271</td><td>1.532</td><td>0.0</td><td>0.0</td><td>1.46</td><td>0.1</td><td>191.74</td><td>g/k</td><td>46.851</td><td>0.1643528557844371</td><td>-27.73</td><td>10.0</td><td>1.1709601873536302</td><td>42.168</td><td>43.58</td><td>43.58</td><td>1.4723125024327162e+42</td><td>42.168</td><td>1.4723125024327162e+42</td><td>3.801893963205597e+43</td><td>3.801893963205597e+43</td><td>1.4723125024327162e+42</td><td>0.0</td><td>0.0</td><td>43.58</td><td>45.111999999999995</td><td>43.58</td><td>3.801893963205597e+43</td><td>1.2941958414499704e+45</td><td>3.801893963205597e+43</td><td>0.0</td><td>1.2941958414499704e+45</td><td>0.0</td><td>1.2941958414499704e+45</td><td>45.111999999999995</td></tr>\n",
       "<tr><td>217.82347</td><td>32.30846</td><td>18.5</td><td>0.03</td><td>-99.99</td><td>11/0</td><td>2.99</td><td>256.33</td><td>2.252</td><td>0.0</td><td>2.111</td><td>3.0</td><td>303.93</td><td>2.353</td><td>2.328</td><td>0.0</td><td>0.0</td><td>0.45</td><td>0.05</td><td>220.25</td><td>k/m</td><td>45.933</td><td>-0.3467874862246563</td><td>-25.59</td><td>42.0</td><td>4.918032786885246</td><td>43.58</td><td>45.832</td><td>45.690999999999995</td><td>1.1701115087697834e+46</td><td>46.068227250922064</td><td>3.801893963205597e+43</td><td>6.792036326171856e+45</td><td>4.9090787615259786e+45</td><td>0.0</td><td>6.792036326171856e+45</td><td>4.9090787615259786e+45</td><td>43.58</td><td>45.908</td><td>43.58</td><td>3.801893963205597e+43</td><td>8.090958991783846e+45</td><td>3.801893963205597e+43</td><td>0.0</td><td>8.090958991783846e+45</td><td>0.0</td><td>8.090958991783846e+45</td><td>45.908</td></tr>\n",
       "<tr><td>217.43907</td><td>32.30938</td><td>17.92</td><td>0.85</td><td>-99.99</td><td>9/1</td><td>1.91</td><td>217.32</td><td>0.0</td><td>2.199</td><td>1.205</td><td>1.84</td><td>321.62</td><td>1.719</td><td>0.0</td><td>2.136</td><td>0.0</td><td>0.03</td><td>0.13</td><td>212.97</td><td>K/M</td><td>45.299</td><td>-1.5228787452803376</td><td>-24.03</td><td>61.0</td><td>7.142857142857143</td><td>45.778999999999996</td><td>43.58</td><td>44.785</td><td>6.621274272072895e+45</td><td>45.82094157797054</td><td>6.01173737483273e+45</td><td>3.801893963205597e+43</td><td>6.095368972401644e+44</td><td>6.01173737483273e+45</td><td>0.0</td><td>6.095368972401644e+44</td><td>45.716</td><td>43.58</td><td>43.58</td><td>5.199959965335173e+45</td><td>3.801893963205597e+43</td><td>3.801893963205597e+43</td><td>5.199959965335173e+45</td><td>0.0</td><td>0.0</td><td>5.199959965335173e+45</td><td>45.716</td></tr>\n",
       "<tr><td>217.227</td><td>32.31004</td><td>22.28</td><td>0.04</td><td>-99.99</td><td>8/3</td><td>0.1</td><td>4.6</td><td>0.0</td><td>0.0</td><td>-1.713</td><td>2.11</td><td>3.05</td><td>1.621</td><td>-0.346</td><td>0.0</td><td>0.0</td><td>2.78</td><td>0.04</td><td>4.15</td><td>a/f</td><td>45.201</td><td>0.4440447959180762</td><td>15.89</td><td>76.0</td><td>8.899297423887589</td><td>43.58</td><td>43.58</td><td>41.867</td><td>7.362070974947316e+41</td><td>41.867</td><td>3.801893963205597e+43</td><td>3.801893963205597e+43</td><td>7.362070974947316e+41</td><td>0.0</td><td>0.0</td><td>7.362070974947316e+41</td><td>43.58</td><td>43.234</td><td>43.58</td><td>3.801893963205597e+43</td><td>1.7139573075084322e+43</td><td>3.801893963205597e+43</td><td>0.0</td><td>1.7139573075084322e+43</td><td>0.0</td><td>1.7139573075084322e+43</td><td>43.234</td></tr>\n",
       "<tr><td>217.9176</td><td>32.31062</td><td>22.57</td><td>0.67</td><td>-99.99</td><td>9/3</td><td>1.33</td><td>1.34</td><td>0.0</td><td>0.0</td><td>0.926</td><td>1.89</td><td>1.08</td><td>1.484</td><td>0.0</td><td>0.446</td><td>0.0</td><td>1.85</td><td>0.06</td><td>2.41</td><td>a/f</td><td>45.064</td><td>0.26717172840301384</td><td>16.23</td><td>105.0</td><td>12.295081967213116</td><td>43.58</td><td>43.58</td><td>44.506</td><td>3.2062693245054673e+44</td><td>44.506</td><td>3.801893963205597e+43</td><td>3.801893963205597e+43</td><td>3.2062693245054673e+44</td><td>0.0</td><td>0.0</td><td>3.2062693245054673e+44</td><td>44.025999999999996</td><td>43.58</td><td>43.58</td><td>1.0616955571987154e+44</td><td>3.801893963205597e+43</td><td>3.801893963205597e+43</td><td>1.0616955571987154e+44</td><td>0.0</td><td>0.0</td><td>1.0616955571987154e+44</td><td>44.025999999999996</td></tr>\n",
       "<tr><td>216.20163</td><td>32.31104</td><td>20.98</td><td>0.76</td><td>-99.99</td><td>10/0</td><td>0.45</td><td>9.66</td><td>0.0</td><td>-0.214</td><td>-1.218</td><td>3.0</td><td>9.57</td><td>2.255</td><td>0.516</td><td>0.0</td><td>0.0</td><td>1.03</td><td>0.1</td><td>4.15</td><td>k/m</td><td>45.835</td><td>0.012837224705172217</td><td>16.31</td><td>119.0</td><td>13.934426229508198</td><td>43.366</td><td>43.58</td><td>42.361999999999995</td><td>2.552880978097953e+43</td><td>43.40703056734626</td><td>2.322736796357105e+43</td><td>3.801893963205597e+43</td><td>2.3014418174084808e+42</td><td>2.322736796357105e+43</td><td>0.0</td><td>2.3014418174084808e+42</td><td>43.58</td><td>44.096</td><td>43.58</td><td>3.801893963205597e+43</td><td>1.247383514242933e+44</td><td>3.801893963205597e+43</td><td>0.0</td><td>1.247383514242933e+44</td><td>0.0</td><td>1.247383514242933e+44</td><td>44.096</td></tr>\n",
       "<tr><td>217.36603</td><td>32.31109</td><td>19.35</td><td>0.03</td><td>-99.99</td><td>10/3</td><td>2.99</td><td>113.91</td><td>2.206</td><td>0.0</td><td>2.148</td><td>3.0</td><td>130.12</td><td>2.507</td><td>2.247</td><td>0.0</td><td>0.0</td><td>0.44</td><td>0.06</td><td>138.26</td><td>g/k</td><td>46.086999999999996</td><td>-0.3565473235138126</td><td>16.31</td><td>121.0</td><td>14.168618266978925</td><td>43.58</td><td>45.786</td><td>45.728</td><td>1.1455063843025474e+46</td><td>46.05899751400524</td><td>3.801893963205597e+43</td><td>6.10942024905574e+45</td><td>5.3456435939697356e+45</td><td>0.0</td><td>6.10942024905574e+45</td><td>5.3456435939697356e+45</td><td>43.58</td><td>45.827</td><td>43.58</td><td>3.801893963205597e+43</td><td>6.714288529259495e+45</td><td>3.801893963205597e+43</td><td>0.0</td><td>6.714288529259495e+45</td><td>0.0</td><td>6.714288529259495e+45</td><td>45.827</td></tr>\n",
       "<tr><td>217.72294</td><td>32.3116</td><td>22.63</td><td>0.03</td><td>-99.99</td><td>9/3</td><td>1.01</td><td>3.28</td><td>0.0</td><td>0.167</td><td>0.123</td><td>1.9</td><td>2.31</td><td>1.432</td><td>0.0</td><td>0.647</td><td>0.0</td><td>2.68</td><td>0.13</td><td>3.94</td><td>f/g</td><td>45.012</td><td>0.42813479402878885</td><td>16.38</td><td>140.0</td><td>16.393442622950822</td><td>43.747</td><td>43.58</td><td>43.702999999999996</td><td>1.0631314923003541e+44</td><td>44.0265869831016</td><td>5.584701947368306e+43</td><td>3.801893963205597e+43</td><td>5.046612975635235e+43</td><td>5.584701947368306e+43</td><td>0.0</td><td>5.046612975635235e+43</td><td>44.227</td><td>43.58</td><td>43.58</td><td>1.6865530253887285e+44</td><td>3.801893963205597e+43</td><td>3.801893963205597e+43</td><td>1.6865530253887285e+44</td><td>0.0</td><td>0.0</td><td>1.6865530253887285e+44</td><td>44.227</td></tr>\n",
       "<tr><td>217.82594</td><td>32.31166</td><td>22.26</td><td>0.03</td><td>-99.99</td><td>12/1</td><td>2.26</td><td>11.32</td><td>0.0</td><td>1.82</td><td>0.745</td><td>2.13</td><td>13.69</td><td>1.764</td><td>1.505</td><td>0.0</td><td>0.0</td><td>0.31</td><td>0.16</td><td>22.06</td><td>1500K</td><td>45.344</td><td>-0.5086383061657274</td><td>16.39</td><td>142.0</td><td>16.62763466042155</td><td>45.4</td><td>43.58</td><td>44.324999999999996</td><td>2.7232353354932345e+45</td><td>45.435085173653526</td><td>2.511886431509572e+45</td><td>3.801893963205597e+43</td><td>2.113489039836626e+44</td><td>2.511886431509572e+45</td><td>0.0</td><td>2.113489039836626e+44</td><td>43.58</td><td>45.085</td><td>43.58</td><td>3.801893963205597e+43</td><td>1.2161860006463703e+45</td><td>3.801893963205597e+43</td><td>0.0</td><td>1.2161860006463703e+45</td><td>0.0</td><td>1.2161860006463703e+45</td><td>45.085</td></tr>\n",
       "<tr><td>216.26747</td><td>32.31175</td><td>20.64</td><td>0.98</td><td>-99.99</td><td>7/3</td><td>0.2</td><td>15.09</td><td>-1.051</td><td>-1.914</td><td>0.0</td><td>3.0</td><td>19.42</td><td>2.346</td><td>0.371</td><td>0.0</td><td>0.0</td><td>0.33</td><td>0.1</td><td>10.03</td><td>k/m</td><td>45.926</td><td>-0.4814860601221125</td><td>16.4</td><td>144.0</td><td>16.861826697892273</td><td>41.666</td><td>42.528999999999996</td><td>43.58</td><td>3.8440952817960725e+42</td><td>42.5847941437846</td><td>4.6344691973628466e+41</td><td>3.380648362059788e+42</td><td>3.801893963205597e+43</td><td>4.6344691973628466e+41</td><td>3.380648362059788e+42</td><td>0.0</td><td>43.58</td><td>43.951</td><td>43.58</td><td>3.801893963205597e+43</td><td>8.933054837332964e+43</td><td>3.801893963205597e+43</td><td>0.0</td><td>8.933054837332964e+43</td><td>0.0</td><td>8.933054837332964e+43</td><td>43.951</td></tr>\n",
       "<tr><td>...</td><td>...</td><td>...</td><td>...</td><td>...</td><td>...</td><td>...</td><td>...</td><td>...</td><td>...</td><td>...</td><td>...</td><td>...</td><td>...</td><td>...</td><td>...</td><td>...</td><td>...</td><td>...</td><td>...</td><td>...</td><td>...</td><td>...</td><td>...</td><td>...</td><td>...</td><td>...</td><td>...</td><td>...</td><td>...</td><td>...</td><td>...</td><td>...</td><td>...</td><td>...</td><td>...</td><td>...</td><td>...</td><td>...</td><td>...</td><td>...</td><td>...</td><td>...</td><td>...</td><td>...</td><td>...</td><td>...</td><td>...</td></tr>\n",
       "<tr><td>216.47028</td><td>35.81773</td><td>21.12</td><td>0.49</td><td>-99.99</td><td>9/1</td><td>0.02</td><td>11.23</td><td>0.0</td><td>0.0</td><td>-2.643</td><td>1.76</td><td>10.5</td><td>1.788</td><td>0.0</td><td>0.0</td><td>0.031</td><td>1.21</td><td>0.0</td><td>6.02</td><td>b/a</td><td>45.367999999999995</td><td>0.08278537031645007</td><td>24.79</td><td>304842.0</td><td>35695.78454332553</td><td>43.58</td><td>43.58</td><td>40.937</td><td>8.649679187756885e+40</td><td>40.937</td><td>3.801893963205597e+43</td><td>3.801893963205597e+43</td><td>8.649679187756885e+40</td><td>0.0</td><td>0.0</td><td>8.649679187756885e+40</td><td>43.58</td><td>43.58</td><td>43.611</td><td>3.801893963205597e+43</td><td>3.801893963205597e+43</td><td>4.083193863326894e+43</td><td>0.0</td><td>0.0</td><td>4.083193863326894e+43</td><td>4.083193863326894e+43</td><td>43.611</td></tr>\n",
       "<tr><td>218.35567</td><td>35.81913</td><td>22.38</td><td>0.03</td><td>-99.99</td><td>8/2</td><td>1.55</td><td>1.02</td><td>0.0</td><td>0.006</td><td>1.209</td><td>2.18</td><td>1.17</td><td>1.735</td><td>0.806</td><td>0.0</td><td>0.0</td><td>0.63</td><td>0.06</td><td>7.25</td><td>f/g</td><td>45.315</td><td>-0.2006594505464183</td><td>24.86</td><td>304894.0</td><td>35701.87353629977</td><td>43.586</td><td>43.58</td><td>44.789</td><td>6.537247084764473e+44</td><td>44.81539490006793</td><td>3.854783576657705e+43</td><td>3.801893963205597e+43</td><td>6.151768727098702e+44</td><td>3.854783576657705e+43</td><td>0.0</td><td>6.151768727098702e+44</td><td>43.58</td><td>44.385999999999996</td><td>43.58</td><td>3.801893963205597e+43</td><td>2.432204009073791e+44</td><td>3.801893963205597e+43</td><td>0.0</td><td>2.432204009073791e+44</td><td>0.0</td><td>2.432204009073791e+44</td><td>44.385999999999996</td></tr>\n",
       "<tr><td>216.63543</td><td>35.82078</td><td>22.71</td><td>0.14</td><td>-99.99</td><td>8/2</td><td>1.61</td><td>1.98</td><td>0.255</td><td>1.365</td><td>0.0</td><td>1.36</td><td>1.39</td><td>1.486</td><td>0.91</td><td>0.0</td><td>0.0</td><td>2.3</td><td>0.5</td><td>2.62</td><td>1000K</td><td>45.065999999999995</td><td>0.36172783601759284</td><td>24.96</td><td>304961.0</td><td>35709.71896955504</td><td>44.945</td><td>43.835</td><td>43.58</td><td>9.494400377361577e+44</td><td>44.977467541898086</td><td>8.810488730080147e+44</td><td>6.839116472814307e+43</td><td>3.801893963205597e+43</td><td>8.810488730080147e+44</td><td>6.839116472814307e+43</td><td>0.0</td><td>43.58</td><td>44.489999999999995</td><td>43.58</td><td>3.801893963205597e+43</td><td>3.0902954325135543e+44</td><td>3.801893963205597e+43</td><td>0.0</td><td>3.0902954325135543e+44</td><td>0.0</td><td>3.0902954325135543e+44</td><td>44.489999999999995</td></tr>\n",
       "<tr><td>216.45679</td><td>35.82099</td><td>23.24</td><td>0.73</td><td>-99.99</td><td>10/1</td><td>1.76</td><td>2.97</td><td>1.09</td><td>1.798</td><td>0.55</td><td>1.63</td><td>2.79</td><td>1.742</td><td>1.58</td><td>0.0</td><td>0.84</td><td>1.22</td><td>0.63</td><td>13.12</td><td>1000K</td><td>45.321999999999996</td><td>0.08635983067474821</td><td>24.98</td><td>304972.0</td><td>35711.00702576113</td><td>45.378</td><td>44.67</td><td>44.129999999999995</td><td>2.990442712459542e+45</td><td>45.47573548710224</td><td>2.3878112829131782e+45</td><td>4.677351412872e+44</td><td>1.3489628825916396e+44</td><td>2.3878112829131782e+45</td><td>4.677351412872e+44</td><td>1.3489628825916396e+44</td><td>43.58</td><td>45.16</td><td>44.42</td><td>3.801893963205597e+43</td><td>1.4454397707459162e+45</td><td>2.6302679918953924e+44</td><td>0.0</td><td>1.4454397707459162e+45</td><td>2.6302679918953924e+44</td><td>1.7084665699354555e+45</td><td>45.232606485250905</td></tr>\n",
       "<tr><td>217.58909</td><td>35.82139</td><td>21.43</td><td>0.03</td><td>-99.99</td><td>10/0</td><td>1.7</td><td>2.43</td><td>0.0</td><td>1.815</td><td>1.421</td><td>1.4</td><td>1.74</td><td>1.849</td><td>1.37</td><td>0.0</td><td>-0.589</td><td>2.19</td><td>0.16</td><td>29.39</td><td>1000K</td><td>45.428999999999995</td><td>0.34044411484011833</td><td>25.0</td><td>304983.0</td><td>35712.29508196722</td><td>45.394999999999996</td><td>43.58</td><td>45.001</td><td>3.485438343373442e+45</td><td>45.542257404568</td><td>2.4831331052955477e+45</td><td>3.801893963205597e+43</td><td>1.0023052380778944e+45</td><td>2.4831331052955477e+45</td><td>0.0</td><td>1.0023052380778944e+45</td><td>43.58</td><td>44.949999999999996</td><td>42.991</td><td>3.801893963205597e+43</td><td>8.912509381337368e+44</td><td>9.79489985408698e+42</td><td>0.0</td><td>8.912509381337368e+44</td><td>9.79489985408698e+42</td><td>9.010458379878239e+44</td><td>44.9547468849622</td></tr>\n",
       "<tr><td>217.04583</td><td>35.82484</td><td>21.46</td><td>0.05</td><td>-99.99</td><td>10/0</td><td>1.75</td><td>4.3</td><td>0.0</td><td>1.607</td><td>1.544</td><td>1.41</td><td>2.54</td><td>1.625</td><td>0.64</td><td>1.303</td><td>0.0</td><td>3.07</td><td>0.1</td><td>65.38</td><td>2500K</td><td>45.205</td><td>0.48713837547718647</td><td>25.28</td><td>305093.0</td><td>35725.17564402811</td><td>45.187</td><td>43.58</td><td>45.123999999999995</td><td>2.868609058281103e+45</td><td>45.45767136546453</td><td>1.5381546403030264e+45</td><td>3.801893963205597e+43</td><td>1.3304544179780764e+45</td><td>1.5381546403030264e+45</td><td>0.0</td><td>1.3304544179780764e+45</td><td>44.882999999999996</td><td>44.22</td><td>43.58</td><td>7.638357835776828e+44</td><td>1.6595869074375563e+44</td><td>3.801893963205597e+43</td><td>7.638357835776828e+44</td><td>1.6595869074375563e+44</td><td>0.0</td><td>9.297944743214384e+44</td><td>44.96838696088467</td></tr>\n",
       "<tr><td>217.01473</td><td>35.83007</td><td>22.98</td><td>0.01</td><td>-99.99</td><td>10/0</td><td>1.35</td><td>9.59</td><td>0.0</td><td>1.352</td><td>0.0</td><td>1.17</td><td>2.63</td><td>1.477</td><td>0.0</td><td>1.016</td><td>0.0</td><td>8.94</td><td>0.79</td><td>12.86</td><td>1000K</td><td>45.056999999999995</td><td>0.9513375187959177</td><td>26.03</td><td>305224.0</td><td>35740.51522248244</td><td>44.931999999999995</td><td>43.58</td><td>43.58</td><td>8.550667128846736e+44</td><td>44.931999999999995</td><td>8.550667128846736e+44</td><td>3.801893963205597e+43</td><td>3.801893963205597e+43</td><td>8.550667128846736e+44</td><td>0.0</td><td>0.0</td><td>44.596</td><td>43.58</td><td>43.58</td><td>3.944573020752753e+44</td><td>3.801893963205597e+43</td><td>3.801893963205597e+43</td><td>3.944573020752753e+44</td><td>0.0</td><td>0.0</td><td>3.944573020752753e+44</td><td>44.596</td></tr>\n",
       "<tr><td>217.33642</td><td>35.8302</td><td>22.86</td><td>0.4</td><td>-99.99</td><td>10/1</td><td>1.82</td><td>5.47</td><td>0.0</td><td>1.433</td><td>0.0</td><td>1.19</td><td>1.56</td><td>1.441</td><td>0.0</td><td>0.611</td><td>0.0</td><td>9.77</td><td>0.5</td><td>7.42</td><td>1000K</td><td>45.021</td><td>0.989894563718773</td><td>26.04</td><td>305227.0</td><td>35740.866510538646</td><td>45.013</td><td>43.58</td><td>43.58</td><td>1.0303861204416116e+45</td><td>45.013</td><td>1.0303861204416116e+45</td><td>3.801893963205597e+43</td><td>3.801893963205597e+43</td><td>1.0303861204416116e+45</td><td>0.0</td><td>0.0</td><td>44.190999999999995</td><td>43.58</td><td>43.58</td><td>1.5523870099580658e+44</td><td>3.801893963205597e+43</td><td>3.801893963205597e+43</td><td>1.5523870099580658e+44</td><td>0.0</td><td>0.0</td><td>1.5523870099580658e+44</td><td>44.190999999999995</td></tr>\n",
       "<tr><td>217.41363</td><td>35.83076</td><td>22.4</td><td>0.05</td><td>-99.99</td><td>10/0</td><td>1.38</td><td>1.26</td><td>0.0</td><td>0.291</td><td>0.914</td><td>2.41</td><td>1.25</td><td>1.99</td><td>0.333</td><td>0.0</td><td>0.0</td><td>1.01</td><td>0.1</td><td>4.5</td><td>f/g</td><td>45.57</td><td>0.004321373782642578</td><td>26.1</td><td>305233.0</td><td>35741.569086651056</td><td>43.870999999999995</td><td>43.58</td><td>44.494</td><td>3.861908721990629e+44</td><td>44.58680200481255</td><td>7.43019137896693e+43</td><td>3.801893963205597e+43</td><td>3.1188895840939354e+44</td><td>7.43019137896693e+43</td><td>0.0</td><td>3.1188895840939354e+44</td><td>43.58</td><td>43.913</td><td>43.58</td><td>3.801893963205597e+43</td><td>8.184647881347836e+43</td><td>3.801893963205597e+43</td><td>0.0</td><td>8.184647881347836e+43</td><td>0.0</td><td>8.184647881347836e+43</td><td>43.913</td></tr>\n",
       "<tr><td>217.54906</td><td>35.83346</td><td>20.84</td><td>0.95</td><td>-99.99</td><td>10/0</td><td>0.28</td><td>2.14</td><td>-1.338</td><td>-0.081</td><td>-1.598</td><td>2.18</td><td>2.24</td><td>2.142</td><td>1.019</td><td>0.0</td><td>0.0</td><td>0.89</td><td>0.01</td><td>16.22</td><td>K/M</td><td>45.722</td><td>-0.05060999335508721</td><td>26.65</td><td>305261.0</td><td>35744.84777517565</td><td>43.498999999999995</td><td>42.242</td><td>41.982</td><td>3.4255269018182346e+43</td><td>43.53472738252985</td><td>3.155004623374592e+43</td><td>1.745822152920493e+42</td><td>9.594006315159316e+41</td><td>3.155004623374592e+43</td><td>1.745822152920493e+42</td><td>9.594006315159316e+41</td><td>43.58</td><td>44.599</td><td>43.58</td><td>3.801893963205597e+43</td><td>3.9719154946943725e+44</td><td>3.801893963205597e+43</td><td>0.0</td><td>3.9719154946943725e+44</td><td>0.0</td><td>3.9719154946943725e+44</td><td>44.599</td></tr>\n",
       "</table>"
      ],
      "text/plain": [
       "<Table length=7818>\n",
       "    RA      Dec      Imag  ...          Lgp                 LGlogp      \n",
       " float64  float64  float64 ...        float64              float64      \n",
       "--------- -------- ------- ... ---------------------- ------------------\n",
       "217.27482  32.3064   19.08 ... 1.2941958414499704e+45 45.111999999999995\n",
       "217.82347 32.30846    18.5 ...  8.090958991783846e+45             45.908\n",
       "217.43907 32.30938   17.92 ...  5.199959965335173e+45             45.716\n",
       "  217.227 32.31004   22.28 ... 1.7139573075084322e+43             43.234\n",
       " 217.9176 32.31062   22.57 ... 1.0616955571987154e+44 44.025999999999996\n",
       "216.20163 32.31104   20.98 ...  1.247383514242933e+44             44.096\n",
       "217.36603 32.31109   19.35 ...  6.714288529259495e+45             45.827\n",
       "217.72294  32.3116   22.63 ... 1.6865530253887285e+44             44.227\n",
       "217.82594 32.31166   22.26 ... 1.2161860006463703e+45             45.085\n",
       "216.26747 32.31175   20.64 ...  8.933054837332964e+43             43.951\n",
       "      ...      ...     ... ...                    ...                ...\n",
       "216.47028 35.81773   21.12 ...  4.083193863326894e+43             43.611\n",
       "218.35567 35.81913   22.38 ...  2.432204009073791e+44 44.385999999999996\n",
       "216.63543 35.82078   22.71 ... 3.0902954325135543e+44 44.489999999999995\n",
       "216.45679 35.82099   23.24 ... 1.7084665699354555e+45 45.232606485250905\n",
       "217.58909 35.82139   21.43 ...  9.010458379878239e+44   44.9547468849622\n",
       "217.04583 35.82484   21.46 ...  9.297944743214384e+44  44.96838696088467\n",
       "217.01473 35.83007   22.98 ...  3.944573020752753e+44             44.596\n",
       "217.33642  35.8302   22.86 ... 1.5523870099580658e+44 44.190999999999995\n",
       "217.41363 35.83076    22.4 ...  8.184647881347836e+43             43.913\n",
       "217.54906 35.83346   20.84 ... 3.9719154946943725e+44             44.599"
      ]
     },
     "execution_count": 30,
     "metadata": {},
     "output_type": "execute_result"
    }
   ],
   "source": [
    "L0cut45LESSTHAN10"
   ]
  },
  {
   "cell_type": "code",
   "execution_count": 31,
   "metadata": {},
   "outputs": [
    {
     "data": {
      "text/html": [
       "<i>Table length=16907</i>\n",
       "<table id=\"table140283570102848\" class=\"table-striped table-bordered table-condensed\">\n",
       "<thead><tr><th>RA</th><th>Dec</th><th>Imag</th><th>S</th><th>zspec</th><th>N</th><th>zG</th><th>chi2G</th><th>LEll</th><th>LSbc</th><th>LIrr</th><th>zGA</th><th>chi2GA</th><th>LAGNp</th><th>LELLp</th><th>LSbcp</th><th>LIrrp</th><th>F</th><th>EBV</th><th>Chi2S</th><th>SType</th><th>LAGNerg</th><th>logF</th><th>I</th><th>index</th><th>SA</th><th>LSbcerg</th><th>LEllerg</th><th>LIrrerg</th><th>Lg</th><th>LGlog</th><th>LSbc1</th><th>LEll1</th><th>LIrr1</th><th>LSbc2</th><th>LEll2</th><th>LIrr2</th><th>LSbcergp</th><th>LEllergp</th><th>LIrrergp</th><th>LSbc1p</th><th>LEll1p</th><th>LIrr1p</th><th>LSbc2p</th><th>LEll2p</th><th>LIrr2p</th><th>Lgp</th><th>LGlogp</th></tr></thead>\n",
       "<thead><tr><th>float64</th><th>float64</th><th>float64</th><th>float64</th><th>float64</th><th>str4</th><th>float64</th><th>float64</th><th>float64</th><th>float64</th><th>float64</th><th>float64</th><th>float64</th><th>float64</th><th>float64</th><th>float64</th><th>float64</th><th>float64</th><th>float64</th><th>float64</th><th>str5</th><th>float64</th><th>float64</th><th>float64</th><th>float64</th><th>float64</th><th>float64</th><th>float64</th><th>float64</th><th>float64</th><th>float64</th><th>float64</th><th>float64</th><th>float64</th><th>float64</th><th>float64</th><th>float64</th><th>float64</th><th>float64</th><th>float64</th><th>float64</th><th>float64</th><th>float64</th><th>float64</th><th>float64</th><th>float64</th><th>float64</th><th>float64</th></tr></thead>\n",
       "<tr><td>217.44642</td><td>32.30949</td><td>22.64</td><td>0.33</td><td>-99.99</td><td>10/2</td><td>1.5</td><td>3.18</td><td>0.0</td><td>0.0</td><td>1.229</td><td>1.1</td><td>0.53</td><td>0.815</td><td>0.0</td><td>0.105</td><td>-0.176</td><td>20.86</td><td>0.0</td><td>5.03</td><td>b/a</td><td>44.394999999999996</td><td>1.319314304090512</td><td>-23.02</td><td>64.0</td><td>7.494145199063232</td><td>43.58</td><td>43.58</td><td>44.809</td><td>6.441692655151736e+44</td><td>44.809</td><td>3.801893963205597e+43</td><td>3.801893963205597e+43</td><td>6.441692655151736e+44</td><td>0.0</td><td>0.0</td><td>6.441692655151736e+44</td><td>43.684999999999995</td><td>43.58</td><td>43.403999999999996</td><td>4.84172367584094e+43</td><td>3.801893963205597e+43</td><td>2.535128630497886e+43</td><td>4.84172367584094e+43</td><td>0.0</td><td>2.535128630497886e+43</td><td>7.376852306338826e+43</td><td>43.86787108843545</td></tr>\n",
       "<tr><td>217.46803</td><td>32.31347</td><td>22.24</td><td>0.04</td><td>-99.99</td><td>10/3</td><td>0.91</td><td>3.99</td><td>0.0</td><td>0.0</td><td>0.513</td><td>1.91</td><td>1.33</td><td>1.15</td><td>0.0</td><td>0.0</td><td>-0.816</td><td>10.0</td><td>0.0</td><td>2.36</td><td>O/B</td><td>44.73</td><td>1.0</td><td>16.64</td><td>224.0</td><td>26.229508196721316</td><td>43.58</td><td>43.58</td><td>44.092999999999996</td><td>1.238796586530359e+44</td><td>44.092999999999996</td><td>3.801893963205597e+43</td><td>3.801893963205597e+43</td><td>1.238796586530359e+44</td><td>0.0</td><td>0.0</td><td>1.238796586530359e+44</td><td>43.58</td><td>43.58</td><td>42.763999999999996</td><td>3.801893963205597e+43</td><td>3.801893963205597e+43</td><td>5.807644175213064e+42</td><td>0.0</td><td>0.0</td><td>5.807644175213064e+42</td><td>5.807644175213064e+42</td><td>42.763999999999996</td></tr>\n",
       "<tr><td>216.23924</td><td>32.31401</td><td>23.56</td><td>0.22</td><td>-99.99</td><td>9/3</td><td>3.0</td><td>70.22</td><td>2.445</td><td>0.0</td><td>0.0</td><td>0.83</td><td>7.08</td><td>2.098</td><td>0.0</td><td>0.0</td><td>-0.656</td><td>36.66</td><td>1.58</td><td>146.43</td><td>1500K</td><td>45.678</td><td>1.5641924606261979</td><td>16.69</td><td>246.0</td><td>28.8056206088993</td><td>43.58</td><td>46.025</td><td>43.58</td><td>1.0592537251772854e+46</td><td>46.025</td><td>3.801893963205597e+43</td><td>1.0592537251772854e+46</td><td>3.801893963205597e+43</td><td>0.0</td><td>1.0592537251772854e+46</td><td>0.0</td><td>43.58</td><td>43.58</td><td>42.924</td><td>3.801893963205597e+43</td><td>3.801893963205597e+43</td><td>8.394599865193965e+42</td><td>0.0</td><td>0.0</td><td>8.394599865193965e+42</td><td>8.394599865193965e+42</td><td>42.924</td></tr>\n",
       "<tr><td>217.19404</td><td>32.31454</td><td>22.73</td><td>0.51</td><td>-99.99</td><td>9/4</td><td>0.07</td><td>2.14</td><td>0.0</td><td>0.0</td><td>-2.212</td><td>1.9</td><td>0.64</td><td>1.199</td><td>0.0</td><td>-0.414</td><td>0.0</td><td>11.45</td><td>0.02</td><td>1.33</td><td>a/f</td><td>44.778999999999996</td><td>1.0588054866759067</td><td>16.74</td><td>269.0</td><td>31.498829039812648</td><td>43.58</td><td>43.58</td><td>41.367999999999995</td><td>2.3334580622809758e+41</td><td>41.367999999999995</td><td>3.801893963205597e+43</td><td>3.801893963205597e+43</td><td>2.3334580622809758e+41</td><td>0.0</td><td>0.0</td><td>2.3334580622809758e+41</td><td>43.166</td><td>43.58</td><td>43.58</td><td>1.4655478409559007e+43</td><td>3.801893963205597e+43</td><td>3.801893963205597e+43</td><td>1.4655478409559007e+43</td><td>0.0</td><td>0.0</td><td>1.4655478409559007e+43</td><td>43.166</td></tr>\n",
       "<tr><td>217.76649</td><td>32.31627</td><td>21.26</td><td>0.03</td><td>-99.99</td><td>11/1</td><td>1.28</td><td>4.56</td><td>0.0</td><td>0.0</td><td>1.316</td><td>0.89</td><td>1.22</td><td>0.535</td><td>-0.041</td><td>0.0</td><td>0.7</td><td>10.61</td><td>0.0</td><td>21.73</td><td>f/g</td><td>44.114999999999995</td><td>1.0257153839013406</td><td>16.89</td><td>351.0</td><td>41.10070257611242</td><td>43.58</td><td>43.58</td><td>44.896</td><td>7.870457896951001e+44</td><td>44.896</td><td>3.801893963205597e+43</td><td>3.801893963205597e+43</td><td>7.870457896951001e+44</td><td>0.0</td><td>0.0</td><td>7.870457896951001e+44</td><td>43.58</td><td>43.539</td><td>44.28</td><td>3.801893963205597e+43</td><td>3.459393778261231e+43</td><td>1.9054607179632523e+44</td><td>0.0</td><td>3.459393778261231e+43</td><td>1.9054607179632523e+44</td><td>2.2514000957893754e+44</td><td>44.35245268023076</td></tr>\n",
       "<tr><td>217.32876</td><td>32.31811</td><td>-26.1</td><td>0.68</td><td>-99.99</td><td>11/3</td><td>2.39</td><td>9.05</td><td>0.0</td><td>1.7</td><td>0.0</td><td>1.84</td><td>2.68</td><td>2.187</td><td>0.0</td><td>0.534</td><td>-1.324</td><td>12.88</td><td>0.79</td><td>12.79</td><td>1500K</td><td>45.766999999999996</td><td>1.1099158630237933</td><td>17.0</td><td>433.0</td><td>50.70257611241218</td><td>45.28</td><td>43.58</td><td>43.58</td><td>1.9054607179632523e+45</td><td>45.28</td><td>1.9054607179632523e+45</td><td>3.801893963205597e+43</td><td>3.801893963205597e+43</td><td>1.9054607179632523e+45</td><td>0.0</td><td>0.0</td><td>44.114</td><td>43.58</td><td>42.256</td><td>1.300169578033282e+44</td><td>3.801893963205597e+43</td><td>1.8030177408595698e+42</td><td>1.300169578033282e+44</td><td>0.0</td><td>1.8030177408595698e+42</td><td>1.3181997554418778e+44</td><td>44.11998122673197</td></tr>\n",
       "<tr><td>216.77754</td><td>32.31943</td><td>24.08</td><td>0.11</td><td>-99.99</td><td>12/1</td><td>1.89</td><td>12.53</td><td>0.0</td><td>1.549</td><td>0.0</td><td>2.26</td><td>2.85</td><td>2.485</td><td>0.0</td><td>1.241</td><td>-0.04</td><td>16.32</td><td>0.5</td><td>15.4</td><td>1500K</td><td>46.065</td><td>1.2127201544178423</td><td>17.09</td><td>492.0</td><td>57.6112412177986</td><td>45.129</td><td>43.58</td><td>43.58</td><td>1.3458603540559414e+45</td><td>45.129</td><td>1.3458603540559414e+45</td><td>3.801893963205597e+43</td><td>3.801893963205597e+43</td><td>1.3458603540559414e+45</td><td>0.0</td><td>0.0</td><td>44.821</td><td>43.58</td><td>43.54</td><td>6.6221650370175885e+44</td><td>3.801893963205597e+43</td><td>3.4673685045253096e+43</td><td>6.6221650370175885e+44</td><td>0.0</td><td>3.4673685045253096e+43</td><td>6.9689018874701195e+44</td><td>44.84316435029544</td></tr>\n",
       "<tr><td>217.95706</td><td>32.3197</td><td>21.65</td><td>0.98</td><td>-99.99</td><td>11/3</td><td>0.01</td><td>13.61</td><td>0.0</td><td>0.0</td><td>-3.513</td><td>1.93</td><td>2.61</td><td>1.753</td><td>0.69</td><td>0.0</td><td>0.0</td><td>22.13</td><td>0.03</td><td>11.58</td><td>b/a</td><td>45.333</td><td>1.344981413927258</td><td>17.11</td><td>505.0</td><td>59.13348946135832</td><td>43.58</td><td>43.58</td><td>40.067</td><td>1.166809617060963e+40</td><td>40.067</td><td>3.801893963205597e+43</td><td>3.801893963205597e+43</td><td>1.166809617060963e+40</td><td>0.0</td><td>0.0</td><td>1.166809617060963e+40</td><td>43.58</td><td>44.269999999999996</td><td>43.58</td><td>3.801893963205597e+43</td><td>1.8620871366628504e+44</td><td>3.801893963205597e+43</td><td>0.0</td><td>1.8620871366628504e+44</td><td>0.0</td><td>1.8620871366628504e+44</td><td>44.269999999999996</td></tr>\n",
       "<tr><td>217.2938</td><td>32.32125</td><td>22.37</td><td>0.02</td><td>-99.99</td><td>13/0</td><td>1.17</td><td>5.39</td><td>0.0</td><td>0.0</td><td>0.851</td><td>1.21</td><td>1.67</td><td>0.761</td><td>0.0</td><td>0.0</td><td>0.26</td><td>10.98</td><td>0.0</td><td>3.37</td><td>O/B</td><td>44.341</td><td>1.0406023401140732</td><td>17.19</td><td>567.0</td><td>66.39344262295083</td><td>43.58</td><td>43.58</td><td>44.431</td><td>2.697739432444904e+44</td><td>44.431</td><td>3.801893963205597e+43</td><td>3.801893963205597e+43</td><td>2.697739432444904e+44</td><td>0.0</td><td>0.0</td><td>2.697739432444904e+44</td><td>43.58</td><td>43.58</td><td>43.839999999999996</td><td>3.801893963205597e+43</td><td>3.801893963205597e+43</td><td>6.918309709189306e+43</td><td>0.0</td><td>0.0</td><td>6.918309709189306e+43</td><td>6.918309709189306e+43</td><td>43.839999999999996</td></tr>\n",
       "<tr><td>217.40246</td><td>32.32228</td><td>22.19</td><td>0.22</td><td>-99.99</td><td>13/1</td><td>2.44</td><td>5.52</td><td>0.0</td><td>2.059</td><td>1.345</td><td>1.34</td><td>0.7</td><td>1.733</td><td>0.998</td><td>0.754</td><td>0.703</td><td>32.12</td><td>0.5</td><td>25.39</td><td>1500K</td><td>45.312999999999995</td><td>1.5067755366066433</td><td>17.22</td><td>606.0</td><td>70.96018735362999</td><td>45.638999999999996</td><td>43.58</td><td>44.925</td><td>5.196513878500833e+45</td><td>45.71571209150841</td><td>4.3551187368556436e+45</td><td>3.801893963205597e+43</td><td>8.413951416451896e+44</td><td>4.3551187368556436e+45</td><td>0.0</td><td>8.413951416451896e+44</td><td>44.333999999999996</td><td>44.577999999999996</td><td>44.283</td><td>2.157744409152647e+44</td><td>3.784425847170897e+44</td><td>1.9186687406702948e+44</td><td>2.157744409152647e+44</td><td>3.784425847170897e+44</td><td>1.9186687406702948e+44</td><td>7.860838996993839e+44</td><td>44.8954689012963</td></tr>\n",
       "<tr><td>...</td><td>...</td><td>...</td><td>...</td><td>...</td><td>...</td><td>...</td><td>...</td><td>...</td><td>...</td><td>...</td><td>...</td><td>...</td><td>...</td><td>...</td><td>...</td><td>...</td><td>...</td><td>...</td><td>...</td><td>...</td><td>...</td><td>...</td><td>...</td><td>...</td><td>...</td><td>...</td><td>...</td><td>...</td><td>...</td><td>...</td><td>...</td><td>...</td><td>...</td><td>...</td><td>...</td><td>...</td><td>...</td><td>...</td><td>...</td><td>...</td><td>...</td><td>...</td><td>...</td><td>...</td><td>...</td><td>...</td><td>...</td></tr>\n",
       "<tr><td>216.40072</td><td>35.82213</td><td>20.55</td><td>0.05</td><td>-99.99</td><td>11/0</td><td>0.71</td><td>4.6</td><td>0.0</td><td>0.556</td><td>0.733</td><td>0.59</td><td>0.65</td><td>0.041</td><td>-0.316</td><td>0.352</td><td>0.372</td><td>22.35</td><td>0.01</td><td>78.64</td><td>G/K</td><td>43.620999999999995</td><td>1.3492775274679554</td><td>25.05</td><td>305012.0</td><td>35715.690866510544</td><td>44.135999999999996</td><td>43.58</td><td>44.312999999999995</td><td>3.423619421579955e+44</td><td>44.53448548138652</td><td>1.3677288255958355e+44</td><td>3.801893963205597e+43</td><td>2.0558905959841193e+44</td><td>1.3677288255958355e+44</td><td>0.0</td><td>2.0558905959841193e+44</td><td>43.931999999999995</td><td>43.263999999999996</td><td>43.952</td><td>8.550667128846736e+43</td><td>1.8365383433483287e+43</td><td>8.9536476554959e+43</td><td>8.550667128846736e+43</td><td>1.8365383433483287e+43</td><td>8.9536476554959e+43</td><td>1.9340853127690964e+44</td><td>44.28647562695881</td></tr>\n",
       "<tr><td>216.59987</td><td>35.8222</td><td>19.15</td><td>0.63</td><td>-99.99</td><td>11/0</td><td>1.39</td><td>67.42</td><td>0.0</td><td>1.992</td><td>2.157</td><td>0.83</td><td>6.86</td><td>1.724</td><td>1.234</td><td>0.0</td><td>0.905</td><td>27.49</td><td>0.0</td><td>254.3</td><td>1000K</td><td>45.303999999999995</td><td>1.4391747398434684</td><td>25.06</td><td>305014.0</td><td>35715.92505854801</td><td>45.571999999999996</td><td>43.58</td><td>45.736999999999995</td><td>9.190080188869811e+45</td><td>45.96331930087814</td><td>3.732501577957168e+45</td><td>3.801893963205597e+43</td><td>5.4575786109126433e+45</td><td>3.732501577957168e+45</td><td>0.0</td><td>5.4575786109126433e+45</td><td>43.58</td><td>44.814</td><td>44.485</td><td>3.801893963205597e+43</td><td>6.516283940608428e+44</td><td>3.0549211132155094e+44</td><td>0.0</td><td>6.516283940608428e+44</td><td>3.0549211132155094e+44</td><td>9.571205053823937e+44</td><td>44.9809666206691</td></tr>\n",
       "<tr><td>216.19544</td><td>35.82278</td><td>21.45</td><td>0.84</td><td>-99.99</td><td>10/0</td><td>1.68</td><td>14.3</td><td>0.0</td><td>0.799</td><td>1.675</td><td>1.17</td><td>2.46</td><td>1.519</td><td>0.269</td><td>-0.045</td><td>0.054</td><td>13.05</td><td>0.05</td><td>60.49</td><td>f/g</td><td>45.099</td><td>1.1156105116742998</td><td>25.11</td><td>305031.0</td><td>35717.91569086652</td><td>44.379</td><td>43.58</td><td>45.254999999999995</td><td>2.0382024907693064e+45</td><td>45.309247327980145</td><td>2.3933157564053754e+44</td><td>3.801893963205597e+43</td><td>1.798870915128769e+45</td><td>2.3933157564053754e+44</td><td>0.0</td><td>1.798870915128769e+45</td><td>43.535</td><td>43.849</td><td>43.634</td><td>3.4276778654644765e+43</td><td>7.063175542629566e+43</td><td>4.3052661049171097e+43</td><td>3.4276778654644765e+43</td><td>7.063175542629566e+43</td><td>4.3052661049171097e+43</td><td>1.4796119513011151e+44</td><td>44.17014783059359</td></tr>\n",
       "<tr><td>217.45021</td><td>35.82786</td><td>20.11</td><td>0.98</td><td>-99.99</td><td>11/0</td><td>1.19</td><td>56.93</td><td>0.0</td><td>0.527</td><td>1.74</td><td>1.27</td><td>2.47</td><td>2.004</td><td>0.0</td><td>0.0</td><td>1.206</td><td>78.17</td><td>0.06</td><td>146.22</td><td>b/a</td><td>45.583999999999996</td><td>1.8930401119571179</td><td>25.66</td><td>305177.0</td><td>35735.01170960188</td><td>44.107</td><td>43.58</td><td>45.32</td><td>2.2172342612697933e+45</td><td>45.34581158080147</td><td>1.2793813041575226e+44</td><td>3.801893963205597e+43</td><td>2.089296130854041e+45</td><td>1.2793813041575226e+44</td><td>0.0</td><td>2.089296130854041e+45</td><td>43.58</td><td>43.58</td><td>44.786</td><td>3.801893963205597e+43</td><td>3.801893963205597e+43</td><td>6.1094202490557394e+44</td><td>0.0</td><td>0.0</td><td>6.1094202490557394e+44</td><td>6.1094202490557394e+44</td><td>44.786</td></tr>\n",
       "<tr><td>218.03245</td><td>35.82797</td><td>21.37</td><td>0.03</td><td>-99.99</td><td>9/1</td><td>1.68</td><td>8.77</td><td>0.0</td><td>1.936</td><td>1.255</td><td>1.24</td><td>1.58</td><td>2.021</td><td>0.586</td><td>1.251</td><td>0.91</td><td>12.42</td><td>0.63</td><td>44.21</td><td>1000K</td><td>45.601</td><td>1.0941215958405615</td><td>25.68</td><td>305179.0</td><td>35735.24590163935</td><td>45.516</td><td>43.58</td><td>44.835</td><td>3.9648645784126076e+45</td><td>45.598228358399524</td><td>3.2809529311311766e+45</td><td>3.801893963205597e+43</td><td>6.839116472814307e+44</td><td>3.2809529311311766e+45</td><td>0.0</td><td>6.839116472814307e+44</td><td>44.830999999999996</td><td>44.166</td><td>44.489999999999995</td><td>6.7764150761066875e+44</td><td>1.4655478409559009e+44</td><td>3.0902954325135543e+44</td><td>6.7764150761066875e+44</td><td>1.4655478409559009e+44</td><td>3.0902954325135543e+44</td><td>1.1332258349576142e+45</td><td>45.05431646688232</td></tr>\n",
       "<tr><td>217.75891</td><td>35.82909</td><td>22.16</td><td>0.02</td><td>-99.99</td><td>9/1</td><td>1.29</td><td>5.92</td><td>0.0</td><td>0.0</td><td>1.17</td><td>1.58</td><td>0.84</td><td>1.355</td><td>0.0</td><td>0.0</td><td>0.041</td><td>16.13</td><td>0.03</td><td>3.92</td><td>b/a</td><td>44.934999999999995</td><td>1.2076343673889616</td><td>25.81</td><td>305204.0</td><td>35738.17330210773</td><td>43.58</td><td>43.58</td><td>44.75</td><td>5.6234132519034906e+44</td><td>44.75</td><td>3.801893963205597e+43</td><td>3.801893963205597e+43</td><td>5.6234132519034906e+44</td><td>0.0</td><td>0.0</td><td>5.6234132519034906e+44</td><td>43.58</td><td>43.58</td><td>43.620999999999995</td><td>3.801893963205597e+43</td><td>3.801893963205597e+43</td><td>4.178303666466171e+43</td><td>0.0</td><td>0.0</td><td>4.178303666466171e+43</td><td>4.178303666466171e+43</td><td>43.620999999999995</td></tr>\n",
       "<tr><td>217.01492</td><td>35.82969</td><td>22.69</td><td>0.01</td><td>-99.99</td><td>10/0</td><td>1.82</td><td>6.44</td><td>0.0</td><td>1.797</td><td>0.346</td><td>1.4</td><td>1.03</td><td>1.941</td><td>1.11</td><td>0.0</td><td>0.421</td><td>14.2</td><td>0.63</td><td>17.41</td><td>1000K</td><td>45.521</td><td>1.1522883443830565</td><td>25.92</td><td>305217.0</td><td>35739.695550351295</td><td>45.376999999999995</td><td>43.58</td><td>43.925999999999995</td><td>2.466652945135091e+45</td><td>45.392108049118605</td><td>2.3823194693586647e+45</td><td>3.801893963205597e+43</td><td>8.433347577642654e+43</td><td>2.3823194693586647e+45</td><td>0.0</td><td>8.433347577642654e+43</td><td>43.58</td><td>44.69</td><td>44.001</td><td>3.801893963205597e+43</td><td>4.897788193684436e+44</td><td>1.0023052380778942e+44</td><td>0.0</td><td>4.897788193684436e+44</td><td>1.0023052380778942e+44</td><td>5.9000934317623306e+44</td><td>44.77085888902817</td></tr>\n",
       "<tr><td>217.35808</td><td>35.83013</td><td>20.71</td><td>0.03</td><td>-99.99</td><td>11/0</td><td>0.81</td><td>3.56</td><td>-1.477</td><td>1.242</td><td>0.0</td><td>0.7</td><td>0.48</td><td>0.955</td><td>0.833</td><td>-0.302</td><td>0.0</td><td>20.42</td><td>0.5</td><td>13.38</td><td>3000K</td><td>44.535</td><td>1.3100557377508915</td><td>26.03</td><td>305225.0</td><td>35740.63231850117</td><td>44.821999999999996</td><td>42.103</td><td>43.58</td><td>6.6501072226776005e+44</td><td>44.822828647685334</td><td>6.637430704019022e+44</td><td>1.2676518658578501e+42</td><td>3.801893963205597e+43</td><td>6.637430704019022e+44</td><td>1.2676518658578501e+42</td><td>0.0</td><td>43.278</td><td>44.413</td><td>43.58</td><td>1.8967059212111406e+43</td><td>2.588212915153072e+44</td><td>3.801893963205597e+43</td><td>1.8967059212111406e+43</td><td>2.588212915153072e+44</td><td>0.0</td><td>2.7778835072741863e+44</td><td>44.4437140293034</td></tr>\n",
       "<tr><td>216.24219</td><td>35.83321</td><td>20.18</td><td>0.03</td><td>-99.99</td><td>10/0</td><td>0.52</td><td>6.2</td><td>-0.437</td><td>0.867</td><td>0.0</td><td>0.38</td><td>0.98</td><td>0.39</td><td>0.136</td><td>-0.113</td><td>-1.121</td><td>14.25</td><td>0.5</td><td>58.14</td><td>K/M</td><td>43.97</td><td>1.153814864344529</td><td>26.53</td><td>305259.0</td><td>35744.613583138176</td><td>44.446999999999996</td><td>43.143</td><td>43.58</td><td>2.9379765827556697e+44</td><td>44.46804832990879</td><td>2.7989813196343343e+44</td><td>1.3899526312133554e+43</td><td>3.801893963205597e+43</td><td>2.7989813196343343e+44</td><td>1.3899526312133554e+43</td><td>0.0</td><td>43.467</td><td>43.716</td><td>42.458999999999996</td><td>2.9308932452503126e+43</td><td>5.199959965335173e+43</td><td>2.877398414735643e+42</td><td>2.9308932452503126e+43</td><td>5.199959965335173e+43</td><td>2.877398414735643e+42</td><td>8.41859305205905e+43</td><td>43.925239516584796</td></tr>\n",
       "<tr><td>216.62134</td><td>35.8374</td><td>20.51</td><td>0.03</td><td>-99.99</td><td>9/0</td><td>1.05</td><td>66.59</td><td>0.0</td><td>1.678</td><td>0.889</td><td>0.72</td><td>2.26</td><td>1.502</td><td>0.0</td><td>-0.146</td><td>0.773</td><td>72.02</td><td>1.0</td><td>187.0</td><td>2500K</td><td>45.082</td><td>1.8574531170352664</td><td>28.42</td><td>305289.0</td><td>35748.12646370024</td><td>45.257999999999996</td><td>43.58</td><td>44.469</td><td>2.105782255999461e+45</td><td>45.32341346186045</td><td>1.811340092619584e+45</td><td>3.801893963205597e+43</td><td>2.9444216337987695e+44</td><td>1.811340092619584e+45</td><td>0.0</td><td>2.9444216337987695e+44</td><td>43.434</td><td>43.58</td><td>44.353</td><td>2.716439268839067e+43</td><td>3.801893963205597e+43</td><td>2.2542392121524373e+44</td><td>2.716439268839067e+43</td><td>0.0</td><td>2.2542392121524373e+44</td><td>2.525883139036344e+44</td><td>44.402413253881356</td></tr>\n",
       "</table>"
      ],
      "text/plain": [
       "<Table length=16907>\n",
       "    RA      Dec      Imag  ...          Lgp                 LGlogp      \n",
       " float64  float64  float64 ...        float64              float64      \n",
       "--------- -------- ------- ... ---------------------- ------------------\n",
       "217.44642 32.30949   22.64 ...  7.376852306338826e+43  43.86787108843545\n",
       "217.46803 32.31347   22.24 ...  5.807644175213064e+42 42.763999999999996\n",
       "216.23924 32.31401   23.56 ...  8.394599865193965e+42             42.924\n",
       "217.19404 32.31454   22.73 ... 1.4655478409559007e+43             43.166\n",
       "217.76649 32.31627   21.26 ... 2.2514000957893754e+44  44.35245268023076\n",
       "217.32876 32.31811   -26.1 ... 1.3181997554418778e+44  44.11998122673197\n",
       "216.77754 32.31943   24.08 ... 6.9689018874701195e+44  44.84316435029544\n",
       "217.95706  32.3197   21.65 ... 1.8620871366628504e+44 44.269999999999996\n",
       " 217.2938 32.32125   22.37 ...  6.918309709189306e+43 43.839999999999996\n",
       "217.40246 32.32228   22.19 ...  7.860838996993839e+44   44.8954689012963\n",
       "      ...      ...     ... ...                    ...                ...\n",
       "216.40072 35.82213   20.55 ... 1.9340853127690964e+44  44.28647562695881\n",
       "216.59987  35.8222   19.15 ...  9.571205053823937e+44   44.9809666206691\n",
       "216.19544 35.82278   21.45 ... 1.4796119513011151e+44  44.17014783059359\n",
       "217.45021 35.82786   20.11 ... 6.1094202490557394e+44             44.786\n",
       "218.03245 35.82797   21.37 ... 1.1332258349576142e+45  45.05431646688232\n",
       "217.75891 35.82909   22.16 ...  4.178303666466171e+43 43.620999999999995\n",
       "217.01492 35.82969   22.69 ... 5.9000934317623306e+44  44.77085888902817\n",
       "217.35808 35.83013   20.71 ... 2.7778835072741863e+44   44.4437140293034\n",
       "216.24219 35.83321   20.18 ...   8.41859305205905e+43 43.925239516584796\n",
       "216.62134  35.8374   20.51 ...  2.525883139036344e+44 44.402413253881356"
      ]
     },
     "execution_count": 31,
     "metadata": {},
     "output_type": "execute_result"
    }
   ],
   "source": [
    "L0cut10"
   ]
  },
  {
   "cell_type": "code",
   "execution_count": 32,
   "metadata": {},
   "outputs": [
    {
     "data": {
      "text/html": [
       "<i>Table length=305293</i>\n",
       "<table id=\"table140284730667472\" class=\"table-striped table-bordered table-condensed\">\n",
       "<thead><tr><th>RA</th><th>Dec</th><th>Imag</th><th>S</th><th>zspec</th><th>N</th><th>zG</th><th>chi2G</th><th>LEll</th><th>LSbc</th><th>LIrr</th><th>zGA</th><th>chi2GA</th><th>LAGNp</th><th>LELLp</th><th>LSbcp</th><th>LIrrp</th><th>F</th><th>EBV</th><th>Chi2S</th><th>SType</th><th>LAGNerg</th><th>logF</th><th>I</th><th>index</th><th>SA</th><th>LSbcerg</th><th>LEllerg</th><th>LIrrerg</th><th>Lg</th><th>LGlog</th><th>LSbc1</th><th>LEll1</th><th>LIrr1</th><th>LSbc2</th><th>LEll2</th><th>LIrr2</th><th>LSbcergp</th><th>LEllergp</th><th>LIrrergp</th><th>LSbc1p</th><th>LEll1p</th><th>LIrr1p</th><th>LSbc2p</th><th>LEll2p</th><th>LIrr2p</th><th>Lgp</th><th>LGlogp</th></tr></thead>\n",
       "<thead><tr><th>float64</th><th>float64</th><th>float64</th><th>float64</th><th>float64</th><th>str4</th><th>float64</th><th>float64</th><th>float64</th><th>float64</th><th>float64</th><th>float64</th><th>float64</th><th>float64</th><th>float64</th><th>float64</th><th>float64</th><th>float64</th><th>float64</th><th>float64</th><th>str5</th><th>float64</th><th>float64</th><th>float64</th><th>float64</th><th>float64</th><th>float64</th><th>float64</th><th>float64</th><th>float64</th><th>float64</th><th>float64</th><th>float64</th><th>float64</th><th>float64</th><th>float64</th><th>float64</th><th>float64</th><th>float64</th><th>float64</th><th>float64</th><th>float64</th><th>float64</th><th>float64</th><th>float64</th><th>float64</th><th>float64</th><th>float64</th></tr></thead>\n",
       "<tr><td>217.18223</td><td>32.30523</td><td>22.77</td><td>0.95</td><td>-99.99</td><td>8/3</td><td>1.27</td><td>2.53</td><td>0.0</td><td>0.829</td><td>0.361</td><td>1.2</td><td>2.9</td><td>0.651</td><td>0.0</td><td>0.768</td><td>0.0</td><td>0.54</td><td>0.1</td><td>8.92</td><td>1500K</td><td>44.231</td><td>-0.26760624017703144</td><td>-30.18</td><td>1.0</td><td>0.117096018735363</td><td>44.409</td><td>43.58</td><td>43.940999999999995</td><td>3.437455404905813e+44</td><td>44.53623707264808</td><td>2.5644840365177108e+44</td><td>3.801893963205597e+43</td><td>8.729713683881023e+43</td><td>2.5644840365177108e+44</td><td>0.0</td><td>8.729713683881023e+43</td><td>44.348</td><td>43.58</td><td>43.58</td><td>2.2284351492702984e+44</td><td>3.801893963205597e+43</td><td>3.801893963205597e+43</td><td>2.2284351492702984e+44</td><td>0.0</td><td>0.0</td><td>2.2284351492702984e+44</td><td>44.348</td></tr>\n",
       "<tr><td>217.86705</td><td>32.30527</td><td>20.02</td><td>0.03</td><td>-99.99</td><td>12/0</td><td>0.54</td><td>37.08</td><td>0.44</td><td>0.47</td><td>-0.461</td><td>0.51</td><td>45.75</td><td>0.268</td><td>0.546</td><td>0.0</td><td>-0.237</td><td>0.24</td><td>0.5</td><td>56.73</td><td>k/m</td><td>43.848</td><td>-0.619788758288394</td><td>-29.15</td><td>2.0</td><td>0.234192037470726</td><td>44.05</td><td>44.019999999999996</td><td>43.119</td><td>2.3006694855720697e+44</td><td>44.36185423235735</td><td>1.1220184543019561e+44</td><td>1.0471285480508899e+44</td><td>1.3152248321922376e+43</td><td>1.1220184543019561e+44</td><td>1.0471285480508899e+44</td><td>1.3152248321922376e+43</td><td>43.58</td><td>44.126</td><td>43.342999999999996</td><td>3.801893963205597e+43</td><td>1.336595516546435e+44</td><td>2.2029264630534381e+43</td><td>0.0</td><td>1.336595516546435e+44</td><td>2.2029264630534381e+43</td><td>1.5568881628517787e+44</td><td>44.19225741667808</td></tr>\n",
       "<tr><td>217.88212</td><td>32.30531</td><td>22.67</td><td>0.03</td><td>-99.99</td><td>11/1</td><td>0.85</td><td>0.55</td><td>0.0</td><td>0.0</td><td>0.121</td><td>0.81</td><td>0.63</td><td>-0.31</td><td>0.0</td><td>0.0</td><td>-0.052</td><td>0.53</td><td>0.04</td><td>1.09</td><td>f/g</td><td>43.269999999999996</td><td>-0.27572413039921095</td><td>-28.79</td><td>3.0</td><td>0.35128805620608905</td><td>43.58</td><td>43.58</td><td>43.701</td><td>5.023425895223877e+43</td><td>43.701</td><td>3.801893963205597e+43</td><td>3.801893963205597e+43</td><td>5.023425895223877e+43</td><td>0.0</td><td>0.0</td><td>5.023425895223877e+43</td><td>43.58</td><td>43.58</td><td>43.528</td><td>3.801893963205597e+43</td><td>3.801893963205597e+43</td><td>3.3728730865886787e+43</td><td>0.0</td><td>0.0</td><td>3.3728730865886787e+43</td><td>3.3728730865886787e+43</td><td>43.528</td></tr>\n",
       "<tr><td>217.84705</td><td>32.30564</td><td>20.44</td><td>0.03</td><td>-99.99</td><td>11/0</td><td>1.08</td><td>18.79</td><td>0.0</td><td>1.319</td><td>1.2</td><td>1.01</td><td>23.96</td><td>0.802</td><td>0.0</td><td>1.278</td><td>0.947</td><td>0.24</td><td>0.05</td><td>88.09</td><td>f/g</td><td>44.382</td><td>-0.619788758288394</td><td>-28.42</td><td>4.0</td><td>0.468384074941452</td><td>44.899</td><td>43.58</td><td>44.78</td><td>1.3950609165548327e+45</td><td>45.14459317187199</td><td>7.925013304804734e+44</td><td>3.801893963205597e+43</td><td>6.025595860743593e+44</td><td>7.925013304804734e+44</td><td>0.0</td><td>6.025595860743593e+44</td><td>44.858</td><td>43.58</td><td>44.527</td><td>7.211074791828946e+44</td><td>3.801893963205597e+43</td><td>3.3651156937549153e+44</td><td>7.211074791828946e+44</td><td>0.0</td><td>3.3651156937549153e+44</td><td>1.0576190485583862e+45</td><td>45.024329264200276</td></tr>\n",
       "<tr><td>217.70446</td><td>32.30566</td><td>19.34</td><td>0.92</td><td>-99.99</td><td>11/0</td><td>0.19</td><td>117.86</td><td>-0.28</td><td>-0.986</td><td>0.0</td><td>0.15</td><td>129.12</td><td>-0.636</td><td>-0.513</td><td>0.0</td><td>0.0</td><td>0.74</td><td>1.0</td><td>82.43</td><td>k/m</td><td>42.943999999999996</td><td>-0.13076828026902382</td><td>-28.27</td><td>5.0</td><td>0.5854800936768151</td><td>42.594</td><td>43.3</td><td>43.58</td><td>2.3879072503684677e+43</td><td>43.37801745418454</td><td>3.9264493539960094e+42</td><td>1.9952623149688666e+43</td><td>3.801893963205597e+43</td><td>3.9264493539960094e+42</td><td>1.9952623149688666e+43</td><td>0.0</td><td>43.58</td><td>43.067</td><td>43.58</td><td>3.801893963205597e+43</td><td>1.166809617060963e+43</td><td>3.801893963205597e+43</td><td>0.0</td><td>1.166809617060963e+43</td><td>0.0</td><td>1.166809617060963e+43</td><td>43.067</td></tr>\n",
       "<tr><td>217.48821</td><td>32.30604</td><td>19.71</td><td>0.03</td><td>-99.99</td><td>9/1</td><td>0.41</td><td>1.13</td><td>0.0</td><td>-1.56</td><td>0.629</td><td>0.37</td><td>0.63</td><td>-0.693</td><td>0.0</td><td>0.0</td><td>0.51</td><td>2.96</td><td>0.0</td><td>29.92</td><td>f/g</td><td>42.887</td><td>0.4712917110589386</td><td>-28.0</td><td>6.0</td><td>0.7025761124121781</td><td>42.019999999999996</td><td>43.58</td><td>44.208999999999996</td><td>1.6285513231235601e+44</td><td>44.211801449728114</td><td>1.04712854805089e+42</td><td>3.801893963205597e+43</td><td>1.6180800376430512e+44</td><td>1.04712854805089e+42</td><td>0.0</td><td>1.6180800376430512e+44</td><td>43.58</td><td>43.58</td><td>44.089999999999996</td><td>3.801893963205597e+43</td><td>3.801893963205597e+43</td><td>1.2302687708123711e+44</td><td>0.0</td><td>0.0</td><td>1.2302687708123711e+44</td><td>1.2302687708123711e+44</td><td>44.089999999999996</td></tr>\n",
       "<tr><td>217.36268</td><td>32.3061</td><td>18.71</td><td>0.03</td><td>-99.99</td><td>12/0</td><td>0.21</td><td>12.43</td><td>0.0</td><td>-0.735</td><td>0.325</td><td>0.21</td><td>13.6</td><td>-0.711</td><td>0.0</td><td>0.0</td><td>0.326</td><td>0.7</td><td>0.0</td><td>57.12</td><td>f/g</td><td>42.869</td><td>-0.1549019599857432</td><td>-27.95</td><td>7.0</td><td>0.8196721311475411</td><td>42.845</td><td>43.58</td><td>43.905</td><td>8.735103217858466e+43</td><td>43.94126804116572</td><td>6.998419960022716e+42</td><td>3.801893963205597e+43</td><td>8.035261221856194e+43</td><td>6.998419960022716e+42</td><td>0.0</td><td>8.035261221856194e+43</td><td>43.58</td><td>43.58</td><td>43.906</td><td>3.801893963205597e+43</td><td>3.801893963205597e+43</td><td>8.053784411990643e+43</td><td>0.0</td><td>0.0</td><td>8.053784411990643e+43</td><td>8.053784411990643e+43</td><td>43.906</td></tr>\n",
       "<tr><td>217.24316</td><td>32.30626</td><td>22.34</td><td>0.95</td><td>-99.99</td><td>9/2</td><td>1.08</td><td>2.14</td><td>0.0</td><td>-1.455</td><td>0.627</td><td>0.83</td><td>1.56</td><td>0.239</td><td>0.0</td><td>-0.597</td><td>0.013</td><td>2.28</td><td>0.03</td><td>3.9</td><td>f/g</td><td>43.818999999999996</td><td>0.35793484700045375</td><td>-27.94</td><td>8.0</td><td>0.936768149882904</td><td>42.125</td><td>43.58</td><td>44.207</td><td>1.6239808494999064e+44</td><td>44.210580903596316</td><td>1.333521432163324e+42</td><td>3.801893963205597e+43</td><td>1.6106456351782731e+44</td><td>1.333521432163324e+42</td><td>0.0</td><td>1.6106456351782731e+44</td><td>42.983</td><td>43.58</td><td>43.592999999999996</td><td>9.61612278383658e+42</td><td>3.801893963205597e+43</td><td>3.917418771077799e+43</td><td>9.61612278383658e+42</td><td>0.0</td><td>3.917418771077799e+43</td><td>4.879031049461457e+43</td><td>43.68833358190953</td></tr>\n",
       "<tr><td>217.16662</td><td>32.30637</td><td>21.26</td><td>0.13</td><td>-99.99</td><td>10/1</td><td>0.69</td><td>3.23</td><td>0.0</td><td>0.0</td><td>0.531</td><td>0.62</td><td>3.48</td><td>-0.314</td><td>-1.659</td><td>0.0</td><td>0.358</td><td>0.78</td><td>0.0</td><td>5.63</td><td>f/g</td><td>43.266</td><td>-0.10790539730951958</td><td>-27.79</td><td>9.0</td><td>1.053864168618267</td><td>43.58</td><td>43.58</td><td>44.111</td><td>1.2912192736135256e+44</td><td>44.111</td><td>3.801893963205597e+43</td><td>3.801893963205597e+43</td><td>1.2912192736135256e+44</td><td>0.0</td><td>0.0</td><td>1.2912192736135256e+44</td><td>43.58</td><td>41.921</td><td>43.937999999999995</td><td>3.801893963205597e+43</td><td>8.336811846196332e+41</td><td>8.669618757582072e+43</td><td>0.0</td><td>8.336811846196332e+41</td><td>8.669618757582072e+43</td><td>8.752986876044035e+43</td><td>43.942156277300356</td></tr>\n",
       "<tr><td>217.27482</td><td>32.3064</td><td>19.08</td><td>0.03</td><td>-99.99</td><td>10/2</td><td>0.04</td><td>148.17</td><td>0.0</td><td>-1.412</td><td>0.0</td><td>2.83</td><td>130.97</td><td>3.271</td><td>1.532</td><td>0.0</td><td>0.0</td><td>1.46</td><td>0.1</td><td>191.74</td><td>g/k</td><td>46.851</td><td>0.1643528557844371</td><td>-27.73</td><td>10.0</td><td>1.1709601873536302</td><td>42.168</td><td>43.58</td><td>43.58</td><td>1.4723125024327162e+42</td><td>42.168</td><td>1.4723125024327162e+42</td><td>3.801893963205597e+43</td><td>3.801893963205597e+43</td><td>1.4723125024327162e+42</td><td>0.0</td><td>0.0</td><td>43.58</td><td>45.111999999999995</td><td>43.58</td><td>3.801893963205597e+43</td><td>1.2941958414499704e+45</td><td>3.801893963205597e+43</td><td>0.0</td><td>1.2941958414499704e+45</td><td>0.0</td><td>1.2941958414499704e+45</td><td>45.111999999999995</td></tr>\n",
       "<tr><td>...</td><td>...</td><td>...</td><td>...</td><td>...</td><td>...</td><td>...</td><td>...</td><td>...</td><td>...</td><td>...</td><td>...</td><td>...</td><td>...</td><td>...</td><td>...</td><td>...</td><td>...</td><td>...</td><td>...</td><td>...</td><td>...</td><td>...</td><td>...</td><td>...</td><td>...</td><td>...</td><td>...</td><td>...</td><td>...</td><td>...</td><td>...</td><td>...</td><td>...</td><td>...</td><td>...</td><td>...</td><td>...</td><td>...</td><td>...</td><td>...</td><td>...</td><td>...</td><td>...</td><td>...</td><td>...</td><td>...</td><td>...</td></tr>\n",
       "<tr><td>217.46691</td><td>35.83682</td><td>22.42</td><td>0.03</td><td>-99.99</td><td>8/2</td><td>0.59</td><td>1.15</td><td>0.0</td><td>-0.466</td><td>-0.251</td><td>0.62</td><td>1.55</td><td>-0.927</td><td>0.0</td><td>-0.412</td><td>-0.285</td><td>0.23</td><td>0.0</td><td>2.71</td><td>G/K</td><td>42.653</td><td>-0.638272163982407</td><td>27.85</td><td>305284.0</td><td>35747.54098360656</td><td>43.114</td><td>43.58</td><td>43.329</td><td>3.433214491179861e+43</td><td>43.53570093696082</td><td>1.3001695780332818e+43</td><td>3.801893963205597e+43</td><td>2.1330449131465794e+43</td><td>1.3001695780332818e+43</td><td>0.0</td><td>2.1330449131465794e+43</td><td>43.168</td><td>43.58</td><td>43.295</td><td>1.4723125024327163e+43</td><td>3.801893963205597e+43</td><td>1.9724227361148616e+43</td><td>1.4723125024327163e+43</td><td>0.0</td><td>1.9724227361148616e+43</td><td>3.4447352385475777e+43</td><td>43.537155847765696</td></tr>\n",
       "<tr><td>216.45736</td><td>35.83683</td><td>22.78</td><td>0.94</td><td>-99.99</td><td>10/0</td><td>1.53</td><td>0.4</td><td>0.0</td><td>1.51</td><td>0.335</td><td>1.52</td><td>0.49</td><td>0.76</td><td>0.488</td><td>1.431</td><td>0.0</td><td>0.46</td><td>0.1</td><td>8.97</td><td>1000K</td><td>44.339999999999996</td><td>-0.3372421683184259</td><td>27.92</td><td>305285.0</td><td>35747.6580796253</td><td>45.089999999999996</td><td>43.58</td><td>43.915</td><td>1.312493035807078e+45</td><td>45.118097007682884</td><td>1.230268770812371e+45</td><td>3.801893963205597e+43</td><td>8.222426499470696e+43</td><td>1.230268770812371e+45</td><td>0.0</td><td>8.222426499470696e+43</td><td>45.010999999999996</td><td>44.068</td><td>43.58</td><td>1.0256519262513973e+45</td><td>1.169499391019865e+44</td><td>3.801893963205597e+43</td><td>1.0256519262513973e+45</td><td>1.169499391019865e+44</td><td>0.0</td><td>1.1426018653533838e+45</td><td>45.057894928732075</td></tr>\n",
       "<tr><td>217.3773</td><td>35.83683</td><td>20.35</td><td>0.05</td><td>-99.99</td><td>8/2</td><td>0.74</td><td>1.09</td><td>0.96</td><td>0.748</td><td>0.0</td><td>0.73</td><td>1.65</td><td>0.12</td><td>1.028</td><td>0.343</td><td>0.0</td><td>0.02</td><td>0.16</td><td>13.07</td><td>3000K</td><td>43.699999999999996</td><td>-1.6989700043360187</td><td>27.93</td><td>305286.0</td><td>35747.775175644034</td><td>44.327999999999996</td><td>44.54</td><td>43.58</td><td>5.595507550508001e+44</td><td>44.74783948610789</td><td>2.1281390459826916e+44</td><td>3.4673685045253094e+44</td><td>3.801893963205597e+43</td><td>2.1281390459826916e+44</td><td>3.4673685045253094e+44</td><td>0.0</td><td>43.923</td><td>44.608</td><td>43.58</td><td>8.375292821268861e+43</td><td>4.0550853544838104e+44</td><td>3.801893963205597e+43</td><td>8.375292821268861e+43</td><td>4.0550853544838104e+44</td><td>0.0</td><td>4.892614636610696e+44</td><td>44.689541010204174</td></tr>\n",
       "<tr><td>218.31186</td><td>35.83712</td><td>21.96</td><td>0.12</td><td>-99.99</td><td>8/2</td><td>0.55</td><td>0.78</td><td>-0.641</td><td>0.0</td><td>-0.197</td><td>0.56</td><td>1.04</td><td>-1.108</td><td>-0.599</td><td>0.0</td><td>-0.232</td><td>0.26</td><td>0.0</td><td>3.08</td><td>G/K</td><td>42.472</td><td>-0.585026652029182</td><td>28.06</td><td>305287.0</td><td>35747.892271662764</td><td>43.58</td><td>42.939</td><td>43.382999999999996</td><td>3.284421263731218e+43</td><td>43.51645885514063</td><td>3.801893963205597e+43</td><td>8.689604292863019e+42</td><td>2.415460834444916e+43</td><td>0.0</td><td>8.689604292863019e+42</td><td>2.415460834444916e+43</td><td>43.58</td><td>42.981</td><td>43.348</td><td>3.801893963205597e+43</td><td>9.57194071294848e+42</td><td>2.2284351492702986e+43</td><td>0.0</td><td>9.57194071294848e+42</td><td>2.2284351492702986e+43</td><td>3.1856292205651465e+43</td><td>43.5031952263197</td></tr>\n",
       "<tr><td>216.59854</td><td>35.83722</td><td>20.38</td><td>0.08</td><td>-99.99</td><td>10/0</td><td>0.48</td><td>4.9</td><td>0.0</td><td>-0.275</td><td>0.442</td><td>0.48</td><td>4.18</td><td>-0.443</td><td>0.0</td><td>-0.276</td><td>0.398</td><td>1.52</td><td>0.0</td><td>68.16</td><td>g/k</td><td>43.137</td><td>0.18184358794477254</td><td>28.18</td><td>305288.0</td><td>35748.0093676815</td><td>43.305</td><td>43.58</td><td>44.022</td><td>1.253798510191375e+44</td><td>44.09822774945887</td><td>2.0183663636815597e+43</td><td>3.801893963205597e+43</td><td>1.051961873823219e+44</td><td>2.0183663636815597e+43</td><td>0.0</td><td>1.051961873823219e+44</td><td>43.303999999999995</td><td>43.58</td><td>43.978</td><td>2.013724249862365e+43</td><td>3.801893963205597e+43</td><td>9.506047936562848e+43</td><td>2.013724249862365e+43</td><td>0.0</td><td>9.506047936562848e+43</td><td>1.1519772186425213e+44</td><td>44.061443890618726</td></tr>\n",
       "<tr><td>216.62134</td><td>35.8374</td><td>20.51</td><td>0.03</td><td>-99.99</td><td>9/0</td><td>1.05</td><td>66.59</td><td>0.0</td><td>1.678</td><td>0.889</td><td>0.72</td><td>2.26</td><td>1.502</td><td>0.0</td><td>-0.146</td><td>0.773</td><td>72.02</td><td>1.0</td><td>187.0</td><td>2500K</td><td>45.082</td><td>1.8574531170352664</td><td>28.42</td><td>305289.0</td><td>35748.12646370024</td><td>45.257999999999996</td><td>43.58</td><td>44.469</td><td>2.105782255999461e+45</td><td>45.32341346186045</td><td>1.811340092619584e+45</td><td>3.801893963205597e+43</td><td>2.9444216337987695e+44</td><td>1.811340092619584e+45</td><td>0.0</td><td>2.9444216337987695e+44</td><td>43.434</td><td>43.58</td><td>44.353</td><td>2.716439268839067e+43</td><td>3.801893963205597e+43</td><td>2.2542392121524373e+44</td><td>2.716439268839067e+43</td><td>0.0</td><td>2.2542392121524373e+44</td><td>2.525883139036344e+44</td><td>44.402413253881356</td></tr>\n",
       "<tr><td>218.37061</td><td>35.83753</td><td>22.02</td><td>0.03</td><td>-99.99</td><td>10/0</td><td>0.81</td><td>0.25</td><td>0.0</td><td>0.483</td><td>0.039</td><td>0.77</td><td>0.36</td><td>-0.268</td><td>0.0</td><td>0.419</td><td>-0.116</td><td>0.1</td><td>0.13</td><td>5.52</td><td>G/K</td><td>43.312</td><td>-1.0</td><td>28.49</td><td>305290.0</td><td>35748.243559718976</td><td>44.062999999999995</td><td>43.58</td><td>43.619</td><td>1.5720228526861082e+44</td><td>44.19645885514063</td><td>1.1561122421920863e+44</td><td>3.801893963205597e+43</td><td>4.1591061049402186e+43</td><td>1.1561122421920863e+44</td><td>0.0</td><td>4.1591061049402186e+43</td><td>43.998999999999995</td><td>43.58</td><td>43.464</td><td>9.977000638225424e+43</td><td>3.801893963205597e+43</td><td>2.910717118066596e+43</td><td>9.977000638225424e+43</td><td>0.0</td><td>2.910717118066596e+43</td><td>1.288771775629202e+44</td><td>44.11017601637553</td></tr>\n",
       "<tr><td>216.61578</td><td>35.83764</td><td>21.39</td><td>0.49</td><td>-99.99</td><td>9/1</td><td>0.5</td><td>2.13</td><td>-0.207</td><td>-0.113</td><td>0.0</td><td>0.45</td><td>2.79</td><td>-0.354</td><td>-0.108</td><td>0.0</td><td>0.0</td><td>0.29</td><td>0.4</td><td>3.17</td><td>K/M</td><td>43.226</td><td>-0.5376020021010439</td><td>28.54</td><td>305291.0</td><td>35748.360655737706</td><td>43.467</td><td>43.373</td><td>43.58</td><td>5.291371478430877e+43</td><td>43.723568252057376</td><td>2.9308932452503126e+43</td><td>2.3604782331805637e+43</td><td>3.801893963205597e+43</td><td>2.9308932452503126e+43</td><td>2.3604782331805637e+43</td><td>0.0</td><td>43.58</td><td>43.472</td><td>43.58</td><td>3.801893963205597e+43</td><td>2.9648313895243513e+43</td><td>3.801893963205597e+43</td><td>0.0</td><td>2.9648313895243513e+43</td><td>0.0</td><td>2.9648313895243513e+43</td><td>43.472</td></tr>\n",
       "<tr><td>216.26838</td><td>35.83767</td><td>21.15</td><td>0.17</td><td>-99.99</td><td>10/0</td><td>0.81</td><td>2.43</td><td>0.59</td><td>0.778</td><td>0.0</td><td>0.73</td><td>0.83</td><td>0.741</td><td>0.706</td><td>0.0</td><td>-0.607</td><td>6.75</td><td>0.5</td><td>11.46</td><td>3000K</td><td>44.321</td><td>0.829303772831025</td><td>28.57</td><td>305292.0</td><td>35748.47775175644</td><td>44.358</td><td>44.17</td><td>43.58</td><td>3.759450460168616e+44</td><td>44.575124366321596</td><td>2.2803420720004023e+44</td><td>1.4791083881682133e+44</td><td>3.801893963205597e+43</td><td>2.2803420720004023e+44</td><td>1.4791083881682133e+44</td><td>0.0</td><td>43.58</td><td>44.286</td><td>42.973</td><td>3.801893963205597e+43</td><td>1.9319683170169303e+44</td><td>9.397233105646357e+42</td><td>0.0</td><td>1.9319683170169303e+44</td><td>9.397233105646357e+42</td><td>2.0259406480733937e+44</td><td>44.30662671812605</td></tr>\n",
       "<tr><td>216.17744</td><td>35.83784</td><td>22.95</td><td>0.58</td><td>-99.99</td><td>10/0</td><td>1.23</td><td>2.77</td><td>0.0</td><td>0.814</td><td>0.007</td><td>1.18</td><td>3.65</td><td>0.95</td><td>0.0</td><td>0.612</td><td>0.018</td><td>0.4</td><td>0.63</td><td>5.1</td><td>1000K</td><td>44.53</td><td>-0.3979400086720376</td><td>28.91</td><td>305293.0</td><td>35748.59484777518</td><td>44.394</td><td>43.58</td><td>43.586999999999996</td><td>2.863789034687342e+44</td><td>44.456941021860054</td><td>2.477422057633276e+44</td><td>3.801893963205597e+43</td><td>3.863669770540658e+43</td><td>2.477422057633276e+44</td><td>0.0</td><td>3.863669770540658e+43</td><td>44.192</td><td>43.58</td><td>43.598</td><td>1.555965631605075e+44</td><td>3.801893963205597e+43</td><td>3.962780342554385e+43</td><td>1.555965631605075e+44</td><td>0.0</td><td>3.962780342554385e+43</td><td>1.9522436658605136e+44</td><td>44.29053402241588</td></tr>\n",
       "</table>"
      ],
      "text/plain": [
       "<Table length=305293>\n",
       "    RA      Dec      Imag  ...          Lgp                 LGlogp      \n",
       " float64  float64  float64 ...        float64              float64      \n",
       "--------- -------- ------- ... ---------------------- ------------------\n",
       "217.18223 32.30523   22.77 ... 2.2284351492702984e+44             44.348\n",
       "217.86705 32.30527   20.02 ... 1.5568881628517787e+44  44.19225741667808\n",
       "217.88212 32.30531   22.67 ... 3.3728730865886787e+43             43.528\n",
       "217.84705 32.30564   20.44 ... 1.0576190485583862e+45 45.024329264200276\n",
       "217.70446 32.30566   19.34 ...  1.166809617060963e+43             43.067\n",
       "217.48821 32.30604   19.71 ... 1.2302687708123711e+44 44.089999999999996\n",
       "217.36268  32.3061   18.71 ...  8.053784411990643e+43             43.906\n",
       "217.24316 32.30626   22.34 ...  4.879031049461457e+43  43.68833358190953\n",
       "217.16662 32.30637   21.26 ...  8.752986876044035e+43 43.942156277300356\n",
       "217.27482  32.3064   19.08 ... 1.2941958414499704e+45 45.111999999999995\n",
       "      ...      ...     ... ...                    ...                ...\n",
       "217.46691 35.83682   22.42 ... 3.4447352385475777e+43 43.537155847765696\n",
       "216.45736 35.83683   22.78 ... 1.1426018653533838e+45 45.057894928732075\n",
       " 217.3773 35.83683   20.35 ...  4.892614636610696e+44 44.689541010204174\n",
       "218.31186 35.83712   21.96 ... 3.1856292205651465e+43   43.5031952263197\n",
       "216.59854 35.83722   20.38 ... 1.1519772186425213e+44 44.061443890618726\n",
       "216.62134  35.8374   20.51 ...  2.525883139036344e+44 44.402413253881356\n",
       "218.37061 35.83753   22.02 ...  1.288771775629202e+44  44.11017601637553\n",
       "216.61578 35.83764   21.39 ... 2.9648313895243513e+43             43.472\n",
       "216.26838 35.83767   21.15 ... 2.0259406480733937e+44  44.30662671812605\n",
       "216.17744 35.83784   22.95 ... 1.9522436658605136e+44  44.29053402241588"
      ]
     },
     "execution_count": 32,
     "metadata": {},
     "output_type": "execute_result"
    }
   ],
   "source": [
    "l0"
   ]
  },
  {
   "cell_type": "code",
   "execution_count": 33,
   "metadata": {},
   "outputs": [],
   "source": [
    "from astropy.io import ascii\n",
    "ascii.write(LG045, 'LG045.fits', overwrite=True, comment=False)"
   ]
  },
  {
   "cell_type": "code",
   "execution_count": 34,
   "metadata": {},
   "outputs": [],
   "source": [
    "from astropy.io import ascii\n",
    "ascii.write(l0, 'l0.fits', overwrite=True, comment = False, format = 'no_header')\n",
    "#agn luminosity is 0 removed"
   ]
  },
  {
   "cell_type": "code",
   "execution_count": 35,
   "metadata": {},
   "outputs": [],
   "source": [
    "from astropy.io import ascii\n",
    "ascii.write(lg0p, 'lg0p.fits', overwrite=True, comment = False, format = 'no_header')\n",
    "#galaxy luminosity (agn model) is 0 removed"
   ]
  },
  {
   "cell_type": "code",
   "execution_count": 36,
   "metadata": {},
   "outputs": [],
   "source": [
    "from astropy.io import ascii\n",
    "ascii.write(LG0cut1045, 'LG0cut1045.fits', overwrite=True, comment = False, format = 'no_header')\n",
    "#galaxy luminosity (agn model) is 0 removed and cut 10 and 45"
   ]
  },
  {
   "cell_type": "code",
   "execution_count": 37,
   "metadata": {},
   "outputs": [],
   "source": [
    "from astropy.io import ascii\n",
    "ascii.write(L0cut1045, 'L0cut1045.fits', overwrite=True, comment = False, format = 'no_header')\n",
    "#agn luminosity is 0 removed and cut 10 and 45"
   ]
  },
  {
   "cell_type": "code",
   "execution_count": 38,
   "metadata": {},
   "outputs": [],
   "source": [
    "from astropy.io import ascii\n",
    "ascii.write(LG0cut10, 'LG0cut10.fits', overwrite=True, comment = False, format = 'no_header')\n",
    "#galaxy luminosity (agn model) is 0 removed and cut 10 "
   ]
  },
  {
   "cell_type": "code",
   "execution_count": 39,
   "metadata": {},
   "outputs": [],
   "source": [
    "from astropy.io import ascii\n",
    "ascii.write(L0cut10, 'L0cut10.fits', overwrite=True, comment = False, format = 'no_header')\n",
    "#agn luminosity is 0 removed and cut 10 "
   ]
  },
  {
   "cell_type": "code",
   "execution_count": 40,
   "metadata": {},
   "outputs": [],
   "source": [
    "# so LGlogp is all the galaxy luminositys from the AGN model added up with row removed if all are 0 and any 0 values other than that not counted in sums. "
   ]
  },
  {
   "cell_type": "code",
   "execution_count": 41,
   "metadata": {},
   "outputs": [],
   "source": [
    "from astropy.io import ascii\n",
    "ascii.write(LG0cut10, 'LG0cut10SF.csv', overwrite=True, comment = False)\n",
    "#galaxy luminosity (agn model) is 0 removed and cut 10 "
   ]
  },
  {
   "cell_type": "code",
   "execution_count": 42,
   "metadata": {},
   "outputs": [],
   "source": [
    "from astropy.io import ascii\n",
    "ascii.write(LG0cut1045, 'LG0cut1045.csv', overwrite=True, comment = False)\n",
    "#galaxy luminosity (agn model) is 0 removed and cut 10 and 45"
   ]
  },
  {
   "cell_type": "code",
   "execution_count": 43,
   "metadata": {},
   "outputs": [],
   "source": [
    "AV = [i*3.2 for i in L0cut10['EBV']]\n",
    "\n",
    "AV = MaskedColumn(name = \"AV\", data = AV  , dtype=np.float64) \n",
    "L0cut10.add_column(AV)\n",
    "#L0cut10.replace_column('AV',AV)\n"
   ]
  },
  {
   "cell_type": "code",
   "execution_count": 44,
   "metadata": {},
   "outputs": [],
   "source": [
    "T1L0cut10 = L0cut10[L0cut10['AV']<1]\n",
    "T2L0cut10 = L0cut10[L0cut10['AV']>1]"
   ]
  },
  {
   "cell_type": "code",
   "execution_count": 45,
   "metadata": {},
   "outputs": [],
   "source": [
    "from astropy.io import ascii\n",
    "ascii.write(T1L0cut10, 'T1L0cut10.fits', overwrite=True, comment = False, format = 'no_header')\n",
    "#agn luminosity is 0 removed and cut 10 for T1"
   ]
  },
  {
   "cell_type": "code",
   "execution_count": 46,
   "metadata": {},
   "outputs": [],
   "source": [
    "from astropy.io import ascii\n",
    "ascii.write(T2L0cut10, 'T2L0cut10.fits', overwrite=True, comment = False, format = 'no_header')\n",
    "#agn luminosity is 0 removed and cut 10 for T2"
   ]
  },
  {
   "cell_type": "code",
   "execution_count": 47,
   "metadata": {},
   "outputs": [],
   "source": [
    "AV = [i*3.2 for i in L0cut1045['EBV']]\n",
    "\n",
    "AV = MaskedColumn(name = \"AV\", data = AV  , dtype=np.float64) \n",
    "L0cut1045.add_column(AV)\n",
    "#L0cut1045.replace_column('AV',AV)\n"
   ]
  },
  {
   "cell_type": "code",
   "execution_count": 48,
   "metadata": {},
   "outputs": [],
   "source": [
    "T1L0cut1045 = L0cut1045[L0cut1045['AV']<1]\n",
    "T2L0cut1045 = L0cut1045[L0cut1045['AV']>1]"
   ]
  },
  {
   "cell_type": "code",
   "execution_count": 49,
   "metadata": {},
   "outputs": [],
   "source": [
    "from astropy.io import ascii\n",
    "ascii.write(T1L0cut1045, 'T1L0cut1045.fits', overwrite=True, comment = False)\n",
    "#agn luminosity is 0 removed and cut 1045 for T1"
   ]
  },
  {
   "cell_type": "code",
   "execution_count": 50,
   "metadata": {},
   "outputs": [],
   "source": [
    "from astropy.io import ascii\n",
    "ascii.write(T2L0cut1045, 'T2L0cut1045.fits', overwrite=True, comment = False)\n",
    "#agn luminosity is 0 removed and cut 1045 for T2"
   ]
  },
  {
   "cell_type": "code",
   "execution_count": 51,
   "metadata": {},
   "outputs": [
    {
     "data": {
      "text/plain": [
       "array([[1, 2, 3],\n",
       "       [4, 5, 6]])"
      ]
     },
     "execution_count": 51,
     "metadata": {},
     "output_type": "execute_result"
    }
   ],
   "source": [
    "np.array([[1,2,3],[4,5,6]])"
   ]
  },
  {
   "cell_type": "code",
   "execution_count": 52,
   "metadata": {},
   "outputs": [
    {
     "data": {
      "text/plain": [
       "[216.23924,\n",
       " 217.32876,\n",
       " 216.77754,\n",
       " 217.40246,\n",
       " 217.17911,\n",
       " 217.42245,\n",
       " 217.97138,\n",
       " 217.78001,\n",
       " 217.33069,\n",
       " 217.39288]"
      ]
     },
     "execution_count": 52,
     "metadata": {},
     "output_type": "execute_result"
    }
   ],
   "source": [
    "[216.23924,217.32876,216.77754,217.40246,217.17911,217.42245,217.97138,217.78001,217.33069,217.39288]"
   ]
  },
  {
   "cell_type": "code",
   "execution_count": 53,
   "metadata": {},
   "outputs": [
    {
     "data": {
      "text/plain": [
       "(32.31401,\n",
       " 32.31811,\n",
       " 32.31943,\n",
       " 32.32228,\n",
       " 32.32282,\n",
       " 32.34531,\n",
       " 32.36198,\n",
       " 32.36476,\n",
       " 32.36947,\n",
       " 32.37035)"
      ]
     },
     "execution_count": 53,
     "metadata": {},
     "output_type": "execute_result"
    }
   ],
   "source": [
    "32.31401,32.31811,32.31943,32.32228,32.32282,32.34531,32.36198,32.36476,32.36947,32.37035"
   ]
  },
  {
   "cell_type": "code",
   "execution_count": 54,
   "metadata": {},
   "outputs": [
    {
     "data": {
      "text/html": [
       "<i>Table length=1646</i>\n",
       "<table id=\"table140283923138656\" class=\"table-striped table-bordered table-condensed\">\n",
       "<thead><tr><th>RA</th><th>Dec</th><th>Imag</th><th>S</th><th>zspec</th><th>N</th><th>zG</th><th>chi2G</th><th>LEll</th><th>LSbc</th><th>LIrr</th><th>zGA</th><th>chi2GA</th><th>LAGNp</th><th>LELLp</th><th>LSbcp</th><th>LIrrp</th><th>F</th><th>EBV</th><th>Chi2S</th><th>SType</th><th>LAGNerg</th><th>logF</th><th>I</th><th>index</th><th>SA</th><th>LSbcerg</th><th>LEllerg</th><th>LIrrerg</th><th>Lg</th><th>LGlog</th><th>LSbc1</th><th>LEll1</th><th>LIrr1</th><th>LSbc2</th><th>LEll2</th><th>LIrr2</th><th>LSbcergp</th><th>LEllergp</th><th>LIrrergp</th><th>LSbc1p</th><th>LEll1p</th><th>LIrr1p</th><th>LSbc2p</th><th>LEll2p</th><th>LIrr2p</th><th>Lgp</th><th>LGlogp</th><th>AV</th></tr></thead>\n",
       "<thead><tr><th>float64</th><th>float64</th><th>float64</th><th>float64</th><th>float64</th><th>str4</th><th>float64</th><th>float64</th><th>float64</th><th>float64</th><th>float64</th><th>float64</th><th>float64</th><th>float64</th><th>float64</th><th>float64</th><th>float64</th><th>float64</th><th>float64</th><th>float64</th><th>str5</th><th>float64</th><th>float64</th><th>float64</th><th>float64</th><th>float64</th><th>float64</th><th>float64</th><th>float64</th><th>float64</th><th>float64</th><th>float64</th><th>float64</th><th>float64</th><th>float64</th><th>float64</th><th>float64</th><th>float64</th><th>float64</th><th>float64</th><th>float64</th><th>float64</th><th>float64</th><th>float64</th><th>float64</th><th>float64</th><th>float64</th><th>float64</th><th>float64</th></tr></thead>\n",
       "<tr><td>216.23924</td><td>32.31401</td><td>23.56</td><td>0.22</td><td>-99.99</td><td>9/3</td><td>3.0</td><td>70.22</td><td>2.445</td><td>0.0</td><td>0.0</td><td>0.83</td><td>7.08</td><td>2.098</td><td>0.0</td><td>0.0</td><td>-0.656</td><td>36.66</td><td>1.58</td><td>146.43</td><td>1500K</td><td>45.678</td><td>1.5641924606261979</td><td>16.69</td><td>246.0</td><td>28.8056206088993</td><td>43.58</td><td>46.025</td><td>43.58</td><td>1.0592537251772854e+46</td><td>46.025</td><td>3.801893963205597e+43</td><td>1.0592537251772854e+46</td><td>3.801893963205597e+43</td><td>0.0</td><td>1.0592537251772854e+46</td><td>0.0</td><td>43.58</td><td>43.58</td><td>42.924</td><td>3.801893963205597e+43</td><td>3.801893963205597e+43</td><td>8.394599865193965e+42</td><td>0.0</td><td>0.0</td><td>8.394599865193965e+42</td><td>8.394599865193965e+42</td><td>42.924</td><td>5.056000000000001</td></tr>\n",
       "<tr><td>217.32876</td><td>32.31811</td><td>-26.1</td><td>0.68</td><td>-99.99</td><td>11/3</td><td>2.39</td><td>9.05</td><td>0.0</td><td>1.7</td><td>0.0</td><td>1.84</td><td>2.68</td><td>2.187</td><td>0.0</td><td>0.534</td><td>-1.324</td><td>12.88</td><td>0.79</td><td>12.79</td><td>1500K</td><td>45.766999999999996</td><td>1.1099158630237933</td><td>17.0</td><td>433.0</td><td>50.70257611241218</td><td>45.28</td><td>43.58</td><td>43.58</td><td>1.9054607179632523e+45</td><td>45.28</td><td>1.9054607179632523e+45</td><td>3.801893963205597e+43</td><td>3.801893963205597e+43</td><td>1.9054607179632523e+45</td><td>0.0</td><td>0.0</td><td>44.114</td><td>43.58</td><td>42.256</td><td>1.300169578033282e+44</td><td>3.801893963205597e+43</td><td>1.8030177408595698e+42</td><td>1.300169578033282e+44</td><td>0.0</td><td>1.8030177408595698e+42</td><td>1.3181997554418778e+44</td><td>44.11998122673197</td><td>2.5280000000000005</td></tr>\n",
       "<tr><td>216.77754</td><td>32.31943</td><td>24.08</td><td>0.11</td><td>-99.99</td><td>12/1</td><td>1.89</td><td>12.53</td><td>0.0</td><td>1.549</td><td>0.0</td><td>2.26</td><td>2.85</td><td>2.485</td><td>0.0</td><td>1.241</td><td>-0.04</td><td>16.32</td><td>0.5</td><td>15.4</td><td>1500K</td><td>46.065</td><td>1.2127201544178423</td><td>17.09</td><td>492.0</td><td>57.6112412177986</td><td>45.129</td><td>43.58</td><td>43.58</td><td>1.3458603540559414e+45</td><td>45.129</td><td>1.3458603540559414e+45</td><td>3.801893963205597e+43</td><td>3.801893963205597e+43</td><td>1.3458603540559414e+45</td><td>0.0</td><td>0.0</td><td>44.821</td><td>43.58</td><td>43.54</td><td>6.6221650370175885e+44</td><td>3.801893963205597e+43</td><td>3.4673685045253096e+43</td><td>6.6221650370175885e+44</td><td>0.0</td><td>3.4673685045253096e+43</td><td>6.9689018874701195e+44</td><td>44.84316435029544</td><td>1.6</td></tr>\n",
       "<tr><td>217.40246</td><td>32.32228</td><td>22.19</td><td>0.22</td><td>-99.99</td><td>13/1</td><td>2.44</td><td>5.52</td><td>0.0</td><td>2.059</td><td>1.345</td><td>1.34</td><td>0.7</td><td>1.733</td><td>0.998</td><td>0.754</td><td>0.703</td><td>32.12</td><td>0.5</td><td>25.39</td><td>1500K</td><td>45.312999999999995</td><td>1.5067755366066433</td><td>17.22</td><td>606.0</td><td>70.96018735362999</td><td>45.638999999999996</td><td>43.58</td><td>44.925</td><td>5.196513878500833e+45</td><td>45.71571209150841</td><td>4.3551187368556436e+45</td><td>3.801893963205597e+43</td><td>8.413951416451896e+44</td><td>4.3551187368556436e+45</td><td>0.0</td><td>8.413951416451896e+44</td><td>44.333999999999996</td><td>44.577999999999996</td><td>44.283</td><td>2.157744409152647e+44</td><td>3.784425847170897e+44</td><td>1.9186687406702948e+44</td><td>2.157744409152647e+44</td><td>3.784425847170897e+44</td><td>1.9186687406702948e+44</td><td>7.860838996993839e+44</td><td>44.8954689012963</td><td>1.6</td></tr>\n",
       "<tr><td>217.17911</td><td>32.32282</td><td>21.19</td><td>0.07</td><td>-99.99</td><td>13/0</td><td>2.65</td><td>86.06</td><td>0.0</td><td>2.037</td><td>2.073</td><td>1.21</td><td>11.55</td><td>2.578</td><td>0.0</td><td>0.8</td><td>1.223</td><td>30.02</td><td>3.98</td><td>184.11</td><td>f/g</td><td>46.158</td><td>1.4774106879072515</td><td>17.25</td><td>625.0</td><td>73.18501170960188</td><td>45.617</td><td>43.58</td><td>45.653</td><td>8.637795297130144e+45</td><td>45.93640290770173</td><td>4.1399967481972786e+45</td><td>3.801893963205597e+43</td><td>4.497798548932866e+45</td><td>4.1399967481972786e+45</td><td>0.0</td><td>4.497798548932866e+45</td><td>44.379999999999995</td><td>43.58</td><td>44.803</td><td>2.3988329190194653e+44</td><td>3.801893963205597e+43</td><td>6.353309318517397e+44</td><td>2.3988329190194653e+44</td><td>0.0</td><td>6.353309318517397e+44</td><td>8.752142237536861e+44</td><td>44.942114367087555</td><td>12.736</td></tr>\n",
       "<tr><td>217.42245</td><td>32.34531</td><td>22.4</td><td>0.05</td><td>-99.99</td><td>14/0</td><td>1.36</td><td>2.35</td><td>0.0</td><td>1.467</td><td>-0.474</td><td>1.18</td><td>0.54</td><td>1.45</td><td>0.915</td><td>0.343</td><td>0.061</td><td>17.92</td><td>0.5</td><td>11.32</td><td>1500K</td><td>45.03</td><td>1.2533380053261065</td><td>17.86</td><td>1619.0</td><td>189.57845433255272</td><td>45.047</td><td>43.58</td><td>43.106</td><td>1.1270589216798358e+45</td><td>45.05194662118498</td><td>1.1142945335917224e+45</td><td>3.801893963205597e+43</td><td>1.2764388088113487e+43</td><td>1.1142945335917224e+45</td><td>0.0</td><td>1.2764388088113487e+43</td><td>43.923</td><td>44.495</td><td>43.641</td><td>8.375292821268861e+43</td><td>3.1260793671239365e+44</td><td>4.375221051582503e+43</td><td>8.375292821268861e+43</td><td>3.1260793671239365e+44</td><td>4.375221051582503e+43</td><td>4.401130754409073e+44</td><td>44.64356427132932</td><td>1.6</td></tr>\n",
       "<tr><td>217.97138</td><td>32.36198</td><td>22.14</td><td>0.03</td><td>-99.99</td><td>14/0</td><td>1.78</td><td>8.17</td><td>0.0</td><td>1.9</td><td>0.0</td><td>1.33</td><td>1.85</td><td>1.875</td><td>0.375</td><td>1.365</td><td>0.0</td><td>16.37</td><td>0.63</td><td>34.28</td><td>1500K</td><td>45.455</td><td>1.2140486794119414</td><td>18.11</td><td>2316.0</td><td>271.1943793911007</td><td>45.48</td><td>43.58</td><td>43.58</td><td>3.019951720401995e+45</td><td>45.48</td><td>3.019951720401995e+45</td><td>3.801893963205597e+43</td><td>3.801893963205597e+43</td><td>3.019951720401995e+45</td><td>0.0</td><td>0.0</td><td>44.945</td><td>43.955</td><td>43.58</td><td>8.810488730080147e+44</td><td>9.015711376059533e+43</td><td>3.801893963205597e+43</td><td>8.810488730080147e+44</td><td>9.015711376059533e+43</td><td>0.0</td><td>9.7120598676861e+44</td><td>44.98731135084461</td><td>2.016</td></tr>\n",
       "<tr><td>217.78001</td><td>32.36476</td><td>23.32</td><td>0.34</td><td>-99.99</td><td>11/1</td><td>3.0</td><td>31.3</td><td>0.0</td><td>2.552</td><td>0.0</td><td>0.86</td><td>2.26</td><td>1.877</td><td>0.0</td><td>-0.719</td><td>-0.882</td><td>52.34</td><td>1.0</td><td>80.36</td><td>1500K</td><td>45.457</td><td>1.7188337183038622</td><td>18.14</td><td>2456.0</td><td>287.58782201405154</td><td>46.132</td><td>43.58</td><td>43.58</td><td>1.3551894123510295e+46</td><td>46.132</td><td>1.3551894123510295e+46</td><td>3.801893963205597e+43</td><td>3.801893963205597e+43</td><td>1.3551894123510295e+46</td><td>0.0</td><td>0.0</td><td>42.861</td><td>43.58</td><td>42.698</td><td>7.261059574351499e+42</td><td>3.801893963205597e+43</td><td>4.988844874600127e+42</td><td>7.261059574351499e+42</td><td>0.0</td><td>4.988844874600127e+42</td><td>1.2249904448951625e+43</td><td>43.088132701153214</td><td>3.2</td></tr>\n",
       "<tr><td>217.33069</td><td>32.36947</td><td>23.95</td><td>0.46</td><td>-99.99</td><td>14/0</td><td>1.89</td><td>13.76</td><td>0.0</td><td>1.302</td><td>0.451</td><td>2.51</td><td>0.9</td><td>2.571</td><td>0.0</td><td>0.0</td><td>0.98</td><td>72.24</td><td>0.63</td><td>16.5</td><td>1500K</td><td>46.150999999999996</td><td>1.8587777373054493</td><td>18.21</td><td>2660.0</td><td>311.4754098360656</td><td>44.882</td><td>43.58</td><td>44.031</td><td>8.694779512595325e+44</td><td>44.939258573379874</td><td>7.620790100254083e+44</td><td>3.801893963205597e+43</td><td>1.0739894123412418e+44</td><td>7.620790100254083e+44</td><td>0.0</td><td>1.0739894123412418e+44</td><td>43.58</td><td>43.58</td><td>44.559999999999995</td><td>3.801893963205597e+43</td><td>3.801893963205597e+43</td><td>3.630780547700973e+44</td><td>0.0</td><td>0.0</td><td>3.630780547700973e+44</td><td>3.630780547700973e+44</td><td>44.559999999999995</td><td>2.016</td></tr>\n",
       "<tr><td>217.39288</td><td>32.37035</td><td>24.34</td><td>0.68</td><td>-99.99</td><td>13/1</td><td>3.0</td><td>32.38</td><td>0.0</td><td>2.04</td><td>0.814</td><td>2.57</td><td>1.13</td><td>2.989</td><td>0.0</td><td>0.0</td><td>0.775</td><td>125.85</td><td>0.79</td><td>44.83</td><td>1500K</td><td>46.568999999999996</td><td>2.0998532198843813</td><td>18.22</td><td>2704.0</td><td>316.62763466042156</td><td>45.62</td><td>43.58</td><td>44.394</td><td>4.4164360404666574e+45</td><td>45.645071945296294</td><td>4.1686938347033295e+45</td><td>3.801893963205597e+43</td><td>2.477422057633276e+44</td><td>4.1686938347033295e+45</td><td>0.0</td><td>2.477422057633276e+44</td><td>43.58</td><td>43.58</td><td>44.355</td><td>3.801893963205597e+43</td><td>3.801893963205597e+43</td><td>2.2646443075930434e+44</td><td>0.0</td><td>0.0</td><td>2.2646443075930434e+44</td><td>2.2646443075930434e+44</td><td>44.355</td><td>2.5280000000000005</td></tr>\n",
       "<tr><td>...</td><td>...</td><td>...</td><td>...</td><td>...</td><td>...</td><td>...</td><td>...</td><td>...</td><td>...</td><td>...</td><td>...</td><td>...</td><td>...</td><td>...</td><td>...</td><td>...</td><td>...</td><td>...</td><td>...</td><td>...</td><td>...</td><td>...</td><td>...</td><td>...</td><td>...</td><td>...</td><td>...</td><td>...</td><td>...</td><td>...</td><td>...</td><td>...</td><td>...</td><td>...</td><td>...</td><td>...</td><td>...</td><td>...</td><td>...</td><td>...</td><td>...</td><td>...</td><td>...</td><td>...</td><td>...</td><td>...</td><td>...</td><td>...</td></tr>\n",
       "<tr><td>218.62149</td><td>35.78446</td><td>25.11</td><td>0.55</td><td>-99.99</td><td>12/0</td><td>2.02</td><td>5.86</td><td>-0.006</td><td>1.791</td><td>0.0</td><td>1.66</td><td>1.54</td><td>1.944</td><td>1.186</td><td>0.768</td><td>0.0</td><td>12.25</td><td>0.79</td><td>15.28</td><td>1500K</td><td>45.524</td><td>1.0881360887005513</td><td>23.9</td><td>302582.0</td><td>35431.14754098361</td><td>45.370999999999995</td><td>43.574</td><td>43.58</td><td>2.387130121072829e+45</td><td>45.37787609279129</td><td>2.3496328208482808e+45</td><td>3.7497300224548183e+43</td><td>3.801893963205597e+43</td><td>2.3496328208482808e+45</td><td>3.7497300224548183e+43</td><td>0.0</td><td>44.348</td><td>44.766</td><td>43.58</td><td>2.2284351492702984e+44</td><td>5.834451042737424e+44</td><td>3.801893963205597e+43</td><td>2.2284351492702984e+44</td><td>5.834451042737424e+44</td><td>0.0</td><td>8.062886192007722e+44</td><td>44.90649052975695</td><td>2.5280000000000005</td></tr>\n",
       "<tr><td>216.87903</td><td>35.79194</td><td>23.45</td><td>0.03</td><td>-99.99</td><td>11/2</td><td>2.46</td><td>56.87</td><td>0.0</td><td>1.84</td><td>0.0</td><td>1.92</td><td>2.27</td><td>2.624</td><td>0.0</td><td>0.0</td><td>0.509</td><td>109.23</td><td>0.63</td><td>67.5</td><td>1000K</td><td>46.204</td><td>2.0383419336536064</td><td>24.0</td><td>303099.0</td><td>35491.68618266979</td><td>45.42</td><td>43.58</td><td>43.58</td><td>2.630267991895392e+45</td><td>45.42</td><td>2.630267991895392e+45</td><td>3.801893963205597e+43</td><td>3.801893963205597e+43</td><td>2.630267991895392e+45</td><td>0.0</td><td>0.0</td><td>43.58</td><td>43.58</td><td>44.089</td><td>3.801893963205597e+43</td><td>3.801893963205597e+43</td><td>1.2274392311584035e+44</td><td>0.0</td><td>0.0</td><td>1.2274392311584035e+44</td><td>1.2274392311584035e+44</td><td>44.089</td><td>2.016</td></tr>\n",
       "<tr><td>217.03662</td><td>35.7921</td><td>25.26</td><td>0.74</td><td>-99.99</td><td>11/3</td><td>1.82</td><td>2.39</td><td>0.0</td><td>1.457</td><td>0.0</td><td>1.49</td><td>0.72</td><td>2.024</td><td>0.0</td><td>-0.148</td><td>-0.031</td><td>11.47</td><td>0.63</td><td>5.15</td><td>1500K</td><td>45.604</td><td>1.0595634179012676</td><td>24.0</td><td>303114.0</td><td>35493.442622950824</td><td>45.037</td><td>43.58</td><td>43.58</td><td>1.088930093333431e+45</td><td>45.037</td><td>1.088930093333431e+45</td><td>3.801893963205597e+43</td><td>3.801893963205597e+43</td><td>1.088930093333431e+45</td><td>0.0</td><td>0.0</td><td>43.431999999999995</td><td>43.58</td><td>43.549</td><td>2.703958364108813e+43</td><td>3.801893963205597e+43</td><td>3.5399734108343426e+43</td><td>2.703958364108813e+43</td><td>0.0</td><td>3.5399734108343426e+43</td><td>6.243931774943156e+43</td><td>43.79545814904643</td><td>2.016</td></tr>\n",
       "<tr><td>217.27198</td><td>35.79323</td><td>19.47</td><td>0.99</td><td>2.17</td><td>13/0</td><td>0.92</td><td>83.15</td><td>0.0</td><td>2.216</td><td>2.054</td><td>1.09</td><td>7.06</td><td>2.86</td><td>0.0</td><td>0.0</td><td>2.142</td><td>44.12</td><td>0.32</td><td>183.89</td><td>G/K</td><td>46.44</td><td>1.644635503768153</td><td>24.02</td><td>303201.0</td><td>35503.6299765808</td><td>45.796</td><td>43.58</td><td>45.634</td><td>1.0556993032673959e+46</td><td>46.0235402349325</td><td>6.251726927756849e+45</td><td>3.801893963205597e+43</td><td>4.30526610491711e+45</td><td>6.251726927756849e+45</td><td>0.0</td><td>4.30526610491711e+45</td><td>43.58</td><td>43.58</td><td>45.722</td><td>3.801893963205597e+43</td><td>3.801893963205597e+43</td><td>5.272298614228243e+45</td><td>0.0</td><td>0.0</td><td>5.272298614228243e+45</td><td>5.272298614228243e+45</td><td>45.722</td><td>1.024</td></tr>\n",
       "<tr><td>216.49723</td><td>35.79776</td><td>22.65</td><td>0.03</td><td>-99.99</td><td>13/1</td><td>2.51</td><td>12.3</td><td>0.0</td><td>2.161</td><td>1.18</td><td>1.31</td><td>3.34</td><td>1.979</td><td>0.0</td><td>1.249</td><td>0.586</td><td>13.09</td><td>0.79</td><td>34.13</td><td>1500K</td><td>45.559</td><td>1.1169396465507557</td><td>24.11</td><td>303532.0</td><td>35542.3887587822</td><td>45.741</td><td>43.58</td><td>44.76</td><td>6.083516901391184e+45</td><td>45.78415471895915</td><td>5.50807696405403e+45</td><td>3.801893963205597e+43</td><td>5.754399373371543e+44</td><td>5.50807696405403e+45</td><td>0.0</td><td>5.754399373371543e+44</td><td>44.829</td><td>43.58</td><td>44.166</td><td>6.745280276979229e+44</td><td>3.801893963205597e+43</td><td>1.4655478409559009e+44</td><td>6.745280276979229e+44</td><td>0.0</td><td>1.4655478409559009e+44</td><td>8.21082811793513e+44</td><td>44.91438696088467</td><td>2.5280000000000005</td></tr>\n",
       "<tr><td>216.80316</td><td>35.80337</td><td>24.48</td><td>0.7</td><td>-99.99</td><td>10/3</td><td>2.47</td><td>26.39</td><td>0.0</td><td>1.808</td><td>0.0</td><td>1.92</td><td>5.33</td><td>2.516</td><td>0.0</td><td>0.0</td><td>0.515</td><td>18.77</td><td>0.63</td><td>36.56</td><td>1500K</td><td>46.096</td><td>1.2734642726213463</td><td>24.27</td><td>304041.0</td><td>35601.990632318506</td><td>45.388</td><td>43.58</td><td>43.58</td><td>2.4434305526939613e+45</td><td>45.388</td><td>2.4434305526939613e+45</td><td>3.801893963205597e+43</td><td>3.801893963205597e+43</td><td>2.4434305526939613e+45</td><td>0.0</td><td>0.0</td><td>43.58</td><td>43.58</td><td>44.095</td><td>3.801893963205597e+43</td><td>3.801893963205597e+43</td><td>1.2445146117713817e+44</td><td>0.0</td><td>0.0</td><td>1.2445146117713817e+44</td><td>1.2445146117713817e+44</td><td>44.095</td><td>2.016</td></tr>\n",
       "<tr><td>219.09874</td><td>35.80577</td><td>22.15</td><td>0.06</td><td>-99.99</td><td>9/1</td><td>1.52</td><td>6.71</td><td>0.0</td><td>1.752</td><td>0.0</td><td>1.39</td><td>1.3</td><td>1.675</td><td>1.366</td><td>0.0</td><td>-0.689</td><td>11.44</td><td>0.32</td><td>24.01</td><td>1000K</td><td>45.254999999999995</td><td>1.0584260244570054</td><td>24.34</td><td>304215.0</td><td>35622.36533957846</td><td>45.332</td><td>43.58</td><td>43.58</td><td>2.1478304741305374e+45</td><td>45.332</td><td>2.1478304741305374e+45</td><td>3.801893963205597e+43</td><td>3.801893963205597e+43</td><td>2.1478304741305374e+45</td><td>0.0</td><td>0.0</td><td>43.58</td><td>44.946</td><td>42.891</td><td>3.801893963205597e+43</td><td>8.830799004185586e+44</td><td>7.780365510398009e+42</td><td>0.0</td><td>8.830799004185586e+44</td><td>7.780365510398009e+42</td><td>8.908602659289566e+44</td><td>44.94980958900308</td><td>1.024</td></tr>\n",
       "<tr><td>218.03245</td><td>35.82797</td><td>21.37</td><td>0.03</td><td>-99.99</td><td>9/1</td><td>1.68</td><td>8.77</td><td>0.0</td><td>1.936</td><td>1.255</td><td>1.24</td><td>1.58</td><td>2.021</td><td>0.586</td><td>1.251</td><td>0.91</td><td>12.42</td><td>0.63</td><td>44.21</td><td>1000K</td><td>45.601</td><td>1.0941215958405615</td><td>25.68</td><td>305179.0</td><td>35735.24590163935</td><td>45.516</td><td>43.58</td><td>44.835</td><td>3.9648645784126076e+45</td><td>45.598228358399524</td><td>3.2809529311311766e+45</td><td>3.801893963205597e+43</td><td>6.839116472814307e+44</td><td>3.2809529311311766e+45</td><td>0.0</td><td>6.839116472814307e+44</td><td>44.830999999999996</td><td>44.166</td><td>44.489999999999995</td><td>6.7764150761066875e+44</td><td>1.4655478409559009e+44</td><td>3.0902954325135543e+44</td><td>6.7764150761066875e+44</td><td>1.4655478409559009e+44</td><td>3.0902954325135543e+44</td><td>1.1332258349576142e+45</td><td>45.05431646688232</td><td>2.016</td></tr>\n",
       "<tr><td>217.01492</td><td>35.82969</td><td>22.69</td><td>0.01</td><td>-99.99</td><td>10/0</td><td>1.82</td><td>6.44</td><td>0.0</td><td>1.797</td><td>0.346</td><td>1.4</td><td>1.03</td><td>1.941</td><td>1.11</td><td>0.0</td><td>0.421</td><td>14.2</td><td>0.63</td><td>17.41</td><td>1000K</td><td>45.521</td><td>1.1522883443830565</td><td>25.92</td><td>305217.0</td><td>35739.695550351295</td><td>45.376999999999995</td><td>43.58</td><td>43.925999999999995</td><td>2.466652945135091e+45</td><td>45.392108049118605</td><td>2.3823194693586647e+45</td><td>3.801893963205597e+43</td><td>8.433347577642654e+43</td><td>2.3823194693586647e+45</td><td>0.0</td><td>8.433347577642654e+43</td><td>43.58</td><td>44.69</td><td>44.001</td><td>3.801893963205597e+43</td><td>4.897788193684436e+44</td><td>1.0023052380778942e+44</td><td>0.0</td><td>4.897788193684436e+44</td><td>1.0023052380778942e+44</td><td>5.9000934317623306e+44</td><td>44.77085888902817</td><td>2.016</td></tr>\n",
       "<tr><td>216.62134</td><td>35.8374</td><td>20.51</td><td>0.03</td><td>-99.99</td><td>9/0</td><td>1.05</td><td>66.59</td><td>0.0</td><td>1.678</td><td>0.889</td><td>0.72</td><td>2.26</td><td>1.502</td><td>0.0</td><td>-0.146</td><td>0.773</td><td>72.02</td><td>1.0</td><td>187.0</td><td>2500K</td><td>45.082</td><td>1.8574531170352664</td><td>28.42</td><td>305289.0</td><td>35748.12646370024</td><td>45.257999999999996</td><td>43.58</td><td>44.469</td><td>2.105782255999461e+45</td><td>45.32341346186045</td><td>1.811340092619584e+45</td><td>3.801893963205597e+43</td><td>2.9444216337987695e+44</td><td>1.811340092619584e+45</td><td>0.0</td><td>2.9444216337987695e+44</td><td>43.434</td><td>43.58</td><td>44.353</td><td>2.716439268839067e+43</td><td>3.801893963205597e+43</td><td>2.2542392121524373e+44</td><td>2.716439268839067e+43</td><td>0.0</td><td>2.2542392121524373e+44</td><td>2.525883139036344e+44</td><td>44.402413253881356</td><td>3.2</td></tr>\n",
       "</table>"
      ],
      "text/plain": [
       "<Table length=1646>\n",
       "    RA      Dec      Imag  ...       LGlogp               AV        \n",
       " float64  float64  float64 ...      float64            float64      \n",
       "--------- -------- ------- ... ------------------ ------------------\n",
       "216.23924 32.31401   23.56 ...             42.924  5.056000000000001\n",
       "217.32876 32.31811   -26.1 ...  44.11998122673197 2.5280000000000005\n",
       "216.77754 32.31943   24.08 ...  44.84316435029544                1.6\n",
       "217.40246 32.32228   22.19 ...   44.8954689012963                1.6\n",
       "217.17911 32.32282   21.19 ... 44.942114367087555             12.736\n",
       "217.42245 32.34531    22.4 ...  44.64356427132932                1.6\n",
       "217.97138 32.36198   22.14 ...  44.98731135084461              2.016\n",
       "217.78001 32.36476   23.32 ... 43.088132701153214                3.2\n",
       "217.33069 32.36947   23.95 ... 44.559999999999995              2.016\n",
       "217.39288 32.37035   24.34 ...             44.355 2.5280000000000005\n",
       "      ...      ...     ... ...                ...                ...\n",
       "218.62149 35.78446   25.11 ...  44.90649052975695 2.5280000000000005\n",
       "216.87903 35.79194   23.45 ...             44.089              2.016\n",
       "217.03662  35.7921   25.26 ...  43.79545814904643              2.016\n",
       "217.27198 35.79323   19.47 ...             45.722              1.024\n",
       "216.49723 35.79776   22.65 ...  44.91438696088467 2.5280000000000005\n",
       "216.80316 35.80337   24.48 ...             44.095              2.016\n",
       "219.09874 35.80577   22.15 ...  44.94980958900308              1.024\n",
       "218.03245 35.82797   21.37 ...  45.05431646688232              2.016\n",
       "217.01492 35.82969   22.69 ...  44.77085888902817              2.016\n",
       "216.62134  35.8374   20.51 ... 44.402413253881356                3.2"
      ]
     },
     "execution_count": 54,
     "metadata": {},
     "output_type": "execute_result"
    }
   ],
   "source": [
    "T2L0cut1045"
   ]
  },
  {
   "cell_type": "code",
   "execution_count": 55,
   "metadata": {},
   "outputs": [],
   "source": [
    "from astropy.io import ascii\n",
    "ascii.write(L0cut45LESSTHAN10, 'L0cut45LESSTHAN10.fits', overwrite=True, comment = False)\n",
    "#agn luminosity is 0 removed and cut 10 and 45"
   ]
  },
  {
   "cell_type": "code",
   "execution_count": 56,
   "metadata": {},
   "outputs": [
    {
     "data": {
      "text/html": [
       "<i>Table length=3647</i>\n",
       "<table id=\"table140283679585896\" class=\"table-striped table-bordered table-condensed\">\n",
       "<thead><tr><th>RA</th><th>Dec</th><th>Imag</th><th>S</th><th>zspec</th><th>N</th><th>zG</th><th>chi2G</th><th>LEll</th><th>LSbc</th><th>LIrr</th><th>zGA</th><th>chi2GA</th><th>LAGNp</th><th>LELLp</th><th>LSbcp</th><th>LIrrp</th><th>F</th><th>EBV</th><th>LAGNerg</th><th>logF</th><th>I</th><th>index</th><th>LSbcerg</th><th>LEllerg</th><th>LIrrerg</th><th>Lg</th><th>LGlog</th><th>LSbcergp</th><th>LEllergp</th><th>LIrrergp</th><th>Lgp</th><th>LGlogp</th></tr></thead>\n",
       "<thead><tr><th>float64</th><th>float64</th><th>float64</th><th>float64</th><th>float64</th><th>str4</th><th>float64</th><th>float64</th><th>float64</th><th>float64</th><th>float64</th><th>float64</th><th>float64</th><th>float64</th><th>float64</th><th>float64</th><th>float64</th><th>float64</th><th>float64</th><th>float64</th><th>float64</th><th>float64</th><th>float64</th><th>float64</th><th>float64</th><th>float64</th><th>float64</th><th>float64</th><th>float64</th><th>float64</th><th>float64</th><th>float64</th><th>float64</th></tr></thead>\n",
       "<tr><td>216.23924</td><td>32.31401</td><td>23.56</td><td>0.22</td><td>-99.99</td><td>9/3</td><td>3.0</td><td>70.22</td><td>2.445</td><td>0.0</td><td>0.0</td><td>0.83</td><td>7.08</td><td>2.098</td><td>0.0</td><td>0.0</td><td>-0.656</td><td>36.66</td><td>1.58</td><td>45.678</td><td>1.5641924606261979</td><td>16.69</td><td>246.0</td><td>43.58</td><td>46.025</td><td>43.58</td><td>1.0592537251772854e+46</td><td>46.025</td><td>43.58</td><td>43.58</td><td>42.924</td><td>8.394599865193965e+42</td><td>42.924</td></tr>\n",
       "<tr><td>217.32876</td><td>32.31811</td><td>-26.1</td><td>0.68</td><td>-99.99</td><td>11/3</td><td>2.39</td><td>9.05</td><td>0.0</td><td>1.7</td><td>0.0</td><td>1.84</td><td>2.68</td><td>2.187</td><td>0.0</td><td>0.534</td><td>-1.324</td><td>12.88</td><td>0.79</td><td>45.766999999999996</td><td>1.1099158630237933</td><td>17.0</td><td>433.0</td><td>45.28</td><td>43.58</td><td>43.58</td><td>1.9054607179632523e+45</td><td>45.28</td><td>44.114</td><td>43.58</td><td>42.256</td><td>1.3181997554418778e+44</td><td>44.11998122673197</td></tr>\n",
       "<tr><td>216.77754</td><td>32.31943</td><td>24.08</td><td>0.11</td><td>-99.99</td><td>12/1</td><td>1.89</td><td>12.53</td><td>0.0</td><td>1.549</td><td>0.0</td><td>2.26</td><td>2.85</td><td>2.485</td><td>0.0</td><td>1.241</td><td>-0.04</td><td>16.32</td><td>0.5</td><td>46.065</td><td>1.2127201544178423</td><td>17.09</td><td>492.0</td><td>45.129</td><td>43.58</td><td>43.58</td><td>1.3458603540559414e+45</td><td>45.129</td><td>44.821</td><td>43.58</td><td>43.54</td><td>6.9689018874701195e+44</td><td>44.84316435029544</td></tr>\n",
       "<tr><td>217.95706</td><td>32.3197</td><td>21.65</td><td>0.98</td><td>-99.99</td><td>11/3</td><td>0.01</td><td>13.61</td><td>0.0</td><td>0.0</td><td>-3.513</td><td>1.93</td><td>2.61</td><td>1.753</td><td>0.69</td><td>0.0</td><td>0.0</td><td>22.13</td><td>0.03</td><td>45.333</td><td>1.344981413927258</td><td>17.11</td><td>505.0</td><td>43.58</td><td>43.58</td><td>40.067</td><td>1.166809617060963e+40</td><td>40.067</td><td>43.58</td><td>44.269999999999996</td><td>43.58</td><td>1.8620871366628504e+44</td><td>44.269999999999996</td></tr>\n",
       "<tr><td>217.40246</td><td>32.32228</td><td>22.19</td><td>0.22</td><td>-99.99</td><td>13/1</td><td>2.44</td><td>5.52</td><td>0.0</td><td>2.059</td><td>1.345</td><td>1.34</td><td>0.7</td><td>1.733</td><td>0.998</td><td>0.754</td><td>0.703</td><td>32.12</td><td>0.5</td><td>45.312999999999995</td><td>1.5067755366066433</td><td>17.22</td><td>606.0</td><td>45.638999999999996</td><td>43.58</td><td>44.925</td><td>5.196513878500833e+45</td><td>45.71571209150841</td><td>44.333999999999996</td><td>44.577999999999996</td><td>44.283</td><td>7.860838996993839e+44</td><td>44.8954689012963</td></tr>\n",
       "<tr><td>217.17911</td><td>32.32282</td><td>21.19</td><td>0.07</td><td>-99.99</td><td>13/0</td><td>2.65</td><td>86.06</td><td>0.0</td><td>2.037</td><td>2.073</td><td>1.21</td><td>11.55</td><td>2.578</td><td>0.0</td><td>0.8</td><td>1.223</td><td>30.02</td><td>3.98</td><td>46.158</td><td>1.4774106879072515</td><td>17.25</td><td>625.0</td><td>45.617</td><td>43.58</td><td>45.653</td><td>8.637795297130144e+45</td><td>45.93640290770173</td><td>44.379999999999995</td><td>43.58</td><td>44.803</td><td>8.752142237536861e+44</td><td>44.942114367087555</td></tr>\n",
       "<tr><td>217.95201</td><td>32.3288</td><td>21.91</td><td>0.03</td><td>-99.99</td><td>11/3</td><td>0.02</td><td>7.11</td><td>0.0</td><td>0.0</td><td>-3.051</td><td>1.74</td><td>1.19</td><td>1.657</td><td>0.0</td><td>0.071</td><td>0.0</td><td>23.4</td><td>0.06</td><td>45.236999999999995</td><td>1.3692158574101427</td><td>17.48</td><td>900.0</td><td>43.58</td><td>43.58</td><td>40.528999999999996</td><td>3.3806483620597876e+40</td><td>40.528999999999996</td><td>43.650999999999996</td><td>43.58</td><td>43.58</td><td>4.477133041763587e+43</td><td>43.650999999999996</td></tr>\n",
       "<tr><td>216.52493</td><td>32.33303</td><td>21.94</td><td>0.85</td><td>-99.99</td><td>12/0</td><td>0.02</td><td>6.74</td><td>0.0</td><td>0.0</td><td>-2.912</td><td>2.66</td><td>1.6</td><td>1.89</td><td>0.0</td><td>0.0</td><td>-0.012</td><td>12.25</td><td>0.0</td><td>45.47</td><td>1.0881360887005513</td><td>17.59</td><td>1082.0</td><td>43.58</td><td>43.58</td><td>40.668</td><td>4.655860935229582e+40</td><td>40.668</td><td>43.58</td><td>43.58</td><td>43.568</td><td>3.6982817978026436e+43</td><td>43.568</td></tr>\n",
       "<tr><td>216.43354</td><td>32.3436</td><td>20.17</td><td>0.07</td><td>-99.99</td><td>12/0</td><td>1.87</td><td>33.79</td><td>0.0</td><td>2.327</td><td>1.92</td><td>0.88</td><td>7.77</td><td>1.951</td><td>1.0</td><td>0.0</td><td>-0.077</td><td>14.4</td><td>0.25</td><td>45.531</td><td>1.1583624920952498</td><td>17.83</td><td>1556.0</td><td>45.907</td><td>43.58</td><td>45.5</td><td>1.1234627962656696e+46</td><td>46.05055869522951</td><td>43.58</td><td>44.58</td><td>43.503</td><td>4.12031371537821e+44</td><td>44.61493028391439</td></tr>\n",
       "<tr><td>217.42245</td><td>32.34531</td><td>22.4</td><td>0.05</td><td>-99.99</td><td>14/0</td><td>1.36</td><td>2.35</td><td>0.0</td><td>1.467</td><td>-0.474</td><td>1.18</td><td>0.54</td><td>1.45</td><td>0.915</td><td>0.343</td><td>0.061</td><td>17.92</td><td>0.5</td><td>45.03</td><td>1.2533380053261065</td><td>17.86</td><td>1619.0</td><td>45.047</td><td>43.58</td><td>43.106</td><td>1.1270589216798358e+45</td><td>45.05194662118498</td><td>43.923</td><td>44.495</td><td>43.641</td><td>4.401130754409073e+44</td><td>44.64356427132932</td></tr>\n",
       "<tr><td>...</td><td>...</td><td>...</td><td>...</td><td>...</td><td>...</td><td>...</td><td>...</td><td>...</td><td>...</td><td>...</td><td>...</td><td>...</td><td>...</td><td>...</td><td>...</td><td>...</td><td>...</td><td>...</td><td>...</td><td>...</td><td>...</td><td>...</td><td>...</td><td>...</td><td>...</td><td>...</td><td>...</td><td>...</td><td>...</td><td>...</td><td>...</td><td>...</td></tr>\n",
       "<tr><td>216.2967</td><td>35.80978</td><td>22.56</td><td>0.3</td><td>-99.99</td><td>8/4</td><td>0.08</td><td>4.68</td><td>0.0</td><td>-2.664</td><td>-2.143</td><td>2.13</td><td>1.38</td><td>1.549</td><td>0.203</td><td>0.0</td><td>0.0</td><td>10.53</td><td>0.05</td><td>45.129</td><td>1.0224283711854865</td><td>24.46</td><td>304450.0</td><td>40.916</td><td>43.58</td><td>41.437</td><td>3.559406841319693e+41</td><td>41.551377630836654</td><td>43.58</td><td>43.783</td><td>43.58</td><td>6.067363295885071e+43</td><td>43.783</td></tr>\n",
       "<tr><td>219.08391</td><td>35.81142</td><td>20.0</td><td>0.78</td><td>0.81</td><td>9/1</td><td>1.24</td><td>97.35</td><td>0.0</td><td>1.745</td><td>0.968</td><td>0.86</td><td>3.87</td><td>1.921</td><td>1.055</td><td>0.369</td><td>0.0</td><td>61.43</td><td>0.25</td><td>45.501</td><td>1.7883805153195633</td><td>24.53</td><td>304545.0</td><td>45.324999999999996</td><td>43.58</td><td>44.548</td><td>2.4666722096285847e+45</td><td>45.39211144093364</td><td>43.949</td><td>44.635</td><td>43.58</td><td>5.204391886135577e+44</td><td>44.71636999111367</td></tr>\n",
       "<tr><td>217.57336</td><td>35.81175</td><td>21.31</td><td>0.18</td><td>1.71</td><td>9/1</td><td>1.19</td><td>9.06</td><td>0.0</td><td>1.685</td><td>1.386</td><td>1.08</td><td>0.91</td><td>1.864</td><td>0.332</td><td>1.012</td><td>0.915</td><td>27.84</td><td>0.16</td><td>45.443999999999996</td><td>1.4446692309385245</td><td>24.54</td><td>304562.0</td><td>45.265</td><td>43.58</td><td>44.966</td><td>2.765470175407183e+45</td><td>45.44176897912197</td><td>44.592</td><td>43.912</td><td>44.495</td><td>7.851070696406537e+44</td><td>44.89492888806149</td></tr>\n",
       "<tr><td>217.54621</td><td>35.81882</td><td>19.13</td><td>1.0</td><td>1.93</td><td>10/1</td><td>0.01</td><td>81.07</td><td>0.369</td><td>2.012</td><td>1.696</td><td>1.49</td><td>17.6</td><td>2.497</td><td>0.0</td><td>0.0</td><td>2.045</td><td>13.63</td><td>0.01</td><td>46.077</td><td>1.1344958558346736</td><td>24.85</td><td>304885.0</td><td>45.592</td><td>43.949</td><td>45.275999999999996</td><td>5.88532041880608e+45</td><td>45.769770112435396</td><td>43.58</td><td>43.58</td><td>45.625</td><td>4.2169650342858225e+45</td><td>45.625</td></tr>\n",
       "<tr><td>216.59987</td><td>35.8222</td><td>19.15</td><td>0.63</td><td>-99.99</td><td>11/0</td><td>1.39</td><td>67.42</td><td>0.0</td><td>1.992</td><td>2.157</td><td>0.83</td><td>6.86</td><td>1.724</td><td>1.234</td><td>0.0</td><td>0.905</td><td>27.49</td><td>0.0</td><td>45.303999999999995</td><td>1.4391747398434684</td><td>25.06</td><td>305014.0</td><td>45.571999999999996</td><td>43.58</td><td>45.736999999999995</td><td>9.190080188869811e+45</td><td>45.96331930087814</td><td>43.58</td><td>44.814</td><td>44.485</td><td>9.571205053823937e+44</td><td>44.9809666206691</td></tr>\n",
       "<tr><td>216.19544</td><td>35.82278</td><td>21.45</td><td>0.84</td><td>-99.99</td><td>10/0</td><td>1.68</td><td>14.3</td><td>0.0</td><td>0.799</td><td>1.675</td><td>1.17</td><td>2.46</td><td>1.519</td><td>0.269</td><td>-0.045</td><td>0.054</td><td>13.05</td><td>0.05</td><td>45.099</td><td>1.1156105116742998</td><td>25.11</td><td>305031.0</td><td>44.379</td><td>43.58</td><td>45.254999999999995</td><td>2.0382024907693064e+45</td><td>45.309247327980145</td><td>43.535</td><td>43.849</td><td>43.634</td><td>1.4796119513011151e+44</td><td>44.17014783059359</td></tr>\n",
       "<tr><td>217.45021</td><td>35.82786</td><td>20.11</td><td>0.98</td><td>-99.99</td><td>11/0</td><td>1.19</td><td>56.93</td><td>0.0</td><td>0.527</td><td>1.74</td><td>1.27</td><td>2.47</td><td>2.004</td><td>0.0</td><td>0.0</td><td>1.206</td><td>78.17</td><td>0.06</td><td>45.583999999999996</td><td>1.8930401119571179</td><td>25.66</td><td>305177.0</td><td>44.107</td><td>43.58</td><td>45.32</td><td>2.2172342612697933e+45</td><td>45.34581158080147</td><td>43.58</td><td>43.58</td><td>44.786</td><td>6.1094202490557394e+44</td><td>44.786</td></tr>\n",
       "<tr><td>218.03245</td><td>35.82797</td><td>21.37</td><td>0.03</td><td>-99.99</td><td>9/1</td><td>1.68</td><td>8.77</td><td>0.0</td><td>1.936</td><td>1.255</td><td>1.24</td><td>1.58</td><td>2.021</td><td>0.586</td><td>1.251</td><td>0.91</td><td>12.42</td><td>0.63</td><td>45.601</td><td>1.0941215958405615</td><td>25.68</td><td>305179.0</td><td>45.516</td><td>43.58</td><td>44.835</td><td>3.9648645784126076e+45</td><td>45.598228358399524</td><td>44.830999999999996</td><td>44.166</td><td>44.489999999999995</td><td>1.1332258349576142e+45</td><td>45.05431646688232</td></tr>\n",
       "<tr><td>217.01492</td><td>35.82969</td><td>22.69</td><td>0.01</td><td>-99.99</td><td>10/0</td><td>1.82</td><td>6.44</td><td>0.0</td><td>1.797</td><td>0.346</td><td>1.4</td><td>1.03</td><td>1.941</td><td>1.11</td><td>0.0</td><td>0.421</td><td>14.2</td><td>0.63</td><td>45.521</td><td>1.1522883443830565</td><td>25.92</td><td>305217.0</td><td>45.376999999999995</td><td>43.58</td><td>43.925999999999995</td><td>2.466652945135091e+45</td><td>45.392108049118605</td><td>43.58</td><td>44.69</td><td>44.001</td><td>5.9000934317623306e+44</td><td>44.77085888902817</td></tr>\n",
       "<tr><td>216.62134</td><td>35.8374</td><td>20.51</td><td>0.03</td><td>-99.99</td><td>9/0</td><td>1.05</td><td>66.59</td><td>0.0</td><td>1.678</td><td>0.889</td><td>0.72</td><td>2.26</td><td>1.502</td><td>0.0</td><td>-0.146</td><td>0.773</td><td>72.02</td><td>1.0</td><td>45.082</td><td>1.8574531170352664</td><td>28.42</td><td>305289.0</td><td>45.257999999999996</td><td>43.58</td><td>44.469</td><td>2.105782255999461e+45</td><td>45.32341346186045</td><td>43.434</td><td>43.58</td><td>44.353</td><td>2.525883139036344e+44</td><td>44.402413253881356</td></tr>\n",
       "</table>"
      ],
      "text/plain": [
       "<Table length=3647>\n",
       "    RA      Dec      Imag  ...          Lgp                 LGlogp      \n",
       " float64  float64  float64 ...        float64              float64      \n",
       "--------- -------- ------- ... ---------------------- ------------------\n",
       "216.23924 32.31401   23.56 ...  8.394599865193965e+42             42.924\n",
       "217.32876 32.31811   -26.1 ... 1.3181997554418778e+44  44.11998122673197\n",
       "216.77754 32.31943   24.08 ... 6.9689018874701195e+44  44.84316435029544\n",
       "217.95706  32.3197   21.65 ... 1.8620871366628504e+44 44.269999999999996\n",
       "217.40246 32.32228   22.19 ...  7.860838996993839e+44   44.8954689012963\n",
       "217.17911 32.32282   21.19 ...  8.752142237536861e+44 44.942114367087555\n",
       "217.95201  32.3288   21.91 ...  4.477133041763587e+43 43.650999999999996\n",
       "216.52493 32.33303   21.94 ... 3.6982817978026436e+43             43.568\n",
       "216.43354  32.3436   20.17 ...   4.12031371537821e+44  44.61493028391439\n",
       "217.42245 32.34531    22.4 ...  4.401130754409073e+44  44.64356427132932\n",
       "      ...      ...     ... ...                    ...                ...\n",
       " 216.2967 35.80978   22.56 ...  6.067363295885071e+43             43.783\n",
       "219.08391 35.81142    20.0 ...  5.204391886135577e+44  44.71636999111367\n",
       "217.57336 35.81175   21.31 ...  7.851070696406537e+44  44.89492888806149\n",
       "217.54621 35.81882   19.13 ... 4.2169650342858225e+45             45.625\n",
       "216.59987  35.8222   19.15 ...  9.571205053823937e+44   44.9809666206691\n",
       "216.19544 35.82278   21.45 ... 1.4796119513011151e+44  44.17014783059359\n",
       "217.45021 35.82786   20.11 ... 6.1094202490557394e+44             44.786\n",
       "218.03245 35.82797   21.37 ... 1.1332258349576142e+45  45.05431646688232\n",
       "217.01492 35.82969   22.69 ... 5.9000934317623306e+44  44.77085888902817\n",
       "216.62134  35.8374   20.51 ...  2.525883139036344e+44 44.402413253881356"
      ]
     },
     "execution_count": 56,
     "metadata": {},
     "output_type": "execute_result"
    }
   ],
   "source": [
    "LG0cut1045"
   ]
  },
  {
   "cell_type": "code",
   "execution_count": 57,
   "metadata": {},
   "outputs": [],
   "source": [
    "from astropy.io import ascii\n",
    "ascii.write(LG0cut1045, 'LG0cut1045.csv', overwrite=True, comment = False)"
   ]
  },
  {
   "cell_type": "code",
   "execution_count": null,
   "metadata": {},
   "outputs": [],
   "source": []
  },
  {
   "cell_type": "code",
   "execution_count": null,
   "metadata": {},
   "outputs": [],
   "source": []
  },
  {
   "cell_type": "code",
   "execution_count": null,
   "metadata": {},
   "outputs": [],
   "source": []
  },
  {
   "cell_type": "code",
   "execution_count": null,
   "metadata": {},
   "outputs": [],
   "source": []
  },
  {
   "cell_type": "code",
   "execution_count": null,
   "metadata": {},
   "outputs": [],
   "source": []
  }
 ],
 "metadata": {
  "kernelspec": {
   "display_name": "Python 3",
   "language": "python",
   "name": "python3"
  },
  "language_info": {
   "codemirror_mode": {
    "name": "ipython",
    "version": 3
   },
   "file_extension": ".py",
   "mimetype": "text/x-python",
   "name": "python",
   "nbconvert_exporter": "python",
   "pygments_lexer": "ipython3",
   "version": "3.7.1"
  }
 },
 "nbformat": 4,
 "nbformat_minor": 2
}
