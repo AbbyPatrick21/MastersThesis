{
 "cells": [
  {
   "cell_type": "code",
   "execution_count": 1,
   "metadata": {},
   "outputs": [],
   "source": [
    "%matplotlib inline\n",
    "import numpy as np\n",
    "import pylab as plt\n",
    "from matplotlib.gridspec import GridSpec\n",
    "from astropy.table import Table, vstack, Column, MaskedColumn\n",
    "from astropy import units as u\n",
    "from scipy.stats import kde\n",
    "from scipy.stats import binned_statistic as b_s\n",
    "from scipy.stats import binned_statistic_2d as bs2d\n",
    "from astropy import units as un\n",
    "from astropy import constants as con\n",
    "from matplotlib.lines import Line2D\n",
    "\n",
    "from astropy.cosmology import Planck15\n",
    "from tqdm import trange\n",
    "from scipy.stats import ks_2samp\n",
    "from scipy import special\n",
    "\n",
    "import os\n",
    "os.environ['PATH'] = os.environ['PATH'] + ':/usr/texbin'\n",
    "\n",
    "plt.rc('path', simplify=True)\n",
    "plt.rc('text', usetex=True)\n",
    "plt.rc('font', family='serif')\n",
    "plt.rc('axes', labelsize='xx-large', facecolor='none', linewidth=0.7)\n",
    "plt.rc('xtick', labelsize='x-large')\n",
    "plt.rc('ytick', labelsize='x-large')\n",
    "plt.rc('lines', markersize=4, linewidth=1, markeredgewidth=0.2)\n",
    "plt.rc('legend', numpoints=1, frameon=False, handletextpad=0.3, scatterpoints=1, handlelength=2, handleheight=0.1)\n",
    "#plt.rc('savefig', facecolor='none', frameon='False')\n",
    "\n",
    "params =   {'font.size' : 16,\n",
    "            'xtick.major.size': 8,\n",
    "            'ytick.major.size': 8,\n",
    "            'xtick.minor.size': 3,\n",
    "            'ytick.minor.size': 3,\n",
    "            }\n",
    "plt.rcParams.update(params) \n",
    "\n",
    "np.warnings.filterwarnings('ignore')\n",
    "\n",
    "def legend_outside_plot(ax,location='top',ncol=3,pad=0, handles=None, labels=None):\n",
    "    if handles==None:\n",
    "        handles, labels = ax.get_legend_handles_labels()\n",
    "    if location=='top':\n",
    "        leg = ax.legend(handles=handles, labels=labels, bbox_to_anchor=(0,1.02+pad,1,0.2), loc=\"lower left\",\n",
    "                mode=\"expand\", borderaxespad=0, ncol=ncol)\n",
    "    else:\n",
    "        print(\"Location\",location,\"not implemented. Please code up\")\n",
    "    return leg\n"
   ]
  },
  {
   "cell_type": "code",
   "execution_count": 2,
   "metadata": {},
   "outputs": [],
   "source": [
    "T1LMatched1045 = Table.read('T1LMatched1045.fits', format = 'ascii' )\n",
    "T2LMatched1045 = Table.read('T2LMatched1045.fits', format = 'ascii' )\n",
    "\n",
    "T1LMatchedXRAYi = Table.read('T1LMatchXRAYi.fits', format = 'fits' )\n",
    "T2LMatchedXRAYi = Table.read('T2LMatchXRAYi.fits', format = 'fits' )"
   ]
  },
  {
   "cell_type": "code",
   "execution_count": 3,
   "metadata": {},
   "outputs": [],
   "source": [
    "T1LMatched1045.rename_column('col1', 'RA')  \n",
    "T1LMatched1045.rename_column('col2', 'Dec') \n",
    "T1LMatched1045.rename_column('col3', 'Imag') \n",
    "T1LMatched1045.rename_column('col4', 'S')  \n",
    "T1LMatched1045.rename_column('col5', 'zspec') \n",
    "T1LMatched1045.rename_column('col6', 'N')  \n",
    "T1LMatched1045.rename_column('col7', 'zG')  \n",
    "T1LMatched1045.rename_column('col8', 'chi2G')  \n",
    "T1LMatched1045.rename_column('col9', 'LEll')  \n",
    "T1LMatched1045.rename_column('col10', 'LSbc') \n",
    "T1LMatched1045.rename_column('col11', 'LIrr')\n",
    "T1LMatched1045.rename_column('col12', 'zGA') \n",
    "T1LMatched1045.rename_column('col13', 'chi2GA') \n",
    "T1LMatched1045.rename_column('col14', 'LAGNp') \n",
    "T1LMatched1045.rename_column('col15', 'LELLp') \n",
    "T1LMatched1045.rename_column('col16', 'LSbcp') \n",
    "T1LMatched1045.rename_column('col17', 'LIrrp') \n",
    "T1LMatched1045.rename_column('col18', 'F') \n",
    "T1LMatched1045.rename_column('col19', 'EBV') \n",
    "T1LMatched1045.rename_column('col20', 'Chi2S') \n",
    "T1LMatched1045.rename_column('col21', 'SType') \n",
    "T1LMatched1045.rename_column('col22', 'LAGNerg') \n",
    "T1LMatched1045.rename_column('col23', 'LSbcerg') \n",
    "T1LMatched1045.rename_column('col24', 'LEllerg') \n",
    "T1LMatched1045.rename_column('col25', 'LIrrerg') \n",
    "T1LMatched1045.rename_column('col26', 'AV') \n",
    "\n",
    "T2LMatched1045.rename_column('col1', 'RA')  \n",
    "T2LMatched1045.rename_column('col2', 'Dec') \n",
    "T2LMatched1045.rename_column('col3', 'Imag') \n",
    "T2LMatched1045.rename_column('col4', 'S')  \n",
    "T2LMatched1045.rename_column('col5', 'zspec') \n",
    "T2LMatched1045.rename_column('col6', 'N')  \n",
    "T2LMatched1045.rename_column('col7', 'zG')  \n",
    "T2LMatched1045.rename_column('col8', 'chi2G')  \n",
    "T2LMatched1045.rename_column('col9', 'LEll')  \n",
    "T2LMatched1045.rename_column('col10', 'LSbc') \n",
    "T2LMatched1045.rename_column('col11', 'LIrr')\n",
    "T2LMatched1045.rename_column('col12', 'zGA') \n",
    "T2LMatched1045.rename_column('col13', 'chi2GA') \n",
    "T2LMatched1045.rename_column('col14', 'LAGNp') \n",
    "T2LMatched1045.rename_column('col15', 'LELLp') \n",
    "T2LMatched1045.rename_column('col16', 'LSbcp') \n",
    "T2LMatched1045.rename_column('col17', 'LIrrp') \n",
    "T2LMatched1045.rename_column('col18', 'F') \n",
    "T2LMatched1045.rename_column('col19', 'EBV') \n",
    "T2LMatched1045.rename_column('col20', 'Chi2S') \n",
    "T2LMatched1045.rename_column('col21', 'SType')\n",
    "T2LMatched1045.rename_column('col22', 'LAGNerg') \n",
    "T2LMatched1045.rename_column('col23', 'LSbcerg') \n",
    "T2LMatched1045.rename_column('col24', 'LEllerg') \n",
    "T2LMatched1045.rename_column('col25', 'LIrrerg') \n",
    "T2LMatched1045.rename_column('col26', 'AV') \n",
    "\n",
    "\n",
    "\n",
    "T1LMatchedXRAYi.rename_column('col1', 'RA')  \n",
    "T1LMatchedXRAYi.rename_column('col2', 'Dec') \n",
    "T1LMatchedXRAYi.rename_column('col3', 'Imag') \n",
    "T1LMatchedXRAYi.rename_column('col4', 'S')  \n",
    "T1LMatchedXRAYi.rename_column('col5', 'zspec') \n",
    "T1LMatchedXRAYi.rename_column('col6', 'N')  \n",
    "T1LMatchedXRAYi.rename_column('col7', 'zG')  \n",
    "T1LMatchedXRAYi.rename_column('col8', 'chi2G')  \n",
    "T1LMatchedXRAYi.rename_column('col9', 'LEll')  \n",
    "T1LMatchedXRAYi.rename_column('col10', 'LSbc') \n",
    "T1LMatchedXRAYi.rename_column('col11', 'LIrr')\n",
    "T1LMatchedXRAYi.rename_column('col12', 'zGA') \n",
    "T1LMatchedXRAYi.rename_column('col13', 'chi2GA') \n",
    "T1LMatchedXRAYi.rename_column('col14', 'LAGNp') \n",
    "T1LMatchedXRAYi.rename_column('col15', 'LELLp') \n",
    "T1LMatchedXRAYi.rename_column('col16', 'LSbcp') \n",
    "T1LMatchedXRAYi.rename_column('col17', 'LIrrp') \n",
    "T1LMatchedXRAYi.rename_column('col18', 'F') \n",
    "T1LMatchedXRAYi.rename_column('col19', 'EBV') \n",
    "T1LMatchedXRAYi.rename_column('col20', 'Chi2S') \n",
    "T1LMatchedXRAYi.rename_column('col21', 'SType') \n",
    "T1LMatchedXRAYi.rename_column('col22', 'LAGNerg') \n",
    "T1LMatchedXRAYi.rename_column('col23', 'LSbcerg') \n",
    "T1LMatchedXRAYi.rename_column('col24', 'LEllerg') \n",
    "T1LMatchedXRAYi.rename_column('col25', 'LIrrerg') \n",
    "T1LMatchedXRAYi.rename_column('col26', 'AV') \n",
    "\n",
    "T2LMatchedXRAYi.rename_column('col1', 'RA')  \n",
    "T2LMatchedXRAYi.rename_column('col2', 'Dec') \n",
    "T2LMatchedXRAYi.rename_column('col3', 'Imag') \n",
    "T2LMatchedXRAYi.rename_column('col4', 'S')  \n",
    "T2LMatchedXRAYi.rename_column('col5', 'zspec') \n",
    "T2LMatchedXRAYi.rename_column('col6', 'N')  \n",
    "T2LMatchedXRAYi.rename_column('col7', 'zG')  \n",
    "T2LMatchedXRAYi.rename_column('col8', 'chi2G')  \n",
    "T2LMatchedXRAYi.rename_column('col9', 'LEll')  \n",
    "T2LMatchedXRAYi.rename_column('col10', 'LSbc') \n",
    "T2LMatchedXRAYi.rename_column('col11', 'LIrr')\n",
    "T2LMatchedXRAYi.rename_column('col12', 'zGA') \n",
    "T2LMatchedXRAYi.rename_column('col13', 'chi2GA') \n",
    "T2LMatchedXRAYi.rename_column('col14', 'LAGNp') \n",
    "T2LMatchedXRAYi.rename_column('col15', 'LELLp') \n",
    "T2LMatchedXRAYi.rename_column('col16', 'LSbcp') \n",
    "T2LMatchedXRAYi.rename_column('col17', 'LIrrp') \n",
    "T2LMatchedXRAYi.rename_column('col18', 'F') \n",
    "T2LMatchedXRAYi.rename_column('col19', 'EBV') \n",
    "T2LMatchedXRAYi.rename_column('col20', 'Chi2S') \n",
    "T2LMatchedXRAYi.rename_column('col21', 'SType')\n",
    "T2LMatchedXRAYi.rename_column('col22', 'LAGNerg') \n",
    "T2LMatchedXRAYi.rename_column('col23', 'LSbcerg') \n",
    "T2LMatchedXRAYi.rename_column('col24', 'LEllerg') \n",
    "T2LMatchedXRAYi.rename_column('col25', 'LIrrerg') \n",
    "T2LMatchedXRAYi.rename_column('col26', 'AV')"
   ]
  },
  {
   "cell_type": "code",
   "execution_count": 4,
   "metadata": {},
   "outputs": [],
   "source": [
    "#creating x-ray undetected samples\n",
    "\n",
    "from astropy.table import setdiff\n",
    "\n",
    "T1LMatched1045Undetected = setdiff(T1LMatched1045,T1LMatchedXRAYi, keys = ('RA','Dec'))\n",
    "T2LMatched1045Undetected = setdiff(T2LMatched1045,T2LMatchedXRAYi, keys = ('RA','Dec'))"
   ]
  },
  {
   "cell_type": "code",
   "execution_count": 5,
   "metadata": {},
   "outputs": [],
   "source": [
    "T2LMatchedXRAYi.remove_columns(['PROB_F','PROB_S'])\n",
    "T1LMatchedXRAYi.remove_columns(['PROB_F','PROB_S'])"
   ]
  },
  {
   "cell_type": "code",
   "execution_count": 6,
   "metadata": {},
   "outputs": [],
   "source": [
    "T1LMatched1045UndetectedLZ = T1LMatched1045Undetected[T1LMatched1045Undetected['zGA']<=np.percentile(T1LMatched1045Undetected['zGA'], 33.3)]\n",
    "T1LMatched1045UndetectedMZ = T1LMatched1045Undetected[np.logical_and(T1LMatched1045Undetected['zGA']>=np.percentile(T1LMatched1045Undetected['zGA'], 33.3),(T1LMatched1045Undetected['zGA']<=np.percentile(T1LMatched1045Undetected['zGA'], 66.6)))] \n",
    "T1LMatched1045UndetectedHZ = T1LMatched1045Undetected[T1LMatched1045Undetected['zGA']>=np.percentile(T1LMatched1045Undetected['zGA'], 66.6)] \n"
   ]
  },
  {
   "cell_type": "code",
   "execution_count": 7,
   "metadata": {},
   "outputs": [],
   "source": [
    "T1LMatchedXRAYiLZ = T1LMatchedXRAYi[T1LMatchedXRAYi['zGA']<=np.percentile(T1LMatchedXRAYi['zGA'], 33.3)]\n",
    "T1LMatchedXRAYiMZ = T1LMatchedXRAYi[np.logical_and(T1LMatchedXRAYi['zGA']>=np.percentile(T1LMatchedXRAYi['zGA'], 33.3),(T1LMatchedXRAYi['zGA']<=np.percentile(T1LMatchedXRAYi['zGA'], 66.6)))] \n",
    "T1LMatchedXRAYiHZ = T1LMatchedXRAYi[T1LMatchedXRAYi['zGA']>=np.percentile(T1LMatchedXRAYi['zGA'], 66.6)] "
   ]
  },
  {
   "cell_type": "code",
   "execution_count": 8,
   "metadata": {},
   "outputs": [],
   "source": [
    "T2LMatched1045UndetectedLZ = T2LMatched1045Undetected[T2LMatched1045Undetected['zGA']<=np.percentile(T2LMatched1045Undetected['zGA'], 33.3)]\n",
    "T2LMatched1045UndetectedMZ = T2LMatched1045Undetected[np.logical_and(T2LMatched1045Undetected['zGA']>=np.percentile(T2LMatched1045Undetected['zGA'], 33.3),(T2LMatched1045Undetected['zGA']<=np.percentile(T2LMatched1045Undetected['zGA'], 66.6)))] \n",
    "T2LMatched1045UndetectedHZ = T2LMatched1045Undetected[T2LMatched1045Undetected['zGA']>=np.percentile(T2LMatched1045Undetected['zGA'], 66.6)] \n"
   ]
  },
  {
   "cell_type": "code",
   "execution_count": 9,
   "metadata": {},
   "outputs": [],
   "source": [
    "T2LMatchedXRAYiLZ = T2LMatchedXRAYi[T2LMatchedXRAYi['zGA']<=np.percentile(T2LMatchedXRAYi['zGA'], 33.3)]\n",
    "T2LMatchedXRAYiMZ = T2LMatchedXRAYi[np.logical_and(T2LMatchedXRAYi['zGA']>=np.percentile(T2LMatchedXRAYi['zGA'], 33.3),(T2LMatchedXRAYi['zGA']<=np.percentile(T2LMatchedXRAYi['zGA'], 66.6)))] \n",
    "T2LMatchedXRAYiHZ = T2LMatchedXRAYi[T2LMatchedXRAYi['zGA']>=np.percentile(T2LMatchedXRAYi['zGA'], 66.6)] \n"
   ]
  },
  {
   "cell_type": "code",
   "execution_count": 10,
   "metadata": {},
   "outputs": [],
   "source": [
    "from astropy.io import ascii\n",
    "\n",
    "\n",
    "ascii.write(T1LMatched1045Undetected, 'T1LMatched1045Undetected.csv', overwrite=True, comment = False)\n",
    "ascii.write(T2LMatched1045Undetected, 'T2LMatched1045Undetected.csv', overwrite=True, comment = False)\n",
    "\n",
    "ascii.write(T1LMatched1045UndetectedLZ, 'T1LMatched1045UndetectedLZ.csv', overwrite=True, comment = False)\n",
    "ascii.write(T1LMatched1045UndetectedMZ, 'T1LMatched1045UndetectedMZ.csv', overwrite=True, comment = False)\n",
    "ascii.write(T1LMatched1045UndetectedHZ, 'T1LMatched1045UndetectedHZ.csv', overwrite=True, comment = False)\n",
    "\n",
    "ascii.write(T2LMatched1045UndetectedLZ, 'T2LMatched1045UndetectedLZ.csv', overwrite=True, comment = False)\n",
    "ascii.write(T2LMatched1045UndetectedMZ, 'T2LMatched1045UndetectedMZ.csv', overwrite=True, comment = False)\n",
    "ascii.write(T2LMatched1045UndetectedHZ, 'T2LMatched1045UndetectedHZ.csv', overwrite=True, comment = False)"
   ]
  },
  {
   "cell_type": "code",
   "execution_count": 11,
   "metadata": {},
   "outputs": [],
   "source": [
    "\n",
    "ascii.write(T1LMatchedXRAYi, 'T1LMatchedXRAYi.csv', overwrite=True, comment = False)\n",
    "ascii.write(T2LMatchedXRAYi, 'T2LMatchedXRAYi.csv', overwrite=True, comment = False)\n",
    "\n",
    "ascii.write(T1LMatchedXRAYiLZ, 'T1LMatchedXRAYiLZ.csv', overwrite=True, comment = False)\n",
    "ascii.write(T1LMatchedXRAYiMZ, 'T1LMatchedXRAYiMZ.csv', overwrite=True, comment = False)\n",
    "ascii.write(T1LMatchedXRAYiHZ, 'T1LMatchedXRAYiHZ.csv', overwrite=True, comment = False)\n",
    "\n",
    "ascii.write(T2LMatchedXRAYiLZ, 'T2LMatchedXRAYiLZ.csv', overwrite=True, comment = False)\n",
    "ascii.write(T2LMatchedXRAYiMZ, 'T2LMatchedXRAYiMZ.csv', overwrite=True, comment = False)\n",
    "ascii.write(T2LMatchedXRAYiHZ, 'T2LMatchedXRAYiHZ.csv', overwrite=True, comment = False)"
   ]
  },
  {
   "cell_type": "code",
   "execution_count": null,
   "metadata": {},
   "outputs": [],
   "source": []
  },
  {
   "cell_type": "code",
   "execution_count": 12,
   "metadata": {},
   "outputs": [],
   "source": [
    "T1Un = Table.read('FINAL_stackdata (T1Un).fits', format = 'fits' )\n",
    "T2Un = Table.read('FINAL_stackdata (T2Un).fits', format = 'fits' )\n",
    "\n",
    "T1UnLZ = Table.read('FINAL_stackdata (T1UnLZ).fits', format = 'fits' )\n",
    "T1UnMZ = Table.read('FINAL_stackdata (T1UnMZ).fits', format = 'fits' )\n",
    "T1UnHZ = Table.read('FINAL_stackdata (T1UnHZ).fits', format = 'fits' )\n",
    "\n",
    "T2UnLZ = Table.read('FINAL_stackdata (T2UnLZ).fits', format = 'fits' )\n",
    "T2UnMZ = Table.read('FINAL_stackdata (T2UnMZ).fits', format = 'fits' )\n",
    "T2UnHZ = Table.read('FINAL_stackdata (T2UnHZ).fits', format = 'fits' )"
   ]
  },
  {
   "cell_type": "code",
   "execution_count": 13,
   "metadata": {},
   "outputs": [],
   "source": [
    "T1D = Table.read('FINAL_stackdata (T1D).fits', format = 'fits' )\n",
    "T2D = Table.read('FINAL_stackdata (T2D).fits', format = 'fits' )\n",
    "\n",
    "T1Dind = Table.read('FINAL_stackdata_individual_columns (T1D).fits', format = 'fits' )\n",
    "T2Dind = Table.read('FINAL_stackdata_individual_columns (T2D).fits', format = 'fits' )\n",
    "\n",
    "T1DLZ = Table.read('FINAL_stackdata (T1DLZ).fits', format = 'fits' )\n",
    "T1DMZ = Table.read('FINAL_stackdata (T1DMZ).fits', format = 'fits' )\n",
    "T1DHZ = Table.read('FINAL_stackdata (T1DHZ).fits', format = 'fits' )\n",
    "\n",
    "T2DLZ = Table.read('FINAL_stackdata (T2DLZ).fits', format = 'fits' )\n",
    "T2DMZ = Table.read('FINAL_stackdata (T2DMZ).fits', format = 'fits' )\n",
    "T2DHZ = Table.read('FINAL_stackdata (T2DHZ).fits', format = 'fits' )"
   ]
  },
  {
   "cell_type": "code",
   "execution_count": 14,
   "metadata": {},
   "outputs": [
    {
     "data": {
      "text/html": [
       "<i>Table length=227</i>\n",
       "<table id=\"table140298006262224\" class=\"table-striped table-bordered table-condensed\">\n",
       "<thead><tr><th>ind_ID</th><th>ind_cts_w_bg_s</th><th>ind_cts_w_bg_h</th><th>ind_ctsb</th><th>ind_cthb</th><th>ind_net_count_s</th><th>ind_net_count_h</th><th>ind_err_netc_s</th><th>ind_err_netc_h</th><th>ind_cnt_ps_s</th><th>ind_cnt_ps_h</th><th>ind_err_cnt_ps_s</th><th>ind_err_cnt_ps_h</th><th>ind_soft_flux</th><th>ind_hard_flux</th><th>ind_bgss</th><th>ind_bghs</th><th>ind_srcs_flux</th><th>ind_srch_flux</th><th>ind_bgss_sky</th><th>ind_bgss_det</th><th>ind_bghs_sky</th><th>ind_bghs_det</th><th>ind_srcrad</th><th>ind_mdist</th><th>ind_obsid</th><th>ind_istack</th><th>ind_igood</th><th>ind_ilim</th><th>ind_imdist</th><th>ind_exp_det</th><th>ind_exp_sky</th><th>ind_match</th></tr></thead>\n",
       "<thead><tr><th>float64</th><th>float64</th><th>float64</th><th>float64</th><th>float64</th><th>float64</th><th>float64</th><th>float64</th><th>float64</th><th>float64</th><th>float64</th><th>float64</th><th>float64</th><th>float64</th><th>float64</th><th>float64</th><th>float64</th><th>float64</th><th>float64</th><th>float64</th><th>float64</th><th>float64</th><th>float64</th><th>float64</th><th>float64</th><th>float64</th><th>float64</th><th>float64</th><th>float64</th><th>float64</th><th>float64</th><th>float64</th><th>int64</th></tr></thead>\n",
       "<tr><td>1.0</td><td>0.0</td><td>0.0</td><td>0.0</td><td>0.0</td><td>-99.0</td><td>-99.0</td><td>-99.0</td><td>-99.0</td><td>-99.0</td><td>-99.0</td><td>-99.0</td><td>-99.0</td><td>-99.0</td><td>-99.0</td><td>3698176.761983482</td><td>3698176.761983482</td><td>0.0</td><td>0.0</td><td>0.0</td><td>0.0</td><td>0.0</td><td>0.0</td><td>0.0</td><td>0.0</td><td>0.0</td><td>0.0</td><td>1.0</td><td>1.0</td><td>0.0</td><td>0.0</td><td>0.0</td><td>0</td></tr>\n",
       "<tr><td>1.0000001</td><td>5.0</td><td>0.0</td><td>5.0</td><td>12.0</td><td>4.9902859893519045</td><td>-0.2204082425203668</td><td>3.3979157616563596</td><td>1.8660254037844386</td><td>0.0005782430430906997</td><td>-2.5539524818657117e-05</td><td>0.0003937291679031005</td><td>-0.0002162233207217446</td><td>6.6690826444102336e-15</td><td>-8.829553104363364e-16</td><td>1426809.9571053728</td><td>1426809.9571053728</td><td>0.0</td><td>0.0</td><td>0.0</td><td>0.0</td><td>0.0</td><td>0.0</td><td>6.417083688757026</td><td>3.544071823055299</td><td>6990.0</td><td>1.0</td><td>1.0</td><td>1.0</td><td>1.0</td><td>9359.541128470137</td><td>8630.083922287948</td><td>1</td></tr>\n",
       "<tr><td>1.0000002</td><td>15.0</td><td>19.0</td><td>2.0</td><td>8.0</td><td>14.95067533972763</td><td>18.80270135891052</td><td>4.9686269665968865</td><td>5.444097208657794</td><td>0.0018298785864165684</td><td>0.002301344909285074</td><td>0.0006081319996233154</td><td>0.0006663268834432866</td><td>2.2956888520024473e-14</td><td>2.7244416015732997e-14</td><td>1603866.0564430873</td><td>1603866.0564430873</td><td>0.0</td><td>0.0</td><td>0.0</td><td>0.0</td><td>0.0</td><td>0.0</td><td>7.60220597795728</td><td>4.774582593436918</td><td>7378.0</td><td>1.0</td><td>1.0</td><td>1.0</td><td>1.0</td><td>8691.824617474298</td><td>8170.310014395751</td><td>2</td></tr>\n",
       "<tr><td>1.0000003</td><td>3.0</td><td>14.0</td><td>22.0</td><td>50.0</td><td>2.656165826228544</td><td>13.215780477632334</td><td>2.9364916731037085</td><td>4.840572873934304</td><td>5.975613320425177e-05</td><td>0.0002973172573870762</td><td>6.606266289492692e-05</td><td>0.0001088990433441477</td><td>7.72354479086648e-16</td><td>3.39008800719157e-15</td><td>5663942.000784533</td><td>5663942.000784533</td><td>0.0</td><td>0.0</td><td>0.0</td><td>0.0</td><td>0.0</td><td>0.0</td><td>6.306675311505773</td><td>4.031754241195662</td><td>4262.0</td><td>1.0</td><td>1.0</td><td>1.0</td><td>1.0</td><td>47172.97554744364</td><td>44450.095476384544</td><td>3</td></tr>\n",
       "<tr><td>1.0000004</td><td>1.0</td><td>3.0</td><td>2.0</td><td>5.0</td><td>0.95032210902384</td><td>2.8758052725596</td><td>2.3228756555322954</td><td>2.9364916731037085</td><td>0.0002157327533304727</td><td>0.0006528369524401009</td><td>0.0005273163236484669</td><td>0.000666613380616169</td><td>2.2287278642021356e-15</td><td>6.064816731541626e-15</td><td>875113.5955701813</td><td>875113.5955701813</td><td>0.0</td><td>0.0</td><td>0.0</td><td>0.0</td><td>0.0</td><td>0.0</td><td>7.719823031518598</td><td>4.874909243583276</td><td>4233.0</td><td>1.0</td><td>1.0</td><td>1.0</td><td>1.0</td><td>4674.1201171875</td><td>4405.089604396223</td><td>4</td></tr>\n",
       "<tr><td>1.0000005</td><td>0.0</td><td>0.0</td><td>0.0</td><td>0.0</td><td>-99.0</td><td>-99.0</td><td>-99.0</td><td>-99.0</td><td>-99.0</td><td>-99.0</td><td>-99.0</td><td>-99.0</td><td>-99.0</td><td>-99.0</td><td>1138942.7102711385</td><td>1138942.7102711385</td><td>0.0</td><td>0.0</td><td>0.0</td><td>0.0</td><td>0.0</td><td>0.0</td><td>0.0</td><td>0.0</td><td>0.0</td><td>0.0</td><td>1.0</td><td>1.0</td><td>0.0</td><td>0.0</td><td>0.0</td><td>5</td></tr>\n",
       "<tr><td>1.0000006</td><td>0.0</td><td>0.0</td><td>0.0</td><td>0.0</td><td>-99.0</td><td>-99.0</td><td>-99.0</td><td>-99.0</td><td>-99.0</td><td>-99.0</td><td>-99.0</td><td>-99.0</td><td>-99.0</td><td>-99.0</td><td>36256988.732414745</td><td>36256988.732414745</td><td>0.0</td><td>0.0</td><td>0.0</td><td>0.0</td><td>0.0</td><td>0.0</td><td>0.0</td><td>0.0</td><td>0.0</td><td>0.0</td><td>1.0</td><td>1.0</td><td>0.0</td><td>0.0</td><td>0.0</td><td>6</td></tr>\n",
       "<tr><td>1.0000007</td><td>14.0</td><td>11.0</td><td>10.0</td><td>30.0</td><td>13.607871719924436</td><td>10.013064822692051</td><td>4.840572873934304</td><td>4.427827300200522</td><td>0.000564354520109219</td><td>0.00041526834681715046</td><td>0.00020075139136732447</td><td>0.00018363373807179308</td><td>6.857362750209788e-15</td><td>4.0274397239223536e-15</td><td>7132358.207606522</td><td>7132358.207606522</td><td>0.0</td><td>0.0</td><td>0.0</td><td>0.0</td><td>0.0</td><td>0.0</td><td>7.164251526755096</td><td>4.241498477501267</td><td>7947.0</td><td>1.0</td><td>1.0</td><td>1.0</td><td>1.0</td><td>26325.692413146964</td><td>24112.275591043228</td><td>7</td></tr>\n",
       "<tr><td>1.0000008</td><td>0.0</td><td>0.0</td><td>0.0</td><td>0.0</td><td>-99.0</td><td>-99.0</td><td>-99.0</td><td>-99.0</td><td>-99.0</td><td>-99.0</td><td>-99.0</td><td>-99.0</td><td>-99.0</td><td>-99.0</td><td>1171884.2699286027</td><td>1171884.2699286027</td><td>0.0</td><td>0.0</td><td>0.0</td><td>0.0</td><td>0.0</td><td>0.0</td><td>0.0</td><td>0.0</td><td>0.0</td><td>0.0</td><td>1.0</td><td>1.0</td><td>0.0</td><td>0.0</td><td>0.0</td><td>8</td></tr>\n",
       "<tr><td>1.0000009</td><td>1.0</td><td>3.0</td><td>3.0</td><td>10.0</td><td>0.9647439771262014</td><td>2.911494526088073</td><td>2.3228756555322954</td><td>2.9364916731037085</td><td>0.00010176093014235844</td><td>0.00030710364418305193</td><td>0.00024501628713571703</td><td>0.00030974033639521135</td><td>1.359505579041412e-15</td><td>3.895929898874742e-15</td><td>729351.6984219076</td><td>729351.6984219076</td><td>0.0</td><td>0.0</td><td>0.0</td><td>0.0</td><td>0.0</td><td>0.0</td><td>4.7311731243001125</td><td>2.5218525705310535</td><td>6986.0</td><td>1.0</td><td>1.0</td><td>1.0</td><td>1.0</td><td>9547.2900390625</td><td>9480.494879287886</td><td>9</td></tr>\n",
       "<tr><td>...</td><td>...</td><td>...</td><td>...</td><td>...</td><td>...</td><td>...</td><td>...</td><td>...</td><td>...</td><td>...</td><td>...</td><td>...</td><td>...</td><td>...</td><td>...</td><td>...</td><td>...</td><td>...</td><td>...</td><td>...</td><td>...</td><td>...</td><td>...</td><td>...</td><td>...</td><td>...</td><td>...</td><td>...</td><td>...</td><td>...</td><td>...</td><td>...</td></tr>\n",
       "<tr><td>1.0000217</td><td>1.0</td><td>1.0</td><td>0.0</td><td>0.0</td><td>0.7459086799612136</td><td>0.9364771699903034</td><td>2.3228756555322954</td><td>2.3228756555322954</td><td>0.00017890118384472376</td><td>0.000224607755420588</td><td>0.0005571261145807089</td><td>0.0005571261145807089</td><td>1.848222150869682e-15</td><td>1.9531539427131158e-15</td><td>30944157.062648363</td><td>30944157.062648363</td><td>0.0</td><td>0.0</td><td>0.0</td><td>0.0</td><td>0.0</td><td>0.0</td><td>11.975447905115415</td><td>6.854981519740368</td><td>4251.0</td><td>1.0</td><td>1.0</td><td>1.0</td><td>1.0</td><td>4674.259765625</td><td>4169.389290395197</td><td>217</td></tr>\n",
       "<tr><td>1.0000218</td><td>4.0</td><td>0.0</td><td>2.0</td><td>2.0</td><td>3.986175754930261</td><td>-0.013824245069738643</td><td>3.179449471770337</td><td>1.8660254037844386</td><td>0.0008159202875908143</td><td>-2.8296499468384293e-06</td><td>0.0006507935141040216</td><td>-0.00038195204569804557</td><td>8.429245220524452e-15</td><td>-9.744339675048762e-17</td><td>269152.05573583156</td><td>269152.05573583156</td><td>0.0</td><td>0.0</td><td>0.0</td><td>0.0</td><td>0.0</td><td>0.0</td><td>4.132889722208696</td><td>2.259971523356784</td><td>4218.0</td><td>1.0</td><td>1.0</td><td>1.0</td><td>1.0</td><td>5015.7998046875</td><td>4885.496555920101</td><td>218</td></tr>\n",
       "<tr><td>1.0000219</td><td>0.0</td><td>0.0</td><td>0.0</td><td>0.0</td><td>-99.0</td><td>-99.0</td><td>-99.0</td><td>-99.0</td><td>-99.0</td><td>-99.0</td><td>-99.0</td><td>-99.0</td><td>-99.0</td><td>-99.0</td><td>2558486.4949950315</td><td>2558486.4949950315</td><td>0.0</td><td>0.0</td><td>0.0</td><td>0.0</td><td>0.0</td><td>0.0</td><td>0.0</td><td>0.0</td><td>0.0</td><td>0.0</td><td>1.0</td><td>1.0</td><td>0.0</td><td>0.0</td><td>0.0</td><td>219</td></tr>\n",
       "<tr><td>1.000022</td><td>6.0</td><td>1.0</td><td>2.0</td><td>3.0</td><td>5.904318234638729</td><td>0.8564773519580929</td><td>3.598076211353316</td><td>2.3228756555322954</td><td>0.0014418830271801593</td><td>0.00020915880680475292</td><td>0.0008786797752896664</td><td>0.0005672653215595076</td><td>1.4896045361613726e-14</td><td>1.3159259828726413e-15</td><td>1573210.9002082949</td><td>1573210.9002082949</td><td>0.0</td><td>0.0</td><td>0.0</td><td>0.0</td><td>0.0</td><td>0.0</td><td>10.519295702851805</td><td>6.241682262497583</td><td>3627.0</td><td>1.0</td><td>1.0</td><td>1.0</td><td>1.0</td><td>4525.470592239049</td><td>4094.8663125507483</td><td>220</td></tr>\n",
       "<tr><td>1.0000221</td><td>0.0</td><td>0.0</td><td>0.0</td><td>0.0</td><td>-99.0</td><td>-99.0</td><td>-99.0</td><td>-99.0</td><td>-99.0</td><td>-99.0</td><td>-99.0</td><td>-99.0</td><td>-99.0</td><td>-99.0</td><td>4141975.113973836</td><td>4141975.113973836</td><td>0.0</td><td>0.0</td><td>0.0</td><td>0.0</td><td>0.0</td><td>0.0</td><td>0.0</td><td>0.0</td><td>0.0</td><td>0.0</td><td>1.0</td><td>1.0</td><td>0.0</td><td>0.0</td><td>0.0</td><td>221</td></tr>\n",
       "<tr><td>1.0000222</td><td>11.0</td><td>14.0</td><td>13.0</td><td>46.0</td><td>10.76980631347568</td><td>13.274662444388905</td><td>4.427827300200522</td><td>4.840572873934304</td><td>0.00024657174361697296</td><td>0.0003039197335187166</td><td>0.00010137388417832498</td><td>0.00011082358019174218</td><td>3.186568827496434e-15</td><td>3.4390643556339688e-15</td><td>6823793.5656168265</td><td>6823793.5656168265</td><td>0.0</td><td>0.0</td><td>0.0</td><td>0.0</td><td>0.0</td><td>0.0</td><td>9.003858190816418</td><td>5.360378402008559</td><td>4262.0</td><td>1.0</td><td>1.0</td><td>1.0</td><td>1.0</td><td>45881.894314129975</td><td>43678.1853244531</td><td>222</td></tr>\n",
       "<tr><td>1.0000223</td><td>9.0</td><td>6.0</td><td>12.0</td><td>23.0</td><td>8.79526405760756</td><td>5.637553604694426</td><td>4.122498999199199</td><td>3.598076211353316</td><td>0.00031118657909033376</td><td>0.00019946314393662923</td><td>0.00014585876586098562</td><td>0.00012730408321838546</td><td>4.747622382046387e-15</td><td>2.918278005313154e-15</td><td>3573356.1717101485</td><td>3573356.1717101485</td><td>0.0</td><td>0.0</td><td>0.0</td><td>0.0</td><td>0.0</td><td>0.0</td><td>6.847036682839404</td><td>4.338691171109495</td><td>18593.0</td><td>1.0</td><td>1.0</td><td>1.0</td><td>1.0</td><td>29313.140556543374</td><td>28263.63554404574</td><td>223</td></tr>\n",
       "<tr><td>1.0000224</td><td>118.0</td><td>146.0</td><td>13.0</td><td>30.0</td><td>117.73211463060852</td><td>145.38180299371197</td><td>11.897247358851684</td><td>13.114041439585717</td><td>0.003560989586702476</td><td>0.00439729710267214</td><td>0.0003598506158512496</td><td>0.0003966544315666991</td><td>4.5323028791893255e-14</td><td>5.5620775410217907e-14</td><td>12500160.369838595</td><td>12500160.369838595</td><td>0.0</td><td>0.0</td><td>0.0</td><td>0.0</td><td>0.0</td><td>0.0</td><td>7.358178327976443</td><td>4.672474484039128</td><td>10453.0</td><td>1.0</td><td>1.0</td><td>1.0</td><td>1.0</td><td>35129.12109375</td><td>33061.628450205615</td><td>224</td></tr>\n",
       "<tr><td>1.0000225</td><td>2.0</td><td>0.0</td><td>0.0</td><td>3.0</td><td>2.0</td><td>-0.06260713686202717</td><td>2.6583123951777</td><td>1.8660254037844386</td><td>0.0004621731770794496</td><td>-1.446766967568551e-05</td><td>0.0006143003426744794</td><td>-0.00043121344468900844</td><td>4.774695645152642e-15</td><td>-4.98216706217661e-16</td><td>787719.1145105755</td><td>787719.1145105755</td><td>0.0</td><td>0.0</td><td>0.0</td><td>0.0</td><td>0.0</td><td>0.0</td><td>7.403167411400221</td><td>4.698084757911028</td><td>4254.0</td><td>1.0</td><td>1.0</td><td>1.0</td><td>1.0</td><td>4574.9501953125</td><td>4327.382243682634</td><td>225</td></tr>\n",
       "<tr><td>1.0000226</td><td>3.0</td><td>4.0</td><td>1.0</td><td>6.0</td><td>2.9723200054424397</td><td>3.8082131296713917</td><td>2.9364916731037085</td><td>3.179449471770337</td><td>0.00036014331102187085</td><td>0.00046142490818133276</td><td>0.0003558021451268003</td><td>0.00038524030316165834</td><td>4.085915952762246e-15</td><td>4.928742753642007e-15</td><td>2263651.5908547416</td><td>2263651.5908547416</td><td>0.0</td><td>0.0</td><td>0.0</td><td>0.0</td><td>0.0</td><td>0.0</td><td>8.934544637694753</td><td>5.49270151982591</td><td>3610.0</td><td>1.0</td><td>1.0</td><td>1.0</td><td>1.0</td><td>8957.212547948111</td><td>8253.158991093787</td><td>226</td></tr>\n",
       "</table>"
      ],
      "text/plain": [
       "<Table length=227>\n",
       "  ind_ID  ind_cts_w_bg_s ind_cts_w_bg_h ...    ind_exp_sky     ind_match\n",
       " float64     float64        float64     ...      float64         int64  \n",
       "--------- -------------- -------------- ... ------------------ ---------\n",
       "      1.0            0.0            0.0 ...                0.0         0\n",
       "1.0000001            5.0            0.0 ...  8630.083922287948         1\n",
       "1.0000002           15.0           19.0 ...  8170.310014395751         2\n",
       "1.0000003            3.0           14.0 ... 44450.095476384544         3\n",
       "1.0000004            1.0            3.0 ...  4405.089604396223         4\n",
       "1.0000005            0.0            0.0 ...                0.0         5\n",
       "1.0000006            0.0            0.0 ...                0.0         6\n",
       "1.0000007           14.0           11.0 ... 24112.275591043228         7\n",
       "1.0000008            0.0            0.0 ...                0.0         8\n",
       "1.0000009            1.0            3.0 ...  9480.494879287886         9\n",
       "      ...            ...            ... ...                ...       ...\n",
       "1.0000217            1.0            1.0 ...  4169.389290395197       217\n",
       "1.0000218            4.0            0.0 ...  4885.496555920101       218\n",
       "1.0000219            0.0            0.0 ...                0.0       219\n",
       " 1.000022            6.0            1.0 ... 4094.8663125507483       220\n",
       "1.0000221            0.0            0.0 ...                0.0       221\n",
       "1.0000222           11.0           14.0 ...   43678.1853244531       222\n",
       "1.0000223            9.0            6.0 ...  28263.63554404574       223\n",
       "1.0000224          118.0          146.0 ... 33061.628450205615       224\n",
       "1.0000225            2.0            0.0 ...  4327.382243682634       225\n",
       "1.0000226            3.0            4.0 ...  8253.158991093787       226"
      ]
     },
     "execution_count": 14,
     "metadata": {},
     "output_type": "execute_result"
    }
   ],
   "source": [
    "T2Dind"
   ]
  },
  {
   "cell_type": "code",
   "execution_count": 15,
   "metadata": {},
   "outputs": [
    {
     "data": {
      "text/plain": [
       "227"
      ]
     },
     "execution_count": 15,
     "metadata": {},
     "output_type": "execute_result"
    }
   ],
   "source": [
    "len(T2LMatchedXRAYi['zGA'])"
   ]
  },
  {
   "cell_type": "code",
   "execution_count": 16,
   "metadata": {},
   "outputs": [],
   "source": [
    "\n",
    "\n",
    "zGA = MaskedColumn(name = \"zGA\", data = T2LMatchedXRAYi['zGA'] , dtype=np.float64) \n",
    "T2Dind.add_column(zGA)\n",
    "#T2Dind.replace_column('zGA',zGA)\n",
    "\n",
    "zGA = MaskedColumn(name = \"zGA\", data = T1LMatchedXRAYi['zGA'] , dtype=np.float64) \n",
    "T1Dind.add_column(zGA)\n",
    "#T1Dind.replace_column('zGA',zGA)"
   ]
  },
  {
   "cell_type": "code",
   "execution_count": 17,
   "metadata": {},
   "outputs": [
    {
     "data": {
      "text/html": [
       "<i>Table length=1</i>\n",
       "<table id=\"table140297988095840\" class=\"table-striped table-bordered table-condensed\">\n",
       "<thead><tr><th>out_net_ctss</th><th>out_net_cths</th><th>out_ctsb</th><th>out_cthb</th><th>out_srcs</th><th>out_srch</th><th>out_hr</th><th>out_nsrc</th><th>out_rates</th><th>out_rateh</th><th>out_errrates</th><th>out_errrateh</th><th>out_count_per_ss</th><th>out_count_per_sh</th><th>out_errcntpss</th><th>out_errcntpsh</th></tr></thead>\n",
       "<thead><tr><th>float64</th><th>float64</th><th>float64</th><th>float64</th><th>float64</th><th>float64</th><th>float64</th><th>float64</th><th>float64</th><th>float64</th><th>float64</th><th>float64</th><th>float64</th><th>float64</th><th>float64</th><th>float64</th></tr></thead>\n",
       "<tr><td>203.0</td><td>141.0</td><td>702.0</td><td>1036.0</td><td>185.78145091573907</td><td>112.53951209985543</td><td>0.319524856892513</td><td>134.0</td><td>1.3864287381771572</td><td>0.8398471052228017</td><td>0.11398583898224028</td><td>0.0963125440282885</td><td>0.0001457861332586699</td><td>8.831183213924007e-05</td><td>1.1985870065932512e-05</td><td>1.0127482929018327e-05</td></tr>\n",
       "</table>"
      ],
      "text/plain": [
       "<Table length=1>\n",
       "out_net_ctss out_net_cths ...     out_errcntpss          out_errcntpsh     \n",
       "  float64      float64    ...        float64                float64        \n",
       "------------ ------------ ... ---------------------- ----------------------\n",
       "       203.0        141.0 ... 1.1985870065932512e-05 1.0127482929018327e-05"
      ]
     },
     "execution_count": 17,
     "metadata": {},
     "output_type": "execute_result"
    }
   ],
   "source": [
    "T1Un"
   ]
  },
  {
   "cell_type": "code",
   "execution_count": null,
   "metadata": {},
   "outputs": [],
   "source": []
  },
  {
   "cell_type": "code",
   "execution_count": 18,
   "metadata": {},
   "outputs": [
    {
     "data": {
      "text/html": [
       "<i>Table length=1</i>\n",
       "<table id=\"table140297988094384\" class=\"table-striped table-bordered table-condensed\">\n",
       "<thead><tr><th>out_net_ctss</th><th>out_net_cths</th><th>out_ctsb</th><th>out_cthb</th><th>out_srcs</th><th>out_srch</th><th>out_hr</th><th>out_nsrc</th><th>out_rates</th><th>out_rateh</th><th>out_errrates</th><th>out_errrateh</th><th>out_count_per_ss</th><th>out_count_per_sh</th><th>out_errcntpss</th><th>out_errcntpsh</th></tr></thead>\n",
       "<thead><tr><th>float64</th><th>float64</th><th>float64</th><th>float64</th><th>float64</th><th>float64</th><th>float64</th><th>float64</th><th>float64</th><th>float64</th><th>float64</th><th>float64</th><th>float64</th><th>float64</th><th>float64</th><th>float64</th></tr></thead>\n",
       "<tr><td>239.0</td><td>282.0</td><td>1128.0</td><td>2497.0</td><td>202.80495071775144</td><td>200.5014611270127</td><td>0.40739846186230977</td><td>322.0</td><td>0.6298290394961225</td><td>0.6226753451149463</td><td>0.05119211977391933</td><td>0.055326620250932414</td><td>5.9363521247423216e-05</td><td>5.8689261310577065e-05</td><td>4.825030761253751e-06</td><td>5.2147214416183844e-06</td></tr>\n",
       "</table>"
      ],
      "text/plain": [
       "<Table length=1>\n",
       "out_net_ctss out_net_cths ...     out_errcntpss         out_errcntpsh     \n",
       "  float64      float64    ...        float64               float64        \n",
       "------------ ------------ ... --------------------- ----------------------\n",
       "       239.0        282.0 ... 4.825030761253751e-06 5.2147214416183844e-06"
      ]
     },
     "execution_count": 18,
     "metadata": {},
     "output_type": "execute_result"
    }
   ],
   "source": [
    "T2Un"
   ]
  },
  {
   "cell_type": "code",
   "execution_count": 19,
   "metadata": {},
   "outputs": [],
   "source": [
    "BR = MaskedColumn(name = \"BR\", data = T2Dind['ind_cts_w_bg_h']/T2Dind['ind_cts_w_bg_s'] , dtype=np.float64) \n",
    "T2Dind.add_column(BR)\n",
    "#T2Dind.replace_column('BR',BR)\n",
    "\n",
    "BR = MaskedColumn(name = \"BR\", data = T1Dind['ind_cts_w_bg_h']/T1Dind['ind_cts_w_bg_s'] , dtype=np.float64) \n",
    "T1Dind.add_column(BR)\n",
    "#T1Dind.replace_column('BR',BR)"
   ]
  },
  {
   "cell_type": "code",
   "execution_count": 20,
   "metadata": {},
   "outputs": [
    {
     "data": {
      "text/plain": [
       "<matplotlib.legend.Legend at 0x7f99a9afd630>"
      ]
     },
     "execution_count": 20,
     "metadata": {},
     "output_type": "execute_result"
    },
    {
     "data": {
      "image/png": "[encoded data removed]",
      "text/plain": [
       "<Figure size 432x288 with 1 Axes>"
      ]
     },
     "metadata": {
      "needs_background": "light"
     },
     "output_type": "display_data"
    }
   ],
   "source": [
    "plt.scatter(T1Dind['zGA'],T1Dind['BR'], color = 'cyan', label = 'T1')\n",
    "plt.scatter(T2Dind['zGA'],T2Dind['BR'], color = 'darkviolet', label = 'T2')\n",
    "plt.legend()\n",
    "#can put on errors, can put on histograms"
   ]
  },
  {
   "cell_type": "code",
   "execution_count": null,
   "metadata": {},
   "outputs": [],
   "source": []
  },
  {
   "cell_type": "code",
   "execution_count": 21,
   "metadata": {},
   "outputs": [],
   "source": [
    "BR = MaskedColumn(name = \"BR\", data =  T1Un['out_count_per_sh']/T1Un['out_count_per_ss'], dtype=np.float64) \n",
    "T1Un.add_column(BR)\n",
    "#T1Un.replace_column('BR',BR)\n",
    "BR = MaskedColumn(name = \"BR\", data =  T2Un['out_count_per_sh']/T2Un['out_count_per_ss'], dtype=np.float64) \n",
    "T2Un.add_column(BR)\n",
    "#T2Un.replace_column('BR',BR)\n",
    "\n",
    "\n",
    "\n",
    "BR = MaskedColumn(name = \"BR\", data =  T1UnLZ['out_count_per_sh']/T1UnLZ['out_count_per_ss'], dtype=np.float64) \n",
    "T1UnLZ.add_column(BR)\n",
    "#T1UnLZ.replace_column('BR',BR)\n",
    "BR = MaskedColumn(name = \"BR\", data =  T1UnMZ['out_count_per_sh']/T1UnMZ['out_count_per_ss'], dtype=np.float64) \n",
    "T1UnMZ.add_column(BR)\n",
    "#T1UnMZ.replace_column('BR',BR)\n",
    "BR = MaskedColumn(name = \"BR\", data =  T1UnHZ['out_count_per_sh']/T1UnHZ['out_count_per_ss'], dtype=np.float64) \n",
    "T1UnHZ.add_column(BR)\n",
    "#T1UnHZ.replace_column('BR',BR)\n",
    "\n",
    "\n",
    "\n",
    "BR = MaskedColumn(name = \"BR\", data =  T2UnLZ['out_count_per_sh']/T2UnLZ['out_count_per_ss'], dtype=np.float64) \n",
    "T2UnLZ.add_column(BR)\n",
    "#T2UnLZ.replace_column('BR',BR)\n",
    "\n",
    "BR = MaskedColumn(name = \"BR\", data =  T2UnMZ['out_count_per_sh']/T2UnMZ['out_count_per_ss'], dtype=np.float64) \n",
    "T2UnMZ.add_column(BR)\n",
    "#T2UnMZ.replace_column('BR',BR)\n",
    "\n",
    "BR = MaskedColumn(name = \"BR\", data =  T2UnHZ['out_count_per_sh']/T2UnHZ['out_count_per_ss'], dtype=np.float64) \n",
    "T2UnHZ.add_column(BR)\n",
    "#T2UnHZ.replace_column('BR',BR)\n"
   ]
  },
  {
   "cell_type": "code",
   "execution_count": 22,
   "metadata": {},
   "outputs": [],
   "source": [
    "BR = MaskedColumn(name = \"BR\", data =  T1D['out_count_per_sh']/T1D['out_count_per_ss'], dtype=np.float64) \n",
    "T1D.add_column(BR)\n",
    "#T1D.replace_column('BR',BR)\n",
    "BR = MaskedColumn(name = \"BR\", data =  T2D['out_count_per_sh']/T2D['out_count_per_ss'], dtype=np.float64) \n",
    "T2D.add_column(BR)\n",
    "#T2D.replace_column('BR',BR)\n",
    "\n",
    "\n",
    "\n",
    "BR = MaskedColumn(name = \"BR\", data =  T1DLZ['out_count_per_sh']/T1DLZ['out_count_per_ss'], dtype=np.float64) \n",
    "T1DLZ.add_column(BR)\n",
    "#T1DLZ.replace_column('BR',BR)\n",
    "BR = MaskedColumn(name = \"BR\", data =  T1DMZ['out_count_per_sh']/T1DMZ['out_count_per_ss'], dtype=np.float64) \n",
    "T1DMZ.add_column(BR)\n",
    "#T1DMZ.replace_column('BR',BR)\n",
    "BR = MaskedColumn(name = \"BR\", data =  T1DHZ['out_count_per_sh']/T1DHZ['out_count_per_ss'], dtype=np.float64) \n",
    "T1DHZ.add_column(BR)\n",
    "#T1DHZ.replace_column('BR',BR)\n",
    "\n",
    "\n",
    "\n",
    "BR = MaskedColumn(name = \"BR\", data =  T2DLZ['out_count_per_sh']/T2DLZ['out_count_per_ss'], dtype=np.float64) \n",
    "T2DLZ.add_column(BR)\n",
    "#T2DLZ.replace_column('BR',BR)\n",
    "\n",
    "BR = MaskedColumn(name = \"BR\", data =  T2DMZ['out_count_per_sh']/T2DMZ['out_count_per_ss'], dtype=np.float64) \n",
    "T2DMZ.add_column(BR)\n",
    "#T2DMZ.replace_column('BR',BR)\n",
    "\n",
    "BR = MaskedColumn(name = \"BR\", data =  T2DHZ['out_count_per_sh']/T2DHZ['out_count_per_ss'], dtype=np.float64) \n",
    "T2DHZ.add_column(BR)\n",
    "#T2DHZ.replace_column('BR',BR)"
   ]
  },
  {
   "cell_type": "code",
   "execution_count": null,
   "metadata": {},
   "outputs": [],
   "source": []
  },
  {
   "cell_type": "code",
   "execution_count": 23,
   "metadata": {},
   "outputs": [],
   "source": [
    "Z = MaskedColumn(name = \"Z\", data = [np.mean(T1LMatched1045Undetected['zGA'])] , dtype=np.float64) \n",
    "T1Un.add_column(Z)\n",
    "#T1Un.replace_column('Z',Z)\n",
    "Z = MaskedColumn(name = \"Z\", data = [np.mean(T2LMatched1045Undetected['zGA'])], dtype=np.float64) \n",
    "T2Un.add_column(Z)\n",
    "#T2Un.replace_column('Z',Z)\n",
    "\n",
    "\n",
    "\n",
    "Z = MaskedColumn(name = \"Z\", data = [np.mean(T1LMatched1045UndetectedLZ['zGA'])] , dtype=np.float64) \n",
    "T1UnLZ.add_column(Z)\n",
    "#T1UnLZ.replace_column('Z',Z)\n",
    "Z = MaskedColumn(name = \"Z\", data = [np.mean(T1LMatched1045UndetectedMZ['zGA'])] , dtype=np.float64) \n",
    "T1UnMZ.add_column(Z)\n",
    "#T1UnMZ.replace_column('Z',Z)\n",
    "Z = MaskedColumn(name = \"Z\", data = [np.mean(T1LMatched1045UndetectedHZ['zGA'])] , dtype=np.float64) \n",
    "T1UnHZ.add_column(Z)\n",
    "#T1UnHZ.replace_column('Z',Z)\n",
    "\n",
    "\n",
    "\n",
    "Z = MaskedColumn(name = \"Z\", data = [np.mean(T2LMatched1045UndetectedLZ['zGA'])] , dtype=np.float64) \n",
    "T2UnLZ.add_column(Z)\n",
    "#T2UnLZ.replace_column('Z',Z)\n",
    "Z = MaskedColumn(name = \"Z\", data = [np.mean(T2LMatched1045UndetectedMZ['zGA'])] , dtype=np.float64) \n",
    "T2UnMZ.add_column(Z)\n",
    "#T2UnMZ.replace_column('Z',Z)\n",
    "Z = MaskedColumn(name = \"Z\", data = [np.mean(T2LMatched1045UndetectedHZ['zGA'])] , dtype=np.float64) \n",
    "T2UnHZ.add_column(Z)\n",
    "#T2UnHZ.replace_column('Z',Z)\n"
   ]
  },
  {
   "cell_type": "code",
   "execution_count": 24,
   "metadata": {},
   "outputs": [],
   "source": [
    "\n",
    "\n",
    "Z = MaskedColumn(name = \"Z\", data = [np.mean(T1LMatchedXRAYi['zGA'])] , dtype=np.float64) \n",
    "T1D.add_column(Z)\n",
    "#T1D.replace_column('Z',Z)\n",
    "Z = MaskedColumn(name = \"Z\", data = [np.mean(T2LMatchedXRAYi['zGA'])], dtype=np.float64) \n",
    "T2D.add_column(Z)\n",
    "#T2D.replace_column('Z',Z)\n",
    "\n",
    "\n",
    "\n",
    "Z = MaskedColumn(name = \"Z\", data = [np.mean(T1LMatchedXRAYiLZ['zGA'])] , dtype=np.float64) \n",
    "T1DLZ.add_column(Z)\n",
    "#T1DLZ.replace_column('Z',Z)\n",
    "Z = MaskedColumn(name = \"Z\", data = [np.mean(T1LMatchedXRAYiMZ['zGA'])] , dtype=np.float64) \n",
    "T1DMZ.add_column(Z)\n",
    "#T1DMZ.replace_column('Z',Z)\n",
    "Z = MaskedColumn(name = \"Z\", data = [np.mean(T1LMatchedXRAYiHZ['zGA'])] , dtype=np.float64) \n",
    "T1DHZ.add_column(Z)\n",
    "#T1DHZ.replace_column('Z',Z)\n",
    "\n",
    "\n",
    "\n",
    "Z = MaskedColumn(name = \"Z\", data = [np.mean(T2LMatchedXRAYiLZ['zGA'])] , dtype=np.float64) \n",
    "T2DLZ.add_column(Z)\n",
    "#T2DLZ.replace_column('Z',Z)\n",
    "Z = MaskedColumn(name = \"Z\", data = [np.mean(T2LMatchedXRAYiMZ['zGA'])] , dtype=np.float64) \n",
    "T2DMZ.add_column(Z)\n",
    "#T2DMZ.replace_column('Z',Z)\n",
    "Z = MaskedColumn(name = \"Z\", data = [np.mean(T2LMatchedXRAYiHZ['zGA'])] , dtype=np.float64) \n",
    "T2DHZ.add_column(Z)\n",
    "#T2DHZ.replace_column('Z',Z)"
   ]
  },
  {
   "cell_type": "code",
   "execution_count": null,
   "metadata": {},
   "outputs": [],
   "source": []
  },
  {
   "cell_type": "code",
   "execution_count": 25,
   "metadata": {},
   "outputs": [
    {
     "data": {
      "text/plain": [
       "<matplotlib.collections.PathCollection at 0x7f99acd19550>"
      ]
     },
     "execution_count": 25,
     "metadata": {},
     "output_type": "execute_result"
    },
    {
     "data": {
      "image/png": "[encoded data removed]",
      "text/plain": [
       "<Figure size 432x288 with 1 Axes>"
      ]
     },
     "metadata": {
      "needs_background": "light"
     },
     "output_type": "display_data"
    }
   ],
   "source": [
    "plt.scatter(T1Un['Z'],T1Un['BR'])\n",
    "plt.scatter(T2Un['Z'],T2Un['BR'])"
   ]
  },
  {
   "cell_type": "code",
   "execution_count": 26,
   "metadata": {},
   "outputs": [
    {
     "data": {
      "text/plain": [
       "<matplotlib.collections.PathCollection at 0x7f99ad0e4240>"
      ]
     },
     "execution_count": 26,
     "metadata": {},
     "output_type": "execute_result"
    },
    {
     "data": {
      "image/png": "[encoded data removed]",
      "text/plain": [
       "<Figure size 432x288 with 1 Axes>"
      ]
     },
     "metadata": {
      "needs_background": "light"
     },
     "output_type": "display_data"
    }
   ],
   "source": [
    "plt.scatter(T1UnLZ['Z'],T1UnLZ['BR'], color = 'red')\n",
    "plt.scatter(T1UnMZ['Z'],T1UnMZ['BR'], color = 'red')\n",
    "plt.scatter(T1UnHZ['Z'],T1UnHZ['BR'], color = 'red')\n",
    "plt.scatter(T2UnLZ['Z'],T2UnLZ['BR'], color = 'blue')\n",
    "plt.scatter(T2UnMZ['Z'],T2UnMZ['BR'], color = 'blue')\n",
    "plt.scatter(T2UnHZ['Z'],T2UnHZ['BR'], color = 'blue')"
   ]
  },
  {
   "cell_type": "code",
   "execution_count": 27,
   "metadata": {},
   "outputs": [
    {
     "data": {
      "text/plain": [
       "<matplotlib.collections.PathCollection at 0x7f99a9a32f60>"
      ]
     },
     "execution_count": 27,
     "metadata": {},
     "output_type": "execute_result"
    },
    {
     "data": {
      "image/png": "[encoded data removed]",
      "text/plain": [
       "<Figure size 432x288 with 1 Axes>"
      ]
     },
     "metadata": {
      "needs_background": "light"
     },
     "output_type": "display_data"
    }
   ],
   "source": [
    "plt.scatter(T1D['Z'],T1D['BR'])\n",
    "plt.scatter(T2D['Z'],T2D['BR'])"
   ]
  },
  {
   "cell_type": "code",
   "execution_count": 28,
   "metadata": {},
   "outputs": [
    {
     "data": {
      "text/plain": [
       "<matplotlib.collections.PathCollection at 0x7f99ad3cf5f8>"
      ]
     },
     "execution_count": 28,
     "metadata": {},
     "output_type": "execute_result"
    },
    {
     "data": {
      "image/png": "[encoded data removed]",
      "text/plain": [
       "<Figure size 432x288 with 1 Axes>"
      ]
     },
     "metadata": {
      "needs_background": "light"
     },
     "output_type": "display_data"
    }
   ],
   "source": [
    "plt.scatter(T1DLZ['Z'],T1DLZ['BR'], color = 'red')\n",
    "plt.scatter(T1DMZ['Z'],T1DMZ['BR'], color = 'red')\n",
    "plt.scatter(T1DHZ['Z'],T1DHZ['BR'], color = 'red')\n",
    "plt.scatter(T2DLZ['Z'],T2DLZ['BR'], color = 'blue')\n",
    "plt.scatter(T2DMZ['Z'],T2DMZ['BR'], color = 'blue')\n",
    "plt.scatter(T2DHZ['Z'],T2DHZ['BR'], color = 'blue')"
   ]
  },
  {
   "cell_type": "code",
   "execution_count": 29,
   "metadata": {},
   "outputs": [
    {
     "name": "stdout",
     "output_type": "stream",
     "text": [
      "[1.11189162 0.69752358 0.59131075 0.5495128  0.52927095 0.51829787\n",
      " 0.51260504]\n",
      "[1.71059269 1.1023773  0.94590217 0.88493976 0.8554007  0.83926031\n",
      " 0.83122363]\n",
      "[0.73450509 0.44749935 0.3738478  0.34491559 0.33095551 0.32302343\n",
      " 0.31914126]\n"
     ]
    }
   ],
   "source": [
    "Z = [0,0.5,1,1.5,2,2.5,3]\n",
    "NH22H =  np.array([2.216*10**-5, 2.366*10**-5,  2.409*10**-5,  2.425*10**-5,  2.432*10**-5, 2.436*10**-5,  2.440*10**-5])\n",
    "NH22S = np.array([1.993*10**-5,  3.392*10**-5,  4.074*10**-5,  4.413*10**-5,  4.595*10**-5,  4.700*10**-5,  4.760*10**-5])\n",
    "NH22 = NH22H/NH22S\n",
    "print(NH22)\n",
    "\n",
    "NH22H15 = np.array([ 2.713*10**-5, 2.875*10**-5, 2.920*10**-5, 2.938*10**-5, 2.946*10**-5, 2.950*10**-5, 2.955*10**-5])\n",
    "NH22S15 = np.array([ 1.586 *10**-5, 2.608 *10**-5, 3.087 *10**-5, 3.320 *10**-5, 3.444 *10**-5, 3.515 *10**-5, 3.555 *10**-5])\n",
    "NH2215 = NH22H15/NH22S15\n",
    "print(NH2215)\n",
    "\n",
    "NH22H25 = np.array([ 1.588*10**-5, 1.709*10**-5, 1.744*10**-5, 1.757*10**-5, 1.763*10**-5, 1.765*10**-5, 1.769*10**-5])\n",
    "NH22S25 = np.array([ 2.162*10**-5, 3.819*10**-5, 4.665*10**-5, 5.094*10**-5, 5.327*10**-5, 5.464*10**-5, 5.543*10**-5])\n",
    "NH2225 = NH22H25/NH22S25\n",
    "print(NH2225)\n"
   ]
  },
  {
   "cell_type": "code",
   "execution_count": 30,
   "metadata": {},
   "outputs": [
    {
     "name": "stdout",
     "output_type": "stream",
     "text": [
      "[0.55261959 0.51825127 0.50820353 0.50391107 0.50194712 0.5007156\n",
      " 0.50030631]\n",
      "[0.89036947 0.83957978 0.82461024 0.81855841 0.81568088 0.81411312\n",
      " 0.81299698]\n",
      "[0.34641167 0.32311622 0.31588319 0.31294076 0.31163362 0.31081554\n",
      " 0.31050149]\n"
     ]
    }
   ],
   "source": [
    "NH21H = np.array([2.426*10**-5, 2.442*10**-5, 2.447*10**-5, 2.448*10**-5, 2.449*10**-5, 2.449*10**-5, 2.450*10**-5])\n",
    "NH21S = np.array([4.390*10**-5,  4.712*10**-5,  4.815*10**-5,  4.858*10**-5,  4.879*10**-5,  4.891*10**-5,  4.897*10**-5])\n",
    "NH21 = NH21H/NH21S\n",
    "print (NH21)\n",
    "\n",
    "NH21H15 = np.array([  2.940*10**-5,  2.957*10**-5, 2.962*10**-5, 2.964*10**-5, 2.965*10**-5, 2.965*10**-5, 2.965*10**-5])\n",
    "NH21S15 = np.array([  3.302*10**-5, 3.522*10**-5, 3.592*10**-5, 3.621*10**-5, 3.635*10**-5, 3.642*10**-5, 3.647*10**-5])\n",
    "NH2115 = NH21H15/NH21S15\n",
    "print(NH2115)\n",
    "\n",
    "NH21H25 = np.array([  1.757*10**-5, 1.771*10**-5, 1.774*10**-5, 1.775*10**-5, 1.776*10**-5, 1.776*10**-5, 1.777*10**-5])\n",
    "NH21S25 = np.array([  5.072*10**-5, 5.481*10**-5, 5.616*10**-5, 5.672*10**-5, 5.699*10**-5, 5.714*10**-5, 5.723*10**-5])\n",
    "NH2125 = NH21H25/NH21S25\n",
    "print(NH2125)\n"
   ]
  },
  {
   "cell_type": "code",
   "execution_count": 31,
   "metadata": {},
   "outputs": [
    {
     "name": "stdout",
     "output_type": "stream",
     "text": [
      "[38.79340582  3.92517157  1.62001564  1.03762935  0.80347025  0.68856375\n",
      "  0.63419913]\n",
      "[58.62619808  5.84583004  2.44668588  1.59443458  1.25442177  1.0874613\n",
      "  1.01062699]\n",
      "[26.1987041   2.69214069  1.09467456  0.68717504  0.52336748  0.44210806\n",
      "  0.40319504]\n"
     ]
    }
   ],
   "source": [
    "NH23H = np.array([ 1.106*10**-5, 1.773*10**-5, 2.072*10**-5, 2.206*10**-5, 2.269*10**-5, 2.306*10**-5, 2.344*10**-5])\n",
    "NH23S = np.array([2.851*10**-7, 4.517*10**-6, 1.279*10**-5, 2.126*10**-5, 2.824*10**-5, 3.349*10**-5, 3.696*10**-5])\n",
    "NH23 = NH23H/NH23S\n",
    "print (NH23)\n",
    "\n",
    "NH23H15 = np.array([ 1.468*10**-5, 2.222*10**-5, 2.547*10**-5, 2.693*10**-5, 2.766*10**-5, 2.810*10**-5, 2.853*10**-5])\n",
    "NH23S15 = np.array([ 2.504E-07, 3.801E-06, 1.041*10**-5, 1.689*10**-5, 2.205*10**-5, 2.584*10**-5, 2.823*10**-5])\n",
    "NH2315 = NH23H15/NH23S15\n",
    "print(NH2315)\n",
    "\n",
    "NH23H25 = np.array([ 7.278E-06, 1.240*10**-5, 1.480*10**-5, 1.586*10**-5, 1.635*10**-5, 1.661*10**-5, 1.691*10**-5])\n",
    "NH23S25 = np.array([ 2.778E-07, 4.606E-06, 1.352*10**-5, 2.308*10**-5, 3.124*10**-5, 3.757*10**-5, 4.194*10**-5])\n",
    "NH2325 = NH23H25/NH23S25\n",
    "print(NH2325)\n"
   ]
  },
  {
   "cell_type": "code",
   "execution_count": 32,
   "metadata": {},
   "outputs": [
    {
     "data": {
      "text/plain": [
       "(0, 3)"
      ]
     },
     "execution_count": 32,
     "metadata": {},
     "output_type": "execute_result"
    },
    {
     "data": {
      "image/png": "[encoded data removed]",
      "text/plain": [
       "<Figure size 432x288 with 1 Axes>"
      ]
     },
     "metadata": {
      "needs_background": "light"
     },
     "output_type": "display_data"
    }
   ],
   "source": [
    "plt.scatter(T1UnLZ['Z'],T1UnLZ['BR'], color = 'red')\n",
    "plt.scatter(T1UnMZ['Z'],T1UnMZ['BR'], color = 'red')\n",
    "plt.scatter(T1UnHZ['Z'],T1UnHZ['BR'], color = 'red')\n",
    "plt.scatter(T2UnLZ['Z'],T2UnLZ['BR'], color = 'blue')\n",
    "plt.scatter(T2UnMZ['Z'],T2UnMZ['BR'], color = 'blue')\n",
    "plt.scatter(T2UnHZ['Z'],T2UnHZ['BR'], color = 'blue')\n",
    "plt.plot(Z, NH22)\n",
    "plt.plot(Z, NH23)\n",
    "plt.plot(Z, NH21)\n",
    "plt.ylim(0,3)\n",
    "plt.xlim(0,3)"
   ]
  },
  {
   "cell_type": "code",
   "execution_count": 33,
   "metadata": {},
   "outputs": [
    {
     "data": {
      "text/plain": [
       "(0, 3)"
      ]
     },
     "execution_count": 33,
     "metadata": {},
     "output_type": "execute_result"
    },
    {
     "data": {
      "image/png": "[encoded data removed]",
      "text/plain": [
       "<Figure size 432x288 with 1 Axes>"
      ]
     },
     "metadata": {
      "needs_background": "light"
     },
     "output_type": "display_data"
    }
   ],
   "source": [
    "plt.scatter(T1Un['Z'],T1Un['BR'], color = 'blue', marker = '*', s = 200)\n",
    "plt.scatter(T2Un['Z'],T2Un['BR'], color = 'red', marker = '*', s = 200)\n",
    "plt.scatter(T1D['Z'],T1D['BR'], marker = '*', s = 200, facecolors='none', edgecolors='blue')\n",
    "plt.scatter(T2D['Z'],T2D['BR'], marker = '*', s = 200, facecolors='none', edgecolors='red')\n",
    "plt.plot(Z, NH22)\n",
    "plt.plot(Z, NH23)\n",
    "plt.plot(Z, NH21)\n",
    "plt.ylim(0,2)\n",
    "plt.xlim(0,3)"
   ]
  },
  {
   "cell_type": "code",
   "execution_count": 34,
   "metadata": {},
   "outputs": [
    {
     "data": {
      "text/plain": [
       "(0, 3)"
      ]
     },
     "execution_count": 34,
     "metadata": {},
     "output_type": "execute_result"
    },
    {
     "data": {
      "image/png": "[encoded data removed]",
      "text/plain": [
       "<Figure size 432x288 with 1 Axes>"
      ]
     },
     "metadata": {
      "needs_background": "light"
     },
     "output_type": "display_data"
    }
   ],
   "source": [
    "plt.scatter(T1UnLZ['Z'],T1UnLZ['BR'], color = 'black')\n",
    "plt.scatter(T1UnMZ['Z'],T1UnMZ['BR'], color = 'black')\n",
    "plt.scatter(T1UnHZ['Z'],T1UnHZ['BR'], color = 'black')\n",
    "plt.scatter(T2UnLZ['Z'],T2UnLZ['BR'], color = 'black')\n",
    "plt.scatter(T2UnMZ['Z'],T2UnMZ['BR'], color = 'black')\n",
    "plt.scatter(T2UnHZ['Z'],T2UnHZ['BR'], color = 'black')\n",
    "plt.scatter(T1DLZ['Z'],T1DLZ['BR'], color = 'cyan')\n",
    "plt.scatter(T1DMZ['Z'],T1DMZ['BR'], color = 'cyan')\n",
    "plt.scatter(T1DHZ['Z'],T1DHZ['BR'], color = 'cyan')\n",
    "plt.scatter(T2DLZ['Z'],T2DLZ['BR'], color = 'cyan')\n",
    "plt.scatter(T2DMZ['Z'],T2DMZ['BR'], color = 'cyan')\n",
    "plt.scatter(T2DHZ['Z'],T2DHZ['BR'], color = 'cyan')\n",
    "plt.plot(Z, NH22)\n",
    "plt.plot(Z, NH23)\n",
    "plt.plot(Z, NH21)\n",
    "plt.ylim(0,3)\n",
    "plt.xlim(0,3)"
   ]
  },
  {
   "cell_type": "code",
   "execution_count": null,
   "metadata": {},
   "outputs": [],
   "source": []
  },
  {
   "cell_type": "code",
   "execution_count": 35,
   "metadata": {},
   "outputs": [
    {
     "name": "stdout",
     "output_type": "stream",
     "text": [
      "         BR        \n",
      "-------------------\n",
      "0.08547607302248242\n"
     ]
    }
   ],
   "source": [
    "BRerrorT1Un = T1Un['BR']*np.sqrt((T1Un['out_errcntpsh']/T1Un['out_count_per_sh'])**2+(T1Un['out_errcntpss']/T1Un['out_count_per_ss'])**2)\n",
    "print(BRerrorT1Un)"
   ]
  },
  {
   "cell_type": "code",
   "execution_count": 36,
   "metadata": {},
   "outputs": [
    {
     "name": "stdout",
     "output_type": "stream",
     "text": [
      "         BR        \n",
      "-------------------\n",
      "0.11905320360519837\n"
     ]
    }
   ],
   "source": [
    "BRerrorT2Un = T2Un['BR']*np.sqrt((T2Un['out_errcntpsh']/T2Un['out_count_per_sh'])**2+(T2Un['out_errcntpss']/T2Un['out_count_per_ss'])**2)\n",
    "print(BRerrorT2Un)"
   ]
  },
  {
   "cell_type": "code",
   "execution_count": 37,
   "metadata": {},
   "outputs": [
    {
     "name": "stdout",
     "output_type": "stream",
     "text": [
      "         BR         \n",
      "--------------------\n",
      "0.009866490942144689\n"
     ]
    }
   ],
   "source": [
    "BRerrorT1D = T1D['BR']*np.sqrt((T1D['out_errcntpsh']/T1D['out_count_per_sh'])**2+(T1D['out_errcntpss']/T1D['out_count_per_ss'])**2)\n",
    "print(BRerrorT1D)"
   ]
  },
  {
   "cell_type": "code",
   "execution_count": 38,
   "metadata": {},
   "outputs": [
    {
     "name": "stdout",
     "output_type": "stream",
     "text": [
      "         BR         \n",
      "--------------------\n",
      "0.031917857826210136\n"
     ]
    }
   ],
   "source": [
    "BRerrorT2D = T2D['BR']*np.sqrt((T2D['out_errcntpsh']/T2D['out_count_per_sh'])**2+(T2D['out_errcntpss']/T2D['out_count_per_ss'])**2)\n",
    "print(BRerrorT2D)"
   ]
  },
  {
   "cell_type": "code",
   "execution_count": 39,
   "metadata": {},
   "outputs": [
    {
     "name": "stdout",
     "output_type": "stream",
     "text": [
      "         BR        \n",
      "-------------------\n",
      "0.15650355884020475\n"
     ]
    }
   ],
   "source": [
    "BRerrorT1UnLZ = T1UnLZ['BR']*np.sqrt((T1UnLZ['out_errcntpsh']/T1UnLZ['out_count_per_sh'])**2+(T1UnLZ['out_errcntpss']/T1UnLZ['out_count_per_ss'])**2)\n",
    "print(BRerrorT1UnLZ)"
   ]
  },
  {
   "cell_type": "code",
   "execution_count": 40,
   "metadata": {},
   "outputs": [
    {
     "name": "stdout",
     "output_type": "stream",
     "text": [
      "        BR        \n",
      "------------------\n",
      "0.1929721049867646\n"
     ]
    }
   ],
   "source": [
    "BRerrorT1UnMZ = T1UnMZ['BR']*np.sqrt((T1UnMZ['out_errcntpsh']/T1UnMZ['out_count_per_sh'])**2+(T1UnMZ['out_errcntpss']/T1UnMZ['out_count_per_ss'])**2)\n",
    "print(BRerrorT1UnMZ)"
   ]
  },
  {
   "cell_type": "code",
   "execution_count": 41,
   "metadata": {},
   "outputs": [
    {
     "name": "stdout",
     "output_type": "stream",
     "text": [
      "         BR        \n",
      "-------------------\n",
      "0.13139824304875805\n"
     ]
    }
   ],
   "source": [
    "BRerrorT1UnHZ = T1UnHZ['BR']*np.sqrt((T1UnHZ['out_errcntpsh']/T1UnHZ['out_count_per_sh'])**2+(T1UnHZ['out_errcntpss']/T1UnHZ['out_count_per_ss'])**2)\n",
    "print(BRerrorT1UnHZ)"
   ]
  },
  {
   "cell_type": "code",
   "execution_count": 42,
   "metadata": {},
   "outputs": [
    {
     "name": "stdout",
     "output_type": "stream",
     "text": [
      "         BR        \n",
      "-------------------\n",
      "0.14136292547048587\n"
     ]
    }
   ],
   "source": [
    "BRerrorT2UnLZ = T2UnLZ['BR']*np.sqrt((T2UnLZ['out_errcntpsh']/T2UnLZ['out_count_per_sh'])**2+(T2UnLZ['out_errcntpss']/T2UnLZ['out_count_per_ss'])**2)\n",
    "print(BRerrorT2UnLZ)"
   ]
  },
  {
   "cell_type": "code",
   "execution_count": 43,
   "metadata": {},
   "outputs": [
    {
     "name": "stdout",
     "output_type": "stream",
     "text": [
      "         BR        \n",
      "-------------------\n",
      "0.36968926862924456\n"
     ]
    }
   ],
   "source": [
    "BRerrorT2UnMZ = T2UnMZ['BR']*np.sqrt((T2UnMZ['out_errcntpsh']/T2UnMZ['out_count_per_sh'])**2+(T2UnMZ['out_errcntpss']/T2UnMZ['out_count_per_ss'])**2)\n",
    "print(BRerrorT2UnMZ)"
   ]
  },
  {
   "cell_type": "code",
   "execution_count": 44,
   "metadata": {},
   "outputs": [
    {
     "name": "stdout",
     "output_type": "stream",
     "text": [
      "         BR        \n",
      "-------------------\n",
      "0.24094854995887569\n"
     ]
    }
   ],
   "source": [
    "BRerrorT2UnHZ = T2UnHZ['BR']*np.sqrt((T2UnHZ['out_errcntpsh']/T2UnHZ['out_count_per_sh'])**2+(T2UnHZ['out_errcntpss']/T2UnHZ['out_count_per_ss'])**2)\n",
    "print(BRerrorT2UnHZ)"
   ]
  },
  {
   "cell_type": "code",
   "execution_count": 45,
   "metadata": {},
   "outputs": [
    {
     "name": "stdout",
     "output_type": "stream",
     "text": [
      "         BR        \n",
      "-------------------\n",
      "0.01429265889312788\n"
     ]
    }
   ],
   "source": [
    "BRerrorT1DLZ = T1DLZ['BR']*np.sqrt((T1DLZ['out_errcntpsh']/T1DLZ['out_count_per_sh'])**2+(T1DLZ['out_errcntpss']/T1DLZ['out_count_per_ss'])**2)\n",
    "print(BRerrorT1DLZ)"
   ]
  },
  {
   "cell_type": "code",
   "execution_count": 46,
   "metadata": {},
   "outputs": [
    {
     "name": "stdout",
     "output_type": "stream",
     "text": [
      "         BR        \n",
      "-------------------\n",
      "0.01741963408108623\n"
     ]
    }
   ],
   "source": [
    "BRerrorT1DMZ = T1DMZ['BR']*np.sqrt((T1DMZ['out_errcntpsh']/T1DMZ['out_count_per_sh'])**2+(T1DMZ['out_errcntpss']/T1DMZ['out_count_per_ss'])**2)\n",
    "print(BRerrorT1DMZ)"
   ]
  },
  {
   "cell_type": "code",
   "execution_count": 47,
   "metadata": {},
   "outputs": [
    {
     "name": "stdout",
     "output_type": "stream",
     "text": [
      "         BR         \n",
      "--------------------\n",
      "0.022719479223790466\n"
     ]
    }
   ],
   "source": [
    "BRerrorT1DHZ = T1DHZ['BR']*np.sqrt((T1DHZ['out_errcntpsh']/T1DHZ['out_count_per_sh'])**2+(T1DHZ['out_errcntpss']/T1DHZ['out_count_per_ss'])**2)\n",
    "print(BRerrorT1DHZ)"
   ]
  },
  {
   "cell_type": "code",
   "execution_count": 48,
   "metadata": {},
   "outputs": [
    {
     "name": "stdout",
     "output_type": "stream",
     "text": [
      "         BR        \n",
      "-------------------\n",
      "0.07722241897388708\n"
     ]
    }
   ],
   "source": [
    "BRerrorT2DLZ = T2DLZ['BR']*np.sqrt((T2DLZ['out_errcntpsh']/T2DLZ['out_count_per_sh'])**2+(T2DLZ['out_errcntpss']/T2DLZ['out_count_per_ss'])**2)\n",
    "print(BRerrorT2DLZ)"
   ]
  },
  {
   "cell_type": "code",
   "execution_count": 49,
   "metadata": {},
   "outputs": [
    {
     "name": "stdout",
     "output_type": "stream",
     "text": [
      "         BR         \n",
      "--------------------\n",
      "0.050019730919094056\n"
     ]
    }
   ],
   "source": [
    "BRerrorT2DMZ = T2DMZ['BR']*np.sqrt((T2DMZ['out_errcntpsh']/T2DMZ['out_count_per_sh'])**2+(T2DMZ['out_errcntpss']/T2DMZ['out_count_per_ss'])**2)\n",
    "print(BRerrorT2DMZ)"
   ]
  },
  {
   "cell_type": "code",
   "execution_count": 50,
   "metadata": {},
   "outputs": [
    {
     "name": "stdout",
     "output_type": "stream",
     "text": [
      "         BR        \n",
      "-------------------\n",
      "0.04669029299055208\n"
     ]
    }
   ],
   "source": [
    "BRerrorT2DHZ = T2DHZ['BR']*np.sqrt((T2DHZ['out_errcntpsh']/T2DHZ['out_count_per_sh'])**2+(T2DHZ['out_errcntpss']/T2DHZ['out_count_per_ss'])**2)\n",
    "print(BRerrorT2DHZ)"
   ]
  },
  {
   "cell_type": "code",
   "execution_count": 53,
   "metadata": {},
   "outputs": [
    {
     "data": {
      "image/png": "[encoded data removed]",
      "text/plain": [
       "<Figure size 864x576 with 1 Axes>"
      ]
     },
     "metadata": {
      "needs_background": "light"
     },
     "output_type": "display_data"
    }
   ],
   "source": [
    "fig = plt.figure(figsize=(12,8))\n",
    "gs = GridSpec(nrows=1,ncols=2, figure=fig)\n",
    "\n",
    "\n",
    "\n",
    "plt.errorbar(T1Un['Z'],T1Un['BR'], yerr = BRerrorT1Un, ecolor = 'black',color = 'black', marker = '*', ms = 17, elinewidth = 1,label = ' Undetected T1')\n",
    "plt.errorbar(T2Un['Z'],T2Un['BR'], yerr = BRerrorT2Un,ecolor = 'blue', color = 'blue', marker = '*', ms = 17, elinewidth = 1,label = ' Undetected T2')\n",
    "plt.errorbar(T1D['Z'],T1D['BR'],yerr = BRerrorT1D, marker = '*', ms = 17, mfc='none',ecolor = 'black', elinewidth = 1, mec='black', mew = '1',label = ' Detected T1')\n",
    "plt.errorbar(T2D['Z'],T2D['BR'],yerr = BRerrorT2D, marker = '*', ms = 17, mfc='none',ecolor = 'blue', elinewidth = 1, mec='blue', mew = '1',label = ' Detected T2')\n",
    "#plt.errorbar(T1UnLZ['Z'],T1UnLZ['BR'],yerr = BRerrorT1UnLZ,ecolor = 'black', color = 'black', marker = '^', ms =7, elinewidth = 0.5, label = ' Undetected T1 split by blueshift')\n",
    "#plt.errorbar(T1UnMZ['Z'],T1UnMZ['BR'],yerr = BRerrorT1UnMZ,ecolor = 'black', color = 'black', marker = '^', ms =7, elinewidth = 0.5, label = '_nolegend_')\n",
    "#plt.errorbar(T1UnHZ['Z'],T1UnHZ['BR'],yerr = BRerrorT1UnHZ,ecolor = 'black', color = 'black',marker = '^', ms =7, elinewidth = 0.5, label = '_nolegend_')\n",
    "#plt.errorbar(T2UnLZ['Z'],T2UnLZ['BR'],yerr = BRerrorT2UnLZ,ecolor = 'blue', color = 'blue',marker = '^', ms =7, elinewidth = 0.5, label = ' Undetected T2 split by blueshift')\n",
    "#plt.errorbar(T2UnMZ['Z'],T2UnMZ['BR'],yerr = BRerrorT2UnMZ,ecolor = 'blue', color = 'blue',marker = '^', ms =7, elinewidth = 0.5, label = '_nolegend_')\n",
    "#plt.errorbar(T2UnHZ['Z'],T2UnHZ['BR'],yerr = BRerrorT2UnHZ,ecolor = 'blue', color = 'blue',marker = '^', ms =7, elinewidth = 0.5, label = '_nolegend_')\n",
    "#plt.errorbar(T1DLZ['Z'],T1DLZ['BR'],yerr = BRerrorT1DLZ, marker = '^', mfc='none',ecolor = 'black', mec='black', ms =7, elinewidth = 0.5, mew = '1', label = ' Detected T1 split by blueshift')\n",
    "#plt.errorbar(T1DMZ['Z'],T1DMZ['BR'],yerr = BRerrorT1DMZ, marker = '^', mfc='none',ecolor = 'black', mec='black', ms =7, elinewidth = 0.5, mew = '1', label = '_nolegend_')\n",
    "#plt.errorbar(T1DHZ['Z'],T1DHZ['BR'],yerr = BRerrorT1DHZ, marker = '^', mfc='none',ecolor = 'black', mec='black', ms =7, elinewidth = 0.5, mew = '1', label = '_nolegend_')\n",
    "#plt.errorbar(T2DLZ['Z'],T2DLZ['BR'],yerr = BRerrorT2DLZ, marker = '^', mfc='none',ecolor = 'blue', mec='blue', ms =7, elinewidth = 0.5, mew = '1', label = ' Detected T2 split by blueshift')\n",
    "#plt.errorbar(T2DMZ['Z'],T2DMZ['BR'],yerr = BRerrorT2DMZ, marker = '^', mfc='none',ecolor = 'blue', mec='blue', ms =7, elinewidth = 0.5, mew = '1', label = '_nolegend_')\n",
    "#plt.errorbar(T2DHZ['Z'],T2DHZ['BR'],yerr = BRerrorT2DHZ, marker = '^', mfc='none',ecolor = 'blue', mec='blue', ms =7, elinewidth = 0.5, mew = '1', label = '_nolegend_')\n",
    "#plt.scatter(T1Dind['zGA'],T1Dind['BR'], color = 'gray', label = 'Individual T1 Detected', alpha = 0.3)\n",
    "#plt.scatter(T2Dind['zGA'],T2Dind['BR'], color = 'black', label = 'Individual T2 Detected', alpha = 0.3)\n",
    "plt.plot(Z, NH22, c = 'black', linestyle = '-')\n",
    "plt.plot(Z, NH23, c = 'black', linestyle = '--')\n",
    "plt.plot(Z, NH21, c = 'black', linestyle = '-.')\n",
    "plt.fill_between(Z,NH2115,NH2125,color = 'orange', hatch ='+', alpha = 0.1, label = r'$N_{H}=10^{21}\\ cm^{-2},\\ \\Gamma=2.0\\pm0.5$')\n",
    "plt.fill_between(Z,NH2215,NH2225,color = 'green', hatch ='-', alpha = 0.1, label = r'$N_{H}=10^{22}\\ cm^{-2},\\ \\Gamma=2.0\\pm0.5$')\n",
    "plt.fill_between(Z,NH2315,NH2325,color = 'purple', hatch ='/', alpha = 0.1, label = r'$N_{H}=10^{23}\\ cm^{-2},\\ \\Gamma=2.0\\pm0.5$')\n",
    "plt.text(0.3, 0.55, r'$N_{H}=10^{21}\\ cm^{-2}$', fontsize = 13)\n",
    "plt.text(1.9, 0.88, r'$N_{H}=10^{23}\\ cm^{-2}$', fontsize = 13)\n",
    "plt.text(0.6, 0.7, r'$N_{H}=10^{22}\\ cm^{-2}$', fontsize = 13)\n",
    "plt.ylim(0,2)\n",
    "plt.xlim(0,3)\n",
    "plt.xlabel('Redshift')\n",
    "plt.ylabel(r'(2.0-8.0 keV)/(0.5-2.0 keV) Band Ratio')\n",
    "plt.legend(fontsize='13',frameon = True, framealpha=0.1, facecolor = 'gray')\n",
    "plt.savefig('Figure10.png')\n"
   ]
  },
  {
   "cell_type": "code",
   "execution_count": null,
   "metadata": {},
   "outputs": [],
   "source": []
  },
  {
   "cell_type": "code",
   "execution_count": null,
   "metadata": {},
   "outputs": [],
   "source": []
  },
  {
   "cell_type": "code",
   "execution_count": null,
   "metadata": {},
   "outputs": [],
   "source": []
  },
  {
   "cell_type": "code",
   "execution_count": null,
   "metadata": {},
   "outputs": [],
   "source": []
  },
  {
   "cell_type": "code",
   "execution_count": null,
   "metadata": {},
   "outputs": [],
   "source": []
  },
  {
   "cell_type": "code",
   "execution_count": null,
   "metadata": {},
   "outputs": [],
   "source": []
  },
  {
   "cell_type": "code",
   "execution_count": null,
   "metadata": {},
   "outputs": [],
   "source": []
  },
  {
   "cell_type": "code",
   "execution_count": null,
   "metadata": {},
   "outputs": [],
   "source": []
  },
  {
   "cell_type": "code",
   "execution_count": null,
   "metadata": {},
   "outputs": [],
   "source": []
  }
 ],
 "metadata": {
  "kernelspec": {
   "display_name": "Python 3",
   "language": "python",
   "name": "python3"
  },
  "language_info": {
   "codemirror_mode": {
    "name": "ipython",
    "version": 3
   },
   "file_extension": ".py",
   "mimetype": "text/x-python",
   "name": "python",
   "nbconvert_exporter": "python",
   "pygments_lexer": "ipython3",
   "version": "3.7.1"
  }
 },
 "nbformat": 4,
 "nbformat_minor": 2
}
