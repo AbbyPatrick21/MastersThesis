{
 "cells": [
  {
   "cell_type": "code",
   "execution_count": 1,
   "metadata": {},
   "outputs": [],
   "source": [
    "%matplotlib inline\n",
    "import numpy as np\n",
    "import pylab as plt\n",
    "from matplotlib.gridspec import GridSpec\n",
    "from astropy.table import Table, vstack, Column, MaskedColumn\n",
    "from astropy import units as u\n",
    "from scipy.stats import kde\n",
    "from scipy.stats import binned_statistic as b_s\n",
    "from scipy.stats import binned_statistic_2d as bs2d\n",
    "from astropy import units as un\n",
    "from astropy import constants as con\n",
    "from matplotlib.lines import Line2D\n",
    "\n",
    "from astropy.cosmology import Planck15\n",
    "from tqdm import trange\n",
    "from scipy.stats import ks_2samp\n",
    "from scipy import special\n",
    "\n",
    "import os\n",
    "os.environ['PATH'] = os.environ['PATH'] + ':/usr/texbin'\n",
    "\n",
    "plt.rc('path', simplify=True)\n",
    "plt.rc('text', usetex=True)\n",
    "plt.rc('font', family='serif')\n",
    "plt.rc('axes', labelsize='xx-large', facecolor='none', linewidth=0.7)\n",
    "plt.rc('xtick', labelsize='x-large')\n",
    "plt.rc('ytick', labelsize='x-large')\n",
    "plt.rc('lines', markersize=4, linewidth=1, markeredgewidth=0.2)\n",
    "plt.rc('legend', numpoints=1, frameon=False, handletextpad=0.3, scatterpoints=1, handlelength=2, handleheight=0.1)\n",
    "#plt.rc('savefig', facecolor='none', frameon='False')\n",
    "\n",
    "params =   {'font.size' : 16,\n",
    "            'xtick.major.size': 8,\n",
    "            'ytick.major.size': 8,\n",
    "            'xtick.minor.size': 3,\n",
    "            'ytick.minor.size': 3,\n",
    "            }\n",
    "plt.rcParams.update(params) \n",
    "\n",
    "np.warnings.filterwarnings('ignore')\n",
    "\n",
    "def legend_outside_plot(ax,location='top',ncol=3,pad=0, handles=None, labels=None):\n",
    "    if handles==None:\n",
    "        handles, labels = ax.get_legend_handles_labels()\n",
    "    if location=='top':\n",
    "        leg = ax.legend(handles=handles, labels=labels, bbox_to_anchor=(0,1.02+pad,1,0.2), loc=\"lower left\",\n",
    "                mode=\"expand\", borderaxespad=0, ncol=ncol)\n",
    "    else:\n",
    "        print(\"Location\",location,\"not implemented. Please code up\")\n",
    "    return leg"
   ]
  },
  {
   "cell_type": "code",
   "execution_count": 2,
   "metadata": {},
   "outputs": [],
   "source": [
    "T1LMatched1045 = Table.read('T1LMatched1045.fits', format = 'ascii' )\n",
    "T2LMatched1045 = Table.read('T2LMatched1045.fits', format = 'ascii' )\n",
    "\n",
    "T1LMatchedXRAYi = Table.read('T1LMatchXRAYi.fits', format = 'fits' )\n",
    "T2LMatchedXRAYi = Table.read('T2LMatchXRAYi.fits', format = 'fits' )"
   ]
  },
  {
   "cell_type": "code",
   "execution_count": 3,
   "metadata": {},
   "outputs": [],
   "source": [
    "T1LMatched1045.rename_column('col1', 'RA')  \n",
    "T1LMatched1045.rename_column('col2', 'Dec') \n",
    "T1LMatched1045.rename_column('col3', 'Imag') \n",
    "T1LMatched1045.rename_column('col4', 'S')  \n",
    "T1LMatched1045.rename_column('col5', 'zspec') \n",
    "T1LMatched1045.rename_column('col6', 'N')  \n",
    "T1LMatched1045.rename_column('col7', 'zG')  \n",
    "T1LMatched1045.rename_column('col8', 'chi2G')  \n",
    "T1LMatched1045.rename_column('col9', 'LEll')  \n",
    "T1LMatched1045.rename_column('col10', 'LSbc') \n",
    "T1LMatched1045.rename_column('col11', 'LIrr')\n",
    "T1LMatched1045.rename_column('col12', 'zGA') \n",
    "T1LMatched1045.rename_column('col13', 'chi2GA') \n",
    "T1LMatched1045.rename_column('col14', 'LAGNp') \n",
    "T1LMatched1045.rename_column('col15', 'LELLp') \n",
    "T1LMatched1045.rename_column('col16', 'LSbcp') \n",
    "T1LMatched1045.rename_column('col17', 'LIrrp') \n",
    "T1LMatched1045.rename_column('col18', 'F') \n",
    "T1LMatched1045.rename_column('col19', 'EBV') \n",
    "T1LMatched1045.rename_column('col20', 'Chi2S') \n",
    "T1LMatched1045.rename_column('col21', 'SType') \n",
    "T1LMatched1045.rename_column('col22', 'LAGNerg') \n",
    "T1LMatched1045.rename_column('col23', 'LSbcerg') \n",
    "T1LMatched1045.rename_column('col24', 'LEllerg') \n",
    "T1LMatched1045.rename_column('col25', 'LIrrerg') \n",
    "T1LMatched1045.rename_column('col26', 'AV') \n",
    "\n",
    "T2LMatched1045.rename_column('col1', 'RA')  \n",
    "T2LMatched1045.rename_column('col2', 'Dec') \n",
    "T2LMatched1045.rename_column('col3', 'Imag') \n",
    "T2LMatched1045.rename_column('col4', 'S')  \n",
    "T2LMatched1045.rename_column('col5', 'zspec') \n",
    "T2LMatched1045.rename_column('col6', 'N')  \n",
    "T2LMatched1045.rename_column('col7', 'zG')  \n",
    "T2LMatched1045.rename_column('col8', 'chi2G')  \n",
    "T2LMatched1045.rename_column('col9', 'LEll')  \n",
    "T2LMatched1045.rename_column('col10', 'LSbc') \n",
    "T2LMatched1045.rename_column('col11', 'LIrr')\n",
    "T2LMatched1045.rename_column('col12', 'zGA') \n",
    "T2LMatched1045.rename_column('col13', 'chi2GA') \n",
    "T2LMatched1045.rename_column('col14', 'LAGNp') \n",
    "T2LMatched1045.rename_column('col15', 'LELLp') \n",
    "T2LMatched1045.rename_column('col16', 'LSbcp') \n",
    "T2LMatched1045.rename_column('col17', 'LIrrp') \n",
    "T2LMatched1045.rename_column('col18', 'F') \n",
    "T2LMatched1045.rename_column('col19', 'EBV') \n",
    "T2LMatched1045.rename_column('col20', 'Chi2S') \n",
    "T2LMatched1045.rename_column('col21', 'SType')\n",
    "T2LMatched1045.rename_column('col22', 'LAGNerg') \n",
    "T2LMatched1045.rename_column('col23', 'LSbcerg') \n",
    "T2LMatched1045.rename_column('col24', 'LEllerg') \n",
    "T2LMatched1045.rename_column('col25', 'LIrrerg') \n",
    "T2LMatched1045.rename_column('col26', 'AV') \n",
    "\n",
    "T1LMatchedXRAYi.rename_column('col1', 'RA1')  \n",
    "T1LMatchedXRAYi.rename_column('col2', 'Dec1') \n",
    "T1LMatchedXRAYi.rename_column('col3', 'Imag') \n",
    "T1LMatchedXRAYi.rename_column('col4', 'S')  \n",
    "T1LMatchedXRAYi.rename_column('col5', 'zspec') \n",
    "T1LMatchedXRAYi.rename_column('col6', 'N')  \n",
    "T1LMatchedXRAYi.rename_column('col7', 'zG')  \n",
    "T1LMatchedXRAYi.rename_column('col8', 'chi2G')  \n",
    "T1LMatchedXRAYi.rename_column('col9', 'LEll')  \n",
    "T1LMatchedXRAYi.rename_column('col10', 'LSbc') \n",
    "T1LMatchedXRAYi.rename_column('col11', 'LIrr')\n",
    "T1LMatchedXRAYi.rename_column('col12', 'zGA') \n",
    "T1LMatchedXRAYi.rename_column('col13', 'chi2GA') \n",
    "T1LMatchedXRAYi.rename_column('col14', 'LAGNp') \n",
    "T1LMatchedXRAYi.rename_column('col15', 'LELLp') \n",
    "T1LMatchedXRAYi.rename_column('col16', 'LSbcp') \n",
    "T1LMatchedXRAYi.rename_column('col17', 'LIrrp') \n",
    "T1LMatchedXRAYi.rename_column('col18', 'F') \n",
    "T1LMatchedXRAYi.rename_column('col19', 'EBV') \n",
    "T1LMatchedXRAYi.rename_column('col20', 'Chi2S') \n",
    "T1LMatchedXRAYi.rename_column('col21', 'SType') \n",
    "T1LMatchedXRAYi.rename_column('col22', 'LAGNerg') \n",
    "T1LMatchedXRAYi.rename_column('col23', 'LSbcerg') \n",
    "T1LMatchedXRAYi.rename_column('col24', 'LEllerg') \n",
    "T1LMatchedXRAYi.rename_column('col25', 'LIrrerg') \n",
    "T1LMatchedXRAYi.rename_column('col26', 'AV') \n",
    "\n",
    "T2LMatchedXRAYi.rename_column('col1', 'RA1')  \n",
    "T2LMatchedXRAYi.rename_column('col2', 'Dec1') \n",
    "T2LMatchedXRAYi.rename_column('col3', 'Imag') \n",
    "T2LMatchedXRAYi.rename_column('col4', 'S')  \n",
    "T2LMatchedXRAYi.rename_column('col5', 'zspec') \n",
    "T2LMatchedXRAYi.rename_column('col6', 'N')  \n",
    "T2LMatchedXRAYi.rename_column('col7', 'zG')  \n",
    "T2LMatchedXRAYi.rename_column('col8', 'chi2G')  \n",
    "T2LMatchedXRAYi.rename_column('col9', 'LEll')  \n",
    "T2LMatchedXRAYi.rename_column('col10', 'LSbc') \n",
    "T2LMatchedXRAYi.rename_column('col11', 'LIrr')\n",
    "T2LMatchedXRAYi.rename_column('col12', 'zGA') \n",
    "T2LMatchedXRAYi.rename_column('col13', 'chi2GA') \n",
    "T2LMatchedXRAYi.rename_column('col14', 'LAGNp') \n",
    "T2LMatchedXRAYi.rename_column('col15', 'LELLp') \n",
    "T2LMatchedXRAYi.rename_column('col16', 'LSbcp') \n",
    "T2LMatchedXRAYi.rename_column('col17', 'LIrrp') \n",
    "T2LMatchedXRAYi.rename_column('col18', 'F') \n",
    "T2LMatchedXRAYi.rename_column('col19', 'EBV') \n",
    "T2LMatchedXRAYi.rename_column('col20', 'Chi2S') \n",
    "T2LMatchedXRAYi.rename_column('col21', 'SType')\n",
    "T2LMatchedXRAYi.rename_column('col22', 'LAGNerg') \n",
    "T2LMatchedXRAYi.rename_column('col23', 'LSbcerg') \n",
    "T2LMatchedXRAYi.rename_column('col24', 'LEllerg') \n",
    "T2LMatchedXRAYi.rename_column('col25', 'LIrrerg') \n",
    "T2LMatchedXRAYi.rename_column('col26', 'AV')"
   ]
  },
  {
   "cell_type": "code",
   "execution_count": 4,
   "metadata": {},
   "outputs": [],
   "source": [
    "from astropy.cosmology import WMAP9 as cosmo\n",
    "from astropy.cosmology import FlatLambdaCDM\n",
    "import astropy.units as u\n",
    "cosmo = FlatLambdaCDM(H0=70 * u.km / u.s / u.Mpc, Om0=0.3)\n",
    "dL = MaskedColumn(name = \"dL\", data = cosmo.luminosity_distance(T1LMatchedXRAYi['zGA']) , dtype=np.float64) \n",
    "T1LMatchedXRAYi.add_column(dL)\n",
    "#T1LMatchedXRAYi.replace_column('dL',dL)\n",
    "#dL is in Mpc\n",
    "#X-ray flux is in erg cm-2 s-1\n",
    "#so need dL in cm\n",
    "dLcm = MaskedColumn(name = \"dLcm\", data = dL.to(u.cm) , dtype=np.float64) \n",
    "T1LMatchedXRAYi.add_column(dLcm)\n",
    "#T1LMatchedXRAYi.replace_column('dLcm',dLcm)"
   ]
  },
  {
   "cell_type": "code",
   "execution_count": 5,
   "metadata": {},
   "outputs": [],
   "source": [
    "import math\n",
    "#LX in erg s-1\n",
    "##QUESTION: 2-2 MEANS THERES NO DEPENDENCY ON REDSHIFT -APART FROM THE DL - therefore i removed this part from the calaculation below\n",
    "LX = MaskedColumn(name = \"LX\", data = 4*math.pi*dLcm**2*T1LMatchedXRAYi['FLUX_S'] , dtype=np.float64) \n",
    "T1LMatchedXRAYi.add_column(LX)\n",
    "#T1LMatchedXRAYi.replace_column('LX',LX)\n"
   ]
  },
  {
   "cell_type": "code",
   "execution_count": 6,
   "metadata": {},
   "outputs": [],
   "source": [
    "from astropy.cosmology import WMAP9 as cosmo\n",
    "from astropy.cosmology import FlatLambdaCDM\n",
    "import astropy.units as u\n",
    "cosmo = FlatLambdaCDM(H0=70 * u.km / u.s / u.Mpc, Om0=0.3)\n",
    "dL = MaskedColumn(name = \"dL\", data = cosmo.luminosity_distance(T2LMatchedXRAYi['zGA']) , dtype=np.float64) \n",
    "T2LMatchedXRAYi.add_column(dL)\n",
    "#T2LMatchedXRAYi.replace_column('dL',dL)\n",
    "#dL is in Mpc\n",
    "#X-ray flux is in erg cm-2 s-1\n",
    "#so need dL in cm\n",
    "dLcm = MaskedColumn(name = \"dLcm\", data = dL.to(u.cm) , dtype=np.float64) \n",
    "T2LMatchedXRAYi.add_column(dLcm)\n",
    "#T2LMatchedXRAYi.replace_column('dLcm',dLcm)\n",
    "\n"
   ]
  },
  {
   "cell_type": "code",
   "execution_count": 7,
   "metadata": {},
   "outputs": [],
   "source": [
    "import math\n",
    "#LX in erg s-1\n",
    "##QUESTION: 2-2 MEANS THERES NO DEPENDENCY ON REDSHIFT -APART FROM THE DL - therefore i removed this part from the calaculation below\n",
    "LX = MaskedColumn(name = \"LX\", data = 4*math.pi*dLcm**2*T2LMatchedXRAYi['FLUX_S'] , dtype=np.float64) \n",
    "T2LMatchedXRAYi.add_column(LX)\n",
    "#T2LMatchedXRAYi.replace_column('LX',LX)"
   ]
  },
  {
   "cell_type": "code",
   "execution_count": null,
   "metadata": {},
   "outputs": [],
   "source": []
  },
  {
   "cell_type": "code",
   "execution_count": 8,
   "metadata": {},
   "outputs": [
    {
     "name": "stdout",
     "output_type": "stream",
     "text": [
      "[-6.37417673e-01  1.32902763e-02  4.51723506e+01]\n"
     ]
    }
   ],
   "source": [
    "import matplotlib.pyplot as plt\n",
    "from scipy.optimize import curve_fit\n",
    "m = np.linspace(45,47, 20)\n",
    "\n",
    "def func(x, a, b, c):\n",
    "    return a*x + b*x**2 + c \n",
    "\n",
    "#def func(x, a, b):\n",
    "    #return a*x + b \n",
    "\n",
    "ydata = np.log10(T1LMatchedXRAYi['LX'])\n",
    "xdata = T1LMatchedXRAYi['LAGNerg']\n",
    "\n",
    "\n",
    "popt1, pcov1 = curve_fit(func, xdata, ydata)\n",
    "#r = [-0.2220688*i**2 + 5.42502873*i -23.05612886 - 0.21 for i in m] # log0.21 dex down\n",
    "print (popt1)"
   ]
  },
  {
   "cell_type": "code",
   "execution_count": 9,
   "metadata": {},
   "outputs": [
    {
     "name": "stdout",
     "output_type": "stream",
     "text": [
      "[-4.61679086e+00  5.57613742e-02  1.37932381e+02]\n"
     ]
    }
   ],
   "source": [
    "import matplotlib.pyplot as plt\n",
    "from scipy.optimize import curve_fit\n",
    "m = np.linspace(45,47, 20)\n",
    "\n",
    "def func(x, a, b, c):\n",
    "    return a*x + b*x**2 + c \n",
    "\n",
    "#def func(x, a, b):\n",
    "    #return a*x + b \n",
    "\n",
    "ydata = np.log10(T2LMatchedXRAYi['LX'])\n",
    "xdata = T2LMatchedXRAYi['LAGNerg']\n",
    "\n",
    "\n",
    "popt2, pcov2 = curve_fit(func, xdata, ydata)\n",
    "#r = [-0.2220688*i**2 + 5.42502873*i -23.05612886 - 0.21 for i in m] # log0.21 dex down\n",
    "print (popt2)"
   ]
  },
  {
   "cell_type": "code",
   "execution_count": 24,
   "metadata": {},
   "outputs": [],
   "source": [
    "from matplotlib.path import Path\n",
    "from matplotlib.patches import PathPatch\n",
    "import matplotlib.pyplot as plt\n",
    "\n",
    "vertices = []\n",
    "codes = []\n",
    "\n",
    "codes = [Path.MOVETO] + [Path.LINETO]*3 + [Path.CLOSEPOLY]\n",
    "vertices = [(45.97, 41.46), (45.97, 41.85), (46.97, 41.85), (46.97, 41.46),(0,0)]\n",
    "\n",
    "path = Path(vertices, codes)\n",
    "\n",
    "pathpatch = PathPatch(path, facecolor='gray', edgecolor='black', alpha = 0.1)"
   ]
  },
  {
   "cell_type": "code",
   "execution_count": 25,
   "metadata": {},
   "outputs": [
    {
     "data": {
      "image/png": "[encoded data removed]",
      "text/plain": [
       "<Figure size 2448x792 with 4 Axes>"
      ]
     },
     "metadata": {
      "needs_background": "light"
     },
     "output_type": "display_data"
    }
   ],
   "source": [
    "fig = plt.figure(figsize=(34,11))\n",
    "gs = GridSpec(nrows=3,ncols=9, figure=fig)\n",
    "\n",
    "\n",
    "ax = fig.add_subplot(gs[1:, 0:2])\n",
    "ax.scatter(T1LMatchedXRAYi['LAGNerg'],np.log10(T1LMatchedXRAYi['LX']), color = 'black', label = 'Type 1', alpha = 0.5)\n",
    "ax.scatter(T2LMatchedXRAYi['LAGNerg'],np.log10(T2LMatchedXRAYi['LX']), color = 'blue', label = 'Type 2', alpha = 0.5)\n",
    "#ax.hlines(45, -20, 10**4, colors='firebrick', linestyles='dashed', label='L = $10^{45}$ erg/s')\n",
    "#plt.plot(x,y, color = 'magenta', label = 'X=Y')\n",
    "#plt.vlines(45, 40, 50, colors = 'black', linestyles='dashed')\n",
    "#plt.plot(m, func(m, *popt), c = 'orange', alpha = 1, ls = '-',linewidth=2, label = 'All')\n",
    "plt.plot(m, func(m, *popt1), c = 'red', alpha = 1, ls = '--',linewidth=2, label = 'Type 1')\n",
    "plt.plot(m, func(m, *popt2), c = 'limegreen', alpha = 1, ls = '--',linewidth=2, label = 'Type 2')\n",
    "ax.minorticks_on()\n",
    "ax.tick_params(which='both', direction='in', top=\"on\", right='on')\n",
    "ax.set_ylabel(r'$ \\log_{10}(L_{X}\\ [erg\\ s^{-1}])[0.5-2 keV] $')\n",
    "ax.set_xlabel(r'$ \\log_{10}(L_{AGN, IR}\\ [erg\\ s^{-1}])$[0.03-30$\\mu$m] ')\n",
    "ax.set_xlim(45, 47)\n",
    "ax.set_ylim(41,45)\n",
    "ax.text(46.1,41.7, 'KS Statistic=0.306217773178125', fontweight = 1000, fontsize = 12)\n",
    "ax.text(46.1,41.5, 'P Value=3.00844839856725e-13', fontweight = 1000, fontsize = 12)\n",
    "ax.text(46,41.69, r'$L_{X}$', fontweight = 1000, fontsize = 12)\n",
    "ax.text(46,41.49, r'$L_{X}$', fontweight = 1000, fontsize = 12)\n",
    "ax.add_patch(pathpatch)\n",
    "handles, labels = ax.get_legend_handles_labels()\n",
    "\n",
    "ax = fig.add_subplot(gs[0, 2])\n",
    "ax.axis('off')\n",
    "ax.legend(handles=handles, labels=labels,fontsize='14',frameon = True, framealpha=0.1, facecolor = 'gray')\n",
    "\n",
    "\n",
    "\n",
    "ax = fig.add_subplot(gs[0, 0:2])\n",
    "ax.hist(T1LMatchedXRAYi['LAGNerg'],bins=50, histtype ='step', color = 'black', density=False, lw=1, label=\"x\", log=False )\n",
    "ax.hist(T2LMatchedXRAYi['LAGNerg'],bins=50, histtype ='step', color = 'blue', density=False, lw=1, label=\"x\", log=False )\n",
    "ax.minorticks_on()\n",
    "ax.tick_params(which='both', direction='in', top=\"on\", right='on')\n",
    "ax.set_xlim(45, 47)\n",
    "#ax.set_ylim(10**0,10**4)\n",
    "ax.axes.xaxis.set_ticklabels([])\n",
    "ax.axes.yaxis.set_ticklabels([])\n",
    "#ax.legend(frameon=False, loc=2)\n",
    "\n",
    "ax = fig.add_subplot(gs[1:, 2])\n",
    "ax.hist(np.log10(T1LMatchedXRAYi['LX']),bins=50, orientation='horizontal', histtype ='step', color = 'black', density=False, lw=1, label=\"x\", log=False )\n",
    "ax.hist(np.log10(T2LMatchedXRAYi['LX']),bins=50, orientation='horizontal', histtype ='step', color = 'blue', density=False, lw=1, label=\"x\", log=False )\n",
    "#ax.hlines(45, -20, 10**4, colors='firebrick', linestyles='dashed', label='L = $10^{45}$ erg/s')\n",
    "ax.minorticks_on()\n",
    "ax.tick_params(which='both', direction='in', top=\"on\", right='on')\n",
    "ax.set_ylim(41,45)\n",
    "#ax.set_xlim(10**0,10**4)\n",
    "ax.axes.xaxis.set_ticklabels([])\n",
    "ax.axes.yaxis.set_ticklabels([])\n",
    "#ax.legend(frameon=False, loc=2)\n",
    "plt.savefig('Figure9.png')"
   ]
  },
  {
   "cell_type": "code",
   "execution_count": 12,
   "metadata": {},
   "outputs": [
    {
     "name": "stdout",
     "output_type": "stream",
     "text": [
      "Ks_2sampResult(statistic=0.3062177731781256, pvalue=3.00844839856725e-13)\n"
     ]
    }
   ],
   "source": [
    "from scipy.stats import anderson_ksamp\n",
    "KS  = ks_2samp(T1LMatchedXRAYi['LX'],T2LMatchedXRAYi['LX'] )\n",
    "print (KS)"
   ]
  },
  {
   "cell_type": "code",
   "execution_count": 13,
   "metadata": {},
   "outputs": [],
   "source": [
    "import pandas as pd\n",
    "numbers = list(T1LMatchedXRAYi['LAGNerg'])\n",
    "window_size = 20\n",
    "\n",
    "numbers_series = pd.Series(numbers)\n",
    "windows = numbers_series.rolling(window_size)\n",
    "moving_averages = windows.mean()\n",
    "\n",
    "#remove nans and name\n",
    "moving_averages_list = moving_averages.tolist()\n",
    "T1LAGNrunmean = moving_averages_list[window_size - 1:]\n",
    "\n",
    "#print(T1LAGNrunmean)"
   ]
  },
  {
   "cell_type": "code",
   "execution_count": 14,
   "metadata": {},
   "outputs": [],
   "source": [
    "import pandas as pd\n",
    "numbers = list(T1LMatchedXRAYi['LX'])\n",
    "window_size = 20\n",
    "\n",
    "numbers_series = pd.Series(numbers)\n",
    "windows = numbers_series.rolling(window_size)\n",
    "moving_averages = windows.mean()\n",
    "\n",
    "#remove nans and name\n",
    "moving_averages_list = moving_averages.tolist()\n",
    "T1LXrunmean1 = moving_averages_list[window_size - 1:]\n",
    "T1LXrunmean = np.log10(T1LXrunmean1)\n",
    "\n",
    "#print(T1LXrunmean)"
   ]
  },
  {
   "cell_type": "code",
   "execution_count": 15,
   "metadata": {},
   "outputs": [
    {
     "ename": "TypeError",
     "evalue": "scatter() missing 1 required positional argument: 'y'",
     "output_type": "error",
     "traceback": [
      "\u001b[0;31m---------------------------------------------------------------------------\u001b[0m",
      "\u001b[0;31mTypeError\u001b[0m                                 Traceback (most recent call last)",
      "\u001b[0;32m<ipython-input-15-f0a3097f25d0>\u001b[0m in \u001b[0;36m<module>\u001b[0;34m\u001b[0m\n\u001b[0;32m----> 1\u001b[0;31m \u001b[0mplt\u001b[0m\u001b[0;34m.\u001b[0m\u001b[0mscatter\u001b[0m\u001b[0;34m(\u001b[0m\u001b[0mT1LAGNrunmean\u001b[0m\u001b[0;34m)\u001b[0m\u001b[0;34m\u001b[0m\u001b[0;34m\u001b[0m\u001b[0m\n\u001b[0m\u001b[1;32m      2\u001b[0m \u001b[0mplt\u001b[0m\u001b[0;34m.\u001b[0m\u001b[0mxlim\u001b[0m\u001b[0;34m(\u001b[0m\u001b[0;36m45\u001b[0m\u001b[0;34m,\u001b[0m \u001b[0;36m47\u001b[0m\u001b[0;34m)\u001b[0m\u001b[0;34m\u001b[0m\u001b[0;34m\u001b[0m\u001b[0m\n\u001b[1;32m      3\u001b[0m \u001b[0mplt\u001b[0m\u001b[0;34m.\u001b[0m\u001b[0mylim\u001b[0m\u001b[0;34m(\u001b[0m\u001b[0;36m41\u001b[0m\u001b[0;34m,\u001b[0m\u001b[0;36m45\u001b[0m\u001b[0;34m)\u001b[0m\u001b[0;34m\u001b[0m\u001b[0;34m\u001b[0m\u001b[0m\n",
      "\u001b[0;31mTypeError\u001b[0m: scatter() missing 1 required positional argument: 'y'"
     ]
    }
   ],
   "source": [
    "plt.scatter(T1LAGNrunmean)\n",
    "plt.xlim(45, 47)\n",
    "plt.ylim(41,45)"
   ]
  },
  {
   "cell_type": "code",
   "execution_count": null,
   "metadata": {},
   "outputs": [],
   "source": [
    "len(T1LXrunmean)"
   ]
  },
  {
   "cell_type": "code",
   "execution_count": null,
   "metadata": {},
   "outputs": [],
   "source": []
  },
  {
   "cell_type": "code",
   "execution_count": null,
   "metadata": {},
   "outputs": [],
   "source": []
  },
  {
   "cell_type": "code",
   "execution_count": null,
   "metadata": {},
   "outputs": [],
   "source": []
  },
  {
   "cell_type": "code",
   "execution_count": null,
   "metadata": {},
   "outputs": [],
   "source": []
  }
 ],
 "metadata": {
  "kernelspec": {
   "display_name": "Python 3",
   "language": "python",
   "name": "python3"
  },
  "language_info": {
   "codemirror_mode": {
    "name": "ipython",
    "version": 3
   },
   "file_extension": ".py",
   "mimetype": "text/x-python",
   "name": "python",
   "nbconvert_exporter": "python",
   "pygments_lexer": "ipython3",
   "version": "3.7.1"
  }
 },
 "nbformat": 4,
 "nbformat_minor": 2
}
